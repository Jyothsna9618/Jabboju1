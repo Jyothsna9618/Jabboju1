{
  "nbformat": 4,
  "nbformat_minor": 0,
  "metadata": {
    "colab": {
      "provenance": [],
      "authorship_tag": "ABX9TyMBbreHujnPFv5uelYKHCuJ",
      "include_colab_link": true
    },
    "kernelspec": {
      "name": "python3",
      "display_name": "Python 3"
    },
    "language_info": {
      "name": "python"
    }
  },
  "cells": [
    {
      "cell_type": "markdown",
      "metadata": {
        "id": "view-in-github",
        "colab_type": "text"
      },
      "source": [
        "<a href=\"https://colab.research.google.com/github/Jyothsna9618/Jabboju1/blob/main/Assignment_07/assignment07.ipynb\" target=\"_parent\"><img src=\"https://colab.research.google.com/assets/colab-badge.svg\" alt=\"Open In Colab\"/></a>"
      ]
    },
    {
      "cell_type": "markdown",
      "source": [
        "- Assignment 7"
      ],
      "metadata": {
        "id": "JBmI3zTV3ro8"
      }
    },
    {
      "cell_type": "code",
      "source": [
        "import pandas as pd\n",
        "import plotly.express as px"
      ],
      "metadata": {
        "id": "W7CxRhir4NdG"
      },
      "execution_count": 2,
      "outputs": []
    },
    {
      "cell_type": "code",
      "source": [
        " link = \"https://raw.githubusercontent.com/wcj365/python-stats-dataviz/master/assignments/assignment_07_world_dev/world_devlopment_indicator.csv\""
      ],
      "metadata": {
        "id": "85EN1xWo35sF"
      },
      "execution_count": 3,
      "outputs": []
    },
    {
      "cell_type": "code",
      "source": [
        "data = pd.read_csv(link)\n",
        "data"
      ],
      "metadata": {
        "id": "j1pF8oWc4LBC",
        "outputId": "2b31d342-e61a-4c6c-bfe3-6d2c30ee78d4",
        "colab": {
          "base_uri": "https://localhost:8080/",
          "height": 424
        }
      },
      "execution_count": 4,
      "outputs": [
        {
          "output_type": "execute_result",
          "data": {
            "text/plain": [
              "       Unnamed: 0  Year         value          indicator Country Code  \\\n",
              "0               0  2002  8.763276e+02  NY.GDP.PCAP.PP.CD          AFG   \n",
              "1               1  2003  9.281916e+02  NY.GDP.PCAP.PP.CD          AFG   \n",
              "2               2  2004  9.257042e+02  NY.GDP.PCAP.PP.CD          AFG   \n",
              "3               3  2005  1.023550e+03  NY.GDP.PCAP.PP.CD          AFG   \n",
              "4               4  2006  1.078907e+03  NY.GDP.PCAP.PP.CD          AFG   \n",
              "...           ...   ...           ...                ...          ...   \n",
              "34949       34949  2017  1.423660e+07        SP.POP.TOTL          ZWE   \n",
              "34950       34950  2018  1.443881e+07        SP.POP.TOTL          ZWE   \n",
              "34951       34951  2019  1.464547e+07        SP.POP.TOTL          ZWE   \n",
              "34952       34952  2020  1.486293e+07        SP.POP.TOTL          ZWE   \n",
              "34953       34953  2021  1.509217e+07        SP.POP.TOTL          ZWE   \n",
              "\n",
              "      Country Name               Region         Income Group Lending Type  \n",
              "0      Afghanistan           South Asia           Low income          IDA  \n",
              "1      Afghanistan           South Asia           Low income          IDA  \n",
              "2      Afghanistan           South Asia           Low income          IDA  \n",
              "3      Afghanistan           South Asia           Low income          IDA  \n",
              "4      Afghanistan           South Asia           Low income          IDA  \n",
              "...            ...                  ...                  ...          ...  \n",
              "34949     Zimbabwe  Sub-Saharan Africa   Lower middle income        Blend  \n",
              "34950     Zimbabwe  Sub-Saharan Africa   Lower middle income        Blend  \n",
              "34951     Zimbabwe  Sub-Saharan Africa   Lower middle income        Blend  \n",
              "34952     Zimbabwe  Sub-Saharan Africa   Lower middle income        Blend  \n",
              "34953     Zimbabwe  Sub-Saharan Africa   Lower middle income        Blend  \n",
              "\n",
              "[34954 rows x 9 columns]"
            ],
            "text/html": [
              "\n",
              "  <div id=\"df-29151b61-e399-4864-969e-8aba788319c3\">\n",
              "    <div class=\"colab-df-container\">\n",
              "      <div>\n",
              "<style scoped>\n",
              "    .dataframe tbody tr th:only-of-type {\n",
              "        vertical-align: middle;\n",
              "    }\n",
              "\n",
              "    .dataframe tbody tr th {\n",
              "        vertical-align: top;\n",
              "    }\n",
              "\n",
              "    .dataframe thead th {\n",
              "        text-align: right;\n",
              "    }\n",
              "</style>\n",
              "<table border=\"1\" class=\"dataframe\">\n",
              "  <thead>\n",
              "    <tr style=\"text-align: right;\">\n",
              "      <th></th>\n",
              "      <th>Unnamed: 0</th>\n",
              "      <th>Year</th>\n",
              "      <th>value</th>\n",
              "      <th>indicator</th>\n",
              "      <th>Country Code</th>\n",
              "      <th>Country Name</th>\n",
              "      <th>Region</th>\n",
              "      <th>Income Group</th>\n",
              "      <th>Lending Type</th>\n",
              "    </tr>\n",
              "  </thead>\n",
              "  <tbody>\n",
              "    <tr>\n",
              "      <th>0</th>\n",
              "      <td>0</td>\n",
              "      <td>2002</td>\n",
              "      <td>8.763276e+02</td>\n",
              "      <td>NY.GDP.PCAP.PP.CD</td>\n",
              "      <td>AFG</td>\n",
              "      <td>Afghanistan</td>\n",
              "      <td>South Asia</td>\n",
              "      <td>Low income</td>\n",
              "      <td>IDA</td>\n",
              "    </tr>\n",
              "    <tr>\n",
              "      <th>1</th>\n",
              "      <td>1</td>\n",
              "      <td>2003</td>\n",
              "      <td>9.281916e+02</td>\n",
              "      <td>NY.GDP.PCAP.PP.CD</td>\n",
              "      <td>AFG</td>\n",
              "      <td>Afghanistan</td>\n",
              "      <td>South Asia</td>\n",
              "      <td>Low income</td>\n",
              "      <td>IDA</td>\n",
              "    </tr>\n",
              "    <tr>\n",
              "      <th>2</th>\n",
              "      <td>2</td>\n",
              "      <td>2004</td>\n",
              "      <td>9.257042e+02</td>\n",
              "      <td>NY.GDP.PCAP.PP.CD</td>\n",
              "      <td>AFG</td>\n",
              "      <td>Afghanistan</td>\n",
              "      <td>South Asia</td>\n",
              "      <td>Low income</td>\n",
              "      <td>IDA</td>\n",
              "    </tr>\n",
              "    <tr>\n",
              "      <th>3</th>\n",
              "      <td>3</td>\n",
              "      <td>2005</td>\n",
              "      <td>1.023550e+03</td>\n",
              "      <td>NY.GDP.PCAP.PP.CD</td>\n",
              "      <td>AFG</td>\n",
              "      <td>Afghanistan</td>\n",
              "      <td>South Asia</td>\n",
              "      <td>Low income</td>\n",
              "      <td>IDA</td>\n",
              "    </tr>\n",
              "    <tr>\n",
              "      <th>4</th>\n",
              "      <td>4</td>\n",
              "      <td>2006</td>\n",
              "      <td>1.078907e+03</td>\n",
              "      <td>NY.GDP.PCAP.PP.CD</td>\n",
              "      <td>AFG</td>\n",
              "      <td>Afghanistan</td>\n",
              "      <td>South Asia</td>\n",
              "      <td>Low income</td>\n",
              "      <td>IDA</td>\n",
              "    </tr>\n",
              "    <tr>\n",
              "      <th>...</th>\n",
              "      <td>...</td>\n",
              "      <td>...</td>\n",
              "      <td>...</td>\n",
              "      <td>...</td>\n",
              "      <td>...</td>\n",
              "      <td>...</td>\n",
              "      <td>...</td>\n",
              "      <td>...</td>\n",
              "      <td>...</td>\n",
              "    </tr>\n",
              "    <tr>\n",
              "      <th>34949</th>\n",
              "      <td>34949</td>\n",
              "      <td>2017</td>\n",
              "      <td>1.423660e+07</td>\n",
              "      <td>SP.POP.TOTL</td>\n",
              "      <td>ZWE</td>\n",
              "      <td>Zimbabwe</td>\n",
              "      <td>Sub-Saharan Africa</td>\n",
              "      <td>Lower middle income</td>\n",
              "      <td>Blend</td>\n",
              "    </tr>\n",
              "    <tr>\n",
              "      <th>34950</th>\n",
              "      <td>34950</td>\n",
              "      <td>2018</td>\n",
              "      <td>1.443881e+07</td>\n",
              "      <td>SP.POP.TOTL</td>\n",
              "      <td>ZWE</td>\n",
              "      <td>Zimbabwe</td>\n",
              "      <td>Sub-Saharan Africa</td>\n",
              "      <td>Lower middle income</td>\n",
              "      <td>Blend</td>\n",
              "    </tr>\n",
              "    <tr>\n",
              "      <th>34951</th>\n",
              "      <td>34951</td>\n",
              "      <td>2019</td>\n",
              "      <td>1.464547e+07</td>\n",
              "      <td>SP.POP.TOTL</td>\n",
              "      <td>ZWE</td>\n",
              "      <td>Zimbabwe</td>\n",
              "      <td>Sub-Saharan Africa</td>\n",
              "      <td>Lower middle income</td>\n",
              "      <td>Blend</td>\n",
              "    </tr>\n",
              "    <tr>\n",
              "      <th>34952</th>\n",
              "      <td>34952</td>\n",
              "      <td>2020</td>\n",
              "      <td>1.486293e+07</td>\n",
              "      <td>SP.POP.TOTL</td>\n",
              "      <td>ZWE</td>\n",
              "      <td>Zimbabwe</td>\n",
              "      <td>Sub-Saharan Africa</td>\n",
              "      <td>Lower middle income</td>\n",
              "      <td>Blend</td>\n",
              "    </tr>\n",
              "    <tr>\n",
              "      <th>34953</th>\n",
              "      <td>34953</td>\n",
              "      <td>2021</td>\n",
              "      <td>1.509217e+07</td>\n",
              "      <td>SP.POP.TOTL</td>\n",
              "      <td>ZWE</td>\n",
              "      <td>Zimbabwe</td>\n",
              "      <td>Sub-Saharan Africa</td>\n",
              "      <td>Lower middle income</td>\n",
              "      <td>Blend</td>\n",
              "    </tr>\n",
              "  </tbody>\n",
              "</table>\n",
              "<p>34954 rows × 9 columns</p>\n",
              "</div>\n",
              "      <button class=\"colab-df-convert\" onclick=\"convertToInteractive('df-29151b61-e399-4864-969e-8aba788319c3')\"\n",
              "              title=\"Convert this dataframe to an interactive table.\"\n",
              "              style=\"display:none;\">\n",
              "        \n",
              "  <svg xmlns=\"http://www.w3.org/2000/svg\" height=\"24px\"viewBox=\"0 0 24 24\"\n",
              "       width=\"24px\">\n",
              "    <path d=\"M0 0h24v24H0V0z\" fill=\"none\"/>\n",
              "    <path d=\"M18.56 5.44l.94 2.06.94-2.06 2.06-.94-2.06-.94-.94-2.06-.94 2.06-2.06.94zm-11 1L8.5 8.5l.94-2.06 2.06-.94-2.06-.94L8.5 2.5l-.94 2.06-2.06.94zm10 10l.94 2.06.94-2.06 2.06-.94-2.06-.94-.94-2.06-.94 2.06-2.06.94z\"/><path d=\"M17.41 7.96l-1.37-1.37c-.4-.4-.92-.59-1.43-.59-.52 0-1.04.2-1.43.59L10.3 9.45l-7.72 7.72c-.78.78-.78 2.05 0 2.83L4 21.41c.39.39.9.59 1.41.59.51 0 1.02-.2 1.41-.59l7.78-7.78 2.81-2.81c.8-.78.8-2.07 0-2.86zM5.41 20L4 18.59l7.72-7.72 1.47 1.35L5.41 20z\"/>\n",
              "  </svg>\n",
              "      </button>\n",
              "      \n",
              "  <style>\n",
              "    .colab-df-container {\n",
              "      display:flex;\n",
              "      flex-wrap:wrap;\n",
              "      gap: 12px;\n",
              "    }\n",
              "\n",
              "    .colab-df-convert {\n",
              "      background-color: #E8F0FE;\n",
              "      border: none;\n",
              "      border-radius: 50%;\n",
              "      cursor: pointer;\n",
              "      display: none;\n",
              "      fill: #1967D2;\n",
              "      height: 32px;\n",
              "      padding: 0 0 0 0;\n",
              "      width: 32px;\n",
              "    }\n",
              "\n",
              "    .colab-df-convert:hover {\n",
              "      background-color: #E2EBFA;\n",
              "      box-shadow: 0px 1px 2px rgba(60, 64, 67, 0.3), 0px 1px 3px 1px rgba(60, 64, 67, 0.15);\n",
              "      fill: #174EA6;\n",
              "    }\n",
              "\n",
              "    [theme=dark] .colab-df-convert {\n",
              "      background-color: #3B4455;\n",
              "      fill: #D2E3FC;\n",
              "    }\n",
              "\n",
              "    [theme=dark] .colab-df-convert:hover {\n",
              "      background-color: #434B5C;\n",
              "      box-shadow: 0px 1px 3px 1px rgba(0, 0, 0, 0.15);\n",
              "      filter: drop-shadow(0px 1px 2px rgba(0, 0, 0, 0.3));\n",
              "      fill: #FFFFFF;\n",
              "    }\n",
              "  </style>\n",
              "\n",
              "      <script>\n",
              "        const buttonEl =\n",
              "          document.querySelector('#df-29151b61-e399-4864-969e-8aba788319c3 button.colab-df-convert');\n",
              "        buttonEl.style.display =\n",
              "          google.colab.kernel.accessAllowed ? 'block' : 'none';\n",
              "\n",
              "        async function convertToInteractive(key) {\n",
              "          const element = document.querySelector('#df-29151b61-e399-4864-969e-8aba788319c3');\n",
              "          const dataTable =\n",
              "            await google.colab.kernel.invokeFunction('convertToInteractive',\n",
              "                                                     [key], {});\n",
              "          if (!dataTable) return;\n",
              "\n",
              "          const docLinkHtml = 'Like what you see? Visit the ' +\n",
              "            '<a target=\"_blank\" href=https://colab.research.google.com/notebooks/data_table.ipynb>data table notebook</a>'\n",
              "            + ' to learn more about interactive tables.';\n",
              "          element.innerHTML = '';\n",
              "          dataTable['output_type'] = 'display_data';\n",
              "          await google.colab.output.renderOutput(dataTable, element);\n",
              "          const docLink = document.createElement('div');\n",
              "          docLink.innerHTML = docLinkHtml;\n",
              "          element.appendChild(docLink);\n",
              "        }\n",
              "      </script>\n",
              "    </div>\n",
              "  </div>\n",
              "  "
            ]
          },
          "metadata": {},
          "execution_count": 4
        }
      ]
    },
    {
      "cell_type": "code",
      "source": [
        "data['indicator'].value_counts()"
      ],
      "metadata": {
        "colab": {
          "base_uri": "https://localhost:8080/"
        },
        "id": "tS1glXKCIH4a",
        "outputId": "d4d24f9a-ef91-4a20-8a11-fcd5060100e8"
      },
      "execution_count": null,
      "outputs": [
        {
          "output_type": "execute_result",
          "data": {
            "text/plain": [
              "SP.POP.TOTL          13411\n",
              "SP.DYN.LE00.IN       11930\n",
              "NY.GDP.PCAP.PP.CD     5953\n",
              "SH.STA.SUIC.P5        3660\n",
              "Name: indicator, dtype: int64"
            ]
          },
          "metadata": {},
          "execution_count": 434
        }
      ]
    },
    {
      "cell_type": "markdown",
      "source": [
        "INDICATORS ARE :\n",
        "SP.POP.TOTL = 'Population'\n",
        "NY.GDP.PCAP.PP.CD = 'GDP per capita'\n",
        "SH.STA.SUIC.P5 = 'suiside rate'\n",
        "SP.DYN.LE00.IN = 'life expectancy'\n",
        "\n",
        "MAPPING THE EXISTING VALUES OF INDICATOR WITH THESE NEW VALUES FOR OUR REFERENCE\n"
      ],
      "metadata": {
        "id": "6ItKcbBBTDe8"
      }
    },
    {
      "cell_type": "code",
      "source": [
        "data['indicator'] = data['indicator'].map({\"SP.POP.TOTL\":\"Population\",\"SP.DYN.LE00.IN\":\"life expectancy\",\"NY.GDP.PCAP.PP.CD\":\"GDP per capita\",\"SH.STA.SUIC.P5\":\"suiside rate\"})"
      ],
      "metadata": {
        "id": "D0HSuGquTGva"
      },
      "execution_count": null,
      "outputs": []
    },
    {
      "cell_type": "code",
      "source": [
        "data"
      ],
      "metadata": {
        "colab": {
          "base_uri": "https://localhost:8080/",
          "height": 424
        },
        "id": "F_uzA5MkU5j5",
        "outputId": "32a0a2eb-875b-499b-818b-71c471a3c489"
      },
      "execution_count": null,
      "outputs": [
        {
          "output_type": "execute_result",
          "data": {
            "text/plain": [
              "       Unnamed: 0  Year         value       indicator Country Code  \\\n",
              "0               0  2002  8.763276e+02  GDP per capita          AFG   \n",
              "1               1  2003  9.281916e+02  GDP per capita          AFG   \n",
              "2               2  2004  9.257042e+02  GDP per capita          AFG   \n",
              "3               3  2005  1.023550e+03  GDP per capita          AFG   \n",
              "4               4  2006  1.078907e+03  GDP per capita          AFG   \n",
              "...           ...   ...           ...             ...          ...   \n",
              "34949       34949  2017  1.423660e+07      Population          ZWE   \n",
              "34950       34950  2018  1.443881e+07      Population          ZWE   \n",
              "34951       34951  2019  1.464547e+07      Population          ZWE   \n",
              "34952       34952  2020  1.486293e+07      Population          ZWE   \n",
              "34953       34953  2021  1.509217e+07      Population          ZWE   \n",
              "\n",
              "      Country Name               Region         Income Group Lending Type  \n",
              "0      Afghanistan           South Asia           Low income          IDA  \n",
              "1      Afghanistan           South Asia           Low income          IDA  \n",
              "2      Afghanistan           South Asia           Low income          IDA  \n",
              "3      Afghanistan           South Asia           Low income          IDA  \n",
              "4      Afghanistan           South Asia           Low income          IDA  \n",
              "...            ...                  ...                  ...          ...  \n",
              "34949     Zimbabwe  Sub-Saharan Africa   Lower middle income        Blend  \n",
              "34950     Zimbabwe  Sub-Saharan Africa   Lower middle income        Blend  \n",
              "34951     Zimbabwe  Sub-Saharan Africa   Lower middle income        Blend  \n",
              "34952     Zimbabwe  Sub-Saharan Africa   Lower middle income        Blend  \n",
              "34953     Zimbabwe  Sub-Saharan Africa   Lower middle income        Blend  \n",
              "\n",
              "[34954 rows x 9 columns]"
            ],
            "text/html": [
              "\n",
              "  <div id=\"df-edba1024-692c-457f-9c47-ac529a43a42e\">\n",
              "    <div class=\"colab-df-container\">\n",
              "      <div>\n",
              "<style scoped>\n",
              "    .dataframe tbody tr th:only-of-type {\n",
              "        vertical-align: middle;\n",
              "    }\n",
              "\n",
              "    .dataframe tbody tr th {\n",
              "        vertical-align: top;\n",
              "    }\n",
              "\n",
              "    .dataframe thead th {\n",
              "        text-align: right;\n",
              "    }\n",
              "</style>\n",
              "<table border=\"1\" class=\"dataframe\">\n",
              "  <thead>\n",
              "    <tr style=\"text-align: right;\">\n",
              "      <th></th>\n",
              "      <th>Unnamed: 0</th>\n",
              "      <th>Year</th>\n",
              "      <th>value</th>\n",
              "      <th>indicator</th>\n",
              "      <th>Country Code</th>\n",
              "      <th>Country Name</th>\n",
              "      <th>Region</th>\n",
              "      <th>Income Group</th>\n",
              "      <th>Lending Type</th>\n",
              "    </tr>\n",
              "  </thead>\n",
              "  <tbody>\n",
              "    <tr>\n",
              "      <th>0</th>\n",
              "      <td>0</td>\n",
              "      <td>2002</td>\n",
              "      <td>8.763276e+02</td>\n",
              "      <td>GDP per capita</td>\n",
              "      <td>AFG</td>\n",
              "      <td>Afghanistan</td>\n",
              "      <td>South Asia</td>\n",
              "      <td>Low income</td>\n",
              "      <td>IDA</td>\n",
              "    </tr>\n",
              "    <tr>\n",
              "      <th>1</th>\n",
              "      <td>1</td>\n",
              "      <td>2003</td>\n",
              "      <td>9.281916e+02</td>\n",
              "      <td>GDP per capita</td>\n",
              "      <td>AFG</td>\n",
              "      <td>Afghanistan</td>\n",
              "      <td>South Asia</td>\n",
              "      <td>Low income</td>\n",
              "      <td>IDA</td>\n",
              "    </tr>\n",
              "    <tr>\n",
              "      <th>2</th>\n",
              "      <td>2</td>\n",
              "      <td>2004</td>\n",
              "      <td>9.257042e+02</td>\n",
              "      <td>GDP per capita</td>\n",
              "      <td>AFG</td>\n",
              "      <td>Afghanistan</td>\n",
              "      <td>South Asia</td>\n",
              "      <td>Low income</td>\n",
              "      <td>IDA</td>\n",
              "    </tr>\n",
              "    <tr>\n",
              "      <th>3</th>\n",
              "      <td>3</td>\n",
              "      <td>2005</td>\n",
              "      <td>1.023550e+03</td>\n",
              "      <td>GDP per capita</td>\n",
              "      <td>AFG</td>\n",
              "      <td>Afghanistan</td>\n",
              "      <td>South Asia</td>\n",
              "      <td>Low income</td>\n",
              "      <td>IDA</td>\n",
              "    </tr>\n",
              "    <tr>\n",
              "      <th>4</th>\n",
              "      <td>4</td>\n",
              "      <td>2006</td>\n",
              "      <td>1.078907e+03</td>\n",
              "      <td>GDP per capita</td>\n",
              "      <td>AFG</td>\n",
              "      <td>Afghanistan</td>\n",
              "      <td>South Asia</td>\n",
              "      <td>Low income</td>\n",
              "      <td>IDA</td>\n",
              "    </tr>\n",
              "    <tr>\n",
              "      <th>...</th>\n",
              "      <td>...</td>\n",
              "      <td>...</td>\n",
              "      <td>...</td>\n",
              "      <td>...</td>\n",
              "      <td>...</td>\n",
              "      <td>...</td>\n",
              "      <td>...</td>\n",
              "      <td>...</td>\n",
              "      <td>...</td>\n",
              "    </tr>\n",
              "    <tr>\n",
              "      <th>34949</th>\n",
              "      <td>34949</td>\n",
              "      <td>2017</td>\n",
              "      <td>1.423660e+07</td>\n",
              "      <td>Population</td>\n",
              "      <td>ZWE</td>\n",
              "      <td>Zimbabwe</td>\n",
              "      <td>Sub-Saharan Africa</td>\n",
              "      <td>Lower middle income</td>\n",
              "      <td>Blend</td>\n",
              "    </tr>\n",
              "    <tr>\n",
              "      <th>34950</th>\n",
              "      <td>34950</td>\n",
              "      <td>2018</td>\n",
              "      <td>1.443881e+07</td>\n",
              "      <td>Population</td>\n",
              "      <td>ZWE</td>\n",
              "      <td>Zimbabwe</td>\n",
              "      <td>Sub-Saharan Africa</td>\n",
              "      <td>Lower middle income</td>\n",
              "      <td>Blend</td>\n",
              "    </tr>\n",
              "    <tr>\n",
              "      <th>34951</th>\n",
              "      <td>34951</td>\n",
              "      <td>2019</td>\n",
              "      <td>1.464547e+07</td>\n",
              "      <td>Population</td>\n",
              "      <td>ZWE</td>\n",
              "      <td>Zimbabwe</td>\n",
              "      <td>Sub-Saharan Africa</td>\n",
              "      <td>Lower middle income</td>\n",
              "      <td>Blend</td>\n",
              "    </tr>\n",
              "    <tr>\n",
              "      <th>34952</th>\n",
              "      <td>34952</td>\n",
              "      <td>2020</td>\n",
              "      <td>1.486293e+07</td>\n",
              "      <td>Population</td>\n",
              "      <td>ZWE</td>\n",
              "      <td>Zimbabwe</td>\n",
              "      <td>Sub-Saharan Africa</td>\n",
              "      <td>Lower middle income</td>\n",
              "      <td>Blend</td>\n",
              "    </tr>\n",
              "    <tr>\n",
              "      <th>34953</th>\n",
              "      <td>34953</td>\n",
              "      <td>2021</td>\n",
              "      <td>1.509217e+07</td>\n",
              "      <td>Population</td>\n",
              "      <td>ZWE</td>\n",
              "      <td>Zimbabwe</td>\n",
              "      <td>Sub-Saharan Africa</td>\n",
              "      <td>Lower middle income</td>\n",
              "      <td>Blend</td>\n",
              "    </tr>\n",
              "  </tbody>\n",
              "</table>\n",
              "<p>34954 rows × 9 columns</p>\n",
              "</div>\n",
              "      <button class=\"colab-df-convert\" onclick=\"convertToInteractive('df-edba1024-692c-457f-9c47-ac529a43a42e')\"\n",
              "              title=\"Convert this dataframe to an interactive table.\"\n",
              "              style=\"display:none;\">\n",
              "        \n",
              "  <svg xmlns=\"http://www.w3.org/2000/svg\" height=\"24px\"viewBox=\"0 0 24 24\"\n",
              "       width=\"24px\">\n",
              "    <path d=\"M0 0h24v24H0V0z\" fill=\"none\"/>\n",
              "    <path d=\"M18.56 5.44l.94 2.06.94-2.06 2.06-.94-2.06-.94-.94-2.06-.94 2.06-2.06.94zm-11 1L8.5 8.5l.94-2.06 2.06-.94-2.06-.94L8.5 2.5l-.94 2.06-2.06.94zm10 10l.94 2.06.94-2.06 2.06-.94-2.06-.94-.94-2.06-.94 2.06-2.06.94z\"/><path d=\"M17.41 7.96l-1.37-1.37c-.4-.4-.92-.59-1.43-.59-.52 0-1.04.2-1.43.59L10.3 9.45l-7.72 7.72c-.78.78-.78 2.05 0 2.83L4 21.41c.39.39.9.59 1.41.59.51 0 1.02-.2 1.41-.59l7.78-7.78 2.81-2.81c.8-.78.8-2.07 0-2.86zM5.41 20L4 18.59l7.72-7.72 1.47 1.35L5.41 20z\"/>\n",
              "  </svg>\n",
              "      </button>\n",
              "      \n",
              "  <style>\n",
              "    .colab-df-container {\n",
              "      display:flex;\n",
              "      flex-wrap:wrap;\n",
              "      gap: 12px;\n",
              "    }\n",
              "\n",
              "    .colab-df-convert {\n",
              "      background-color: #E8F0FE;\n",
              "      border: none;\n",
              "      border-radius: 50%;\n",
              "      cursor: pointer;\n",
              "      display: none;\n",
              "      fill: #1967D2;\n",
              "      height: 32px;\n",
              "      padding: 0 0 0 0;\n",
              "      width: 32px;\n",
              "    }\n",
              "\n",
              "    .colab-df-convert:hover {\n",
              "      background-color: #E2EBFA;\n",
              "      box-shadow: 0px 1px 2px rgba(60, 64, 67, 0.3), 0px 1px 3px 1px rgba(60, 64, 67, 0.15);\n",
              "      fill: #174EA6;\n",
              "    }\n",
              "\n",
              "    [theme=dark] .colab-df-convert {\n",
              "      background-color: #3B4455;\n",
              "      fill: #D2E3FC;\n",
              "    }\n",
              "\n",
              "    [theme=dark] .colab-df-convert:hover {\n",
              "      background-color: #434B5C;\n",
              "      box-shadow: 0px 1px 3px 1px rgba(0, 0, 0, 0.15);\n",
              "      filter: drop-shadow(0px 1px 2px rgba(0, 0, 0, 0.3));\n",
              "      fill: #FFFFFF;\n",
              "    }\n",
              "  </style>\n",
              "\n",
              "      <script>\n",
              "        const buttonEl =\n",
              "          document.querySelector('#df-edba1024-692c-457f-9c47-ac529a43a42e button.colab-df-convert');\n",
              "        buttonEl.style.display =\n",
              "          google.colab.kernel.accessAllowed ? 'block' : 'none';\n",
              "\n",
              "        async function convertToInteractive(key) {\n",
              "          const element = document.querySelector('#df-edba1024-692c-457f-9c47-ac529a43a42e');\n",
              "          const dataTable =\n",
              "            await google.colab.kernel.invokeFunction('convertToInteractive',\n",
              "                                                     [key], {});\n",
              "          if (!dataTable) return;\n",
              "\n",
              "          const docLinkHtml = 'Like what you see? Visit the ' +\n",
              "            '<a target=\"_blank\" href=https://colab.research.google.com/notebooks/data_table.ipynb>data table notebook</a>'\n",
              "            + ' to learn more about interactive tables.';\n",
              "          element.innerHTML = '';\n",
              "          dataTable['output_type'] = 'display_data';\n",
              "          await google.colab.output.renderOutput(dataTable, element);\n",
              "          const docLink = document.createElement('div');\n",
              "          docLink.innerHTML = docLinkHtml;\n",
              "          element.appendChild(docLink);\n",
              "        }\n",
              "      </script>\n",
              "    </div>\n",
              "  </div>\n",
              "  "
            ]
          },
          "metadata": {},
          "execution_count": 436
        }
      ]
    },
    {
      "cell_type": "code",
      "source": [
        "data['Country Name'].value_counts().head(10)"
      ],
      "metadata": {
        "colab": {
          "base_uri": "https://localhost:8080/"
        },
        "id": "dHIxNcfUVNmF",
        "outputId": "b00ef7f1-a629-4aeb-a3cd-9ee21eecbe47"
      },
      "execution_count": null,
      "outputs": [
        {
          "output_type": "execute_result",
          "data": {
            "text/plain": [
              "Jamaica                  175\n",
              "Malawi                   175\n",
              "Albania                  175\n",
              "Mali                     175\n",
              "Malta                    175\n",
              "Mauritania               175\n",
              "Mauritius                175\n",
              "Mexico                   175\n",
              "Micronesia, Fed. Sts.    175\n",
              "Mongolia                 175\n",
              "Name: Country Name, dtype: int64"
            ]
          },
          "metadata": {},
          "execution_count": 437
        }
      ]
    },
    {
      "cell_type": "markdown",
      "source": [
        "TAKING THE TOP 10 countries in terms of count They are Jamaica, Malawi, Albania, Mali, Malta, Maurutania, Mauritius, Mexico, Micronesia, Fed. Sts, Mongolia,"
      ],
      "metadata": {
        "id": "fzr0OeEKVWnd"
      }
    },
    {
      "cell_type": "code",
      "source": [
        "data['Country Code'].value_counts().head(10)"
      ],
      "metadata": {
        "colab": {
          "base_uri": "https://localhost:8080/"
        },
        "id": "fSkkNei8W4KH",
        "outputId": "4889f049-d8a5-4935-a814-31e6a7ea67a2"
      },
      "execution_count": null,
      "outputs": [
        {
          "output_type": "execute_result",
          "data": {
            "text/plain": [
              "JAM    175\n",
              "MWI    175\n",
              "ALB    175\n",
              "MLI    175\n",
              "MLT    175\n",
              "MRT    175\n",
              "MUS    175\n",
              "MEX    175\n",
              "FSM    175\n",
              "MNG    175\n",
              "Name: Country Code, dtype: int64"
            ]
          },
          "metadata": {},
          "execution_count": 438
        }
      ]
    },
    {
      "cell_type": "code",
      "source": [
        "filt = data['Country Code'].isin(['JAM','MWI','ALB','MLI','MLT','MRT','MUS','MEX','FSM','MNG'])\n",
        "data = data[filt]"
      ],
      "metadata": {
        "id": "4NTJgIOHXF-G"
      },
      "execution_count": null,
      "outputs": []
    },
    {
      "cell_type": "code",
      "source": [
        "data['indicator'].value_counts()"
      ],
      "metadata": {
        "colab": {
          "base_uri": "https://localhost:8080/"
        },
        "id": "miXJfel1Ycgg",
        "outputId": "00275c50-a0cd-4b28-9ee7-1ffc5fd733ec"
      },
      "execution_count": null,
      "outputs": [
        {
          "output_type": "execute_result",
          "data": {
            "text/plain": [
              "Population         620\n",
              "life expectancy    610\n",
              "GDP per capita     320\n",
              "suiside rate       200\n",
              "Name: indicator, dtype: int64"
            ]
          },
          "metadata": {},
          "execution_count": 440
        }
      ]
    },
    {
      "cell_type": "code",
      "source": [
        "data['Year'].value_counts()\n",
        "data['Year'].value_counts()"
      ],
      "metadata": {
        "colab": {
          "base_uri": "https://localhost:8080/"
        },
        "id": "ehylqtS3aQ2D",
        "outputId": "b64226f3-e6e6-4b05-e7f0-8c1399552e13"
      },
      "execution_count": null,
      "outputs": [
        {
          "output_type": "execute_result",
          "data": {
            "text/plain": [
              "2013    40\n",
              "2012    40\n",
              "2010    40\n",
              "2009    40\n",
              "2008    40\n",
              "        ..\n",
              "1963    20\n",
              "1962    20\n",
              "1961    20\n",
              "1960    20\n",
              "1989    20\n",
              "Name: Year, Length: 62, dtype: int64"
            ]
          },
          "metadata": {},
          "execution_count": 441
        }
      ]
    },
    {
      "cell_type": "code",
      "source": [
        "fig = px.pie(data, values='value', names='Year', title='DISTRIBUTION YEARLY IN PIE CHART', width = 1000 , height = 1000)\n",
        "fig.show()"
      ],
      "metadata": {
        "colab": {
          "base_uri": "https://localhost:8080/",
          "height": 1000
        },
        "id": "wgb59bpee1K0",
        "outputId": "d0362ec6-0664-41c9-cabd-de87e0e19a53"
      },
      "execution_count": null,
      "outputs": [
        {
          "output_type": "display_data",
          "data": {
            "text/html": [
              "<html>\n",
              "<head><meta charset=\"utf-8\" /></head>\n",
              "<body>\n",
              "    <div>            <script src=\"https://cdnjs.cloudflare.com/ajax/libs/mathjax/2.7.5/MathJax.js?config=TeX-AMS-MML_SVG\"></script><script type=\"text/javascript\">if (window.MathJax) {MathJax.Hub.Config({SVG: {font: \"STIX-Web\"}});}</script>                <script type=\"text/javascript\">window.PlotlyConfig = {MathJaxConfig: 'local'};</script>\n",
              "        <script src=\"https://cdn.plot.ly/plotly-2.8.3.min.js\"></script>                <div id=\"5ffbf7f1-4b6c-4cee-b48b-35fb9bc9c010\" class=\"plotly-graph-div\" style=\"height:1000px; width:1000px;\"></div>            <script type=\"text/javascript\">                                    window.PLOTLYENV=window.PLOTLYENV || {};                                    if (document.getElementById(\"5ffbf7f1-4b6c-4cee-b48b-35fb9bc9c010\")) {                    Plotly.newPlot(                        \"5ffbf7f1-4b6c-4cee-b48b-35fb9bc9c010\",                        [{\"domain\":{\"x\":[0.0,1.0],\"y\":[0.0,1.0]},\"hovertemplate\":\"Year=%{label}<br>value=%{value}<extra></extra>\",\"labels\":[1990,1991,1992,1993,1994,1995,1996,1997,1998,1999,2000,2001,2002,2003,2004,2005,2006,2007,2008,2009,2010,2011,2012,2013,2014,2015,2016,2017,2018,2019,2020,2021,1990,1991,1992,1993,1994,1995,1996,1997,1998,1999,2000,2001,2002,2003,2004,2005,2006,2007,2008,2009,2010,2011,2012,2013,2014,2015,2016,2017,2018,2019,2020,2021,1990,1991,1992,1993,1994,1995,1996,1997,1998,1999,2000,2001,2002,2003,2004,2005,2006,2007,2008,2009,2010,2011,2012,2013,2014,2015,2016,2017,2018,2019,2020,2021,1990,1991,1992,1993,1994,1995,1996,1997,1998,1999,2000,2001,2002,2003,2004,2005,2006,2007,2008,2009,2010,2011,2012,2013,2014,2015,2016,2017,2018,2019,2020,2021,1990,1991,1992,1993,1994,1995,1996,1997,1998,1999,2000,2001,2002,2003,2004,2005,2006,2007,2008,2009,2010,2011,2012,2013,2014,2015,2016,2017,2018,2019,2020,2021,1990,1991,1992,1993,1994,1995,1996,1997,1998,1999,2000,2001,2002,2003,2004,2005,2006,2007,2008,2009,2010,2011,2012,2013,2014,2015,2016,2017,2018,2019,2020,2021,1990,1991,1992,1993,1994,1995,1996,1997,1998,1999,2000,2001,2002,2003,2004,2005,2006,2007,2008,2009,2010,2011,2012,2013,2014,2015,2016,2017,2018,2019,2020,2021,1990,1991,1992,1993,1994,1995,1996,1997,1998,1999,2000,2001,2002,2003,2004,2005,2006,2007,2008,2009,2010,2011,2012,2013,2014,2015,2016,2017,2018,2019,2020,2021,1990,1991,1992,1993,1994,1995,1996,1997,1998,1999,2000,2001,2002,2003,2004,2005,2006,2007,2008,2009,2010,2011,2012,2013,2014,2015,2016,2017,2018,2019,2020,2021,1990,1991,1992,1993,1994,1995,1996,1997,1998,1999,2000,2001,2002,2003,2004,2005,2006,2007,2008,2009,2010,2011,2012,2013,2014,2015,2016,2017,2018,2019,2020,2021,2000,2001,2002,2003,2004,2005,2006,2007,2008,2009,2010,2011,2012,2013,2014,2015,2016,2017,2018,2019,2000,2001,2002,2003,2004,2005,2006,2007,2008,2009,2010,2011,2012,2013,2014,2015,2016,2017,2018,2019,2000,2001,2002,2003,2004,2005,2006,2007,2008,2009,2010,2011,2012,2013,2014,2015,2016,2017,2018,2019,2000,2001,2002,2003,2004,2005,2006,2007,2008,2009,2010,2011,2012,2013,2014,2015,2016,2017,2018,2019,2000,2001,2002,2003,2004,2005,2006,2007,2008,2009,2010,2011,2012,2013,2014,2015,2016,2017,2018,2019,2000,2001,2002,2003,2004,2005,2006,2007,2008,2009,2010,2011,2012,2013,2014,2015,2016,2017,2018,2019,2000,2001,2002,2003,2004,2005,2006,2007,2008,2009,2010,2011,2012,2013,2014,2015,2016,2017,2018,2019,2000,2001,2002,2003,2004,2005,2006,2007,2008,2009,2010,2011,2012,2013,2014,2015,2016,2017,2018,2019,2000,2001,2002,2003,2004,2005,2006,2007,2008,2009,2010,2011,2012,2013,2014,2015,2016,2017,2018,2019,2000,2001,2002,2003,2004,2005,2006,2007,2008,2009,2010,2011,2012,2013,2014,2015,2016,2017,2018,2019,1960,1961,1962,1963,1964,1965,1966,1967,1968,1969,1970,1971,1972,1973,1974,1975,1976,1977,1978,1979,1980,1981,1982,1983,1984,1985,1986,1987,1988,1989,1990,1991,1992,1993,1994,1995,1996,1997,1998,1999,2000,2001,2002,2003,2004,2005,2006,2007,2008,2009,2010,2011,2012,2013,2014,2015,2016,2017,2018,2019,2020,1960,1961,1962,1963,1964,1965,1966,1967,1968,1969,1970,1971,1972,1973,1974,1975,1976,1977,1978,1979,1980,1981,1982,1983,1984,1985,1986,1987,1988,1989,1990,1991,1992,1993,1994,1995,1996,1997,1998,1999,2000,2001,2002,2003,2004,2005,2006,2007,2008,2009,2010,2011,2012,2013,2014,2015,2016,2017,2018,2019,2020,1960,1961,1962,1963,1964,1965,1966,1967,1968,1969,1970,1971,1972,1973,1974,1975,1976,1977,1978,1979,1980,1981,1982,1983,1984,1985,1986,1987,1988,1989,1990,1991,1992,1993,1994,1995,1996,1997,1998,1999,2000,2001,2002,2003,2004,2005,2006,2007,2008,2009,2010,2011,2012,2013,2014,2015,2016,2017,2018,2019,2020,1960,1961,1962,1963,1964,1965,1966,1967,1968,1969,1970,1971,1972,1973,1974,1975,1976,1977,1978,1979,1980,1981,1982,1983,1984,1985,1986,1987,1988,1989,1990,1991,1992,1993,1994,1995,1996,1997,1998,1999,2000,2001,2002,2003,2004,2005,2006,2007,2008,2009,2010,2011,2012,2013,2014,2015,2016,2017,2018,2019,2020,1960,1961,1962,1963,1964,1965,1966,1967,1968,1969,1970,1971,1972,1973,1974,1975,1976,1977,1978,1979,1980,1981,1982,1983,1984,1985,1986,1987,1988,1989,1990,1991,1992,1993,1994,1995,1996,1997,1998,1999,2000,2001,2002,2003,2004,2005,2006,2007,2008,2009,2010,2011,2012,2013,2014,2015,2016,2017,2018,2019,2020,1960,1961,1962,1963,1964,1965,1966,1967,1968,1969,1970,1971,1972,1973,1974,1975,1976,1977,1978,1979,1980,1981,1982,1983,1984,1985,1986,1987,1988,1989,1990,1991,1992,1993,1994,1995,1996,1997,1998,1999,2000,2001,2002,2003,2004,2005,2006,2007,2008,2009,2010,2011,2012,2013,2014,2015,2016,2017,2018,2019,2020,1960,1961,1962,1963,1964,1965,1966,1967,1968,1969,1970,1971,1972,1973,1974,1975,1976,1977,1978,1979,1980,1981,1982,1983,1984,1985,1986,1987,1988,1989,1990,1991,1992,1993,1994,1995,1996,1997,1998,1999,2000,2001,2002,2003,2004,2005,2006,2007,2008,2009,2010,2011,2012,2013,2014,2015,2016,2017,2018,2019,2020,1960,1961,1962,1963,1964,1965,1966,1967,1968,1969,1970,1971,1972,1973,1974,1975,1976,1977,1978,1979,1980,1981,1982,1983,1984,1985,1986,1987,1988,1989,1990,1991,1992,1993,1994,1995,1996,1997,1998,1999,2000,2001,2002,2003,2004,2005,2006,2007,2008,2009,2010,2011,2012,2013,2014,2015,2016,2017,2018,2019,2020,1960,1961,1962,1963,1964,1965,1966,1967,1968,1969,1970,1971,1972,1973,1974,1975,1976,1977,1978,1979,1980,1981,1982,1983,1984,1985,1986,1987,1988,1989,1990,1991,1992,1993,1994,1995,1996,1997,1998,1999,2000,2001,2002,2003,2004,2005,2006,2007,2008,2009,2010,2011,2012,2013,2014,2015,2016,2017,2018,2019,2020,1960,1961,1962,1963,1964,1965,1966,1967,1968,1969,1970,1971,1972,1973,1974,1975,1976,1977,1978,1979,1980,1981,1982,1983,1984,1985,1986,1987,1988,1989,1990,1991,1992,1993,1994,1995,1996,1997,1998,1999,2000,2001,2002,2003,2004,2005,2006,2007,2008,2009,2010,2011,2012,2013,2014,2015,2016,2017,2018,2019,2020,1960,1961,1962,1963,1964,1965,1966,1967,1968,1969,1970,1971,1972,1973,1974,1975,1976,1977,1978,1979,1980,1981,1982,1983,1984,1985,1986,1987,1988,1989,1990,1991,1992,1993,1994,1995,1996,1997,1998,1999,2000,2001,2002,2003,2004,2005,2006,2007,2008,2009,2010,2011,2012,2013,2014,2015,2016,2017,2018,2019,2020,2021,1960,1961,1962,1963,1964,1965,1966,1967,1968,1969,1970,1971,1972,1973,1974,1975,1976,1977,1978,1979,1980,1981,1982,1983,1984,1985,1986,1987,1988,1989,1990,1991,1992,1993,1994,1995,1996,1997,1998,1999,2000,2001,2002,2003,2004,2005,2006,2007,2008,2009,2010,2011,2012,2013,2014,2015,2016,2017,2018,2019,2020,2021,1960,1961,1962,1963,1964,1965,1966,1967,1968,1969,1970,1971,1972,1973,1974,1975,1976,1977,1978,1979,1980,1981,1982,1983,1984,1985,1986,1987,1988,1989,1990,1991,1992,1993,1994,1995,1996,1997,1998,1999,2000,2001,2002,2003,2004,2005,2006,2007,2008,2009,2010,2011,2012,2013,2014,2015,2016,2017,2018,2019,2020,2021,1960,1961,1962,1963,1964,1965,1966,1967,1968,1969,1970,1971,1972,1973,1974,1975,1976,1977,1978,1979,1980,1981,1982,1983,1984,1985,1986,1987,1988,1989,1990,1991,1992,1993,1994,1995,1996,1997,1998,1999,2000,2001,2002,2003,2004,2005,2006,2007,2008,2009,2010,2011,2012,2013,2014,2015,2016,2017,2018,2019,2020,2021,1960,1961,1962,1963,1964,1965,1966,1967,1968,1969,1970,1971,1972,1973,1974,1975,1976,1977,1978,1979,1980,1981,1982,1983,1984,1985,1986,1987,1988,1989,1990,1991,1992,1993,1994,1995,1996,1997,1998,1999,2000,2001,2002,2003,2004,2005,2006,2007,2008,2009,2010,2011,2012,2013,2014,2015,2016,2017,2018,2019,2020,2021,1960,1961,1962,1963,1964,1965,1966,1967,1968,1969,1970,1971,1972,1973,1974,1975,1976,1977,1978,1979,1980,1981,1982,1983,1984,1985,1986,1987,1988,1989,1990,1991,1992,1993,1994,1995,1996,1997,1998,1999,2000,2001,2002,2003,2004,2005,2006,2007,2008,2009,2010,2011,2012,2013,2014,2015,2016,2017,2018,2019,2020,2021,1960,1961,1962,1963,1964,1965,1966,1967,1968,1969,1970,1971,1972,1973,1974,1975,1976,1977,1978,1979,1980,1981,1982,1983,1984,1985,1986,1987,1988,1989,1990,1991,1992,1993,1994,1995,1996,1997,1998,1999,2000,2001,2002,2003,2004,2005,2006,2007,2008,2009,2010,2011,2012,2013,2014,2015,2016,2017,2018,2019,2020,2021,1960,1961,1962,1963,1964,1965,1966,1967,1968,1969,1970,1971,1972,1973,1974,1975,1976,1977,1978,1979,1980,1981,1982,1983,1984,1985,1986,1987,1988,1989,1990,1991,1992,1993,1994,1995,1996,1997,1998,1999,2000,2001,2002,2003,2004,2005,2006,2007,2008,2009,2010,2011,2012,2013,2014,2015,2016,2017,2018,2019,2020,2021,1960,1961,1962,1963,1964,1965,1966,1967,1968,1969,1970,1971,1972,1973,1974,1975,1976,1977,1978,1979,1980,1981,1982,1983,1984,1985,1986,1987,1988,1989,1990,1991,1992,1993,1994,1995,1996,1997,1998,1999,2000,2001,2002,2003,2004,2005,2006,2007,2008,2009,2010,2011,2012,2013,2014,2015,2016,2017,2018,2019,2020,2021,1960,1961,1962,1963,1964,1965,1966,1967,1968,1969,1970,1971,1972,1973,1974,1975,1976,1977,1978,1979,1980,1981,1982,1983,1984,1985,1986,1987,1988,1989,1990,1991,1992,1993,1994,1995,1996,1997,1998,1999,2000,2001,2002,2003,2004,2005,2006,2007,2008,2009,2010,2011,2012,2013,2014,2015,2016,2017,2018,2019,2020,2021],\"legendgroup\":\"\",\"name\":\"\",\"showlegend\":true,\"values\":[2549.7089413659,1909.2908100023,1823.4765337269,2057.6614945094,2290.1099123031,2666.0423648515,2980.3746169499,2717.6443480695,3021.0415773634,3471.6615089092,3860.8046270585,4299.5464929377,4661.4026953279,5000.0493630563,5427.7326624112,5865.3019037984,6566.5728279465,7283.3426381201,8228.3480411134,8813.0294608029,9628.7219617783,10207.7675731705,10526.2591833761,10570.963733047,11259.2675137674,11658.9055171112,12078.8431361844,12770.9642910053,13498.138167156,13999.4239709594,13632.1865366302,15646.0415226344,4760.6906676401,5118.7135664836,5290.6402470586,5869.9443499725,6018.9781251813,6228.3766979534,6273.4858738346,6247.1564653456,6110.9551671102,6205.3808376883,6348.6259163047,6529.7520410918,6718.4139210265,7058.6881257516,7302.1314587575,7556.876309787,7973.9456988334,8265.2576598562,8314.4328290904,7964.1274038119,7901.0655137177,8159.8761649991,8187.1936736495,8442.983667431,8545.1028366997,8792.0569569469,9194.1567392958,9600.1047458039,9967.4292082816,10189.6402034705,9240.8218693355,10025.9047946926,664.9753556007,732.2306317258,687.8653866362,770.4793594368,703.7862305664,830.3365984954,891.2571052577,918.8132743892,939.0523151298,953.9572147185,964.7755527137,914.2061780908,921.5333256896,969.6205427474,1023.8805068449,1062.5112557202,1116.0370192014,1221.5724028332,1302.426002273,1379.7087332666,1450.0429060451,1508.1921321854,1467.1381810444,1572.8334715827,1530.9307535586,1445.7351122681,1454.3589410421,1472.146868477,1532.4893124326,1602.0155902244,1591.4755910705,1658.3344179254,803.3394613116,908.1035306824,877.0862694729,902.2146571033,930.9344786868,934.11563091,992.2580186853,1031.1944568109,1092.9362121586,1140.44168616,1133.2518110549,1298.3930794493,1319.1787536388,1423.0737960154,1437.7112806067,1529.4375468005,1596.6607121868,1641.396286176,1695.3362502221,1730.8330434292,1787.3575858344,1826.6475569919,1763.8402510035,1812.966220168,1915.3044715321,2032.6558718801,2189.0066217116,2246.7974208448,2338.260312264,2419.6886887307,2347.7966744097,2447.324282737,9019.4047240057,9644.3427799366,10220.8600376072,10823.3156794264,11570.4157254909,12475.0043770176,13076.1188344186,13820.1671703545,14470.5479472483,15110.4943411224,18355.4967894141,18510.598452046,19599.9414329873,20929.3954917416,21545.4251923105,22306.6228714756,23320.9598431822,25059.1377146874,26523.5326924729,26649.6041313751,28722.7021856242,28973.2708577894,30243.8413140141,32295.8473400221,34344.0217879777,37455.20487447,39705.8987211412,43559.3161796569,45568.7232072745,47407.8807867595,43243.1726484364,47714.4521686333,2636.1170653107,2702.8254560556,2744.2923331648,2898.7355431312,2797.5123963511,3057.8628585947,3212.7378347249,3057.776020078,3098.3237994733,3174.274260672,3037.6150448416,2998.9113251932,3003.5973361006,3184.4641336723,3329.0514804342,3622.8533473332,4294.7586447175,4201.6264035443,4146.6762775282,4057.7201586402,4092.5273956072,4225.5712615653,4262.0636970187,4481.2518423715,4295.0514887793,4200.152563267,4700.1062623827,5108.5491322044,5317.4642936397,5569.5391631676,5389.6464884458,5591.8347398643,4941.0829125595,5277.4720924856,5674.129274286,6031.8873580202,6326.3133989354,6678.237494527,7107.4504866918,7546.1399436801,8009.7677875247,8229.4364113629,9017.1688121689,9453.9885064862,9688.8874099592,10390.0858004714,11061.3835055747,11542.4897957406,12419.5163118407,13424.3559647131,14366.8120865552,14898.6064262422,15700.2430569091,16653.2438040789,16963.5112414049,17866.3068173779,18488.0467911726,19229.8354887211,20701.2189720364,21415.1161096211,22738.6929559433,23834.9650016217,20528.8336499786,22240.1349561848,8084.5007412053,8562.7211724764,8938.9941611154,8558.5481799674,9017.4512532281,8485.5069743409,9079.1768953837,9715.4024281218,10176.6354219884,10448.8243676125,11089.4899949864,11136.0219119709,11187.4769618308,11488.2956282873,12090.9912069056,12657.6376721808,13812.9013959234,14297.2213852569,14924.8216140502,14547.6445830778,15255.019052785,16520.2592224915,17162.9273706838,17373.8974567258,18056.7898061476,18301.5004690469,19323.6658689896,19721.2609759241,20096.1566534339,19862.5631976218,18670.8104030112,20036.4553884275,1768.8092620745,1915.2234902733,1984.9930955846,2144.2746052965,2134.6178707329,2299.6095614627,2250.9491890886,2147.7716149272,2239.3692237745,2311.4747488075,2486.5065855001,2603.3343020245,2661.9220788269,2760.3560556629,2754.3123390395,2912.040925811,3021.1229639492,3072.9765295188,3082.8411481481,3154.1212542575,3265.8919757733,3422.3558457739,3386.6534315248,3274.7775280248,3212.9246280668,3350.093289529,3372.9598287009,3489.7075942914,3543.1611716368,3611.3639494407,3552.5960366764,3544.2246426392,3342.8942101756,3107.4405734087,2851.1823518526,2801.6728988353,2900.4317039832,3126.0266737818,3228.3467323175,3383.978750407,3506.4527086521,3633.3321587527,3725.0144267475,3885.4621465129,4092.749696234,4419.7289171067,4965.0272417369,5426.8692010023,5996.0279391979,6697.633820401,7326.0824488754,7165.4443045308,7582.3777752191,8912.8733914244,10227.5302746287,10549.892056039,11056.2985279189,10648.2739820507,10737.4861306932,11366.3039371032,12316.0010702258,13013.047241843,12365.9384827552,12862.746927421,4.9,4.5,4.6,4.8,4.8,7.5,7.8,8.1,8.2,8.1,7.8,7.9,5.2,5.3,5.0,4.8,4.7,4.7,4.5,4.3,1.9,1.9,1.8,1.7000000000000002,1.6,1.5,1.5,1.8,2.2,2.3,1.9,2.2,2.1,2.0,2.2,2.2,2.2,2.3,2.3,2.4,10.8,9.8,8.8,8.2,7.8,7.2,7.5,7.8,7.6,8.0,8.2,7.3,6.8,6.4,6.3,6.2,6.1,5.9,5.6,5.4,4.8,4.7,4.7,4.6,4.5,4.6,4.5,4.6,4.6,4.6,4.5,4.5,4.5,4.5,4.4,4.3,4.2,4.1,4.1,4.1,6.8,7.2,5.7,5.4,5.9,5.6,6.8,5.5,6.4,6.9,7.5,6.8,6.0,6.8,7.1,7.2,5.8,5.5,6.0,6.1,3.5,3.4,3.4,3.3,3.3,3.2,3.2,3.2,3.1,3.1,3.1,3.0,3.1,3.1,3.1,3.0,3.0,3.1,3.1,3.1,11.8,10.1,11.3,7.7,8.2,9.0,9.2,10.3,6.7,9.1,7.8,9.0,9.6,8.2,10.2,7.9,8.1,9.6,8.7,9.5,3.5,3.8,3.9,4.0,4.0,4.1,4.0,4.1,4.4,4.6,4.5,5.2,4.9,5.2,5.7,5.6,5.6,5.9,5.4,5.3,24.0,23.4,22.5,22.8,23.8,24.6,24.6,24.4,24.5,24.5,24.5,25.2,25.5,25.6,25.8,27.0,27.0,27.7,28.2,28.2,22.0,22.3,21.7,23.1,23.7,24.0,23.7,23.6,23.8,23.6,23.4,22.7,21.7,21.0,20.0,20.0,20.1,19.2,18.6,17.9,62.283,63.301,64.19,64.914,65.463,65.85,66.11,66.304,66.487,66.689,66.935,67.237,67.582,67.953,68.343,68.736,69.11,69.448,69.742,69.991,70.208,70.416,70.635,70.876,71.134,71.388,71.605,71.76,71.843,71.86,71.836,71.803,71.802,71.86,71.992,72.205,72.495,72.838,73.208,73.587,73.955,74.288,74.579,74.828,75.039,75.228,75.423,75.646,75.912,76.221,76.562,76.914,77.252,77.554,77.813,78.025,78.194,78.333,78.458,78.573,78.686,64.77,65.133,65.465,65.784,66.1,66.42,66.74,67.051,67.349,67.636,67.917,68.2,68.491,68.791,69.099,69.41,69.718,70.015,70.294,70.553,70.793,71.012,71.217,71.416,71.614,71.823,72.056,72.317,72.601,72.903,73.204,73.485,73.727,73.918,74.053,74.133,74.167,74.172,74.164,74.152,74.142,74.139,74.14,74.142,74.146,74.148,74.143,74.129,74.103,74.071,74.038,74.012,74.001,74.01,74.042,74.098,74.175,74.267,74.368,74.475,74.586,36.672,36.934,37.183,37.421,37.655,37.899,38.174,38.494,38.866,39.289,39.756,40.254,40.762,41.262,41.744,42.206,42.649,43.082,43.504,43.912,44.296,44.646,44.954,45.216,45.432,45.606,45.746,45.86,45.957,46.038,46.096,46.121,46.108,46.055,45.969,45.846,45.677,45.479,45.285,45.136,45.09,45.204,45.517,46.052,46.823,47.844,49.118,50.595,52.206,53.888,55.564,57.161,58.629,59.931,61.042,61.953,62.681,63.279,63.798,64.263,64.694,28.199,28.345,28.535,28.782,29.097,29.489,29.959,30.496,31.086,31.72,32.388,33.078,33.782,34.493,35.205,35.921,36.645,37.385,38.142,38.909,39.677,40.435,41.173,41.879,42.545,43.17,43.759,44.315,44.838,45.323,45.746,46.076,46.305,46.445,46.52,46.573,46.658,46.823,47.103,47.515,48.069,48.758,49.54,50.373,51.224,52.057,52.839,53.553,54.193,54.756,55.251,55.701,56.135,56.578,57.036,57.509,57.987,58.452,58.893,59.306,59.692,69.4332439024,69.6143902439,69.7706585366,69.9199512195,70.0757317073,70.2479268293,70.4410487805,70.6480731707,70.8630487805,71.0829512195,71.3052926829,71.5225365854,71.7312439024,71.9274390244,72.111195122,72.281097561,72.4367804878,72.583804878,72.7321219512,72.891195122,73.0778536585,73.310902439,73.5981463415,73.94,74.3309756098,74.7581463415,75.204195122,75.6448292683,76.0626585366,76.4452682927,76.7860731707,77.0844634146,77.350804878,77.5934878049,77.8175365854,77.2902439024,77.3414634146,77.7390243902,77.587804878,77.5,78.3487804878,78.843902439,78.7390243902,78.5463414634,79.2536585366,79.3,79.4390243902,79.7926829268,79.6365853659,80.2414634146,81.3975609756,80.7463414634,80.7463414634,81.7463414634,82.0463414634,81.8975609756,82.4536585366,82.3463414634,82.4487804878,82.8585365854,82.6536585366,44.432,45.132,45.834,46.531,47.214,47.868,48.476,49.032,49.536,49.99,50.404,50.788,51.16,51.539,51.935,52.358,52.817,53.306,53.82,54.357,54.913,55.486,56.066,56.643,57.204,57.735,58.226,58.671,59.065,59.405,59.688,59.914,60.092,60.231,60.341,60.426,60.493,60.545,60.593,60.643,60.706,60.788,60.892,61.018,61.17,61.349,61.552,61.776,62.015,62.266,62.527,62.799,63.079,63.366,63.654,63.936,64.208,64.464,64.704,64.925,65.129,58.7452195122,59.7483658537,60.626902439,61.3576585366,61.9349512195,62.3582926829,62.6387073171,62.8153170732,62.9316829268,63.020195122,63.1180487805,63.2533414634,63.4399512195,63.6855365854,63.9999756098,64.3905365854,64.8556341463,65.3724390244,65.9133170732,66.4557804878,66.9653902439,67.4073902439,67.7653658537,68.0376097561,68.2303658537,68.3706829268,68.4993658537,68.6555121951,68.8630243902,69.1240243902,69.4048780488,69.956097561,70.0585365854,70.1073170732,70.1585365854,70.3258536585,70.3229268293,70.4048780488,70.6073170732,70.9609756098,71.6634146341,71.7658536585,71.9658536585,72.1170731707,72.2658536585,72.432195122,72.432195122,72.5707317073,72.5707317073,72.8824390244,72.9673170732,73.2668292683,73.8634146341,74.0170731707,74.1943902439,74.3531707317,74.3948780488,74.5146341463,74.4163414634,74.2358536585,74.1770731707,57.077,57.668,58.193,58.656,59.069,59.447,59.807,60.165,60.536,60.932,61.362,61.829,62.327,62.845,63.378,63.922,64.467,65.009,65.54,66.055,66.553,67.031,67.493,67.942,68.38,68.809,69.232,69.649,70.062,70.469,70.866,71.248,71.61,71.953,72.279,72.598,72.925,73.268,73.625,73.988,74.34,74.658,74.922,75.118,75.243,75.3,75.296,75.255,75.194,75.128,75.065,75.011,74.966,74.93,74.908,74.904,74.917,74.947,74.992,75.054,75.131,54.513,54.954,55.396,55.838,56.279,56.717,57.153,57.585,58.012,58.434,58.851,59.265,59.675,60.079,60.473,60.85,61.206,61.535,61.834,62.1,62.331,62.528,62.693,62.834,62.955,63.064,63.169,63.273,63.38,63.492,63.605,63.715,63.814,63.901,63.978,64.049,64.121,64.202,64.298,64.413,64.55,64.71,64.888,65.08,65.282,65.489,65.697,65.901,66.099,66.29,66.471,66.646,66.817,66.986,67.152,67.315,67.471,67.618,67.755,67.883,68.002,48.392,49.304,50.185,51.012,51.771,52.461,53.098,53.702,54.285,54.845,55.364,55.819,56.192,56.477,56.676,56.796,56.848,56.86,56.861,56.875,56.936,57.074,57.295,57.595,57.968,58.392,58.836,59.266,59.655,59.992,60.268,60.486,60.67,60.841,61.015,61.211,61.447,61.73,62.063,62.446,62.869,63.319,63.777,64.23,64.671,65.103,65.538,65.985,66.447,66.916,67.38,67.818,68.217,68.566,68.863,69.111,69.321,69.509,69.689,69.87,70.056,1608800.0,1659800.0,1711319.0,1762621.0,1814135.0,1864791.0,1914573.0,1965598.0,2022272.0,2081695.0,2135479.0,2187853.0,2243126.0,2296752.0,2350124.0,2404831.0,2458526.0,2513546.0,2566266.0,2617832.0,2671997.0,2726056.0,2784278.0,2843960.0,2904429.0,2964762.0,3022635.0,3083605.0,3142336.0,3227943.0,3286542.0,3266790.0,3247039.0,3227287.0,3207536.0,3187784.0,3168033.0,3148281.0,3128530.0,3108778.0,3089027.0,3060173.0,3051010.0,3039616.0,3026939.0,3011487.0,2992547.0,2970017.0,2947314.0,2927519.0,2913021.0,2905195.0,2900401.0,2895092.0,2889104.0,2880703.0,2876101.0,2873457.0,2866376.0,2854191.0,2837849.0,2811666.0,1628524.0,1651067.0,1676500.0,1703660.0,1730739.0,1756508.0,1780522.0,1803324.0,1825873.0,1849658.0,1875637.0,1904281.0,1935089.0,1966978.0,1998313.0,2028019.0,2055371.0,2080824.0,2105903.0,2132784.0,2162839.0,2196921.0,2234062.0,2271735.0,2306367.0,2335510.0,2358165.0,2375400.0,2389415.0,2403464.0,2419901.0,2439329.0,2461047.0,2484583.0,2509042.0,2533705.0,2558631.0,2583914.0,2608874.0,2632677.0,2654698.0,2674706.0,2692843.0,2709438.0,2725017.0,2740000.0,2754414.0,2768229.0,2781869.0,2795839.0,2810464.0,2825932.0,2842128.0,2858710.0,2875137.0,2891024.0,2906242.0,2920848.0,2934853.0,2948277.0,2961161.0,2973462.0,3659980.0,3747758.0,3839047.0,3933914.0,4032364.0,4134464.0,4240430.0,4350456.0,4464427.0,4582197.0,4703783.0,4829092.0,4958556.0,5093368.0,5235074.0,5384798.0,5545653.0,5717954.0,5896864.0,6075485.0,6250434.0,6412380.0,6565985.0,6737924.0,6964613.0,7268271.0,7666390.0,8141140.0,8636686.0,9075568.0,9404499.0,9600361.0,9685974.0,9710335.0,9745695.0,9844418.0,10022783.0,10264906.0,10552345.0,10854325.0,11148751.0,11432001.0,11713663.0,12000183.0,12301837.0,12625950.0,12973693.0,13341808.0,13727899.0,14128161.0,14539609.0,14962118.0,15396010.0,15839287.0,16289550.0,16745305.0,17205253.0,17670193.0,18143215.0,18628749.0,19129955.0,19647681.0,5263727.0,5322269.0,5381367.0,5441618.0,5503750.0,5568495.0,5635864.0,5706192.0,5780836.0,5861417.0,5949042.0,6044524.0,6147464.0,6256191.0,6368346.0,6482282.0,6596721.0,6712267.0,6831090.0,6956409.0,7090124.0,7234725.0,7388670.0,7545163.0,7694857.0,7831888.0,7952863.0,8062216.0,8171525.0,8296919.0,8449915.0,8635528.0,8850334.0,9087173.0,9334893.0,9585660.0,9837575.0,10094363.0,10360564.0,10642937.0,10946448.0,11271603.0,11616890.0,11982692.0,12369078.0,12775509.0,13203378.0,13651455.0,14113578.0,14581427.0,15049352.0,15514593.0,15979492.0,16449854.0,16934213.0,17438772.0,17965448.0,18512429.0,19077755.0,19658023.0,20250834.0,20855724.0,326550.0,325250.0,323900.0,322550.0,321250.0,318800.0,315200.0,311550.0,307900.0,304300.0,302650.0,302700.0,302450.0,302200.0,301996.0,304222.0,305774.0,306970.0,310182.0,313342.0,316645.0,318982.0,325898.0,330524.0,330593.0,336452.0,342121.0,344485.0,347325.0,350722.0,354170.0,363845.0,367618.0,371308.0,374797.0,377419.0,379905.0,382791.0,385287.0,387578.0,390087.0,393028.0,395969.0,398582.0,401268.0,403834.0,405308.0,406724.0,409379.0,412477.0,414508.0,416268.0,420028.0,425967.0,434558.0,445053.0,455356.0,467999.0,484630.0,504062.0,515332.0,516869.0,850377.0,875586.0,901690.0,928742.0,956794.0,985907.0,1016093.0,1047345.0,1079580.0,1112749.0,1146776.0,1181659.0,1217443.0,1254156.0,1291857.0,1330594.0,1370364.0,1411139.0,1453028.0,1496174.0,1540644.0,1586496.0,1633655.0,1681859.0,1730737.0,1780033.0,1829678.0,1879756.0,1930427.0,1981902.0,2034347.0,2087914.0,2142645.0,2198538.0,2255520.0,2313630.0,2372900.0,2433567.0,2496217.0,2561584.0,2630217.0,2702405.0,2778097.0,2857150.0,2939246.0,3024198.0,3111908.0,3202512.0,3296237.0,3393408.0,3494200.0,3598646.0,3706555.0,3817497.0,3930894.0,4046304.0,4163532.0,4282582.0,4403312.0,4525698.0,4649660.0,4775110.0,659351.0,680757.0,700349.0,718861.0,736381.0,753000.0,768813.0,783917.0,798413.0,812405.0,826000.0,839230.0,852053.0,864819.0,878042.0,892000.0,906507.0,921379.0,933499.0,949888.0,966039.0,980462.0,992521.0,1001691.0,1012221.0,1020528.0,1028360.0,1036082.0,1043239.0,1051260.0,1058775.0,1070266.0,1084441.0,1097374.0,1112846.0,1122457.0,1133996.0,1148284.0,1160421.0,1175267.0,1186873.0,1196287.0,1204621.0,1213370.0,1221003.0,1228254.0,1233996.0,1239630.0,1244121.0,1247429.0,1250400.0,1252404.0,1255882.0,1258653.0,1260934.0,1262605.0,1263473.0,1264613.0,1265303.0,1265711.0,1265740.0,1266060.0,37771861.0,38966049.0,40195318.0,41462373.0,42771077.0,44123863.0,45519746.0,46956208.0,48431971.0,49945278.0,51493565.0,53076366.0,54689944.0,56324310.0,57966812.0,59607947.0,61242189.0,62869908.0,64494872.0,66123908.0,67761367.0,69407623.0,71058650.0,72709306.0,74352631.0,75983486.0,77599105.0,79200081.0,80788725.0,82368930.0,83943135.0,85512621.0,87075136.0,88625440.0,90156396.0,91663290.0,93147045.0,94611008.0,96056313.0,97484823.0,98899845.0,100298152.0,101684764.0,103081020.0,104514934.0,106005199.0,107560155.0,109170503.0,110815272.0,112463886.0,114092961.0,115695468.0,117274156.0,118827158.0,120355137.0,121858251.0,123333379.0,124777326.0,126190782.0,127575529.0,128932753.0,130262220.0,44510.0,45939.0,47372.0,48856.0,50476.0,52224.0,54192.0,56308.0,58386.0,60146.0,61415.0,62089.0,62275.0,62268.0,62456.0,63122.0,64360.0,66079.0,68196.0,70515.0,72936.0,75422.0,78015.0,80630.0,83192.0,85641.0,87904.0,89985.0,91984.0,94062.0,96304.0,98779.0,101386.0,103901.0,106030.0,107535.0,108311.0,108473.0,108206.0,107769.0,107405.0,107170.0,107027.0,106902.0,106624.0,106135.0,105374.0,104442.0,103549.0,102971.0,102916.0,103448.0,104506.0,105922.0,107444.0,108886.0,110215.0,111461.0,112640.0,113811.0,115021.0,116255.0,955514.0,982181.0,1011327.0,1042387.0,1074518.0,1107121.0,1139962.0,1173186.0,1207104.0,1242213.0,1278819.0,1317042.0,1356673.0,1397305.0,1438421.0,1479646.0,1520868.0,1562207.0,1603910.0,1646290.0,1689622.0,1733475.0,1777727.0,1823214.0,1871089.0,1921889.0,1976313.0,2033351.0,2089709.0,2141005.0,2184139.0,2217918.0,2243495.0,2263196.0,2280475.0,2298017.0,2316571.0,2335744.0,2355667.0,2376228.0,2397417.0,2419594.0,2443261.0,2468765.0,2496394.0,2526429.0,2558854.0,2593819.0,2631899.0,2673794.0,2719902.0,2770357.0,2824698.0,2881783.0,2940111.0,2998433.0,3056358.0,3113788.0,3170214.0,3225166.0,3278292.0,3329282.0],\"type\":\"pie\"}],                        {\"template\":{\"data\":{\"bar\":[{\"error_x\":{\"color\":\"#2a3f5f\"},\"error_y\":{\"color\":\"#2a3f5f\"},\"marker\":{\"line\":{\"color\":\"#E5ECF6\",\"width\":0.5},\"pattern\":{\"fillmode\":\"overlay\",\"size\":10,\"solidity\":0.2}},\"type\":\"bar\"}],\"barpolar\":[{\"marker\":{\"line\":{\"color\":\"#E5ECF6\",\"width\":0.5},\"pattern\":{\"fillmode\":\"overlay\",\"size\":10,\"solidity\":0.2}},\"type\":\"barpolar\"}],\"carpet\":[{\"aaxis\":{\"endlinecolor\":\"#2a3f5f\",\"gridcolor\":\"white\",\"linecolor\":\"white\",\"minorgridcolor\":\"white\",\"startlinecolor\":\"#2a3f5f\"},\"baxis\":{\"endlinecolor\":\"#2a3f5f\",\"gridcolor\":\"white\",\"linecolor\":\"white\",\"minorgridcolor\":\"white\",\"startlinecolor\":\"#2a3f5f\"},\"type\":\"carpet\"}],\"choropleth\":[{\"colorbar\":{\"outlinewidth\":0,\"ticks\":\"\"},\"type\":\"choropleth\"}],\"contour\":[{\"colorbar\":{\"outlinewidth\":0,\"ticks\":\"\"},\"colorscale\":[[0.0,\"#0d0887\"],[0.1111111111111111,\"#46039f\"],[0.2222222222222222,\"#7201a8\"],[0.3333333333333333,\"#9c179e\"],[0.4444444444444444,\"#bd3786\"],[0.5555555555555556,\"#d8576b\"],[0.6666666666666666,\"#ed7953\"],[0.7777777777777778,\"#fb9f3a\"],[0.8888888888888888,\"#fdca26\"],[1.0,\"#f0f921\"]],\"type\":\"contour\"}],\"contourcarpet\":[{\"colorbar\":{\"outlinewidth\":0,\"ticks\":\"\"},\"type\":\"contourcarpet\"}],\"heatmap\":[{\"colorbar\":{\"outlinewidth\":0,\"ticks\":\"\"},\"colorscale\":[[0.0,\"#0d0887\"],[0.1111111111111111,\"#46039f\"],[0.2222222222222222,\"#7201a8\"],[0.3333333333333333,\"#9c179e\"],[0.4444444444444444,\"#bd3786\"],[0.5555555555555556,\"#d8576b\"],[0.6666666666666666,\"#ed7953\"],[0.7777777777777778,\"#fb9f3a\"],[0.8888888888888888,\"#fdca26\"],[1.0,\"#f0f921\"]],\"type\":\"heatmap\"}],\"heatmapgl\":[{\"colorbar\":{\"outlinewidth\":0,\"ticks\":\"\"},\"colorscale\":[[0.0,\"#0d0887\"],[0.1111111111111111,\"#46039f\"],[0.2222222222222222,\"#7201a8\"],[0.3333333333333333,\"#9c179e\"],[0.4444444444444444,\"#bd3786\"],[0.5555555555555556,\"#d8576b\"],[0.6666666666666666,\"#ed7953\"],[0.7777777777777778,\"#fb9f3a\"],[0.8888888888888888,\"#fdca26\"],[1.0,\"#f0f921\"]],\"type\":\"heatmapgl\"}],\"histogram\":[{\"marker\":{\"pattern\":{\"fillmode\":\"overlay\",\"size\":10,\"solidity\":0.2}},\"type\":\"histogram\"}],\"histogram2d\":[{\"colorbar\":{\"outlinewidth\":0,\"ticks\":\"\"},\"colorscale\":[[0.0,\"#0d0887\"],[0.1111111111111111,\"#46039f\"],[0.2222222222222222,\"#7201a8\"],[0.3333333333333333,\"#9c179e\"],[0.4444444444444444,\"#bd3786\"],[0.5555555555555556,\"#d8576b\"],[0.6666666666666666,\"#ed7953\"],[0.7777777777777778,\"#fb9f3a\"],[0.8888888888888888,\"#fdca26\"],[1.0,\"#f0f921\"]],\"type\":\"histogram2d\"}],\"histogram2dcontour\":[{\"colorbar\":{\"outlinewidth\":0,\"ticks\":\"\"},\"colorscale\":[[0.0,\"#0d0887\"],[0.1111111111111111,\"#46039f\"],[0.2222222222222222,\"#7201a8\"],[0.3333333333333333,\"#9c179e\"],[0.4444444444444444,\"#bd3786\"],[0.5555555555555556,\"#d8576b\"],[0.6666666666666666,\"#ed7953\"],[0.7777777777777778,\"#fb9f3a\"],[0.8888888888888888,\"#fdca26\"],[1.0,\"#f0f921\"]],\"type\":\"histogram2dcontour\"}],\"mesh3d\":[{\"colorbar\":{\"outlinewidth\":0,\"ticks\":\"\"},\"type\":\"mesh3d\"}],\"parcoords\":[{\"line\":{\"colorbar\":{\"outlinewidth\":0,\"ticks\":\"\"}},\"type\":\"parcoords\"}],\"pie\":[{\"automargin\":true,\"type\":\"pie\"}],\"scatter\":[{\"marker\":{\"colorbar\":{\"outlinewidth\":0,\"ticks\":\"\"}},\"type\":\"scatter\"}],\"scatter3d\":[{\"line\":{\"colorbar\":{\"outlinewidth\":0,\"ticks\":\"\"}},\"marker\":{\"colorbar\":{\"outlinewidth\":0,\"ticks\":\"\"}},\"type\":\"scatter3d\"}],\"scattercarpet\":[{\"marker\":{\"colorbar\":{\"outlinewidth\":0,\"ticks\":\"\"}},\"type\":\"scattercarpet\"}],\"scattergeo\":[{\"marker\":{\"colorbar\":{\"outlinewidth\":0,\"ticks\":\"\"}},\"type\":\"scattergeo\"}],\"scattergl\":[{\"marker\":{\"colorbar\":{\"outlinewidth\":0,\"ticks\":\"\"}},\"type\":\"scattergl\"}],\"scattermapbox\":[{\"marker\":{\"colorbar\":{\"outlinewidth\":0,\"ticks\":\"\"}},\"type\":\"scattermapbox\"}],\"scatterpolar\":[{\"marker\":{\"colorbar\":{\"outlinewidth\":0,\"ticks\":\"\"}},\"type\":\"scatterpolar\"}],\"scatterpolargl\":[{\"marker\":{\"colorbar\":{\"outlinewidth\":0,\"ticks\":\"\"}},\"type\":\"scatterpolargl\"}],\"scatterternary\":[{\"marker\":{\"colorbar\":{\"outlinewidth\":0,\"ticks\":\"\"}},\"type\":\"scatterternary\"}],\"surface\":[{\"colorbar\":{\"outlinewidth\":0,\"ticks\":\"\"},\"colorscale\":[[0.0,\"#0d0887\"],[0.1111111111111111,\"#46039f\"],[0.2222222222222222,\"#7201a8\"],[0.3333333333333333,\"#9c179e\"],[0.4444444444444444,\"#bd3786\"],[0.5555555555555556,\"#d8576b\"],[0.6666666666666666,\"#ed7953\"],[0.7777777777777778,\"#fb9f3a\"],[0.8888888888888888,\"#fdca26\"],[1.0,\"#f0f921\"]],\"type\":\"surface\"}],\"table\":[{\"cells\":{\"fill\":{\"color\":\"#EBF0F8\"},\"line\":{\"color\":\"white\"}},\"header\":{\"fill\":{\"color\":\"#C8D4E3\"},\"line\":{\"color\":\"white\"}},\"type\":\"table\"}]},\"layout\":{\"annotationdefaults\":{\"arrowcolor\":\"#2a3f5f\",\"arrowhead\":0,\"arrowwidth\":1},\"autotypenumbers\":\"strict\",\"coloraxis\":{\"colorbar\":{\"outlinewidth\":0,\"ticks\":\"\"}},\"colorscale\":{\"diverging\":[[0,\"#8e0152\"],[0.1,\"#c51b7d\"],[0.2,\"#de77ae\"],[0.3,\"#f1b6da\"],[0.4,\"#fde0ef\"],[0.5,\"#f7f7f7\"],[0.6,\"#e6f5d0\"],[0.7,\"#b8e186\"],[0.8,\"#7fbc41\"],[0.9,\"#4d9221\"],[1,\"#276419\"]],\"sequential\":[[0.0,\"#0d0887\"],[0.1111111111111111,\"#46039f\"],[0.2222222222222222,\"#7201a8\"],[0.3333333333333333,\"#9c179e\"],[0.4444444444444444,\"#bd3786\"],[0.5555555555555556,\"#d8576b\"],[0.6666666666666666,\"#ed7953\"],[0.7777777777777778,\"#fb9f3a\"],[0.8888888888888888,\"#fdca26\"],[1.0,\"#f0f921\"]],\"sequentialminus\":[[0.0,\"#0d0887\"],[0.1111111111111111,\"#46039f\"],[0.2222222222222222,\"#7201a8\"],[0.3333333333333333,\"#9c179e\"],[0.4444444444444444,\"#bd3786\"],[0.5555555555555556,\"#d8576b\"],[0.6666666666666666,\"#ed7953\"],[0.7777777777777778,\"#fb9f3a\"],[0.8888888888888888,\"#fdca26\"],[1.0,\"#f0f921\"]]},\"colorway\":[\"#636efa\",\"#EF553B\",\"#00cc96\",\"#ab63fa\",\"#FFA15A\",\"#19d3f3\",\"#FF6692\",\"#B6E880\",\"#FF97FF\",\"#FECB52\"],\"font\":{\"color\":\"#2a3f5f\"},\"geo\":{\"bgcolor\":\"white\",\"lakecolor\":\"white\",\"landcolor\":\"#E5ECF6\",\"showlakes\":true,\"showland\":true,\"subunitcolor\":\"white\"},\"hoverlabel\":{\"align\":\"left\"},\"hovermode\":\"closest\",\"mapbox\":{\"style\":\"light\"},\"paper_bgcolor\":\"white\",\"plot_bgcolor\":\"#E5ECF6\",\"polar\":{\"angularaxis\":{\"gridcolor\":\"white\",\"linecolor\":\"white\",\"ticks\":\"\"},\"bgcolor\":\"#E5ECF6\",\"radialaxis\":{\"gridcolor\":\"white\",\"linecolor\":\"white\",\"ticks\":\"\"}},\"scene\":{\"xaxis\":{\"backgroundcolor\":\"#E5ECF6\",\"gridcolor\":\"white\",\"gridwidth\":2,\"linecolor\":\"white\",\"showbackground\":true,\"ticks\":\"\",\"zerolinecolor\":\"white\"},\"yaxis\":{\"backgroundcolor\":\"#E5ECF6\",\"gridcolor\":\"white\",\"gridwidth\":2,\"linecolor\":\"white\",\"showbackground\":true,\"ticks\":\"\",\"zerolinecolor\":\"white\"},\"zaxis\":{\"backgroundcolor\":\"#E5ECF6\",\"gridcolor\":\"white\",\"gridwidth\":2,\"linecolor\":\"white\",\"showbackground\":true,\"ticks\":\"\",\"zerolinecolor\":\"white\"}},\"shapedefaults\":{\"line\":{\"color\":\"#2a3f5f\"}},\"ternary\":{\"aaxis\":{\"gridcolor\":\"white\",\"linecolor\":\"white\",\"ticks\":\"\"},\"baxis\":{\"gridcolor\":\"white\",\"linecolor\":\"white\",\"ticks\":\"\"},\"bgcolor\":\"#E5ECF6\",\"caxis\":{\"gridcolor\":\"white\",\"linecolor\":\"white\",\"ticks\":\"\"}},\"title\":{\"x\":0.05},\"xaxis\":{\"automargin\":true,\"gridcolor\":\"white\",\"linecolor\":\"white\",\"ticks\":\"\",\"title\":{\"standoff\":15},\"zerolinecolor\":\"white\",\"zerolinewidth\":2},\"yaxis\":{\"automargin\":true,\"gridcolor\":\"white\",\"linecolor\":\"white\",\"ticks\":\"\",\"title\":{\"standoff\":15},\"zerolinecolor\":\"white\",\"zerolinewidth\":2}}},\"legend\":{\"tracegroupgap\":0},\"title\":{\"text\":\"DISTRIBUTION YEARLY IN PIE CHART\"},\"height\":1000,\"width\":1000},                        {\"responsive\": true}                    ).then(function(){\n",
              "                            \n",
              "var gd = document.getElementById('5ffbf7f1-4b6c-4cee-b48b-35fb9bc9c010');\n",
              "var x = new MutationObserver(function (mutations, observer) {{\n",
              "        var display = window.getComputedStyle(gd).display;\n",
              "        if (!display || display === 'none') {{\n",
              "            console.log([gd, 'removed!']);\n",
              "            Plotly.purge(gd);\n",
              "            observer.disconnect();\n",
              "        }}\n",
              "}});\n",
              "\n",
              "// Listen for the removal of the full notebook cells\n",
              "var notebookContainer = gd.closest('#notebook-container');\n",
              "if (notebookContainer) {{\n",
              "    x.observe(notebookContainer, {childList: true});\n",
              "}}\n",
              "\n",
              "// Listen for the clearing of the current output cell\n",
              "var outputEl = gd.closest('.output');\n",
              "if (outputEl) {{\n",
              "    x.observe(outputEl, {childList: true});\n",
              "}}\n",
              "\n",
              "                        })                };                            </script>        </div>\n",
              "</body>\n",
              "</html>"
            ]
          },
          "metadata": {}
        }
      ]
    },
    {
      "cell_type": "code",
      "source": [
        "fig = px.bar(data, y='value', x='Year', title='DISTRIBUTION YEARLY IN BAR GRAPH', width = 1000 , height = 500)\n",
        "fig.show()"
      ],
      "metadata": {
        "colab": {
          "base_uri": "https://localhost:8080/",
          "height": 517
        },
        "id": "ZS2lnUhugnMu",
        "outputId": "c4dfb5a5-81b0-49f9-eb61-c0ba4b40b988"
      },
      "execution_count": null,
      "outputs": [
        {
          "output_type": "display_data",
          "data": {
            "text/html": [
              "<html>\n",
              "<head><meta charset=\"utf-8\" /></head>\n",
              "<body>\n",
              "    <div>            <script src=\"https://cdnjs.cloudflare.com/ajax/libs/mathjax/2.7.5/MathJax.js?config=TeX-AMS-MML_SVG\"></script><script type=\"text/javascript\">if (window.MathJax) {MathJax.Hub.Config({SVG: {font: \"STIX-Web\"}});}</script>                <script type=\"text/javascript\">window.PlotlyConfig = {MathJaxConfig: 'local'};</script>\n",
              "        <script src=\"https://cdn.plot.ly/plotly-2.8.3.min.js\"></script>                <div id=\"8ca61545-fba4-4549-9950-adeb5dda7219\" class=\"plotly-graph-div\" style=\"height:500px; width:1000px;\"></div>            <script type=\"text/javascript\">                                    window.PLOTLYENV=window.PLOTLYENV || {};                                    if (document.getElementById(\"8ca61545-fba4-4549-9950-adeb5dda7219\")) {                    Plotly.newPlot(                        \"8ca61545-fba4-4549-9950-adeb5dda7219\",                        [{\"alignmentgroup\":\"True\",\"hovertemplate\":\"Year=%{x}<br>value=%{y}<extra></extra>\",\"legendgroup\":\"\",\"marker\":{\"color\":\"#636efa\",\"pattern\":{\"shape\":\"\"}},\"name\":\"\",\"offsetgroup\":\"\",\"orientation\":\"v\",\"showlegend\":false,\"textposition\":\"auto\",\"x\":[1990,1991,1992,1993,1994,1995,1996,1997,1998,1999,2000,2001,2002,2003,2004,2005,2006,2007,2008,2009,2010,2011,2012,2013,2014,2015,2016,2017,2018,2019,2020,2021,1990,1991,1992,1993,1994,1995,1996,1997,1998,1999,2000,2001,2002,2003,2004,2005,2006,2007,2008,2009,2010,2011,2012,2013,2014,2015,2016,2017,2018,2019,2020,2021,1990,1991,1992,1993,1994,1995,1996,1997,1998,1999,2000,2001,2002,2003,2004,2005,2006,2007,2008,2009,2010,2011,2012,2013,2014,2015,2016,2017,2018,2019,2020,2021,1990,1991,1992,1993,1994,1995,1996,1997,1998,1999,2000,2001,2002,2003,2004,2005,2006,2007,2008,2009,2010,2011,2012,2013,2014,2015,2016,2017,2018,2019,2020,2021,1990,1991,1992,1993,1994,1995,1996,1997,1998,1999,2000,2001,2002,2003,2004,2005,2006,2007,2008,2009,2010,2011,2012,2013,2014,2015,2016,2017,2018,2019,2020,2021,1990,1991,1992,1993,1994,1995,1996,1997,1998,1999,2000,2001,2002,2003,2004,2005,2006,2007,2008,2009,2010,2011,2012,2013,2014,2015,2016,2017,2018,2019,2020,2021,1990,1991,1992,1993,1994,1995,1996,1997,1998,1999,2000,2001,2002,2003,2004,2005,2006,2007,2008,2009,2010,2011,2012,2013,2014,2015,2016,2017,2018,2019,2020,2021,1990,1991,1992,1993,1994,1995,1996,1997,1998,1999,2000,2001,2002,2003,2004,2005,2006,2007,2008,2009,2010,2011,2012,2013,2014,2015,2016,2017,2018,2019,2020,2021,1990,1991,1992,1993,1994,1995,1996,1997,1998,1999,2000,2001,2002,2003,2004,2005,2006,2007,2008,2009,2010,2011,2012,2013,2014,2015,2016,2017,2018,2019,2020,2021,1990,1991,1992,1993,1994,1995,1996,1997,1998,1999,2000,2001,2002,2003,2004,2005,2006,2007,2008,2009,2010,2011,2012,2013,2014,2015,2016,2017,2018,2019,2020,2021,2000,2001,2002,2003,2004,2005,2006,2007,2008,2009,2010,2011,2012,2013,2014,2015,2016,2017,2018,2019,2000,2001,2002,2003,2004,2005,2006,2007,2008,2009,2010,2011,2012,2013,2014,2015,2016,2017,2018,2019,2000,2001,2002,2003,2004,2005,2006,2007,2008,2009,2010,2011,2012,2013,2014,2015,2016,2017,2018,2019,2000,2001,2002,2003,2004,2005,2006,2007,2008,2009,2010,2011,2012,2013,2014,2015,2016,2017,2018,2019,2000,2001,2002,2003,2004,2005,2006,2007,2008,2009,2010,2011,2012,2013,2014,2015,2016,2017,2018,2019,2000,2001,2002,2003,2004,2005,2006,2007,2008,2009,2010,2011,2012,2013,2014,2015,2016,2017,2018,2019,2000,2001,2002,2003,2004,2005,2006,2007,2008,2009,2010,2011,2012,2013,2014,2015,2016,2017,2018,2019,2000,2001,2002,2003,2004,2005,2006,2007,2008,2009,2010,2011,2012,2013,2014,2015,2016,2017,2018,2019,2000,2001,2002,2003,2004,2005,2006,2007,2008,2009,2010,2011,2012,2013,2014,2015,2016,2017,2018,2019,2000,2001,2002,2003,2004,2005,2006,2007,2008,2009,2010,2011,2012,2013,2014,2015,2016,2017,2018,2019,1960,1961,1962,1963,1964,1965,1966,1967,1968,1969,1970,1971,1972,1973,1974,1975,1976,1977,1978,1979,1980,1981,1982,1983,1984,1985,1986,1987,1988,1989,1990,1991,1992,1993,1994,1995,1996,1997,1998,1999,2000,2001,2002,2003,2004,2005,2006,2007,2008,2009,2010,2011,2012,2013,2014,2015,2016,2017,2018,2019,2020,1960,1961,1962,1963,1964,1965,1966,1967,1968,1969,1970,1971,1972,1973,1974,1975,1976,1977,1978,1979,1980,1981,1982,1983,1984,1985,1986,1987,1988,1989,1990,1991,1992,1993,1994,1995,1996,1997,1998,1999,2000,2001,2002,2003,2004,2005,2006,2007,2008,2009,2010,2011,2012,2013,2014,2015,2016,2017,2018,2019,2020,1960,1961,1962,1963,1964,1965,1966,1967,1968,1969,1970,1971,1972,1973,1974,1975,1976,1977,1978,1979,1980,1981,1982,1983,1984,1985,1986,1987,1988,1989,1990,1991,1992,1993,1994,1995,1996,1997,1998,1999,2000,2001,2002,2003,2004,2005,2006,2007,2008,2009,2010,2011,2012,2013,2014,2015,2016,2017,2018,2019,2020,1960,1961,1962,1963,1964,1965,1966,1967,1968,1969,1970,1971,1972,1973,1974,1975,1976,1977,1978,1979,1980,1981,1982,1983,1984,1985,1986,1987,1988,1989,1990,1991,1992,1993,1994,1995,1996,1997,1998,1999,2000,2001,2002,2003,2004,2005,2006,2007,2008,2009,2010,2011,2012,2013,2014,2015,2016,2017,2018,2019,2020,1960,1961,1962,1963,1964,1965,1966,1967,1968,1969,1970,1971,1972,1973,1974,1975,1976,1977,1978,1979,1980,1981,1982,1983,1984,1985,1986,1987,1988,1989,1990,1991,1992,1993,1994,1995,1996,1997,1998,1999,2000,2001,2002,2003,2004,2005,2006,2007,2008,2009,2010,2011,2012,2013,2014,2015,2016,2017,2018,2019,2020,1960,1961,1962,1963,1964,1965,1966,1967,1968,1969,1970,1971,1972,1973,1974,1975,1976,1977,1978,1979,1980,1981,1982,1983,1984,1985,1986,1987,1988,1989,1990,1991,1992,1993,1994,1995,1996,1997,1998,1999,2000,2001,2002,2003,2004,2005,2006,2007,2008,2009,2010,2011,2012,2013,2014,2015,2016,2017,2018,2019,2020,1960,1961,1962,1963,1964,1965,1966,1967,1968,1969,1970,1971,1972,1973,1974,1975,1976,1977,1978,1979,1980,1981,1982,1983,1984,1985,1986,1987,1988,1989,1990,1991,1992,1993,1994,1995,1996,1997,1998,1999,2000,2001,2002,2003,2004,2005,2006,2007,2008,2009,2010,2011,2012,2013,2014,2015,2016,2017,2018,2019,2020,1960,1961,1962,1963,1964,1965,1966,1967,1968,1969,1970,1971,1972,1973,1974,1975,1976,1977,1978,1979,1980,1981,1982,1983,1984,1985,1986,1987,1988,1989,1990,1991,1992,1993,1994,1995,1996,1997,1998,1999,2000,2001,2002,2003,2004,2005,2006,2007,2008,2009,2010,2011,2012,2013,2014,2015,2016,2017,2018,2019,2020,1960,1961,1962,1963,1964,1965,1966,1967,1968,1969,1970,1971,1972,1973,1974,1975,1976,1977,1978,1979,1980,1981,1982,1983,1984,1985,1986,1987,1988,1989,1990,1991,1992,1993,1994,1995,1996,1997,1998,1999,2000,2001,2002,2003,2004,2005,2006,2007,2008,2009,2010,2011,2012,2013,2014,2015,2016,2017,2018,2019,2020,1960,1961,1962,1963,1964,1965,1966,1967,1968,1969,1970,1971,1972,1973,1974,1975,1976,1977,1978,1979,1980,1981,1982,1983,1984,1985,1986,1987,1988,1989,1990,1991,1992,1993,1994,1995,1996,1997,1998,1999,2000,2001,2002,2003,2004,2005,2006,2007,2008,2009,2010,2011,2012,2013,2014,2015,2016,2017,2018,2019,2020,1960,1961,1962,1963,1964,1965,1966,1967,1968,1969,1970,1971,1972,1973,1974,1975,1976,1977,1978,1979,1980,1981,1982,1983,1984,1985,1986,1987,1988,1989,1990,1991,1992,1993,1994,1995,1996,1997,1998,1999,2000,2001,2002,2003,2004,2005,2006,2007,2008,2009,2010,2011,2012,2013,2014,2015,2016,2017,2018,2019,2020,2021,1960,1961,1962,1963,1964,1965,1966,1967,1968,1969,1970,1971,1972,1973,1974,1975,1976,1977,1978,1979,1980,1981,1982,1983,1984,1985,1986,1987,1988,1989,1990,1991,1992,1993,1994,1995,1996,1997,1998,1999,2000,2001,2002,2003,2004,2005,2006,2007,2008,2009,2010,2011,2012,2013,2014,2015,2016,2017,2018,2019,2020,2021,1960,1961,1962,1963,1964,1965,1966,1967,1968,1969,1970,1971,1972,1973,1974,1975,1976,1977,1978,1979,1980,1981,1982,1983,1984,1985,1986,1987,1988,1989,1990,1991,1992,1993,1994,1995,1996,1997,1998,1999,2000,2001,2002,2003,2004,2005,2006,2007,2008,2009,2010,2011,2012,2013,2014,2015,2016,2017,2018,2019,2020,2021,1960,1961,1962,1963,1964,1965,1966,1967,1968,1969,1970,1971,1972,1973,1974,1975,1976,1977,1978,1979,1980,1981,1982,1983,1984,1985,1986,1987,1988,1989,1990,1991,1992,1993,1994,1995,1996,1997,1998,1999,2000,2001,2002,2003,2004,2005,2006,2007,2008,2009,2010,2011,2012,2013,2014,2015,2016,2017,2018,2019,2020,2021,1960,1961,1962,1963,1964,1965,1966,1967,1968,1969,1970,1971,1972,1973,1974,1975,1976,1977,1978,1979,1980,1981,1982,1983,1984,1985,1986,1987,1988,1989,1990,1991,1992,1993,1994,1995,1996,1997,1998,1999,2000,2001,2002,2003,2004,2005,2006,2007,2008,2009,2010,2011,2012,2013,2014,2015,2016,2017,2018,2019,2020,2021,1960,1961,1962,1963,1964,1965,1966,1967,1968,1969,1970,1971,1972,1973,1974,1975,1976,1977,1978,1979,1980,1981,1982,1983,1984,1985,1986,1987,1988,1989,1990,1991,1992,1993,1994,1995,1996,1997,1998,1999,2000,2001,2002,2003,2004,2005,2006,2007,2008,2009,2010,2011,2012,2013,2014,2015,2016,2017,2018,2019,2020,2021,1960,1961,1962,1963,1964,1965,1966,1967,1968,1969,1970,1971,1972,1973,1974,1975,1976,1977,1978,1979,1980,1981,1982,1983,1984,1985,1986,1987,1988,1989,1990,1991,1992,1993,1994,1995,1996,1997,1998,1999,2000,2001,2002,2003,2004,2005,2006,2007,2008,2009,2010,2011,2012,2013,2014,2015,2016,2017,2018,2019,2020,2021,1960,1961,1962,1963,1964,1965,1966,1967,1968,1969,1970,1971,1972,1973,1974,1975,1976,1977,1978,1979,1980,1981,1982,1983,1984,1985,1986,1987,1988,1989,1990,1991,1992,1993,1994,1995,1996,1997,1998,1999,2000,2001,2002,2003,2004,2005,2006,2007,2008,2009,2010,2011,2012,2013,2014,2015,2016,2017,2018,2019,2020,2021,1960,1961,1962,1963,1964,1965,1966,1967,1968,1969,1970,1971,1972,1973,1974,1975,1976,1977,1978,1979,1980,1981,1982,1983,1984,1985,1986,1987,1988,1989,1990,1991,1992,1993,1994,1995,1996,1997,1998,1999,2000,2001,2002,2003,2004,2005,2006,2007,2008,2009,2010,2011,2012,2013,2014,2015,2016,2017,2018,2019,2020,2021,1960,1961,1962,1963,1964,1965,1966,1967,1968,1969,1970,1971,1972,1973,1974,1975,1976,1977,1978,1979,1980,1981,1982,1983,1984,1985,1986,1987,1988,1989,1990,1991,1992,1993,1994,1995,1996,1997,1998,1999,2000,2001,2002,2003,2004,2005,2006,2007,2008,2009,2010,2011,2012,2013,2014,2015,2016,2017,2018,2019,2020,2021],\"xaxis\":\"x\",\"y\":[2549.7089413659,1909.2908100023,1823.4765337269,2057.6614945094,2290.1099123031,2666.0423648515,2980.3746169499,2717.6443480695,3021.0415773634,3471.6615089092,3860.8046270585,4299.5464929377,4661.4026953279,5000.0493630563,5427.7326624112,5865.3019037984,6566.5728279465,7283.3426381201,8228.3480411134,8813.0294608029,9628.7219617783,10207.7675731705,10526.2591833761,10570.963733047,11259.2675137674,11658.9055171112,12078.8431361844,12770.9642910053,13498.138167156,13999.4239709594,13632.1865366302,15646.0415226344,4760.6906676401,5118.7135664836,5290.6402470586,5869.9443499725,6018.9781251813,6228.3766979534,6273.4858738346,6247.1564653456,6110.9551671102,6205.3808376883,6348.6259163047,6529.7520410918,6718.4139210265,7058.6881257516,7302.1314587575,7556.876309787,7973.9456988334,8265.2576598562,8314.4328290904,7964.1274038119,7901.0655137177,8159.8761649991,8187.1936736495,8442.983667431,8545.1028366997,8792.0569569469,9194.1567392958,9600.1047458039,9967.4292082816,10189.6402034705,9240.8218693355,10025.9047946926,664.9753556007,732.2306317258,687.8653866362,770.4793594368,703.7862305664,830.3365984954,891.2571052577,918.8132743892,939.0523151298,953.9572147185,964.7755527137,914.2061780908,921.5333256896,969.6205427474,1023.8805068449,1062.5112557202,1116.0370192014,1221.5724028332,1302.426002273,1379.7087332666,1450.0429060451,1508.1921321854,1467.1381810444,1572.8334715827,1530.9307535586,1445.7351122681,1454.3589410421,1472.146868477,1532.4893124326,1602.0155902244,1591.4755910705,1658.3344179254,803.3394613116,908.1035306824,877.0862694729,902.2146571033,930.9344786868,934.11563091,992.2580186853,1031.1944568109,1092.9362121586,1140.44168616,1133.2518110549,1298.3930794493,1319.1787536388,1423.0737960154,1437.7112806067,1529.4375468005,1596.6607121868,1641.396286176,1695.3362502221,1730.8330434292,1787.3575858344,1826.6475569919,1763.8402510035,1812.966220168,1915.3044715321,2032.6558718801,2189.0066217116,2246.7974208448,2338.260312264,2419.6886887307,2347.7966744097,2447.324282737,9019.4047240057,9644.3427799366,10220.8600376072,10823.3156794264,11570.4157254909,12475.0043770176,13076.1188344186,13820.1671703545,14470.5479472483,15110.4943411224,18355.4967894141,18510.598452046,19599.9414329873,20929.3954917416,21545.4251923105,22306.6228714756,23320.9598431822,25059.1377146874,26523.5326924729,26649.6041313751,28722.7021856242,28973.2708577894,30243.8413140141,32295.8473400221,34344.0217879777,37455.20487447,39705.8987211412,43559.3161796569,45568.7232072745,47407.8807867595,43243.1726484364,47714.4521686333,2636.1170653107,2702.8254560556,2744.2923331648,2898.7355431312,2797.5123963511,3057.8628585947,3212.7378347249,3057.776020078,3098.3237994733,3174.274260672,3037.6150448416,2998.9113251932,3003.5973361006,3184.4641336723,3329.0514804342,3622.8533473332,4294.7586447175,4201.6264035443,4146.6762775282,4057.7201586402,4092.5273956072,4225.5712615653,4262.0636970187,4481.2518423715,4295.0514887793,4200.152563267,4700.1062623827,5108.5491322044,5317.4642936397,5569.5391631676,5389.6464884458,5591.8347398643,4941.0829125595,5277.4720924856,5674.129274286,6031.8873580202,6326.3133989354,6678.237494527,7107.4504866918,7546.1399436801,8009.7677875247,8229.4364113629,9017.1688121689,9453.9885064862,9688.8874099592,10390.0858004714,11061.3835055747,11542.4897957406,12419.5163118407,13424.3559647131,14366.8120865552,14898.6064262422,15700.2430569091,16653.2438040789,16963.5112414049,17866.3068173779,18488.0467911726,19229.8354887211,20701.2189720364,21415.1161096211,22738.6929559433,23834.9650016217,20528.8336499786,22240.1349561848,8084.5007412053,8562.7211724764,8938.9941611154,8558.5481799674,9017.4512532281,8485.5069743409,9079.1768953837,9715.4024281218,10176.6354219884,10448.8243676125,11089.4899949864,11136.0219119709,11187.4769618308,11488.2956282873,12090.9912069056,12657.6376721808,13812.9013959234,14297.2213852569,14924.8216140502,14547.6445830778,15255.019052785,16520.2592224915,17162.9273706838,17373.8974567258,18056.7898061476,18301.5004690469,19323.6658689896,19721.2609759241,20096.1566534339,19862.5631976218,18670.8104030112,20036.4553884275,1768.8092620745,1915.2234902733,1984.9930955846,2144.2746052965,2134.6178707329,2299.6095614627,2250.9491890886,2147.7716149272,2239.3692237745,2311.4747488075,2486.5065855001,2603.3343020245,2661.9220788269,2760.3560556629,2754.3123390395,2912.040925811,3021.1229639492,3072.9765295188,3082.8411481481,3154.1212542575,3265.8919757733,3422.3558457739,3386.6534315248,3274.7775280248,3212.9246280668,3350.093289529,3372.9598287009,3489.7075942914,3543.1611716368,3611.3639494407,3552.5960366764,3544.2246426392,3342.8942101756,3107.4405734087,2851.1823518526,2801.6728988353,2900.4317039832,3126.0266737818,3228.3467323175,3383.978750407,3506.4527086521,3633.3321587527,3725.0144267475,3885.4621465129,4092.749696234,4419.7289171067,4965.0272417369,5426.8692010023,5996.0279391979,6697.633820401,7326.0824488754,7165.4443045308,7582.3777752191,8912.8733914244,10227.5302746287,10549.892056039,11056.2985279189,10648.2739820507,10737.4861306932,11366.3039371032,12316.0010702258,13013.047241843,12365.9384827552,12862.746927421,4.9,4.5,4.6,4.8,4.8,7.5,7.8,8.1,8.2,8.1,7.8,7.9,5.2,5.3,5.0,4.8,4.7,4.7,4.5,4.3,1.9,1.9,1.8,1.7000000000000002,1.6,1.5,1.5,1.8,2.2,2.3,1.9,2.2,2.1,2.0,2.2,2.2,2.2,2.3,2.3,2.4,10.8,9.8,8.8,8.2,7.8,7.2,7.5,7.8,7.6,8.0,8.2,7.3,6.8,6.4,6.3,6.2,6.1,5.9,5.6,5.4,4.8,4.7,4.7,4.6,4.5,4.6,4.5,4.6,4.6,4.6,4.5,4.5,4.5,4.5,4.4,4.3,4.2,4.1,4.1,4.1,6.8,7.2,5.7,5.4,5.9,5.6,6.8,5.5,6.4,6.9,7.5,6.8,6.0,6.8,7.1,7.2,5.8,5.5,6.0,6.1,3.5,3.4,3.4,3.3,3.3,3.2,3.2,3.2,3.1,3.1,3.1,3.0,3.1,3.1,3.1,3.0,3.0,3.1,3.1,3.1,11.8,10.1,11.3,7.7,8.2,9.0,9.2,10.3,6.7,9.1,7.8,9.0,9.6,8.2,10.2,7.9,8.1,9.6,8.7,9.5,3.5,3.8,3.9,4.0,4.0,4.1,4.0,4.1,4.4,4.6,4.5,5.2,4.9,5.2,5.7,5.6,5.6,5.9,5.4,5.3,24.0,23.4,22.5,22.8,23.8,24.6,24.6,24.4,24.5,24.5,24.5,25.2,25.5,25.6,25.8,27.0,27.0,27.7,28.2,28.2,22.0,22.3,21.7,23.1,23.7,24.0,23.7,23.6,23.8,23.6,23.4,22.7,21.7,21.0,20.0,20.0,20.1,19.2,18.6,17.9,62.283,63.301,64.19,64.914,65.463,65.85,66.11,66.304,66.487,66.689,66.935,67.237,67.582,67.953,68.343,68.736,69.11,69.448,69.742,69.991,70.208,70.416,70.635,70.876,71.134,71.388,71.605,71.76,71.843,71.86,71.836,71.803,71.802,71.86,71.992,72.205,72.495,72.838,73.208,73.587,73.955,74.288,74.579,74.828,75.039,75.228,75.423,75.646,75.912,76.221,76.562,76.914,77.252,77.554,77.813,78.025,78.194,78.333,78.458,78.573,78.686,64.77,65.133,65.465,65.784,66.1,66.42,66.74,67.051,67.349,67.636,67.917,68.2,68.491,68.791,69.099,69.41,69.718,70.015,70.294,70.553,70.793,71.012,71.217,71.416,71.614,71.823,72.056,72.317,72.601,72.903,73.204,73.485,73.727,73.918,74.053,74.133,74.167,74.172,74.164,74.152,74.142,74.139,74.14,74.142,74.146,74.148,74.143,74.129,74.103,74.071,74.038,74.012,74.001,74.01,74.042,74.098,74.175,74.267,74.368,74.475,74.586,36.672,36.934,37.183,37.421,37.655,37.899,38.174,38.494,38.866,39.289,39.756,40.254,40.762,41.262,41.744,42.206,42.649,43.082,43.504,43.912,44.296,44.646,44.954,45.216,45.432,45.606,45.746,45.86,45.957,46.038,46.096,46.121,46.108,46.055,45.969,45.846,45.677,45.479,45.285,45.136,45.09,45.204,45.517,46.052,46.823,47.844,49.118,50.595,52.206,53.888,55.564,57.161,58.629,59.931,61.042,61.953,62.681,63.279,63.798,64.263,64.694,28.199,28.345,28.535,28.782,29.097,29.489,29.959,30.496,31.086,31.72,32.388,33.078,33.782,34.493,35.205,35.921,36.645,37.385,38.142,38.909,39.677,40.435,41.173,41.879,42.545,43.17,43.759,44.315,44.838,45.323,45.746,46.076,46.305,46.445,46.52,46.573,46.658,46.823,47.103,47.515,48.069,48.758,49.54,50.373,51.224,52.057,52.839,53.553,54.193,54.756,55.251,55.701,56.135,56.578,57.036,57.509,57.987,58.452,58.893,59.306,59.692,69.4332439024,69.6143902439,69.7706585366,69.9199512195,70.0757317073,70.2479268293,70.4410487805,70.6480731707,70.8630487805,71.0829512195,71.3052926829,71.5225365854,71.7312439024,71.9274390244,72.111195122,72.281097561,72.4367804878,72.583804878,72.7321219512,72.891195122,73.0778536585,73.310902439,73.5981463415,73.94,74.3309756098,74.7581463415,75.204195122,75.6448292683,76.0626585366,76.4452682927,76.7860731707,77.0844634146,77.350804878,77.5934878049,77.8175365854,77.2902439024,77.3414634146,77.7390243902,77.587804878,77.5,78.3487804878,78.843902439,78.7390243902,78.5463414634,79.2536585366,79.3,79.4390243902,79.7926829268,79.6365853659,80.2414634146,81.3975609756,80.7463414634,80.7463414634,81.7463414634,82.0463414634,81.8975609756,82.4536585366,82.3463414634,82.4487804878,82.8585365854,82.6536585366,44.432,45.132,45.834,46.531,47.214,47.868,48.476,49.032,49.536,49.99,50.404,50.788,51.16,51.539,51.935,52.358,52.817,53.306,53.82,54.357,54.913,55.486,56.066,56.643,57.204,57.735,58.226,58.671,59.065,59.405,59.688,59.914,60.092,60.231,60.341,60.426,60.493,60.545,60.593,60.643,60.706,60.788,60.892,61.018,61.17,61.349,61.552,61.776,62.015,62.266,62.527,62.799,63.079,63.366,63.654,63.936,64.208,64.464,64.704,64.925,65.129,58.7452195122,59.7483658537,60.626902439,61.3576585366,61.9349512195,62.3582926829,62.6387073171,62.8153170732,62.9316829268,63.020195122,63.1180487805,63.2533414634,63.4399512195,63.6855365854,63.9999756098,64.3905365854,64.8556341463,65.3724390244,65.9133170732,66.4557804878,66.9653902439,67.4073902439,67.7653658537,68.0376097561,68.2303658537,68.3706829268,68.4993658537,68.6555121951,68.8630243902,69.1240243902,69.4048780488,69.956097561,70.0585365854,70.1073170732,70.1585365854,70.3258536585,70.3229268293,70.4048780488,70.6073170732,70.9609756098,71.6634146341,71.7658536585,71.9658536585,72.1170731707,72.2658536585,72.432195122,72.432195122,72.5707317073,72.5707317073,72.8824390244,72.9673170732,73.2668292683,73.8634146341,74.0170731707,74.1943902439,74.3531707317,74.3948780488,74.5146341463,74.4163414634,74.2358536585,74.1770731707,57.077,57.668,58.193,58.656,59.069,59.447,59.807,60.165,60.536,60.932,61.362,61.829,62.327,62.845,63.378,63.922,64.467,65.009,65.54,66.055,66.553,67.031,67.493,67.942,68.38,68.809,69.232,69.649,70.062,70.469,70.866,71.248,71.61,71.953,72.279,72.598,72.925,73.268,73.625,73.988,74.34,74.658,74.922,75.118,75.243,75.3,75.296,75.255,75.194,75.128,75.065,75.011,74.966,74.93,74.908,74.904,74.917,74.947,74.992,75.054,75.131,54.513,54.954,55.396,55.838,56.279,56.717,57.153,57.585,58.012,58.434,58.851,59.265,59.675,60.079,60.473,60.85,61.206,61.535,61.834,62.1,62.331,62.528,62.693,62.834,62.955,63.064,63.169,63.273,63.38,63.492,63.605,63.715,63.814,63.901,63.978,64.049,64.121,64.202,64.298,64.413,64.55,64.71,64.888,65.08,65.282,65.489,65.697,65.901,66.099,66.29,66.471,66.646,66.817,66.986,67.152,67.315,67.471,67.618,67.755,67.883,68.002,48.392,49.304,50.185,51.012,51.771,52.461,53.098,53.702,54.285,54.845,55.364,55.819,56.192,56.477,56.676,56.796,56.848,56.86,56.861,56.875,56.936,57.074,57.295,57.595,57.968,58.392,58.836,59.266,59.655,59.992,60.268,60.486,60.67,60.841,61.015,61.211,61.447,61.73,62.063,62.446,62.869,63.319,63.777,64.23,64.671,65.103,65.538,65.985,66.447,66.916,67.38,67.818,68.217,68.566,68.863,69.111,69.321,69.509,69.689,69.87,70.056,1608800.0,1659800.0,1711319.0,1762621.0,1814135.0,1864791.0,1914573.0,1965598.0,2022272.0,2081695.0,2135479.0,2187853.0,2243126.0,2296752.0,2350124.0,2404831.0,2458526.0,2513546.0,2566266.0,2617832.0,2671997.0,2726056.0,2784278.0,2843960.0,2904429.0,2964762.0,3022635.0,3083605.0,3142336.0,3227943.0,3286542.0,3266790.0,3247039.0,3227287.0,3207536.0,3187784.0,3168033.0,3148281.0,3128530.0,3108778.0,3089027.0,3060173.0,3051010.0,3039616.0,3026939.0,3011487.0,2992547.0,2970017.0,2947314.0,2927519.0,2913021.0,2905195.0,2900401.0,2895092.0,2889104.0,2880703.0,2876101.0,2873457.0,2866376.0,2854191.0,2837849.0,2811666.0,1628524.0,1651067.0,1676500.0,1703660.0,1730739.0,1756508.0,1780522.0,1803324.0,1825873.0,1849658.0,1875637.0,1904281.0,1935089.0,1966978.0,1998313.0,2028019.0,2055371.0,2080824.0,2105903.0,2132784.0,2162839.0,2196921.0,2234062.0,2271735.0,2306367.0,2335510.0,2358165.0,2375400.0,2389415.0,2403464.0,2419901.0,2439329.0,2461047.0,2484583.0,2509042.0,2533705.0,2558631.0,2583914.0,2608874.0,2632677.0,2654698.0,2674706.0,2692843.0,2709438.0,2725017.0,2740000.0,2754414.0,2768229.0,2781869.0,2795839.0,2810464.0,2825932.0,2842128.0,2858710.0,2875137.0,2891024.0,2906242.0,2920848.0,2934853.0,2948277.0,2961161.0,2973462.0,3659980.0,3747758.0,3839047.0,3933914.0,4032364.0,4134464.0,4240430.0,4350456.0,4464427.0,4582197.0,4703783.0,4829092.0,4958556.0,5093368.0,5235074.0,5384798.0,5545653.0,5717954.0,5896864.0,6075485.0,6250434.0,6412380.0,6565985.0,6737924.0,6964613.0,7268271.0,7666390.0,8141140.0,8636686.0,9075568.0,9404499.0,9600361.0,9685974.0,9710335.0,9745695.0,9844418.0,10022783.0,10264906.0,10552345.0,10854325.0,11148751.0,11432001.0,11713663.0,12000183.0,12301837.0,12625950.0,12973693.0,13341808.0,13727899.0,14128161.0,14539609.0,14962118.0,15396010.0,15839287.0,16289550.0,16745305.0,17205253.0,17670193.0,18143215.0,18628749.0,19129955.0,19647681.0,5263727.0,5322269.0,5381367.0,5441618.0,5503750.0,5568495.0,5635864.0,5706192.0,5780836.0,5861417.0,5949042.0,6044524.0,6147464.0,6256191.0,6368346.0,6482282.0,6596721.0,6712267.0,6831090.0,6956409.0,7090124.0,7234725.0,7388670.0,7545163.0,7694857.0,7831888.0,7952863.0,8062216.0,8171525.0,8296919.0,8449915.0,8635528.0,8850334.0,9087173.0,9334893.0,9585660.0,9837575.0,10094363.0,10360564.0,10642937.0,10946448.0,11271603.0,11616890.0,11982692.0,12369078.0,12775509.0,13203378.0,13651455.0,14113578.0,14581427.0,15049352.0,15514593.0,15979492.0,16449854.0,16934213.0,17438772.0,17965448.0,18512429.0,19077755.0,19658023.0,20250834.0,20855724.0,326550.0,325250.0,323900.0,322550.0,321250.0,318800.0,315200.0,311550.0,307900.0,304300.0,302650.0,302700.0,302450.0,302200.0,301996.0,304222.0,305774.0,306970.0,310182.0,313342.0,316645.0,318982.0,325898.0,330524.0,330593.0,336452.0,342121.0,344485.0,347325.0,350722.0,354170.0,363845.0,367618.0,371308.0,374797.0,377419.0,379905.0,382791.0,385287.0,387578.0,390087.0,393028.0,395969.0,398582.0,401268.0,403834.0,405308.0,406724.0,409379.0,412477.0,414508.0,416268.0,420028.0,425967.0,434558.0,445053.0,455356.0,467999.0,484630.0,504062.0,515332.0,516869.0,850377.0,875586.0,901690.0,928742.0,956794.0,985907.0,1016093.0,1047345.0,1079580.0,1112749.0,1146776.0,1181659.0,1217443.0,1254156.0,1291857.0,1330594.0,1370364.0,1411139.0,1453028.0,1496174.0,1540644.0,1586496.0,1633655.0,1681859.0,1730737.0,1780033.0,1829678.0,1879756.0,1930427.0,1981902.0,2034347.0,2087914.0,2142645.0,2198538.0,2255520.0,2313630.0,2372900.0,2433567.0,2496217.0,2561584.0,2630217.0,2702405.0,2778097.0,2857150.0,2939246.0,3024198.0,3111908.0,3202512.0,3296237.0,3393408.0,3494200.0,3598646.0,3706555.0,3817497.0,3930894.0,4046304.0,4163532.0,4282582.0,4403312.0,4525698.0,4649660.0,4775110.0,659351.0,680757.0,700349.0,718861.0,736381.0,753000.0,768813.0,783917.0,798413.0,812405.0,826000.0,839230.0,852053.0,864819.0,878042.0,892000.0,906507.0,921379.0,933499.0,949888.0,966039.0,980462.0,992521.0,1001691.0,1012221.0,1020528.0,1028360.0,1036082.0,1043239.0,1051260.0,1058775.0,1070266.0,1084441.0,1097374.0,1112846.0,1122457.0,1133996.0,1148284.0,1160421.0,1175267.0,1186873.0,1196287.0,1204621.0,1213370.0,1221003.0,1228254.0,1233996.0,1239630.0,1244121.0,1247429.0,1250400.0,1252404.0,1255882.0,1258653.0,1260934.0,1262605.0,1263473.0,1264613.0,1265303.0,1265711.0,1265740.0,1266060.0,37771861.0,38966049.0,40195318.0,41462373.0,42771077.0,44123863.0,45519746.0,46956208.0,48431971.0,49945278.0,51493565.0,53076366.0,54689944.0,56324310.0,57966812.0,59607947.0,61242189.0,62869908.0,64494872.0,66123908.0,67761367.0,69407623.0,71058650.0,72709306.0,74352631.0,75983486.0,77599105.0,79200081.0,80788725.0,82368930.0,83943135.0,85512621.0,87075136.0,88625440.0,90156396.0,91663290.0,93147045.0,94611008.0,96056313.0,97484823.0,98899845.0,100298152.0,101684764.0,103081020.0,104514934.0,106005199.0,107560155.0,109170503.0,110815272.0,112463886.0,114092961.0,115695468.0,117274156.0,118827158.0,120355137.0,121858251.0,123333379.0,124777326.0,126190782.0,127575529.0,128932753.0,130262220.0,44510.0,45939.0,47372.0,48856.0,50476.0,52224.0,54192.0,56308.0,58386.0,60146.0,61415.0,62089.0,62275.0,62268.0,62456.0,63122.0,64360.0,66079.0,68196.0,70515.0,72936.0,75422.0,78015.0,80630.0,83192.0,85641.0,87904.0,89985.0,91984.0,94062.0,96304.0,98779.0,101386.0,103901.0,106030.0,107535.0,108311.0,108473.0,108206.0,107769.0,107405.0,107170.0,107027.0,106902.0,106624.0,106135.0,105374.0,104442.0,103549.0,102971.0,102916.0,103448.0,104506.0,105922.0,107444.0,108886.0,110215.0,111461.0,112640.0,113811.0,115021.0,116255.0,955514.0,982181.0,1011327.0,1042387.0,1074518.0,1107121.0,1139962.0,1173186.0,1207104.0,1242213.0,1278819.0,1317042.0,1356673.0,1397305.0,1438421.0,1479646.0,1520868.0,1562207.0,1603910.0,1646290.0,1689622.0,1733475.0,1777727.0,1823214.0,1871089.0,1921889.0,1976313.0,2033351.0,2089709.0,2141005.0,2184139.0,2217918.0,2243495.0,2263196.0,2280475.0,2298017.0,2316571.0,2335744.0,2355667.0,2376228.0,2397417.0,2419594.0,2443261.0,2468765.0,2496394.0,2526429.0,2558854.0,2593819.0,2631899.0,2673794.0,2719902.0,2770357.0,2824698.0,2881783.0,2940111.0,2998433.0,3056358.0,3113788.0,3170214.0,3225166.0,3278292.0,3329282.0],\"yaxis\":\"y\",\"type\":\"bar\"}],                        {\"template\":{\"data\":{\"bar\":[{\"error_x\":{\"color\":\"#2a3f5f\"},\"error_y\":{\"color\":\"#2a3f5f\"},\"marker\":{\"line\":{\"color\":\"#E5ECF6\",\"width\":0.5},\"pattern\":{\"fillmode\":\"overlay\",\"size\":10,\"solidity\":0.2}},\"type\":\"bar\"}],\"barpolar\":[{\"marker\":{\"line\":{\"color\":\"#E5ECF6\",\"width\":0.5},\"pattern\":{\"fillmode\":\"overlay\",\"size\":10,\"solidity\":0.2}},\"type\":\"barpolar\"}],\"carpet\":[{\"aaxis\":{\"endlinecolor\":\"#2a3f5f\",\"gridcolor\":\"white\",\"linecolor\":\"white\",\"minorgridcolor\":\"white\",\"startlinecolor\":\"#2a3f5f\"},\"baxis\":{\"endlinecolor\":\"#2a3f5f\",\"gridcolor\":\"white\",\"linecolor\":\"white\",\"minorgridcolor\":\"white\",\"startlinecolor\":\"#2a3f5f\"},\"type\":\"carpet\"}],\"choropleth\":[{\"colorbar\":{\"outlinewidth\":0,\"ticks\":\"\"},\"type\":\"choropleth\"}],\"contour\":[{\"colorbar\":{\"outlinewidth\":0,\"ticks\":\"\"},\"colorscale\":[[0.0,\"#0d0887\"],[0.1111111111111111,\"#46039f\"],[0.2222222222222222,\"#7201a8\"],[0.3333333333333333,\"#9c179e\"],[0.4444444444444444,\"#bd3786\"],[0.5555555555555556,\"#d8576b\"],[0.6666666666666666,\"#ed7953\"],[0.7777777777777778,\"#fb9f3a\"],[0.8888888888888888,\"#fdca26\"],[1.0,\"#f0f921\"]],\"type\":\"contour\"}],\"contourcarpet\":[{\"colorbar\":{\"outlinewidth\":0,\"ticks\":\"\"},\"type\":\"contourcarpet\"}],\"heatmap\":[{\"colorbar\":{\"outlinewidth\":0,\"ticks\":\"\"},\"colorscale\":[[0.0,\"#0d0887\"],[0.1111111111111111,\"#46039f\"],[0.2222222222222222,\"#7201a8\"],[0.3333333333333333,\"#9c179e\"],[0.4444444444444444,\"#bd3786\"],[0.5555555555555556,\"#d8576b\"],[0.6666666666666666,\"#ed7953\"],[0.7777777777777778,\"#fb9f3a\"],[0.8888888888888888,\"#fdca26\"],[1.0,\"#f0f921\"]],\"type\":\"heatmap\"}],\"heatmapgl\":[{\"colorbar\":{\"outlinewidth\":0,\"ticks\":\"\"},\"colorscale\":[[0.0,\"#0d0887\"],[0.1111111111111111,\"#46039f\"],[0.2222222222222222,\"#7201a8\"],[0.3333333333333333,\"#9c179e\"],[0.4444444444444444,\"#bd3786\"],[0.5555555555555556,\"#d8576b\"],[0.6666666666666666,\"#ed7953\"],[0.7777777777777778,\"#fb9f3a\"],[0.8888888888888888,\"#fdca26\"],[1.0,\"#f0f921\"]],\"type\":\"heatmapgl\"}],\"histogram\":[{\"marker\":{\"pattern\":{\"fillmode\":\"overlay\",\"size\":10,\"solidity\":0.2}},\"type\":\"histogram\"}],\"histogram2d\":[{\"colorbar\":{\"outlinewidth\":0,\"ticks\":\"\"},\"colorscale\":[[0.0,\"#0d0887\"],[0.1111111111111111,\"#46039f\"],[0.2222222222222222,\"#7201a8\"],[0.3333333333333333,\"#9c179e\"],[0.4444444444444444,\"#bd3786\"],[0.5555555555555556,\"#d8576b\"],[0.6666666666666666,\"#ed7953\"],[0.7777777777777778,\"#fb9f3a\"],[0.8888888888888888,\"#fdca26\"],[1.0,\"#f0f921\"]],\"type\":\"histogram2d\"}],\"histogram2dcontour\":[{\"colorbar\":{\"outlinewidth\":0,\"ticks\":\"\"},\"colorscale\":[[0.0,\"#0d0887\"],[0.1111111111111111,\"#46039f\"],[0.2222222222222222,\"#7201a8\"],[0.3333333333333333,\"#9c179e\"],[0.4444444444444444,\"#bd3786\"],[0.5555555555555556,\"#d8576b\"],[0.6666666666666666,\"#ed7953\"],[0.7777777777777778,\"#fb9f3a\"],[0.8888888888888888,\"#fdca26\"],[1.0,\"#f0f921\"]],\"type\":\"histogram2dcontour\"}],\"mesh3d\":[{\"colorbar\":{\"outlinewidth\":0,\"ticks\":\"\"},\"type\":\"mesh3d\"}],\"parcoords\":[{\"line\":{\"colorbar\":{\"outlinewidth\":0,\"ticks\":\"\"}},\"type\":\"parcoords\"}],\"pie\":[{\"automargin\":true,\"type\":\"pie\"}],\"scatter\":[{\"marker\":{\"colorbar\":{\"outlinewidth\":0,\"ticks\":\"\"}},\"type\":\"scatter\"}],\"scatter3d\":[{\"line\":{\"colorbar\":{\"outlinewidth\":0,\"ticks\":\"\"}},\"marker\":{\"colorbar\":{\"outlinewidth\":0,\"ticks\":\"\"}},\"type\":\"scatter3d\"}],\"scattercarpet\":[{\"marker\":{\"colorbar\":{\"outlinewidth\":0,\"ticks\":\"\"}},\"type\":\"scattercarpet\"}],\"scattergeo\":[{\"marker\":{\"colorbar\":{\"outlinewidth\":0,\"ticks\":\"\"}},\"type\":\"scattergeo\"}],\"scattergl\":[{\"marker\":{\"colorbar\":{\"outlinewidth\":0,\"ticks\":\"\"}},\"type\":\"scattergl\"}],\"scattermapbox\":[{\"marker\":{\"colorbar\":{\"outlinewidth\":0,\"ticks\":\"\"}},\"type\":\"scattermapbox\"}],\"scatterpolar\":[{\"marker\":{\"colorbar\":{\"outlinewidth\":0,\"ticks\":\"\"}},\"type\":\"scatterpolar\"}],\"scatterpolargl\":[{\"marker\":{\"colorbar\":{\"outlinewidth\":0,\"ticks\":\"\"}},\"type\":\"scatterpolargl\"}],\"scatterternary\":[{\"marker\":{\"colorbar\":{\"outlinewidth\":0,\"ticks\":\"\"}},\"type\":\"scatterternary\"}],\"surface\":[{\"colorbar\":{\"outlinewidth\":0,\"ticks\":\"\"},\"colorscale\":[[0.0,\"#0d0887\"],[0.1111111111111111,\"#46039f\"],[0.2222222222222222,\"#7201a8\"],[0.3333333333333333,\"#9c179e\"],[0.4444444444444444,\"#bd3786\"],[0.5555555555555556,\"#d8576b\"],[0.6666666666666666,\"#ed7953\"],[0.7777777777777778,\"#fb9f3a\"],[0.8888888888888888,\"#fdca26\"],[1.0,\"#f0f921\"]],\"type\":\"surface\"}],\"table\":[{\"cells\":{\"fill\":{\"color\":\"#EBF0F8\"},\"line\":{\"color\":\"white\"}},\"header\":{\"fill\":{\"color\":\"#C8D4E3\"},\"line\":{\"color\":\"white\"}},\"type\":\"table\"}]},\"layout\":{\"annotationdefaults\":{\"arrowcolor\":\"#2a3f5f\",\"arrowhead\":0,\"arrowwidth\":1},\"autotypenumbers\":\"strict\",\"coloraxis\":{\"colorbar\":{\"outlinewidth\":0,\"ticks\":\"\"}},\"colorscale\":{\"diverging\":[[0,\"#8e0152\"],[0.1,\"#c51b7d\"],[0.2,\"#de77ae\"],[0.3,\"#f1b6da\"],[0.4,\"#fde0ef\"],[0.5,\"#f7f7f7\"],[0.6,\"#e6f5d0\"],[0.7,\"#b8e186\"],[0.8,\"#7fbc41\"],[0.9,\"#4d9221\"],[1,\"#276419\"]],\"sequential\":[[0.0,\"#0d0887\"],[0.1111111111111111,\"#46039f\"],[0.2222222222222222,\"#7201a8\"],[0.3333333333333333,\"#9c179e\"],[0.4444444444444444,\"#bd3786\"],[0.5555555555555556,\"#d8576b\"],[0.6666666666666666,\"#ed7953\"],[0.7777777777777778,\"#fb9f3a\"],[0.8888888888888888,\"#fdca26\"],[1.0,\"#f0f921\"]],\"sequentialminus\":[[0.0,\"#0d0887\"],[0.1111111111111111,\"#46039f\"],[0.2222222222222222,\"#7201a8\"],[0.3333333333333333,\"#9c179e\"],[0.4444444444444444,\"#bd3786\"],[0.5555555555555556,\"#d8576b\"],[0.6666666666666666,\"#ed7953\"],[0.7777777777777778,\"#fb9f3a\"],[0.8888888888888888,\"#fdca26\"],[1.0,\"#f0f921\"]]},\"colorway\":[\"#636efa\",\"#EF553B\",\"#00cc96\",\"#ab63fa\",\"#FFA15A\",\"#19d3f3\",\"#FF6692\",\"#B6E880\",\"#FF97FF\",\"#FECB52\"],\"font\":{\"color\":\"#2a3f5f\"},\"geo\":{\"bgcolor\":\"white\",\"lakecolor\":\"white\",\"landcolor\":\"#E5ECF6\",\"showlakes\":true,\"showland\":true,\"subunitcolor\":\"white\"},\"hoverlabel\":{\"align\":\"left\"},\"hovermode\":\"closest\",\"mapbox\":{\"style\":\"light\"},\"paper_bgcolor\":\"white\",\"plot_bgcolor\":\"#E5ECF6\",\"polar\":{\"angularaxis\":{\"gridcolor\":\"white\",\"linecolor\":\"white\",\"ticks\":\"\"},\"bgcolor\":\"#E5ECF6\",\"radialaxis\":{\"gridcolor\":\"white\",\"linecolor\":\"white\",\"ticks\":\"\"}},\"scene\":{\"xaxis\":{\"backgroundcolor\":\"#E5ECF6\",\"gridcolor\":\"white\",\"gridwidth\":2,\"linecolor\":\"white\",\"showbackground\":true,\"ticks\":\"\",\"zerolinecolor\":\"white\"},\"yaxis\":{\"backgroundcolor\":\"#E5ECF6\",\"gridcolor\":\"white\",\"gridwidth\":2,\"linecolor\":\"white\",\"showbackground\":true,\"ticks\":\"\",\"zerolinecolor\":\"white\"},\"zaxis\":{\"backgroundcolor\":\"#E5ECF6\",\"gridcolor\":\"white\",\"gridwidth\":2,\"linecolor\":\"white\",\"showbackground\":true,\"ticks\":\"\",\"zerolinecolor\":\"white\"}},\"shapedefaults\":{\"line\":{\"color\":\"#2a3f5f\"}},\"ternary\":{\"aaxis\":{\"gridcolor\":\"white\",\"linecolor\":\"white\",\"ticks\":\"\"},\"baxis\":{\"gridcolor\":\"white\",\"linecolor\":\"white\",\"ticks\":\"\"},\"bgcolor\":\"#E5ECF6\",\"caxis\":{\"gridcolor\":\"white\",\"linecolor\":\"white\",\"ticks\":\"\"}},\"title\":{\"x\":0.05},\"xaxis\":{\"automargin\":true,\"gridcolor\":\"white\",\"linecolor\":\"white\",\"ticks\":\"\",\"title\":{\"standoff\":15},\"zerolinecolor\":\"white\",\"zerolinewidth\":2},\"yaxis\":{\"automargin\":true,\"gridcolor\":\"white\",\"linecolor\":\"white\",\"ticks\":\"\",\"title\":{\"standoff\":15},\"zerolinecolor\":\"white\",\"zerolinewidth\":2}}},\"xaxis\":{\"anchor\":\"y\",\"domain\":[0.0,1.0],\"title\":{\"text\":\"Year\"}},\"yaxis\":{\"anchor\":\"x\",\"domain\":[0.0,1.0],\"title\":{\"text\":\"value\"}},\"legend\":{\"tracegroupgap\":0},\"title\":{\"text\":\"DISTRIBUTION YEARLY IN BAR GRAPH\"},\"barmode\":\"relative\",\"height\":500,\"width\":1000},                        {\"responsive\": true}                    ).then(function(){\n",
              "                            \n",
              "var gd = document.getElementById('8ca61545-fba4-4549-9950-adeb5dda7219');\n",
              "var x = new MutationObserver(function (mutations, observer) {{\n",
              "        var display = window.getComputedStyle(gd).display;\n",
              "        if (!display || display === 'none') {{\n",
              "            console.log([gd, 'removed!']);\n",
              "            Plotly.purge(gd);\n",
              "            observer.disconnect();\n",
              "        }}\n",
              "}});\n",
              "\n",
              "// Listen for the removal of the full notebook cells\n",
              "var notebookContainer = gd.closest('#notebook-container');\n",
              "if (notebookContainer) {{\n",
              "    x.observe(notebookContainer, {childList: true});\n",
              "}}\n",
              "\n",
              "// Listen for the clearing of the current output cell\n",
              "var outputEl = gd.closest('.output');\n",
              "if (outputEl) {{\n",
              "    x.observe(outputEl, {childList: true});\n",
              "}}\n",
              "\n",
              "                        })                };                            </script>        </div>\n",
              "</body>\n",
              "</html>"
            ]
          },
          "metadata": {}
        }
      ]
    },
    {
      "cell_type": "code",
      "source": [
        "data['indicator'].value_counts()"
      ],
      "metadata": {
        "colab": {
          "base_uri": "https://localhost:8080/"
        },
        "id": "7SpcpPD4jqS0",
        "outputId": "78054ee0-e151-4142-a00d-270cf220513a"
      },
      "execution_count": null,
      "outputs": [
        {
          "output_type": "execute_result",
          "data": {
            "text/plain": [
              "Population         620\n",
              "life expectancy    610\n",
              "GDP per capita     320\n",
              "suiside rate       200\n",
              "Name: indicator, dtype: int64"
            ]
          },
          "metadata": {},
          "execution_count": 444
        }
      ]
    },
    {
      "cell_type": "code",
      "source": [
        "fig = px.pie(data, values='value', names='Country Name', title='YEARS', width = 500 , height = 500)\n",
        "fig.show()"
      ],
      "metadata": {
        "colab": {
          "base_uri": "https://localhost:8080/",
          "height": 517
        },
        "id": "mnoFumQwjOl8",
        "outputId": "048e8151-9054-4465-c7c6-d86a527391a8"
      },
      "execution_count": null,
      "outputs": [
        {
          "output_type": "display_data",
          "data": {
            "text/html": [
              "<html>\n",
              "<head><meta charset=\"utf-8\" /></head>\n",
              "<body>\n",
              "    <div>            <script src=\"https://cdnjs.cloudflare.com/ajax/libs/mathjax/2.7.5/MathJax.js?config=TeX-AMS-MML_SVG\"></script><script type=\"text/javascript\">if (window.MathJax) {MathJax.Hub.Config({SVG: {font: \"STIX-Web\"}});}</script>                <script type=\"text/javascript\">window.PlotlyConfig = {MathJaxConfig: 'local'};</script>\n",
              "        <script src=\"https://cdn.plot.ly/plotly-2.8.3.min.js\"></script>                <div id=\"35e73c2f-168d-45f1-8c57-315bbf87627b\" class=\"plotly-graph-div\" style=\"height:500px; width:500px;\"></div>            <script type=\"text/javascript\">                                    window.PLOTLYENV=window.PLOTLYENV || {};                                    if (document.getElementById(\"35e73c2f-168d-45f1-8c57-315bbf87627b\")) {                    Plotly.newPlot(                        \"35e73c2f-168d-45f1-8c57-315bbf87627b\",                        [{\"domain\":{\"x\":[0.0,1.0],\"y\":[0.0,1.0]},\"hovertemplate\":\"Country Name=%{label}<br>value=%{value}<extra></extra>\",\"labels\":[\"Albania\",\"Albania\",\"Albania\",\"Albania\",\"Albania\",\"Albania\",\"Albania\",\"Albania\",\"Albania\",\"Albania\",\"Albania\",\"Albania\",\"Albania\",\"Albania\",\"Albania\",\"Albania\",\"Albania\",\"Albania\",\"Albania\",\"Albania\",\"Albania\",\"Albania\",\"Albania\",\"Albania\",\"Albania\",\"Albania\",\"Albania\",\"Albania\",\"Albania\",\"Albania\",\"Albania\",\"Albania\",\"Jamaica\",\"Jamaica\",\"Jamaica\",\"Jamaica\",\"Jamaica\",\"Jamaica\",\"Jamaica\",\"Jamaica\",\"Jamaica\",\"Jamaica\",\"Jamaica\",\"Jamaica\",\"Jamaica\",\"Jamaica\",\"Jamaica\",\"Jamaica\",\"Jamaica\",\"Jamaica\",\"Jamaica\",\"Jamaica\",\"Jamaica\",\"Jamaica\",\"Jamaica\",\"Jamaica\",\"Jamaica\",\"Jamaica\",\"Jamaica\",\"Jamaica\",\"Jamaica\",\"Jamaica\",\"Jamaica\",\"Jamaica\",\"Malawi\",\"Malawi\",\"Malawi\",\"Malawi\",\"Malawi\",\"Malawi\",\"Malawi\",\"Malawi\",\"Malawi\",\"Malawi\",\"Malawi\",\"Malawi\",\"Malawi\",\"Malawi\",\"Malawi\",\"Malawi\",\"Malawi\",\"Malawi\",\"Malawi\",\"Malawi\",\"Malawi\",\"Malawi\",\"Malawi\",\"Malawi\",\"Malawi\",\"Malawi\",\"Malawi\",\"Malawi\",\"Malawi\",\"Malawi\",\"Malawi\",\"Malawi\",\"Mali\",\"Mali\",\"Mali\",\"Mali\",\"Mali\",\"Mali\",\"Mali\",\"Mali\",\"Mali\",\"Mali\",\"Mali\",\"Mali\",\"Mali\",\"Mali\",\"Mali\",\"Mali\",\"Mali\",\"Mali\",\"Mali\",\"Mali\",\"Mali\",\"Mali\",\"Mali\",\"Mali\",\"Mali\",\"Mali\",\"Mali\",\"Mali\",\"Mali\",\"Mali\",\"Mali\",\"Mali\",\"Malta\",\"Malta\",\"Malta\",\"Malta\",\"Malta\",\"Malta\",\"Malta\",\"Malta\",\"Malta\",\"Malta\",\"Malta\",\"Malta\",\"Malta\",\"Malta\",\"Malta\",\"Malta\",\"Malta\",\"Malta\",\"Malta\",\"Malta\",\"Malta\",\"Malta\",\"Malta\",\"Malta\",\"Malta\",\"Malta\",\"Malta\",\"Malta\",\"Malta\",\"Malta\",\"Malta\",\"Malta\",\"Mauritania\",\"Mauritania\",\"Mauritania\",\"Mauritania\",\"Mauritania\",\"Mauritania\",\"Mauritania\",\"Mauritania\",\"Mauritania\",\"Mauritania\",\"Mauritania\",\"Mauritania\",\"Mauritania\",\"Mauritania\",\"Mauritania\",\"Mauritania\",\"Mauritania\",\"Mauritania\",\"Mauritania\",\"Mauritania\",\"Mauritania\",\"Mauritania\",\"Mauritania\",\"Mauritania\",\"Mauritania\",\"Mauritania\",\"Mauritania\",\"Mauritania\",\"Mauritania\",\"Mauritania\",\"Mauritania\",\"Mauritania\",\"Mauritius\",\"Mauritius\",\"Mauritius\",\"Mauritius\",\"Mauritius\",\"Mauritius\",\"Mauritius\",\"Mauritius\",\"Mauritius\",\"Mauritius\",\"Mauritius\",\"Mauritius\",\"Mauritius\",\"Mauritius\",\"Mauritius\",\"Mauritius\",\"Mauritius\",\"Mauritius\",\"Mauritius\",\"Mauritius\",\"Mauritius\",\"Mauritius\",\"Mauritius\",\"Mauritius\",\"Mauritius\",\"Mauritius\",\"Mauritius\",\"Mauritius\",\"Mauritius\",\"Mauritius\",\"Mauritius\",\"Mauritius\",\"Mexico\",\"Mexico\",\"Mexico\",\"Mexico\",\"Mexico\",\"Mexico\",\"Mexico\",\"Mexico\",\"Mexico\",\"Mexico\",\"Mexico\",\"Mexico\",\"Mexico\",\"Mexico\",\"Mexico\",\"Mexico\",\"Mexico\",\"Mexico\",\"Mexico\",\"Mexico\",\"Mexico\",\"Mexico\",\"Mexico\",\"Mexico\",\"Mexico\",\"Mexico\",\"Mexico\",\"Mexico\",\"Mexico\",\"Mexico\",\"Mexico\",\"Mexico\",\"Micronesia, Fed. Sts.\",\"Micronesia, Fed. Sts.\",\"Micronesia, Fed. Sts.\",\"Micronesia, Fed. Sts.\",\"Micronesia, Fed. Sts.\",\"Micronesia, Fed. Sts.\",\"Micronesia, Fed. Sts.\",\"Micronesia, Fed. Sts.\",\"Micronesia, Fed. Sts.\",\"Micronesia, Fed. Sts.\",\"Micronesia, Fed. Sts.\",\"Micronesia, Fed. Sts.\",\"Micronesia, Fed. Sts.\",\"Micronesia, Fed. Sts.\",\"Micronesia, Fed. Sts.\",\"Micronesia, Fed. Sts.\",\"Micronesia, Fed. Sts.\",\"Micronesia, Fed. Sts.\",\"Micronesia, Fed. Sts.\",\"Micronesia, Fed. Sts.\",\"Micronesia, Fed. Sts.\",\"Micronesia, Fed. Sts.\",\"Micronesia, Fed. Sts.\",\"Micronesia, Fed. Sts.\",\"Micronesia, Fed. Sts.\",\"Micronesia, Fed. Sts.\",\"Micronesia, Fed. Sts.\",\"Micronesia, Fed. Sts.\",\"Micronesia, Fed. Sts.\",\"Micronesia, Fed. Sts.\",\"Micronesia, Fed. Sts.\",\"Micronesia, Fed. Sts.\",\"Mongolia\",\"Mongolia\",\"Mongolia\",\"Mongolia\",\"Mongolia\",\"Mongolia\",\"Mongolia\",\"Mongolia\",\"Mongolia\",\"Mongolia\",\"Mongolia\",\"Mongolia\",\"Mongolia\",\"Mongolia\",\"Mongolia\",\"Mongolia\",\"Mongolia\",\"Mongolia\",\"Mongolia\",\"Mongolia\",\"Mongolia\",\"Mongolia\",\"Mongolia\",\"Mongolia\",\"Mongolia\",\"Mongolia\",\"Mongolia\",\"Mongolia\",\"Mongolia\",\"Mongolia\",\"Mongolia\",\"Mongolia\",\"Albania\",\"Albania\",\"Albania\",\"Albania\",\"Albania\",\"Albania\",\"Albania\",\"Albania\",\"Albania\",\"Albania\",\"Albania\",\"Albania\",\"Albania\",\"Albania\",\"Albania\",\"Albania\",\"Albania\",\"Albania\",\"Albania\",\"Albania\",\"Jamaica\",\"Jamaica\",\"Jamaica\",\"Jamaica\",\"Jamaica\",\"Jamaica\",\"Jamaica\",\"Jamaica\",\"Jamaica\",\"Jamaica\",\"Jamaica\",\"Jamaica\",\"Jamaica\",\"Jamaica\",\"Jamaica\",\"Jamaica\",\"Jamaica\",\"Jamaica\",\"Jamaica\",\"Jamaica\",\"Malawi\",\"Malawi\",\"Malawi\",\"Malawi\",\"Malawi\",\"Malawi\",\"Malawi\",\"Malawi\",\"Malawi\",\"Malawi\",\"Malawi\",\"Malawi\",\"Malawi\",\"Malawi\",\"Malawi\",\"Malawi\",\"Malawi\",\"Malawi\",\"Malawi\",\"Malawi\",\"Mali\",\"Mali\",\"Mali\",\"Mali\",\"Mali\",\"Mali\",\"Mali\",\"Mali\",\"Mali\",\"Mali\",\"Mali\",\"Mali\",\"Mali\",\"Mali\",\"Mali\",\"Mali\",\"Mali\",\"Mali\",\"Mali\",\"Mali\",\"Malta\",\"Malta\",\"Malta\",\"Malta\",\"Malta\",\"Malta\",\"Malta\",\"Malta\",\"Malta\",\"Malta\",\"Malta\",\"Malta\",\"Malta\",\"Malta\",\"Malta\",\"Malta\",\"Malta\",\"Malta\",\"Malta\",\"Malta\",\"Mauritania\",\"Mauritania\",\"Mauritania\",\"Mauritania\",\"Mauritania\",\"Mauritania\",\"Mauritania\",\"Mauritania\",\"Mauritania\",\"Mauritania\",\"Mauritania\",\"Mauritania\",\"Mauritania\",\"Mauritania\",\"Mauritania\",\"Mauritania\",\"Mauritania\",\"Mauritania\",\"Mauritania\",\"Mauritania\",\"Mauritius\",\"Mauritius\",\"Mauritius\",\"Mauritius\",\"Mauritius\",\"Mauritius\",\"Mauritius\",\"Mauritius\",\"Mauritius\",\"Mauritius\",\"Mauritius\",\"Mauritius\",\"Mauritius\",\"Mauritius\",\"Mauritius\",\"Mauritius\",\"Mauritius\",\"Mauritius\",\"Mauritius\",\"Mauritius\",\"Mexico\",\"Mexico\",\"Mexico\",\"Mexico\",\"Mexico\",\"Mexico\",\"Mexico\",\"Mexico\",\"Mexico\",\"Mexico\",\"Mexico\",\"Mexico\",\"Mexico\",\"Mexico\",\"Mexico\",\"Mexico\",\"Mexico\",\"Mexico\",\"Mexico\",\"Mexico\",\"Micronesia, Fed. Sts.\",\"Micronesia, Fed. Sts.\",\"Micronesia, Fed. Sts.\",\"Micronesia, Fed. Sts.\",\"Micronesia, Fed. Sts.\",\"Micronesia, Fed. Sts.\",\"Micronesia, Fed. Sts.\",\"Micronesia, Fed. Sts.\",\"Micronesia, Fed. Sts.\",\"Micronesia, Fed. Sts.\",\"Micronesia, Fed. Sts.\",\"Micronesia, Fed. Sts.\",\"Micronesia, Fed. Sts.\",\"Micronesia, Fed. Sts.\",\"Micronesia, Fed. Sts.\",\"Micronesia, Fed. Sts.\",\"Micronesia, Fed. Sts.\",\"Micronesia, Fed. Sts.\",\"Micronesia, Fed. Sts.\",\"Micronesia, Fed. Sts.\",\"Mongolia\",\"Mongolia\",\"Mongolia\",\"Mongolia\",\"Mongolia\",\"Mongolia\",\"Mongolia\",\"Mongolia\",\"Mongolia\",\"Mongolia\",\"Mongolia\",\"Mongolia\",\"Mongolia\",\"Mongolia\",\"Mongolia\",\"Mongolia\",\"Mongolia\",\"Mongolia\",\"Mongolia\",\"Mongolia\",\"Albania\",\"Albania\",\"Albania\",\"Albania\",\"Albania\",\"Albania\",\"Albania\",\"Albania\",\"Albania\",\"Albania\",\"Albania\",\"Albania\",\"Albania\",\"Albania\",\"Albania\",\"Albania\",\"Albania\",\"Albania\",\"Albania\",\"Albania\",\"Albania\",\"Albania\",\"Albania\",\"Albania\",\"Albania\",\"Albania\",\"Albania\",\"Albania\",\"Albania\",\"Albania\",\"Albania\",\"Albania\",\"Albania\",\"Albania\",\"Albania\",\"Albania\",\"Albania\",\"Albania\",\"Albania\",\"Albania\",\"Albania\",\"Albania\",\"Albania\",\"Albania\",\"Albania\",\"Albania\",\"Albania\",\"Albania\",\"Albania\",\"Albania\",\"Albania\",\"Albania\",\"Albania\",\"Albania\",\"Albania\",\"Albania\",\"Albania\",\"Albania\",\"Albania\",\"Albania\",\"Albania\",\"Jamaica\",\"Jamaica\",\"Jamaica\",\"Jamaica\",\"Jamaica\",\"Jamaica\",\"Jamaica\",\"Jamaica\",\"Jamaica\",\"Jamaica\",\"Jamaica\",\"Jamaica\",\"Jamaica\",\"Jamaica\",\"Jamaica\",\"Jamaica\",\"Jamaica\",\"Jamaica\",\"Jamaica\",\"Jamaica\",\"Jamaica\",\"Jamaica\",\"Jamaica\",\"Jamaica\",\"Jamaica\",\"Jamaica\",\"Jamaica\",\"Jamaica\",\"Jamaica\",\"Jamaica\",\"Jamaica\",\"Jamaica\",\"Jamaica\",\"Jamaica\",\"Jamaica\",\"Jamaica\",\"Jamaica\",\"Jamaica\",\"Jamaica\",\"Jamaica\",\"Jamaica\",\"Jamaica\",\"Jamaica\",\"Jamaica\",\"Jamaica\",\"Jamaica\",\"Jamaica\",\"Jamaica\",\"Jamaica\",\"Jamaica\",\"Jamaica\",\"Jamaica\",\"Jamaica\",\"Jamaica\",\"Jamaica\",\"Jamaica\",\"Jamaica\",\"Jamaica\",\"Jamaica\",\"Jamaica\",\"Jamaica\",\"Malawi\",\"Malawi\",\"Malawi\",\"Malawi\",\"Malawi\",\"Malawi\",\"Malawi\",\"Malawi\",\"Malawi\",\"Malawi\",\"Malawi\",\"Malawi\",\"Malawi\",\"Malawi\",\"Malawi\",\"Malawi\",\"Malawi\",\"Malawi\",\"Malawi\",\"Malawi\",\"Malawi\",\"Malawi\",\"Malawi\",\"Malawi\",\"Malawi\",\"Malawi\",\"Malawi\",\"Malawi\",\"Malawi\",\"Malawi\",\"Malawi\",\"Malawi\",\"Malawi\",\"Malawi\",\"Malawi\",\"Malawi\",\"Malawi\",\"Malawi\",\"Malawi\",\"Malawi\",\"Malawi\",\"Malawi\",\"Malawi\",\"Malawi\",\"Malawi\",\"Malawi\",\"Malawi\",\"Malawi\",\"Malawi\",\"Malawi\",\"Malawi\",\"Malawi\",\"Malawi\",\"Malawi\",\"Malawi\",\"Malawi\",\"Malawi\",\"Malawi\",\"Malawi\",\"Malawi\",\"Malawi\",\"Mali\",\"Mali\",\"Mali\",\"Mali\",\"Mali\",\"Mali\",\"Mali\",\"Mali\",\"Mali\",\"Mali\",\"Mali\",\"Mali\",\"Mali\",\"Mali\",\"Mali\",\"Mali\",\"Mali\",\"Mali\",\"Mali\",\"Mali\",\"Mali\",\"Mali\",\"Mali\",\"Mali\",\"Mali\",\"Mali\",\"Mali\",\"Mali\",\"Mali\",\"Mali\",\"Mali\",\"Mali\",\"Mali\",\"Mali\",\"Mali\",\"Mali\",\"Mali\",\"Mali\",\"Mali\",\"Mali\",\"Mali\",\"Mali\",\"Mali\",\"Mali\",\"Mali\",\"Mali\",\"Mali\",\"Mali\",\"Mali\",\"Mali\",\"Mali\",\"Mali\",\"Mali\",\"Mali\",\"Mali\",\"Mali\",\"Mali\",\"Mali\",\"Mali\",\"Mali\",\"Mali\",\"Malta\",\"Malta\",\"Malta\",\"Malta\",\"Malta\",\"Malta\",\"Malta\",\"Malta\",\"Malta\",\"Malta\",\"Malta\",\"Malta\",\"Malta\",\"Malta\",\"Malta\",\"Malta\",\"Malta\",\"Malta\",\"Malta\",\"Malta\",\"Malta\",\"Malta\",\"Malta\",\"Malta\",\"Malta\",\"Malta\",\"Malta\",\"Malta\",\"Malta\",\"Malta\",\"Malta\",\"Malta\",\"Malta\",\"Malta\",\"Malta\",\"Malta\",\"Malta\",\"Malta\",\"Malta\",\"Malta\",\"Malta\",\"Malta\",\"Malta\",\"Malta\",\"Malta\",\"Malta\",\"Malta\",\"Malta\",\"Malta\",\"Malta\",\"Malta\",\"Malta\",\"Malta\",\"Malta\",\"Malta\",\"Malta\",\"Malta\",\"Malta\",\"Malta\",\"Malta\",\"Malta\",\"Mauritania\",\"Mauritania\",\"Mauritania\",\"Mauritania\",\"Mauritania\",\"Mauritania\",\"Mauritania\",\"Mauritania\",\"Mauritania\",\"Mauritania\",\"Mauritania\",\"Mauritania\",\"Mauritania\",\"Mauritania\",\"Mauritania\",\"Mauritania\",\"Mauritania\",\"Mauritania\",\"Mauritania\",\"Mauritania\",\"Mauritania\",\"Mauritania\",\"Mauritania\",\"Mauritania\",\"Mauritania\",\"Mauritania\",\"Mauritania\",\"Mauritania\",\"Mauritania\",\"Mauritania\",\"Mauritania\",\"Mauritania\",\"Mauritania\",\"Mauritania\",\"Mauritania\",\"Mauritania\",\"Mauritania\",\"Mauritania\",\"Mauritania\",\"Mauritania\",\"Mauritania\",\"Mauritania\",\"Mauritania\",\"Mauritania\",\"Mauritania\",\"Mauritania\",\"Mauritania\",\"Mauritania\",\"Mauritania\",\"Mauritania\",\"Mauritania\",\"Mauritania\",\"Mauritania\",\"Mauritania\",\"Mauritania\",\"Mauritania\",\"Mauritania\",\"Mauritania\",\"Mauritania\",\"Mauritania\",\"Mauritania\",\"Mauritius\",\"Mauritius\",\"Mauritius\",\"Mauritius\",\"Mauritius\",\"Mauritius\",\"Mauritius\",\"Mauritius\",\"Mauritius\",\"Mauritius\",\"Mauritius\",\"Mauritius\",\"Mauritius\",\"Mauritius\",\"Mauritius\",\"Mauritius\",\"Mauritius\",\"Mauritius\",\"Mauritius\",\"Mauritius\",\"Mauritius\",\"Mauritius\",\"Mauritius\",\"Mauritius\",\"Mauritius\",\"Mauritius\",\"Mauritius\",\"Mauritius\",\"Mauritius\",\"Mauritius\",\"Mauritius\",\"Mauritius\",\"Mauritius\",\"Mauritius\",\"Mauritius\",\"Mauritius\",\"Mauritius\",\"Mauritius\",\"Mauritius\",\"Mauritius\",\"Mauritius\",\"Mauritius\",\"Mauritius\",\"Mauritius\",\"Mauritius\",\"Mauritius\",\"Mauritius\",\"Mauritius\",\"Mauritius\",\"Mauritius\",\"Mauritius\",\"Mauritius\",\"Mauritius\",\"Mauritius\",\"Mauritius\",\"Mauritius\",\"Mauritius\",\"Mauritius\",\"Mauritius\",\"Mauritius\",\"Mauritius\",\"Mexico\",\"Mexico\",\"Mexico\",\"Mexico\",\"Mexico\",\"Mexico\",\"Mexico\",\"Mexico\",\"Mexico\",\"Mexico\",\"Mexico\",\"Mexico\",\"Mexico\",\"Mexico\",\"Mexico\",\"Mexico\",\"Mexico\",\"Mexico\",\"Mexico\",\"Mexico\",\"Mexico\",\"Mexico\",\"Mexico\",\"Mexico\",\"Mexico\",\"Mexico\",\"Mexico\",\"Mexico\",\"Mexico\",\"Mexico\",\"Mexico\",\"Mexico\",\"Mexico\",\"Mexico\",\"Mexico\",\"Mexico\",\"Mexico\",\"Mexico\",\"Mexico\",\"Mexico\",\"Mexico\",\"Mexico\",\"Mexico\",\"Mexico\",\"Mexico\",\"Mexico\",\"Mexico\",\"Mexico\",\"Mexico\",\"Mexico\",\"Mexico\",\"Mexico\",\"Mexico\",\"Mexico\",\"Mexico\",\"Mexico\",\"Mexico\",\"Mexico\",\"Mexico\",\"Mexico\",\"Mexico\",\"Micronesia, Fed. Sts.\",\"Micronesia, Fed. Sts.\",\"Micronesia, Fed. Sts.\",\"Micronesia, Fed. Sts.\",\"Micronesia, Fed. Sts.\",\"Micronesia, Fed. Sts.\",\"Micronesia, Fed. Sts.\",\"Micronesia, Fed. Sts.\",\"Micronesia, Fed. Sts.\",\"Micronesia, Fed. Sts.\",\"Micronesia, Fed. Sts.\",\"Micronesia, Fed. Sts.\",\"Micronesia, Fed. Sts.\",\"Micronesia, Fed. Sts.\",\"Micronesia, Fed. Sts.\",\"Micronesia, Fed. Sts.\",\"Micronesia, Fed. Sts.\",\"Micronesia, Fed. Sts.\",\"Micronesia, Fed. Sts.\",\"Micronesia, Fed. Sts.\",\"Micronesia, Fed. Sts.\",\"Micronesia, Fed. Sts.\",\"Micronesia, Fed. Sts.\",\"Micronesia, Fed. Sts.\",\"Micronesia, Fed. Sts.\",\"Micronesia, Fed. Sts.\",\"Micronesia, Fed. Sts.\",\"Micronesia, Fed. Sts.\",\"Micronesia, Fed. Sts.\",\"Micronesia, Fed. Sts.\",\"Micronesia, Fed. Sts.\",\"Micronesia, Fed. Sts.\",\"Micronesia, Fed. Sts.\",\"Micronesia, Fed. Sts.\",\"Micronesia, Fed. Sts.\",\"Micronesia, Fed. Sts.\",\"Micronesia, Fed. Sts.\",\"Micronesia, Fed. Sts.\",\"Micronesia, Fed. Sts.\",\"Micronesia, Fed. Sts.\",\"Micronesia, Fed. Sts.\",\"Micronesia, Fed. Sts.\",\"Micronesia, Fed. Sts.\",\"Micronesia, Fed. Sts.\",\"Micronesia, Fed. Sts.\",\"Micronesia, Fed. Sts.\",\"Micronesia, Fed. Sts.\",\"Micronesia, Fed. Sts.\",\"Micronesia, Fed. Sts.\",\"Micronesia, Fed. Sts.\",\"Micronesia, Fed. Sts.\",\"Micronesia, Fed. Sts.\",\"Micronesia, Fed. Sts.\",\"Micronesia, Fed. Sts.\",\"Micronesia, Fed. Sts.\",\"Micronesia, Fed. Sts.\",\"Micronesia, Fed. Sts.\",\"Micronesia, Fed. Sts.\",\"Micronesia, Fed. Sts.\",\"Micronesia, Fed. Sts.\",\"Micronesia, Fed. Sts.\",\"Mongolia\",\"Mongolia\",\"Mongolia\",\"Mongolia\",\"Mongolia\",\"Mongolia\",\"Mongolia\",\"Mongolia\",\"Mongolia\",\"Mongolia\",\"Mongolia\",\"Mongolia\",\"Mongolia\",\"Mongolia\",\"Mongolia\",\"Mongolia\",\"Mongolia\",\"Mongolia\",\"Mongolia\",\"Mongolia\",\"Mongolia\",\"Mongolia\",\"Mongolia\",\"Mongolia\",\"Mongolia\",\"Mongolia\",\"Mongolia\",\"Mongolia\",\"Mongolia\",\"Mongolia\",\"Mongolia\",\"Mongolia\",\"Mongolia\",\"Mongolia\",\"Mongolia\",\"Mongolia\",\"Mongolia\",\"Mongolia\",\"Mongolia\",\"Mongolia\",\"Mongolia\",\"Mongolia\",\"Mongolia\",\"Mongolia\",\"Mongolia\",\"Mongolia\",\"Mongolia\",\"Mongolia\",\"Mongolia\",\"Mongolia\",\"Mongolia\",\"Mongolia\",\"Mongolia\",\"Mongolia\",\"Mongolia\",\"Mongolia\",\"Mongolia\",\"Mongolia\",\"Mongolia\",\"Mongolia\",\"Mongolia\",\"Albania\",\"Albania\",\"Albania\",\"Albania\",\"Albania\",\"Albania\",\"Albania\",\"Albania\",\"Albania\",\"Albania\",\"Albania\",\"Albania\",\"Albania\",\"Albania\",\"Albania\",\"Albania\",\"Albania\",\"Albania\",\"Albania\",\"Albania\",\"Albania\",\"Albania\",\"Albania\",\"Albania\",\"Albania\",\"Albania\",\"Albania\",\"Albania\",\"Albania\",\"Albania\",\"Albania\",\"Albania\",\"Albania\",\"Albania\",\"Albania\",\"Albania\",\"Albania\",\"Albania\",\"Albania\",\"Albania\",\"Albania\",\"Albania\",\"Albania\",\"Albania\",\"Albania\",\"Albania\",\"Albania\",\"Albania\",\"Albania\",\"Albania\",\"Albania\",\"Albania\",\"Albania\",\"Albania\",\"Albania\",\"Albania\",\"Albania\",\"Albania\",\"Albania\",\"Albania\",\"Albania\",\"Albania\",\"Jamaica\",\"Jamaica\",\"Jamaica\",\"Jamaica\",\"Jamaica\",\"Jamaica\",\"Jamaica\",\"Jamaica\",\"Jamaica\",\"Jamaica\",\"Jamaica\",\"Jamaica\",\"Jamaica\",\"Jamaica\",\"Jamaica\",\"Jamaica\",\"Jamaica\",\"Jamaica\",\"Jamaica\",\"Jamaica\",\"Jamaica\",\"Jamaica\",\"Jamaica\",\"Jamaica\",\"Jamaica\",\"Jamaica\",\"Jamaica\",\"Jamaica\",\"Jamaica\",\"Jamaica\",\"Jamaica\",\"Jamaica\",\"Jamaica\",\"Jamaica\",\"Jamaica\",\"Jamaica\",\"Jamaica\",\"Jamaica\",\"Jamaica\",\"Jamaica\",\"Jamaica\",\"Jamaica\",\"Jamaica\",\"Jamaica\",\"Jamaica\",\"Jamaica\",\"Jamaica\",\"Jamaica\",\"Jamaica\",\"Jamaica\",\"Jamaica\",\"Jamaica\",\"Jamaica\",\"Jamaica\",\"Jamaica\",\"Jamaica\",\"Jamaica\",\"Jamaica\",\"Jamaica\",\"Jamaica\",\"Jamaica\",\"Jamaica\",\"Malawi\",\"Malawi\",\"Malawi\",\"Malawi\",\"Malawi\",\"Malawi\",\"Malawi\",\"Malawi\",\"Malawi\",\"Malawi\",\"Malawi\",\"Malawi\",\"Malawi\",\"Malawi\",\"Malawi\",\"Malawi\",\"Malawi\",\"Malawi\",\"Malawi\",\"Malawi\",\"Malawi\",\"Malawi\",\"Malawi\",\"Malawi\",\"Malawi\",\"Malawi\",\"Malawi\",\"Malawi\",\"Malawi\",\"Malawi\",\"Malawi\",\"Malawi\",\"Malawi\",\"Malawi\",\"Malawi\",\"Malawi\",\"Malawi\",\"Malawi\",\"Malawi\",\"Malawi\",\"Malawi\",\"Malawi\",\"Malawi\",\"Malawi\",\"Malawi\",\"Malawi\",\"Malawi\",\"Malawi\",\"Malawi\",\"Malawi\",\"Malawi\",\"Malawi\",\"Malawi\",\"Malawi\",\"Malawi\",\"Malawi\",\"Malawi\",\"Malawi\",\"Malawi\",\"Malawi\",\"Malawi\",\"Malawi\",\"Mali\",\"Mali\",\"Mali\",\"Mali\",\"Mali\",\"Mali\",\"Mali\",\"Mali\",\"Mali\",\"Mali\",\"Mali\",\"Mali\",\"Mali\",\"Mali\",\"Mali\",\"Mali\",\"Mali\",\"Mali\",\"Mali\",\"Mali\",\"Mali\",\"Mali\",\"Mali\",\"Mali\",\"Mali\",\"Mali\",\"Mali\",\"Mali\",\"Mali\",\"Mali\",\"Mali\",\"Mali\",\"Mali\",\"Mali\",\"Mali\",\"Mali\",\"Mali\",\"Mali\",\"Mali\",\"Mali\",\"Mali\",\"Mali\",\"Mali\",\"Mali\",\"Mali\",\"Mali\",\"Mali\",\"Mali\",\"Mali\",\"Mali\",\"Mali\",\"Mali\",\"Mali\",\"Mali\",\"Mali\",\"Mali\",\"Mali\",\"Mali\",\"Mali\",\"Mali\",\"Mali\",\"Mali\",\"Malta\",\"Malta\",\"Malta\",\"Malta\",\"Malta\",\"Malta\",\"Malta\",\"Malta\",\"Malta\",\"Malta\",\"Malta\",\"Malta\",\"Malta\",\"Malta\",\"Malta\",\"Malta\",\"Malta\",\"Malta\",\"Malta\",\"Malta\",\"Malta\",\"Malta\",\"Malta\",\"Malta\",\"Malta\",\"Malta\",\"Malta\",\"Malta\",\"Malta\",\"Malta\",\"Malta\",\"Malta\",\"Malta\",\"Malta\",\"Malta\",\"Malta\",\"Malta\",\"Malta\",\"Malta\",\"Malta\",\"Malta\",\"Malta\",\"Malta\",\"Malta\",\"Malta\",\"Malta\",\"Malta\",\"Malta\",\"Malta\",\"Malta\",\"Malta\",\"Malta\",\"Malta\",\"Malta\",\"Malta\",\"Malta\",\"Malta\",\"Malta\",\"Malta\",\"Malta\",\"Malta\",\"Malta\",\"Mauritania\",\"Mauritania\",\"Mauritania\",\"Mauritania\",\"Mauritania\",\"Mauritania\",\"Mauritania\",\"Mauritania\",\"Mauritania\",\"Mauritania\",\"Mauritania\",\"Mauritania\",\"Mauritania\",\"Mauritania\",\"Mauritania\",\"Mauritania\",\"Mauritania\",\"Mauritania\",\"Mauritania\",\"Mauritania\",\"Mauritania\",\"Mauritania\",\"Mauritania\",\"Mauritania\",\"Mauritania\",\"Mauritania\",\"Mauritania\",\"Mauritania\",\"Mauritania\",\"Mauritania\",\"Mauritania\",\"Mauritania\",\"Mauritania\",\"Mauritania\",\"Mauritania\",\"Mauritania\",\"Mauritania\",\"Mauritania\",\"Mauritania\",\"Mauritania\",\"Mauritania\",\"Mauritania\",\"Mauritania\",\"Mauritania\",\"Mauritania\",\"Mauritania\",\"Mauritania\",\"Mauritania\",\"Mauritania\",\"Mauritania\",\"Mauritania\",\"Mauritania\",\"Mauritania\",\"Mauritania\",\"Mauritania\",\"Mauritania\",\"Mauritania\",\"Mauritania\",\"Mauritania\",\"Mauritania\",\"Mauritania\",\"Mauritania\",\"Mauritius\",\"Mauritius\",\"Mauritius\",\"Mauritius\",\"Mauritius\",\"Mauritius\",\"Mauritius\",\"Mauritius\",\"Mauritius\",\"Mauritius\",\"Mauritius\",\"Mauritius\",\"Mauritius\",\"Mauritius\",\"Mauritius\",\"Mauritius\",\"Mauritius\",\"Mauritius\",\"Mauritius\",\"Mauritius\",\"Mauritius\",\"Mauritius\",\"Mauritius\",\"Mauritius\",\"Mauritius\",\"Mauritius\",\"Mauritius\",\"Mauritius\",\"Mauritius\",\"Mauritius\",\"Mauritius\",\"Mauritius\",\"Mauritius\",\"Mauritius\",\"Mauritius\",\"Mauritius\",\"Mauritius\",\"Mauritius\",\"Mauritius\",\"Mauritius\",\"Mauritius\",\"Mauritius\",\"Mauritius\",\"Mauritius\",\"Mauritius\",\"Mauritius\",\"Mauritius\",\"Mauritius\",\"Mauritius\",\"Mauritius\",\"Mauritius\",\"Mauritius\",\"Mauritius\",\"Mauritius\",\"Mauritius\",\"Mauritius\",\"Mauritius\",\"Mauritius\",\"Mauritius\",\"Mauritius\",\"Mauritius\",\"Mauritius\",\"Mexico\",\"Mexico\",\"Mexico\",\"Mexico\",\"Mexico\",\"Mexico\",\"Mexico\",\"Mexico\",\"Mexico\",\"Mexico\",\"Mexico\",\"Mexico\",\"Mexico\",\"Mexico\",\"Mexico\",\"Mexico\",\"Mexico\",\"Mexico\",\"Mexico\",\"Mexico\",\"Mexico\",\"Mexico\",\"Mexico\",\"Mexico\",\"Mexico\",\"Mexico\",\"Mexico\",\"Mexico\",\"Mexico\",\"Mexico\",\"Mexico\",\"Mexico\",\"Mexico\",\"Mexico\",\"Mexico\",\"Mexico\",\"Mexico\",\"Mexico\",\"Mexico\",\"Mexico\",\"Mexico\",\"Mexico\",\"Mexico\",\"Mexico\",\"Mexico\",\"Mexico\",\"Mexico\",\"Mexico\",\"Mexico\",\"Mexico\",\"Mexico\",\"Mexico\",\"Mexico\",\"Mexico\",\"Mexico\",\"Mexico\",\"Mexico\",\"Mexico\",\"Mexico\",\"Mexico\",\"Mexico\",\"Mexico\",\"Micronesia, Fed. Sts.\",\"Micronesia, Fed. Sts.\",\"Micronesia, Fed. Sts.\",\"Micronesia, Fed. Sts.\",\"Micronesia, Fed. Sts.\",\"Micronesia, Fed. Sts.\",\"Micronesia, Fed. Sts.\",\"Micronesia, Fed. Sts.\",\"Micronesia, Fed. Sts.\",\"Micronesia, Fed. Sts.\",\"Micronesia, Fed. Sts.\",\"Micronesia, Fed. Sts.\",\"Micronesia, Fed. Sts.\",\"Micronesia, Fed. Sts.\",\"Micronesia, Fed. Sts.\",\"Micronesia, Fed. Sts.\",\"Micronesia, Fed. Sts.\",\"Micronesia, Fed. Sts.\",\"Micronesia, Fed. Sts.\",\"Micronesia, Fed. Sts.\",\"Micronesia, Fed. Sts.\",\"Micronesia, Fed. Sts.\",\"Micronesia, Fed. Sts.\",\"Micronesia, Fed. Sts.\",\"Micronesia, Fed. Sts.\",\"Micronesia, Fed. Sts.\",\"Micronesia, Fed. Sts.\",\"Micronesia, Fed. Sts.\",\"Micronesia, Fed. Sts.\",\"Micronesia, Fed. Sts.\",\"Micronesia, Fed. Sts.\",\"Micronesia, Fed. Sts.\",\"Micronesia, Fed. Sts.\",\"Micronesia, Fed. Sts.\",\"Micronesia, Fed. Sts.\",\"Micronesia, Fed. Sts.\",\"Micronesia, Fed. Sts.\",\"Micronesia, Fed. Sts.\",\"Micronesia, Fed. Sts.\",\"Micronesia, Fed. Sts.\",\"Micronesia, Fed. Sts.\",\"Micronesia, Fed. Sts.\",\"Micronesia, Fed. Sts.\",\"Micronesia, Fed. Sts.\",\"Micronesia, Fed. Sts.\",\"Micronesia, Fed. Sts.\",\"Micronesia, Fed. Sts.\",\"Micronesia, Fed. Sts.\",\"Micronesia, Fed. Sts.\",\"Micronesia, Fed. Sts.\",\"Micronesia, Fed. Sts.\",\"Micronesia, Fed. Sts.\",\"Micronesia, Fed. Sts.\",\"Micronesia, Fed. Sts.\",\"Micronesia, Fed. Sts.\",\"Micronesia, Fed. Sts.\",\"Micronesia, Fed. Sts.\",\"Micronesia, Fed. Sts.\",\"Micronesia, Fed. Sts.\",\"Micronesia, Fed. Sts.\",\"Micronesia, Fed. Sts.\",\"Micronesia, Fed. Sts.\",\"Mongolia\",\"Mongolia\",\"Mongolia\",\"Mongolia\",\"Mongolia\",\"Mongolia\",\"Mongolia\",\"Mongolia\",\"Mongolia\",\"Mongolia\",\"Mongolia\",\"Mongolia\",\"Mongolia\",\"Mongolia\",\"Mongolia\",\"Mongolia\",\"Mongolia\",\"Mongolia\",\"Mongolia\",\"Mongolia\",\"Mongolia\",\"Mongolia\",\"Mongolia\",\"Mongolia\",\"Mongolia\",\"Mongolia\",\"Mongolia\",\"Mongolia\",\"Mongolia\",\"Mongolia\",\"Mongolia\",\"Mongolia\",\"Mongolia\",\"Mongolia\",\"Mongolia\",\"Mongolia\",\"Mongolia\",\"Mongolia\",\"Mongolia\",\"Mongolia\",\"Mongolia\",\"Mongolia\",\"Mongolia\",\"Mongolia\",\"Mongolia\",\"Mongolia\",\"Mongolia\",\"Mongolia\",\"Mongolia\",\"Mongolia\",\"Mongolia\",\"Mongolia\",\"Mongolia\",\"Mongolia\",\"Mongolia\",\"Mongolia\",\"Mongolia\",\"Mongolia\",\"Mongolia\",\"Mongolia\",\"Mongolia\",\"Mongolia\"],\"legendgroup\":\"\",\"name\":\"\",\"showlegend\":true,\"values\":[2549.7089413659,1909.2908100023,1823.4765337269,2057.6614945094,2290.1099123031,2666.0423648515,2980.3746169499,2717.6443480695,3021.0415773634,3471.6615089092,3860.8046270585,4299.5464929377,4661.4026953279,5000.0493630563,5427.7326624112,5865.3019037984,6566.5728279465,7283.3426381201,8228.3480411134,8813.0294608029,9628.7219617783,10207.7675731705,10526.2591833761,10570.963733047,11259.2675137674,11658.9055171112,12078.8431361844,12770.9642910053,13498.138167156,13999.4239709594,13632.1865366302,15646.0415226344,4760.6906676401,5118.7135664836,5290.6402470586,5869.9443499725,6018.9781251813,6228.3766979534,6273.4858738346,6247.1564653456,6110.9551671102,6205.3808376883,6348.6259163047,6529.7520410918,6718.4139210265,7058.6881257516,7302.1314587575,7556.876309787,7973.9456988334,8265.2576598562,8314.4328290904,7964.1274038119,7901.0655137177,8159.8761649991,8187.1936736495,8442.983667431,8545.1028366997,8792.0569569469,9194.1567392958,9600.1047458039,9967.4292082816,10189.6402034705,9240.8218693355,10025.9047946926,664.9753556007,732.2306317258,687.8653866362,770.4793594368,703.7862305664,830.3365984954,891.2571052577,918.8132743892,939.0523151298,953.9572147185,964.7755527137,914.2061780908,921.5333256896,969.6205427474,1023.8805068449,1062.5112557202,1116.0370192014,1221.5724028332,1302.426002273,1379.7087332666,1450.0429060451,1508.1921321854,1467.1381810444,1572.8334715827,1530.9307535586,1445.7351122681,1454.3589410421,1472.146868477,1532.4893124326,1602.0155902244,1591.4755910705,1658.3344179254,803.3394613116,908.1035306824,877.0862694729,902.2146571033,930.9344786868,934.11563091,992.2580186853,1031.1944568109,1092.9362121586,1140.44168616,1133.2518110549,1298.3930794493,1319.1787536388,1423.0737960154,1437.7112806067,1529.4375468005,1596.6607121868,1641.396286176,1695.3362502221,1730.8330434292,1787.3575858344,1826.6475569919,1763.8402510035,1812.966220168,1915.3044715321,2032.6558718801,2189.0066217116,2246.7974208448,2338.260312264,2419.6886887307,2347.7966744097,2447.324282737,9019.4047240057,9644.3427799366,10220.8600376072,10823.3156794264,11570.4157254909,12475.0043770176,13076.1188344186,13820.1671703545,14470.5479472483,15110.4943411224,18355.4967894141,18510.598452046,19599.9414329873,20929.3954917416,21545.4251923105,22306.6228714756,23320.9598431822,25059.1377146874,26523.5326924729,26649.6041313751,28722.7021856242,28973.2708577894,30243.8413140141,32295.8473400221,34344.0217879777,37455.20487447,39705.8987211412,43559.3161796569,45568.7232072745,47407.8807867595,43243.1726484364,47714.4521686333,2636.1170653107,2702.8254560556,2744.2923331648,2898.7355431312,2797.5123963511,3057.8628585947,3212.7378347249,3057.776020078,3098.3237994733,3174.274260672,3037.6150448416,2998.9113251932,3003.5973361006,3184.4641336723,3329.0514804342,3622.8533473332,4294.7586447175,4201.6264035443,4146.6762775282,4057.7201586402,4092.5273956072,4225.5712615653,4262.0636970187,4481.2518423715,4295.0514887793,4200.152563267,4700.1062623827,5108.5491322044,5317.4642936397,5569.5391631676,5389.6464884458,5591.8347398643,4941.0829125595,5277.4720924856,5674.129274286,6031.8873580202,6326.3133989354,6678.237494527,7107.4504866918,7546.1399436801,8009.7677875247,8229.4364113629,9017.1688121689,9453.9885064862,9688.8874099592,10390.0858004714,11061.3835055747,11542.4897957406,12419.5163118407,13424.3559647131,14366.8120865552,14898.6064262422,15700.2430569091,16653.2438040789,16963.5112414049,17866.3068173779,18488.0467911726,19229.8354887211,20701.2189720364,21415.1161096211,22738.6929559433,23834.9650016217,20528.8336499786,22240.1349561848,8084.5007412053,8562.7211724764,8938.9941611154,8558.5481799674,9017.4512532281,8485.5069743409,9079.1768953837,9715.4024281218,10176.6354219884,10448.8243676125,11089.4899949864,11136.0219119709,11187.4769618308,11488.2956282873,12090.9912069056,12657.6376721808,13812.9013959234,14297.2213852569,14924.8216140502,14547.6445830778,15255.019052785,16520.2592224915,17162.9273706838,17373.8974567258,18056.7898061476,18301.5004690469,19323.6658689896,19721.2609759241,20096.1566534339,19862.5631976218,18670.8104030112,20036.4553884275,1768.8092620745,1915.2234902733,1984.9930955846,2144.2746052965,2134.6178707329,2299.6095614627,2250.9491890886,2147.7716149272,2239.3692237745,2311.4747488075,2486.5065855001,2603.3343020245,2661.9220788269,2760.3560556629,2754.3123390395,2912.040925811,3021.1229639492,3072.9765295188,3082.8411481481,3154.1212542575,3265.8919757733,3422.3558457739,3386.6534315248,3274.7775280248,3212.9246280668,3350.093289529,3372.9598287009,3489.7075942914,3543.1611716368,3611.3639494407,3552.5960366764,3544.2246426392,3342.8942101756,3107.4405734087,2851.1823518526,2801.6728988353,2900.4317039832,3126.0266737818,3228.3467323175,3383.978750407,3506.4527086521,3633.3321587527,3725.0144267475,3885.4621465129,4092.749696234,4419.7289171067,4965.0272417369,5426.8692010023,5996.0279391979,6697.633820401,7326.0824488754,7165.4443045308,7582.3777752191,8912.8733914244,10227.5302746287,10549.892056039,11056.2985279189,10648.2739820507,10737.4861306932,11366.3039371032,12316.0010702258,13013.047241843,12365.9384827552,12862.746927421,4.9,4.5,4.6,4.8,4.8,7.5,7.8,8.1,8.2,8.1,7.8,7.9,5.2,5.3,5.0,4.8,4.7,4.7,4.5,4.3,1.9,1.9,1.8,1.7000000000000002,1.6,1.5,1.5,1.8,2.2,2.3,1.9,2.2,2.1,2.0,2.2,2.2,2.2,2.3,2.3,2.4,10.8,9.8,8.8,8.2,7.8,7.2,7.5,7.8,7.6,8.0,8.2,7.3,6.8,6.4,6.3,6.2,6.1,5.9,5.6,5.4,4.8,4.7,4.7,4.6,4.5,4.6,4.5,4.6,4.6,4.6,4.5,4.5,4.5,4.5,4.4,4.3,4.2,4.1,4.1,4.1,6.8,7.2,5.7,5.4,5.9,5.6,6.8,5.5,6.4,6.9,7.5,6.8,6.0,6.8,7.1,7.2,5.8,5.5,6.0,6.1,3.5,3.4,3.4,3.3,3.3,3.2,3.2,3.2,3.1,3.1,3.1,3.0,3.1,3.1,3.1,3.0,3.0,3.1,3.1,3.1,11.8,10.1,11.3,7.7,8.2,9.0,9.2,10.3,6.7,9.1,7.8,9.0,9.6,8.2,10.2,7.9,8.1,9.6,8.7,9.5,3.5,3.8,3.9,4.0,4.0,4.1,4.0,4.1,4.4,4.6,4.5,5.2,4.9,5.2,5.7,5.6,5.6,5.9,5.4,5.3,24.0,23.4,22.5,22.8,23.8,24.6,24.6,24.4,24.5,24.5,24.5,25.2,25.5,25.6,25.8,27.0,27.0,27.7,28.2,28.2,22.0,22.3,21.7,23.1,23.7,24.0,23.7,23.6,23.8,23.6,23.4,22.7,21.7,21.0,20.0,20.0,20.1,19.2,18.6,17.9,62.283,63.301,64.19,64.914,65.463,65.85,66.11,66.304,66.487,66.689,66.935,67.237,67.582,67.953,68.343,68.736,69.11,69.448,69.742,69.991,70.208,70.416,70.635,70.876,71.134,71.388,71.605,71.76,71.843,71.86,71.836,71.803,71.802,71.86,71.992,72.205,72.495,72.838,73.208,73.587,73.955,74.288,74.579,74.828,75.039,75.228,75.423,75.646,75.912,76.221,76.562,76.914,77.252,77.554,77.813,78.025,78.194,78.333,78.458,78.573,78.686,64.77,65.133,65.465,65.784,66.1,66.42,66.74,67.051,67.349,67.636,67.917,68.2,68.491,68.791,69.099,69.41,69.718,70.015,70.294,70.553,70.793,71.012,71.217,71.416,71.614,71.823,72.056,72.317,72.601,72.903,73.204,73.485,73.727,73.918,74.053,74.133,74.167,74.172,74.164,74.152,74.142,74.139,74.14,74.142,74.146,74.148,74.143,74.129,74.103,74.071,74.038,74.012,74.001,74.01,74.042,74.098,74.175,74.267,74.368,74.475,74.586,36.672,36.934,37.183,37.421,37.655,37.899,38.174,38.494,38.866,39.289,39.756,40.254,40.762,41.262,41.744,42.206,42.649,43.082,43.504,43.912,44.296,44.646,44.954,45.216,45.432,45.606,45.746,45.86,45.957,46.038,46.096,46.121,46.108,46.055,45.969,45.846,45.677,45.479,45.285,45.136,45.09,45.204,45.517,46.052,46.823,47.844,49.118,50.595,52.206,53.888,55.564,57.161,58.629,59.931,61.042,61.953,62.681,63.279,63.798,64.263,64.694,28.199,28.345,28.535,28.782,29.097,29.489,29.959,30.496,31.086,31.72,32.388,33.078,33.782,34.493,35.205,35.921,36.645,37.385,38.142,38.909,39.677,40.435,41.173,41.879,42.545,43.17,43.759,44.315,44.838,45.323,45.746,46.076,46.305,46.445,46.52,46.573,46.658,46.823,47.103,47.515,48.069,48.758,49.54,50.373,51.224,52.057,52.839,53.553,54.193,54.756,55.251,55.701,56.135,56.578,57.036,57.509,57.987,58.452,58.893,59.306,59.692,69.4332439024,69.6143902439,69.7706585366,69.9199512195,70.0757317073,70.2479268293,70.4410487805,70.6480731707,70.8630487805,71.0829512195,71.3052926829,71.5225365854,71.7312439024,71.9274390244,72.111195122,72.281097561,72.4367804878,72.583804878,72.7321219512,72.891195122,73.0778536585,73.310902439,73.5981463415,73.94,74.3309756098,74.7581463415,75.204195122,75.6448292683,76.0626585366,76.4452682927,76.7860731707,77.0844634146,77.350804878,77.5934878049,77.8175365854,77.2902439024,77.3414634146,77.7390243902,77.587804878,77.5,78.3487804878,78.843902439,78.7390243902,78.5463414634,79.2536585366,79.3,79.4390243902,79.7926829268,79.6365853659,80.2414634146,81.3975609756,80.7463414634,80.7463414634,81.7463414634,82.0463414634,81.8975609756,82.4536585366,82.3463414634,82.4487804878,82.8585365854,82.6536585366,44.432,45.132,45.834,46.531,47.214,47.868,48.476,49.032,49.536,49.99,50.404,50.788,51.16,51.539,51.935,52.358,52.817,53.306,53.82,54.357,54.913,55.486,56.066,56.643,57.204,57.735,58.226,58.671,59.065,59.405,59.688,59.914,60.092,60.231,60.341,60.426,60.493,60.545,60.593,60.643,60.706,60.788,60.892,61.018,61.17,61.349,61.552,61.776,62.015,62.266,62.527,62.799,63.079,63.366,63.654,63.936,64.208,64.464,64.704,64.925,65.129,58.7452195122,59.7483658537,60.626902439,61.3576585366,61.9349512195,62.3582926829,62.6387073171,62.8153170732,62.9316829268,63.020195122,63.1180487805,63.2533414634,63.4399512195,63.6855365854,63.9999756098,64.3905365854,64.8556341463,65.3724390244,65.9133170732,66.4557804878,66.9653902439,67.4073902439,67.7653658537,68.0376097561,68.2303658537,68.3706829268,68.4993658537,68.6555121951,68.8630243902,69.1240243902,69.4048780488,69.956097561,70.0585365854,70.1073170732,70.1585365854,70.3258536585,70.3229268293,70.4048780488,70.6073170732,70.9609756098,71.6634146341,71.7658536585,71.9658536585,72.1170731707,72.2658536585,72.432195122,72.432195122,72.5707317073,72.5707317073,72.8824390244,72.9673170732,73.2668292683,73.8634146341,74.0170731707,74.1943902439,74.3531707317,74.3948780488,74.5146341463,74.4163414634,74.2358536585,74.1770731707,57.077,57.668,58.193,58.656,59.069,59.447,59.807,60.165,60.536,60.932,61.362,61.829,62.327,62.845,63.378,63.922,64.467,65.009,65.54,66.055,66.553,67.031,67.493,67.942,68.38,68.809,69.232,69.649,70.062,70.469,70.866,71.248,71.61,71.953,72.279,72.598,72.925,73.268,73.625,73.988,74.34,74.658,74.922,75.118,75.243,75.3,75.296,75.255,75.194,75.128,75.065,75.011,74.966,74.93,74.908,74.904,74.917,74.947,74.992,75.054,75.131,54.513,54.954,55.396,55.838,56.279,56.717,57.153,57.585,58.012,58.434,58.851,59.265,59.675,60.079,60.473,60.85,61.206,61.535,61.834,62.1,62.331,62.528,62.693,62.834,62.955,63.064,63.169,63.273,63.38,63.492,63.605,63.715,63.814,63.901,63.978,64.049,64.121,64.202,64.298,64.413,64.55,64.71,64.888,65.08,65.282,65.489,65.697,65.901,66.099,66.29,66.471,66.646,66.817,66.986,67.152,67.315,67.471,67.618,67.755,67.883,68.002,48.392,49.304,50.185,51.012,51.771,52.461,53.098,53.702,54.285,54.845,55.364,55.819,56.192,56.477,56.676,56.796,56.848,56.86,56.861,56.875,56.936,57.074,57.295,57.595,57.968,58.392,58.836,59.266,59.655,59.992,60.268,60.486,60.67,60.841,61.015,61.211,61.447,61.73,62.063,62.446,62.869,63.319,63.777,64.23,64.671,65.103,65.538,65.985,66.447,66.916,67.38,67.818,68.217,68.566,68.863,69.111,69.321,69.509,69.689,69.87,70.056,1608800.0,1659800.0,1711319.0,1762621.0,1814135.0,1864791.0,1914573.0,1965598.0,2022272.0,2081695.0,2135479.0,2187853.0,2243126.0,2296752.0,2350124.0,2404831.0,2458526.0,2513546.0,2566266.0,2617832.0,2671997.0,2726056.0,2784278.0,2843960.0,2904429.0,2964762.0,3022635.0,3083605.0,3142336.0,3227943.0,3286542.0,3266790.0,3247039.0,3227287.0,3207536.0,3187784.0,3168033.0,3148281.0,3128530.0,3108778.0,3089027.0,3060173.0,3051010.0,3039616.0,3026939.0,3011487.0,2992547.0,2970017.0,2947314.0,2927519.0,2913021.0,2905195.0,2900401.0,2895092.0,2889104.0,2880703.0,2876101.0,2873457.0,2866376.0,2854191.0,2837849.0,2811666.0,1628524.0,1651067.0,1676500.0,1703660.0,1730739.0,1756508.0,1780522.0,1803324.0,1825873.0,1849658.0,1875637.0,1904281.0,1935089.0,1966978.0,1998313.0,2028019.0,2055371.0,2080824.0,2105903.0,2132784.0,2162839.0,2196921.0,2234062.0,2271735.0,2306367.0,2335510.0,2358165.0,2375400.0,2389415.0,2403464.0,2419901.0,2439329.0,2461047.0,2484583.0,2509042.0,2533705.0,2558631.0,2583914.0,2608874.0,2632677.0,2654698.0,2674706.0,2692843.0,2709438.0,2725017.0,2740000.0,2754414.0,2768229.0,2781869.0,2795839.0,2810464.0,2825932.0,2842128.0,2858710.0,2875137.0,2891024.0,2906242.0,2920848.0,2934853.0,2948277.0,2961161.0,2973462.0,3659980.0,3747758.0,3839047.0,3933914.0,4032364.0,4134464.0,4240430.0,4350456.0,4464427.0,4582197.0,4703783.0,4829092.0,4958556.0,5093368.0,5235074.0,5384798.0,5545653.0,5717954.0,5896864.0,6075485.0,6250434.0,6412380.0,6565985.0,6737924.0,6964613.0,7268271.0,7666390.0,8141140.0,8636686.0,9075568.0,9404499.0,9600361.0,9685974.0,9710335.0,9745695.0,9844418.0,10022783.0,10264906.0,10552345.0,10854325.0,11148751.0,11432001.0,11713663.0,12000183.0,12301837.0,12625950.0,12973693.0,13341808.0,13727899.0,14128161.0,14539609.0,14962118.0,15396010.0,15839287.0,16289550.0,16745305.0,17205253.0,17670193.0,18143215.0,18628749.0,19129955.0,19647681.0,5263727.0,5322269.0,5381367.0,5441618.0,5503750.0,5568495.0,5635864.0,5706192.0,5780836.0,5861417.0,5949042.0,6044524.0,6147464.0,6256191.0,6368346.0,6482282.0,6596721.0,6712267.0,6831090.0,6956409.0,7090124.0,7234725.0,7388670.0,7545163.0,7694857.0,7831888.0,7952863.0,8062216.0,8171525.0,8296919.0,8449915.0,8635528.0,8850334.0,9087173.0,9334893.0,9585660.0,9837575.0,10094363.0,10360564.0,10642937.0,10946448.0,11271603.0,11616890.0,11982692.0,12369078.0,12775509.0,13203378.0,13651455.0,14113578.0,14581427.0,15049352.0,15514593.0,15979492.0,16449854.0,16934213.0,17438772.0,17965448.0,18512429.0,19077755.0,19658023.0,20250834.0,20855724.0,326550.0,325250.0,323900.0,322550.0,321250.0,318800.0,315200.0,311550.0,307900.0,304300.0,302650.0,302700.0,302450.0,302200.0,301996.0,304222.0,305774.0,306970.0,310182.0,313342.0,316645.0,318982.0,325898.0,330524.0,330593.0,336452.0,342121.0,344485.0,347325.0,350722.0,354170.0,363845.0,367618.0,371308.0,374797.0,377419.0,379905.0,382791.0,385287.0,387578.0,390087.0,393028.0,395969.0,398582.0,401268.0,403834.0,405308.0,406724.0,409379.0,412477.0,414508.0,416268.0,420028.0,425967.0,434558.0,445053.0,455356.0,467999.0,484630.0,504062.0,515332.0,516869.0,850377.0,875586.0,901690.0,928742.0,956794.0,985907.0,1016093.0,1047345.0,1079580.0,1112749.0,1146776.0,1181659.0,1217443.0,1254156.0,1291857.0,1330594.0,1370364.0,1411139.0,1453028.0,1496174.0,1540644.0,1586496.0,1633655.0,1681859.0,1730737.0,1780033.0,1829678.0,1879756.0,1930427.0,1981902.0,2034347.0,2087914.0,2142645.0,2198538.0,2255520.0,2313630.0,2372900.0,2433567.0,2496217.0,2561584.0,2630217.0,2702405.0,2778097.0,2857150.0,2939246.0,3024198.0,3111908.0,3202512.0,3296237.0,3393408.0,3494200.0,3598646.0,3706555.0,3817497.0,3930894.0,4046304.0,4163532.0,4282582.0,4403312.0,4525698.0,4649660.0,4775110.0,659351.0,680757.0,700349.0,718861.0,736381.0,753000.0,768813.0,783917.0,798413.0,812405.0,826000.0,839230.0,852053.0,864819.0,878042.0,892000.0,906507.0,921379.0,933499.0,949888.0,966039.0,980462.0,992521.0,1001691.0,1012221.0,1020528.0,1028360.0,1036082.0,1043239.0,1051260.0,1058775.0,1070266.0,1084441.0,1097374.0,1112846.0,1122457.0,1133996.0,1148284.0,1160421.0,1175267.0,1186873.0,1196287.0,1204621.0,1213370.0,1221003.0,1228254.0,1233996.0,1239630.0,1244121.0,1247429.0,1250400.0,1252404.0,1255882.0,1258653.0,1260934.0,1262605.0,1263473.0,1264613.0,1265303.0,1265711.0,1265740.0,1266060.0,37771861.0,38966049.0,40195318.0,41462373.0,42771077.0,44123863.0,45519746.0,46956208.0,48431971.0,49945278.0,51493565.0,53076366.0,54689944.0,56324310.0,57966812.0,59607947.0,61242189.0,62869908.0,64494872.0,66123908.0,67761367.0,69407623.0,71058650.0,72709306.0,74352631.0,75983486.0,77599105.0,79200081.0,80788725.0,82368930.0,83943135.0,85512621.0,87075136.0,88625440.0,90156396.0,91663290.0,93147045.0,94611008.0,96056313.0,97484823.0,98899845.0,100298152.0,101684764.0,103081020.0,104514934.0,106005199.0,107560155.0,109170503.0,110815272.0,112463886.0,114092961.0,115695468.0,117274156.0,118827158.0,120355137.0,121858251.0,123333379.0,124777326.0,126190782.0,127575529.0,128932753.0,130262220.0,44510.0,45939.0,47372.0,48856.0,50476.0,52224.0,54192.0,56308.0,58386.0,60146.0,61415.0,62089.0,62275.0,62268.0,62456.0,63122.0,64360.0,66079.0,68196.0,70515.0,72936.0,75422.0,78015.0,80630.0,83192.0,85641.0,87904.0,89985.0,91984.0,94062.0,96304.0,98779.0,101386.0,103901.0,106030.0,107535.0,108311.0,108473.0,108206.0,107769.0,107405.0,107170.0,107027.0,106902.0,106624.0,106135.0,105374.0,104442.0,103549.0,102971.0,102916.0,103448.0,104506.0,105922.0,107444.0,108886.0,110215.0,111461.0,112640.0,113811.0,115021.0,116255.0,955514.0,982181.0,1011327.0,1042387.0,1074518.0,1107121.0,1139962.0,1173186.0,1207104.0,1242213.0,1278819.0,1317042.0,1356673.0,1397305.0,1438421.0,1479646.0,1520868.0,1562207.0,1603910.0,1646290.0,1689622.0,1733475.0,1777727.0,1823214.0,1871089.0,1921889.0,1976313.0,2033351.0,2089709.0,2141005.0,2184139.0,2217918.0,2243495.0,2263196.0,2280475.0,2298017.0,2316571.0,2335744.0,2355667.0,2376228.0,2397417.0,2419594.0,2443261.0,2468765.0,2496394.0,2526429.0,2558854.0,2593819.0,2631899.0,2673794.0,2719902.0,2770357.0,2824698.0,2881783.0,2940111.0,2998433.0,3056358.0,3113788.0,3170214.0,3225166.0,3278292.0,3329282.0],\"type\":\"pie\"}],                        {\"template\":{\"data\":{\"bar\":[{\"error_x\":{\"color\":\"#2a3f5f\"},\"error_y\":{\"color\":\"#2a3f5f\"},\"marker\":{\"line\":{\"color\":\"#E5ECF6\",\"width\":0.5},\"pattern\":{\"fillmode\":\"overlay\",\"size\":10,\"solidity\":0.2}},\"type\":\"bar\"}],\"barpolar\":[{\"marker\":{\"line\":{\"color\":\"#E5ECF6\",\"width\":0.5},\"pattern\":{\"fillmode\":\"overlay\",\"size\":10,\"solidity\":0.2}},\"type\":\"barpolar\"}],\"carpet\":[{\"aaxis\":{\"endlinecolor\":\"#2a3f5f\",\"gridcolor\":\"white\",\"linecolor\":\"white\",\"minorgridcolor\":\"white\",\"startlinecolor\":\"#2a3f5f\"},\"baxis\":{\"endlinecolor\":\"#2a3f5f\",\"gridcolor\":\"white\",\"linecolor\":\"white\",\"minorgridcolor\":\"white\",\"startlinecolor\":\"#2a3f5f\"},\"type\":\"carpet\"}],\"choropleth\":[{\"colorbar\":{\"outlinewidth\":0,\"ticks\":\"\"},\"type\":\"choropleth\"}],\"contour\":[{\"colorbar\":{\"outlinewidth\":0,\"ticks\":\"\"},\"colorscale\":[[0.0,\"#0d0887\"],[0.1111111111111111,\"#46039f\"],[0.2222222222222222,\"#7201a8\"],[0.3333333333333333,\"#9c179e\"],[0.4444444444444444,\"#bd3786\"],[0.5555555555555556,\"#d8576b\"],[0.6666666666666666,\"#ed7953\"],[0.7777777777777778,\"#fb9f3a\"],[0.8888888888888888,\"#fdca26\"],[1.0,\"#f0f921\"]],\"type\":\"contour\"}],\"contourcarpet\":[{\"colorbar\":{\"outlinewidth\":0,\"ticks\":\"\"},\"type\":\"contourcarpet\"}],\"heatmap\":[{\"colorbar\":{\"outlinewidth\":0,\"ticks\":\"\"},\"colorscale\":[[0.0,\"#0d0887\"],[0.1111111111111111,\"#46039f\"],[0.2222222222222222,\"#7201a8\"],[0.3333333333333333,\"#9c179e\"],[0.4444444444444444,\"#bd3786\"],[0.5555555555555556,\"#d8576b\"],[0.6666666666666666,\"#ed7953\"],[0.7777777777777778,\"#fb9f3a\"],[0.8888888888888888,\"#fdca26\"],[1.0,\"#f0f921\"]],\"type\":\"heatmap\"}],\"heatmapgl\":[{\"colorbar\":{\"outlinewidth\":0,\"ticks\":\"\"},\"colorscale\":[[0.0,\"#0d0887\"],[0.1111111111111111,\"#46039f\"],[0.2222222222222222,\"#7201a8\"],[0.3333333333333333,\"#9c179e\"],[0.4444444444444444,\"#bd3786\"],[0.5555555555555556,\"#d8576b\"],[0.6666666666666666,\"#ed7953\"],[0.7777777777777778,\"#fb9f3a\"],[0.8888888888888888,\"#fdca26\"],[1.0,\"#f0f921\"]],\"type\":\"heatmapgl\"}],\"histogram\":[{\"marker\":{\"pattern\":{\"fillmode\":\"overlay\",\"size\":10,\"solidity\":0.2}},\"type\":\"histogram\"}],\"histogram2d\":[{\"colorbar\":{\"outlinewidth\":0,\"ticks\":\"\"},\"colorscale\":[[0.0,\"#0d0887\"],[0.1111111111111111,\"#46039f\"],[0.2222222222222222,\"#7201a8\"],[0.3333333333333333,\"#9c179e\"],[0.4444444444444444,\"#bd3786\"],[0.5555555555555556,\"#d8576b\"],[0.6666666666666666,\"#ed7953\"],[0.7777777777777778,\"#fb9f3a\"],[0.8888888888888888,\"#fdca26\"],[1.0,\"#f0f921\"]],\"type\":\"histogram2d\"}],\"histogram2dcontour\":[{\"colorbar\":{\"outlinewidth\":0,\"ticks\":\"\"},\"colorscale\":[[0.0,\"#0d0887\"],[0.1111111111111111,\"#46039f\"],[0.2222222222222222,\"#7201a8\"],[0.3333333333333333,\"#9c179e\"],[0.4444444444444444,\"#bd3786\"],[0.5555555555555556,\"#d8576b\"],[0.6666666666666666,\"#ed7953\"],[0.7777777777777778,\"#fb9f3a\"],[0.8888888888888888,\"#fdca26\"],[1.0,\"#f0f921\"]],\"type\":\"histogram2dcontour\"}],\"mesh3d\":[{\"colorbar\":{\"outlinewidth\":0,\"ticks\":\"\"},\"type\":\"mesh3d\"}],\"parcoords\":[{\"line\":{\"colorbar\":{\"outlinewidth\":0,\"ticks\":\"\"}},\"type\":\"parcoords\"}],\"pie\":[{\"automargin\":true,\"type\":\"pie\"}],\"scatter\":[{\"marker\":{\"colorbar\":{\"outlinewidth\":0,\"ticks\":\"\"}},\"type\":\"scatter\"}],\"scatter3d\":[{\"line\":{\"colorbar\":{\"outlinewidth\":0,\"ticks\":\"\"}},\"marker\":{\"colorbar\":{\"outlinewidth\":0,\"ticks\":\"\"}},\"type\":\"scatter3d\"}],\"scattercarpet\":[{\"marker\":{\"colorbar\":{\"outlinewidth\":0,\"ticks\":\"\"}},\"type\":\"scattercarpet\"}],\"scattergeo\":[{\"marker\":{\"colorbar\":{\"outlinewidth\":0,\"ticks\":\"\"}},\"type\":\"scattergeo\"}],\"scattergl\":[{\"marker\":{\"colorbar\":{\"outlinewidth\":0,\"ticks\":\"\"}},\"type\":\"scattergl\"}],\"scattermapbox\":[{\"marker\":{\"colorbar\":{\"outlinewidth\":0,\"ticks\":\"\"}},\"type\":\"scattermapbox\"}],\"scatterpolar\":[{\"marker\":{\"colorbar\":{\"outlinewidth\":0,\"ticks\":\"\"}},\"type\":\"scatterpolar\"}],\"scatterpolargl\":[{\"marker\":{\"colorbar\":{\"outlinewidth\":0,\"ticks\":\"\"}},\"type\":\"scatterpolargl\"}],\"scatterternary\":[{\"marker\":{\"colorbar\":{\"outlinewidth\":0,\"ticks\":\"\"}},\"type\":\"scatterternary\"}],\"surface\":[{\"colorbar\":{\"outlinewidth\":0,\"ticks\":\"\"},\"colorscale\":[[0.0,\"#0d0887\"],[0.1111111111111111,\"#46039f\"],[0.2222222222222222,\"#7201a8\"],[0.3333333333333333,\"#9c179e\"],[0.4444444444444444,\"#bd3786\"],[0.5555555555555556,\"#d8576b\"],[0.6666666666666666,\"#ed7953\"],[0.7777777777777778,\"#fb9f3a\"],[0.8888888888888888,\"#fdca26\"],[1.0,\"#f0f921\"]],\"type\":\"surface\"}],\"table\":[{\"cells\":{\"fill\":{\"color\":\"#EBF0F8\"},\"line\":{\"color\":\"white\"}},\"header\":{\"fill\":{\"color\":\"#C8D4E3\"},\"line\":{\"color\":\"white\"}},\"type\":\"table\"}]},\"layout\":{\"annotationdefaults\":{\"arrowcolor\":\"#2a3f5f\",\"arrowhead\":0,\"arrowwidth\":1},\"autotypenumbers\":\"strict\",\"coloraxis\":{\"colorbar\":{\"outlinewidth\":0,\"ticks\":\"\"}},\"colorscale\":{\"diverging\":[[0,\"#8e0152\"],[0.1,\"#c51b7d\"],[0.2,\"#de77ae\"],[0.3,\"#f1b6da\"],[0.4,\"#fde0ef\"],[0.5,\"#f7f7f7\"],[0.6,\"#e6f5d0\"],[0.7,\"#b8e186\"],[0.8,\"#7fbc41\"],[0.9,\"#4d9221\"],[1,\"#276419\"]],\"sequential\":[[0.0,\"#0d0887\"],[0.1111111111111111,\"#46039f\"],[0.2222222222222222,\"#7201a8\"],[0.3333333333333333,\"#9c179e\"],[0.4444444444444444,\"#bd3786\"],[0.5555555555555556,\"#d8576b\"],[0.6666666666666666,\"#ed7953\"],[0.7777777777777778,\"#fb9f3a\"],[0.8888888888888888,\"#fdca26\"],[1.0,\"#f0f921\"]],\"sequentialminus\":[[0.0,\"#0d0887\"],[0.1111111111111111,\"#46039f\"],[0.2222222222222222,\"#7201a8\"],[0.3333333333333333,\"#9c179e\"],[0.4444444444444444,\"#bd3786\"],[0.5555555555555556,\"#d8576b\"],[0.6666666666666666,\"#ed7953\"],[0.7777777777777778,\"#fb9f3a\"],[0.8888888888888888,\"#fdca26\"],[1.0,\"#f0f921\"]]},\"colorway\":[\"#636efa\",\"#EF553B\",\"#00cc96\",\"#ab63fa\",\"#FFA15A\",\"#19d3f3\",\"#FF6692\",\"#B6E880\",\"#FF97FF\",\"#FECB52\"],\"font\":{\"color\":\"#2a3f5f\"},\"geo\":{\"bgcolor\":\"white\",\"lakecolor\":\"white\",\"landcolor\":\"#E5ECF6\",\"showlakes\":true,\"showland\":true,\"subunitcolor\":\"white\"},\"hoverlabel\":{\"align\":\"left\"},\"hovermode\":\"closest\",\"mapbox\":{\"style\":\"light\"},\"paper_bgcolor\":\"white\",\"plot_bgcolor\":\"#E5ECF6\",\"polar\":{\"angularaxis\":{\"gridcolor\":\"white\",\"linecolor\":\"white\",\"ticks\":\"\"},\"bgcolor\":\"#E5ECF6\",\"radialaxis\":{\"gridcolor\":\"white\",\"linecolor\":\"white\",\"ticks\":\"\"}},\"scene\":{\"xaxis\":{\"backgroundcolor\":\"#E5ECF6\",\"gridcolor\":\"white\",\"gridwidth\":2,\"linecolor\":\"white\",\"showbackground\":true,\"ticks\":\"\",\"zerolinecolor\":\"white\"},\"yaxis\":{\"backgroundcolor\":\"#E5ECF6\",\"gridcolor\":\"white\",\"gridwidth\":2,\"linecolor\":\"white\",\"showbackground\":true,\"ticks\":\"\",\"zerolinecolor\":\"white\"},\"zaxis\":{\"backgroundcolor\":\"#E5ECF6\",\"gridcolor\":\"white\",\"gridwidth\":2,\"linecolor\":\"white\",\"showbackground\":true,\"ticks\":\"\",\"zerolinecolor\":\"white\"}},\"shapedefaults\":{\"line\":{\"color\":\"#2a3f5f\"}},\"ternary\":{\"aaxis\":{\"gridcolor\":\"white\",\"linecolor\":\"white\",\"ticks\":\"\"},\"baxis\":{\"gridcolor\":\"white\",\"linecolor\":\"white\",\"ticks\":\"\"},\"bgcolor\":\"#E5ECF6\",\"caxis\":{\"gridcolor\":\"white\",\"linecolor\":\"white\",\"ticks\":\"\"}},\"title\":{\"x\":0.05},\"xaxis\":{\"automargin\":true,\"gridcolor\":\"white\",\"linecolor\":\"white\",\"ticks\":\"\",\"title\":{\"standoff\":15},\"zerolinecolor\":\"white\",\"zerolinewidth\":2},\"yaxis\":{\"automargin\":true,\"gridcolor\":\"white\",\"linecolor\":\"white\",\"ticks\":\"\",\"title\":{\"standoff\":15},\"zerolinecolor\":\"white\",\"zerolinewidth\":2}}},\"legend\":{\"tracegroupgap\":0},\"title\":{\"text\":\"YEARS\"},\"height\":500,\"width\":500},                        {\"responsive\": true}                    ).then(function(){\n",
              "                            \n",
              "var gd = document.getElementById('35e73c2f-168d-45f1-8c57-315bbf87627b');\n",
              "var x = new MutationObserver(function (mutations, observer) {{\n",
              "        var display = window.getComputedStyle(gd).display;\n",
              "        if (!display || display === 'none') {{\n",
              "            console.log([gd, 'removed!']);\n",
              "            Plotly.purge(gd);\n",
              "            observer.disconnect();\n",
              "        }}\n",
              "}});\n",
              "\n",
              "// Listen for the removal of the full notebook cells\n",
              "var notebookContainer = gd.closest('#notebook-container');\n",
              "if (notebookContainer) {{\n",
              "    x.observe(notebookContainer, {childList: true});\n",
              "}}\n",
              "\n",
              "// Listen for the clearing of the current output cell\n",
              "var outputEl = gd.closest('.output');\n",
              "if (outputEl) {{\n",
              "    x.observe(outputEl, {childList: true});\n",
              "}}\n",
              "\n",
              "                        })                };                            </script>        </div>\n",
              "</body>\n",
              "</html>"
            ]
          },
          "metadata": {}
        }
      ]
    },
    {
      "cell_type": "markdown",
      "source": [],
      "metadata": {
        "id": "-RUOGxonjG0q"
      }
    },
    {
      "cell_type": "code",
      "source": [
        "data = data[(data['indicator'] == 'Population') & (data['Year'] == 2021)]\n",
        "data"
      ],
      "metadata": {
        "colab": {
          "base_uri": "https://localhost:8080/",
          "height": 363
        },
        "id": "axdUngk6ZGiY",
        "outputId": "f75e28e9-16f0-4eae-9104-86f96eabc143"
      },
      "execution_count": null,
      "outputs": [
        {
          "output_type": "execute_result",
          "data": {
            "text/plain": [
              "       Unnamed: 0  Year        value   indicator Country Code  \\\n",
              "21666       21666  2021    2811666.0  Population          ALB   \n",
              "27608       27608  2021    2973462.0  Population          JAM   \n",
              "28969       28969  2021   19647681.0  Population          MWI   \n",
              "29155       29155  2021   20855724.0  Population          MLI   \n",
              "29217       29217  2021     516869.0  Population          MLT   \n",
              "29341       29341  2021    4775110.0  Population          MRT   \n",
              "29403       29403  2021    1266060.0  Population          MUS   \n",
              "29465       29465  2021  130262220.0  Population          MEX   \n",
              "29527       29527  2021     116255.0  Population          FSM   \n",
              "29713       29713  2021    3329282.0  Population          MNG   \n",
              "\n",
              "                Country Name                      Region         Income Group  \\\n",
              "21666                Albania       Europe & Central Asia  Upper middle income   \n",
              "27608                Jamaica  Latin America & Caribbean   Upper middle income   \n",
              "28969                 Malawi         Sub-Saharan Africa            Low income   \n",
              "29155                   Mali         Sub-Saharan Africa            Low income   \n",
              "29217                  Malta  Middle East & North Africa          High income   \n",
              "29341             Mauritania         Sub-Saharan Africa   Lower middle income   \n",
              "29403              Mauritius         Sub-Saharan Africa   Upper middle income   \n",
              "29465                 Mexico  Latin America & Caribbean   Upper middle income   \n",
              "29527  Micronesia, Fed. Sts.         East Asia & Pacific  Lower middle income   \n",
              "29713               Mongolia         East Asia & Pacific  Lower middle income   \n",
              "\n",
              "         Lending Type  \n",
              "21666            IBRD  \n",
              "27608            IBRD  \n",
              "28969             IDA  \n",
              "29155             IDA  \n",
              "29217  Not classified  \n",
              "29341             IDA  \n",
              "29403            IBRD  \n",
              "29465            IBRD  \n",
              "29527             IDA  \n",
              "29713            IBRD  "
            ],
            "text/html": [
              "\n",
              "  <div id=\"df-55f6ee7d-10f8-4713-9e33-ba5505c228b4\">\n",
              "    <div class=\"colab-df-container\">\n",
              "      <div>\n",
              "<style scoped>\n",
              "    .dataframe tbody tr th:only-of-type {\n",
              "        vertical-align: middle;\n",
              "    }\n",
              "\n",
              "    .dataframe tbody tr th {\n",
              "        vertical-align: top;\n",
              "    }\n",
              "\n",
              "    .dataframe thead th {\n",
              "        text-align: right;\n",
              "    }\n",
              "</style>\n",
              "<table border=\"1\" class=\"dataframe\">\n",
              "  <thead>\n",
              "    <tr style=\"text-align: right;\">\n",
              "      <th></th>\n",
              "      <th>Unnamed: 0</th>\n",
              "      <th>Year</th>\n",
              "      <th>value</th>\n",
              "      <th>indicator</th>\n",
              "      <th>Country Code</th>\n",
              "      <th>Country Name</th>\n",
              "      <th>Region</th>\n",
              "      <th>Income Group</th>\n",
              "      <th>Lending Type</th>\n",
              "    </tr>\n",
              "  </thead>\n",
              "  <tbody>\n",
              "    <tr>\n",
              "      <th>21666</th>\n",
              "      <td>21666</td>\n",
              "      <td>2021</td>\n",
              "      <td>2811666.0</td>\n",
              "      <td>Population</td>\n",
              "      <td>ALB</td>\n",
              "      <td>Albania</td>\n",
              "      <td>Europe &amp; Central Asia</td>\n",
              "      <td>Upper middle income</td>\n",
              "      <td>IBRD</td>\n",
              "    </tr>\n",
              "    <tr>\n",
              "      <th>27608</th>\n",
              "      <td>27608</td>\n",
              "      <td>2021</td>\n",
              "      <td>2973462.0</td>\n",
              "      <td>Population</td>\n",
              "      <td>JAM</td>\n",
              "      <td>Jamaica</td>\n",
              "      <td>Latin America &amp; Caribbean</td>\n",
              "      <td>Upper middle income</td>\n",
              "      <td>IBRD</td>\n",
              "    </tr>\n",
              "    <tr>\n",
              "      <th>28969</th>\n",
              "      <td>28969</td>\n",
              "      <td>2021</td>\n",
              "      <td>19647681.0</td>\n",
              "      <td>Population</td>\n",
              "      <td>MWI</td>\n",
              "      <td>Malawi</td>\n",
              "      <td>Sub-Saharan Africa</td>\n",
              "      <td>Low income</td>\n",
              "      <td>IDA</td>\n",
              "    </tr>\n",
              "    <tr>\n",
              "      <th>29155</th>\n",
              "      <td>29155</td>\n",
              "      <td>2021</td>\n",
              "      <td>20855724.0</td>\n",
              "      <td>Population</td>\n",
              "      <td>MLI</td>\n",
              "      <td>Mali</td>\n",
              "      <td>Sub-Saharan Africa</td>\n",
              "      <td>Low income</td>\n",
              "      <td>IDA</td>\n",
              "    </tr>\n",
              "    <tr>\n",
              "      <th>29217</th>\n",
              "      <td>29217</td>\n",
              "      <td>2021</td>\n",
              "      <td>516869.0</td>\n",
              "      <td>Population</td>\n",
              "      <td>MLT</td>\n",
              "      <td>Malta</td>\n",
              "      <td>Middle East &amp; North Africa</td>\n",
              "      <td>High income</td>\n",
              "      <td>Not classified</td>\n",
              "    </tr>\n",
              "    <tr>\n",
              "      <th>29341</th>\n",
              "      <td>29341</td>\n",
              "      <td>2021</td>\n",
              "      <td>4775110.0</td>\n",
              "      <td>Population</td>\n",
              "      <td>MRT</td>\n",
              "      <td>Mauritania</td>\n",
              "      <td>Sub-Saharan Africa</td>\n",
              "      <td>Lower middle income</td>\n",
              "      <td>IDA</td>\n",
              "    </tr>\n",
              "    <tr>\n",
              "      <th>29403</th>\n",
              "      <td>29403</td>\n",
              "      <td>2021</td>\n",
              "      <td>1266060.0</td>\n",
              "      <td>Population</td>\n",
              "      <td>MUS</td>\n",
              "      <td>Mauritius</td>\n",
              "      <td>Sub-Saharan Africa</td>\n",
              "      <td>Upper middle income</td>\n",
              "      <td>IBRD</td>\n",
              "    </tr>\n",
              "    <tr>\n",
              "      <th>29465</th>\n",
              "      <td>29465</td>\n",
              "      <td>2021</td>\n",
              "      <td>130262220.0</td>\n",
              "      <td>Population</td>\n",
              "      <td>MEX</td>\n",
              "      <td>Mexico</td>\n",
              "      <td>Latin America &amp; Caribbean</td>\n",
              "      <td>Upper middle income</td>\n",
              "      <td>IBRD</td>\n",
              "    </tr>\n",
              "    <tr>\n",
              "      <th>29527</th>\n",
              "      <td>29527</td>\n",
              "      <td>2021</td>\n",
              "      <td>116255.0</td>\n",
              "      <td>Population</td>\n",
              "      <td>FSM</td>\n",
              "      <td>Micronesia, Fed. Sts.</td>\n",
              "      <td>East Asia &amp; Pacific</td>\n",
              "      <td>Lower middle income</td>\n",
              "      <td>IDA</td>\n",
              "    </tr>\n",
              "    <tr>\n",
              "      <th>29713</th>\n",
              "      <td>29713</td>\n",
              "      <td>2021</td>\n",
              "      <td>3329282.0</td>\n",
              "      <td>Population</td>\n",
              "      <td>MNG</td>\n",
              "      <td>Mongolia</td>\n",
              "      <td>East Asia &amp; Pacific</td>\n",
              "      <td>Lower middle income</td>\n",
              "      <td>IBRD</td>\n",
              "    </tr>\n",
              "  </tbody>\n",
              "</table>\n",
              "</div>\n",
              "      <button class=\"colab-df-convert\" onclick=\"convertToInteractive('df-55f6ee7d-10f8-4713-9e33-ba5505c228b4')\"\n",
              "              title=\"Convert this dataframe to an interactive table.\"\n",
              "              style=\"display:none;\">\n",
              "        \n",
              "  <svg xmlns=\"http://www.w3.org/2000/svg\" height=\"24px\"viewBox=\"0 0 24 24\"\n",
              "       width=\"24px\">\n",
              "    <path d=\"M0 0h24v24H0V0z\" fill=\"none\"/>\n",
              "    <path d=\"M18.56 5.44l.94 2.06.94-2.06 2.06-.94-2.06-.94-.94-2.06-.94 2.06-2.06.94zm-11 1L8.5 8.5l.94-2.06 2.06-.94-2.06-.94L8.5 2.5l-.94 2.06-2.06.94zm10 10l.94 2.06.94-2.06 2.06-.94-2.06-.94-.94-2.06-.94 2.06-2.06.94z\"/><path d=\"M17.41 7.96l-1.37-1.37c-.4-.4-.92-.59-1.43-.59-.52 0-1.04.2-1.43.59L10.3 9.45l-7.72 7.72c-.78.78-.78 2.05 0 2.83L4 21.41c.39.39.9.59 1.41.59.51 0 1.02-.2 1.41-.59l7.78-7.78 2.81-2.81c.8-.78.8-2.07 0-2.86zM5.41 20L4 18.59l7.72-7.72 1.47 1.35L5.41 20z\"/>\n",
              "  </svg>\n",
              "      </button>\n",
              "      \n",
              "  <style>\n",
              "    .colab-df-container {\n",
              "      display:flex;\n",
              "      flex-wrap:wrap;\n",
              "      gap: 12px;\n",
              "    }\n",
              "\n",
              "    .colab-df-convert {\n",
              "      background-color: #E8F0FE;\n",
              "      border: none;\n",
              "      border-radius: 50%;\n",
              "      cursor: pointer;\n",
              "      display: none;\n",
              "      fill: #1967D2;\n",
              "      height: 32px;\n",
              "      padding: 0 0 0 0;\n",
              "      width: 32px;\n",
              "    }\n",
              "\n",
              "    .colab-df-convert:hover {\n",
              "      background-color: #E2EBFA;\n",
              "      box-shadow: 0px 1px 2px rgba(60, 64, 67, 0.3), 0px 1px 3px 1px rgba(60, 64, 67, 0.15);\n",
              "      fill: #174EA6;\n",
              "    }\n",
              "\n",
              "    [theme=dark] .colab-df-convert {\n",
              "      background-color: #3B4455;\n",
              "      fill: #D2E3FC;\n",
              "    }\n",
              "\n",
              "    [theme=dark] .colab-df-convert:hover {\n",
              "      background-color: #434B5C;\n",
              "      box-shadow: 0px 1px 3px 1px rgba(0, 0, 0, 0.15);\n",
              "      filter: drop-shadow(0px 1px 2px rgba(0, 0, 0, 0.3));\n",
              "      fill: #FFFFFF;\n",
              "    }\n",
              "  </style>\n",
              "\n",
              "      <script>\n",
              "        const buttonEl =\n",
              "          document.querySelector('#df-55f6ee7d-10f8-4713-9e33-ba5505c228b4 button.colab-df-convert');\n",
              "        buttonEl.style.display =\n",
              "          google.colab.kernel.accessAllowed ? 'block' : 'none';\n",
              "\n",
              "        async function convertToInteractive(key) {\n",
              "          const element = document.querySelector('#df-55f6ee7d-10f8-4713-9e33-ba5505c228b4');\n",
              "          const dataTable =\n",
              "            await google.colab.kernel.invokeFunction('convertToInteractive',\n",
              "                                                     [key], {});\n",
              "          if (!dataTable) return;\n",
              "\n",
              "          const docLinkHtml = 'Like what you see? Visit the ' +\n",
              "            '<a target=\"_blank\" href=https://colab.research.google.com/notebooks/data_table.ipynb>data table notebook</a>'\n",
              "            + ' to learn more about interactive tables.';\n",
              "          element.innerHTML = '';\n",
              "          dataTable['output_type'] = 'display_data';\n",
              "          await google.colab.output.renderOutput(dataTable, element);\n",
              "          const docLink = document.createElement('div');\n",
              "          docLink.innerHTML = docLinkHtml;\n",
              "          element.appendChild(docLink);\n",
              "        }\n",
              "      </script>\n",
              "    </div>\n",
              "  </div>\n",
              "  "
            ]
          },
          "metadata": {},
          "execution_count": 446
        }
      ]
    },
    {
      "cell_type": "code",
      "source": [
        "fig = px.pie(data, values='value', names='Region', title='YEARS', width = 500 , height = 500)\n",
        "fig.show()"
      ],
      "metadata": {
        "colab": {
          "base_uri": "https://localhost:8080/",
          "height": 517
        },
        "id": "S0uwNvdXdoSA",
        "outputId": "6745cea9-1990-4cd7-d042-3a0ed216fdcc"
      },
      "execution_count": null,
      "outputs": [
        {
          "output_type": "display_data",
          "data": {
            "text/html": [
              "<html>\n",
              "<head><meta charset=\"utf-8\" /></head>\n",
              "<body>\n",
              "    <div>            <script src=\"https://cdnjs.cloudflare.com/ajax/libs/mathjax/2.7.5/MathJax.js?config=TeX-AMS-MML_SVG\"></script><script type=\"text/javascript\">if (window.MathJax) {MathJax.Hub.Config({SVG: {font: \"STIX-Web\"}});}</script>                <script type=\"text/javascript\">window.PlotlyConfig = {MathJaxConfig: 'local'};</script>\n",
              "        <script src=\"https://cdn.plot.ly/plotly-2.8.3.min.js\"></script>                <div id=\"da544201-9807-47e4-b6a4-c10907aa03c0\" class=\"plotly-graph-div\" style=\"height:500px; width:500px;\"></div>            <script type=\"text/javascript\">                                    window.PLOTLYENV=window.PLOTLYENV || {};                                    if (document.getElementById(\"da544201-9807-47e4-b6a4-c10907aa03c0\")) {                    Plotly.newPlot(                        \"da544201-9807-47e4-b6a4-c10907aa03c0\",                        [{\"domain\":{\"x\":[0.0,1.0],\"y\":[0.0,1.0]},\"hovertemplate\":\"Region=%{label}<br>value=%{value}<extra></extra>\",\"labels\":[\"Europe & Central Asia\",\"Latin America & Caribbean \",\"Sub-Saharan Africa \",\"Sub-Saharan Africa \",\"Middle East & North Africa\",\"Sub-Saharan Africa \",\"Sub-Saharan Africa \",\"Latin America & Caribbean \",\"East Asia & Pacific\",\"East Asia & Pacific\"],\"legendgroup\":\"\",\"name\":\"\",\"showlegend\":true,\"values\":[2811666.0,2973462.0,19647681.0,20855724.0,516869.0,4775110.0,1266060.0,130262220.0,116255.0,3329282.0],\"type\":\"pie\"}],                        {\"template\":{\"data\":{\"bar\":[{\"error_x\":{\"color\":\"#2a3f5f\"},\"error_y\":{\"color\":\"#2a3f5f\"},\"marker\":{\"line\":{\"color\":\"#E5ECF6\",\"width\":0.5},\"pattern\":{\"fillmode\":\"overlay\",\"size\":10,\"solidity\":0.2}},\"type\":\"bar\"}],\"barpolar\":[{\"marker\":{\"line\":{\"color\":\"#E5ECF6\",\"width\":0.5},\"pattern\":{\"fillmode\":\"overlay\",\"size\":10,\"solidity\":0.2}},\"type\":\"barpolar\"}],\"carpet\":[{\"aaxis\":{\"endlinecolor\":\"#2a3f5f\",\"gridcolor\":\"white\",\"linecolor\":\"white\",\"minorgridcolor\":\"white\",\"startlinecolor\":\"#2a3f5f\"},\"baxis\":{\"endlinecolor\":\"#2a3f5f\",\"gridcolor\":\"white\",\"linecolor\":\"white\",\"minorgridcolor\":\"white\",\"startlinecolor\":\"#2a3f5f\"},\"type\":\"carpet\"}],\"choropleth\":[{\"colorbar\":{\"outlinewidth\":0,\"ticks\":\"\"},\"type\":\"choropleth\"}],\"contour\":[{\"colorbar\":{\"outlinewidth\":0,\"ticks\":\"\"},\"colorscale\":[[0.0,\"#0d0887\"],[0.1111111111111111,\"#46039f\"],[0.2222222222222222,\"#7201a8\"],[0.3333333333333333,\"#9c179e\"],[0.4444444444444444,\"#bd3786\"],[0.5555555555555556,\"#d8576b\"],[0.6666666666666666,\"#ed7953\"],[0.7777777777777778,\"#fb9f3a\"],[0.8888888888888888,\"#fdca26\"],[1.0,\"#f0f921\"]],\"type\":\"contour\"}],\"contourcarpet\":[{\"colorbar\":{\"outlinewidth\":0,\"ticks\":\"\"},\"type\":\"contourcarpet\"}],\"heatmap\":[{\"colorbar\":{\"outlinewidth\":0,\"ticks\":\"\"},\"colorscale\":[[0.0,\"#0d0887\"],[0.1111111111111111,\"#46039f\"],[0.2222222222222222,\"#7201a8\"],[0.3333333333333333,\"#9c179e\"],[0.4444444444444444,\"#bd3786\"],[0.5555555555555556,\"#d8576b\"],[0.6666666666666666,\"#ed7953\"],[0.7777777777777778,\"#fb9f3a\"],[0.8888888888888888,\"#fdca26\"],[1.0,\"#f0f921\"]],\"type\":\"heatmap\"}],\"heatmapgl\":[{\"colorbar\":{\"outlinewidth\":0,\"ticks\":\"\"},\"colorscale\":[[0.0,\"#0d0887\"],[0.1111111111111111,\"#46039f\"],[0.2222222222222222,\"#7201a8\"],[0.3333333333333333,\"#9c179e\"],[0.4444444444444444,\"#bd3786\"],[0.5555555555555556,\"#d8576b\"],[0.6666666666666666,\"#ed7953\"],[0.7777777777777778,\"#fb9f3a\"],[0.8888888888888888,\"#fdca26\"],[1.0,\"#f0f921\"]],\"type\":\"heatmapgl\"}],\"histogram\":[{\"marker\":{\"pattern\":{\"fillmode\":\"overlay\",\"size\":10,\"solidity\":0.2}},\"type\":\"histogram\"}],\"histogram2d\":[{\"colorbar\":{\"outlinewidth\":0,\"ticks\":\"\"},\"colorscale\":[[0.0,\"#0d0887\"],[0.1111111111111111,\"#46039f\"],[0.2222222222222222,\"#7201a8\"],[0.3333333333333333,\"#9c179e\"],[0.4444444444444444,\"#bd3786\"],[0.5555555555555556,\"#d8576b\"],[0.6666666666666666,\"#ed7953\"],[0.7777777777777778,\"#fb9f3a\"],[0.8888888888888888,\"#fdca26\"],[1.0,\"#f0f921\"]],\"type\":\"histogram2d\"}],\"histogram2dcontour\":[{\"colorbar\":{\"outlinewidth\":0,\"ticks\":\"\"},\"colorscale\":[[0.0,\"#0d0887\"],[0.1111111111111111,\"#46039f\"],[0.2222222222222222,\"#7201a8\"],[0.3333333333333333,\"#9c179e\"],[0.4444444444444444,\"#bd3786\"],[0.5555555555555556,\"#d8576b\"],[0.6666666666666666,\"#ed7953\"],[0.7777777777777778,\"#fb9f3a\"],[0.8888888888888888,\"#fdca26\"],[1.0,\"#f0f921\"]],\"type\":\"histogram2dcontour\"}],\"mesh3d\":[{\"colorbar\":{\"outlinewidth\":0,\"ticks\":\"\"},\"type\":\"mesh3d\"}],\"parcoords\":[{\"line\":{\"colorbar\":{\"outlinewidth\":0,\"ticks\":\"\"}},\"type\":\"parcoords\"}],\"pie\":[{\"automargin\":true,\"type\":\"pie\"}],\"scatter\":[{\"marker\":{\"colorbar\":{\"outlinewidth\":0,\"ticks\":\"\"}},\"type\":\"scatter\"}],\"scatter3d\":[{\"line\":{\"colorbar\":{\"outlinewidth\":0,\"ticks\":\"\"}},\"marker\":{\"colorbar\":{\"outlinewidth\":0,\"ticks\":\"\"}},\"type\":\"scatter3d\"}],\"scattercarpet\":[{\"marker\":{\"colorbar\":{\"outlinewidth\":0,\"ticks\":\"\"}},\"type\":\"scattercarpet\"}],\"scattergeo\":[{\"marker\":{\"colorbar\":{\"outlinewidth\":0,\"ticks\":\"\"}},\"type\":\"scattergeo\"}],\"scattergl\":[{\"marker\":{\"colorbar\":{\"outlinewidth\":0,\"ticks\":\"\"}},\"type\":\"scattergl\"}],\"scattermapbox\":[{\"marker\":{\"colorbar\":{\"outlinewidth\":0,\"ticks\":\"\"}},\"type\":\"scattermapbox\"}],\"scatterpolar\":[{\"marker\":{\"colorbar\":{\"outlinewidth\":0,\"ticks\":\"\"}},\"type\":\"scatterpolar\"}],\"scatterpolargl\":[{\"marker\":{\"colorbar\":{\"outlinewidth\":0,\"ticks\":\"\"}},\"type\":\"scatterpolargl\"}],\"scatterternary\":[{\"marker\":{\"colorbar\":{\"outlinewidth\":0,\"ticks\":\"\"}},\"type\":\"scatterternary\"}],\"surface\":[{\"colorbar\":{\"outlinewidth\":0,\"ticks\":\"\"},\"colorscale\":[[0.0,\"#0d0887\"],[0.1111111111111111,\"#46039f\"],[0.2222222222222222,\"#7201a8\"],[0.3333333333333333,\"#9c179e\"],[0.4444444444444444,\"#bd3786\"],[0.5555555555555556,\"#d8576b\"],[0.6666666666666666,\"#ed7953\"],[0.7777777777777778,\"#fb9f3a\"],[0.8888888888888888,\"#fdca26\"],[1.0,\"#f0f921\"]],\"type\":\"surface\"}],\"table\":[{\"cells\":{\"fill\":{\"color\":\"#EBF0F8\"},\"line\":{\"color\":\"white\"}},\"header\":{\"fill\":{\"color\":\"#C8D4E3\"},\"line\":{\"color\":\"white\"}},\"type\":\"table\"}]},\"layout\":{\"annotationdefaults\":{\"arrowcolor\":\"#2a3f5f\",\"arrowhead\":0,\"arrowwidth\":1},\"autotypenumbers\":\"strict\",\"coloraxis\":{\"colorbar\":{\"outlinewidth\":0,\"ticks\":\"\"}},\"colorscale\":{\"diverging\":[[0,\"#8e0152\"],[0.1,\"#c51b7d\"],[0.2,\"#de77ae\"],[0.3,\"#f1b6da\"],[0.4,\"#fde0ef\"],[0.5,\"#f7f7f7\"],[0.6,\"#e6f5d0\"],[0.7,\"#b8e186\"],[0.8,\"#7fbc41\"],[0.9,\"#4d9221\"],[1,\"#276419\"]],\"sequential\":[[0.0,\"#0d0887\"],[0.1111111111111111,\"#46039f\"],[0.2222222222222222,\"#7201a8\"],[0.3333333333333333,\"#9c179e\"],[0.4444444444444444,\"#bd3786\"],[0.5555555555555556,\"#d8576b\"],[0.6666666666666666,\"#ed7953\"],[0.7777777777777778,\"#fb9f3a\"],[0.8888888888888888,\"#fdca26\"],[1.0,\"#f0f921\"]],\"sequentialminus\":[[0.0,\"#0d0887\"],[0.1111111111111111,\"#46039f\"],[0.2222222222222222,\"#7201a8\"],[0.3333333333333333,\"#9c179e\"],[0.4444444444444444,\"#bd3786\"],[0.5555555555555556,\"#d8576b\"],[0.6666666666666666,\"#ed7953\"],[0.7777777777777778,\"#fb9f3a\"],[0.8888888888888888,\"#fdca26\"],[1.0,\"#f0f921\"]]},\"colorway\":[\"#636efa\",\"#EF553B\",\"#00cc96\",\"#ab63fa\",\"#FFA15A\",\"#19d3f3\",\"#FF6692\",\"#B6E880\",\"#FF97FF\",\"#FECB52\"],\"font\":{\"color\":\"#2a3f5f\"},\"geo\":{\"bgcolor\":\"white\",\"lakecolor\":\"white\",\"landcolor\":\"#E5ECF6\",\"showlakes\":true,\"showland\":true,\"subunitcolor\":\"white\"},\"hoverlabel\":{\"align\":\"left\"},\"hovermode\":\"closest\",\"mapbox\":{\"style\":\"light\"},\"paper_bgcolor\":\"white\",\"plot_bgcolor\":\"#E5ECF6\",\"polar\":{\"angularaxis\":{\"gridcolor\":\"white\",\"linecolor\":\"white\",\"ticks\":\"\"},\"bgcolor\":\"#E5ECF6\",\"radialaxis\":{\"gridcolor\":\"white\",\"linecolor\":\"white\",\"ticks\":\"\"}},\"scene\":{\"xaxis\":{\"backgroundcolor\":\"#E5ECF6\",\"gridcolor\":\"white\",\"gridwidth\":2,\"linecolor\":\"white\",\"showbackground\":true,\"ticks\":\"\",\"zerolinecolor\":\"white\"},\"yaxis\":{\"backgroundcolor\":\"#E5ECF6\",\"gridcolor\":\"white\",\"gridwidth\":2,\"linecolor\":\"white\",\"showbackground\":true,\"ticks\":\"\",\"zerolinecolor\":\"white\"},\"zaxis\":{\"backgroundcolor\":\"#E5ECF6\",\"gridcolor\":\"white\",\"gridwidth\":2,\"linecolor\":\"white\",\"showbackground\":true,\"ticks\":\"\",\"zerolinecolor\":\"white\"}},\"shapedefaults\":{\"line\":{\"color\":\"#2a3f5f\"}},\"ternary\":{\"aaxis\":{\"gridcolor\":\"white\",\"linecolor\":\"white\",\"ticks\":\"\"},\"baxis\":{\"gridcolor\":\"white\",\"linecolor\":\"white\",\"ticks\":\"\"},\"bgcolor\":\"#E5ECF6\",\"caxis\":{\"gridcolor\":\"white\",\"linecolor\":\"white\",\"ticks\":\"\"}},\"title\":{\"x\":0.05},\"xaxis\":{\"automargin\":true,\"gridcolor\":\"white\",\"linecolor\":\"white\",\"ticks\":\"\",\"title\":{\"standoff\":15},\"zerolinecolor\":\"white\",\"zerolinewidth\":2},\"yaxis\":{\"automargin\":true,\"gridcolor\":\"white\",\"linecolor\":\"white\",\"ticks\":\"\",\"title\":{\"standoff\":15},\"zerolinecolor\":\"white\",\"zerolinewidth\":2}}},\"legend\":{\"tracegroupgap\":0},\"title\":{\"text\":\"YEARS\"},\"height\":500,\"width\":500},                        {\"responsive\": true}                    ).then(function(){\n",
              "                            \n",
              "var gd = document.getElementById('da544201-9807-47e4-b6a4-c10907aa03c0');\n",
              "var x = new MutationObserver(function (mutations, observer) {{\n",
              "        var display = window.getComputedStyle(gd).display;\n",
              "        if (!display || display === 'none') {{\n",
              "            console.log([gd, 'removed!']);\n",
              "            Plotly.purge(gd);\n",
              "            observer.disconnect();\n",
              "        }}\n",
              "}});\n",
              "\n",
              "// Listen for the removal of the full notebook cells\n",
              "var notebookContainer = gd.closest('#notebook-container');\n",
              "if (notebookContainer) {{\n",
              "    x.observe(notebookContainer, {childList: true});\n",
              "}}\n",
              "\n",
              "// Listen for the clearing of the current output cell\n",
              "var outputEl = gd.closest('.output');\n",
              "if (outputEl) {{\n",
              "    x.observe(outputEl, {childList: true});\n",
              "}}\n",
              "\n",
              "                        })                };                            </script>        </div>\n",
              "</body>\n",
              "</html>"
            ]
          },
          "metadata": {}
        }
      ]
    },
    {
      "cell_type": "code",
      "source": [
        "fig = px.bar(data, y='value', x='Region', title='DISTRIBUTION YEARLY IN BAR GRAPH', width = 1000 , height = 500)\n",
        "fig.show()"
      ],
      "metadata": {
        "id": "QvetiyiNAJ0t",
        "outputId": "f10ebca6-984c-4848-b031-14859aae4601",
        "colab": {
          "base_uri": "https://localhost:8080/",
          "height": 517
        }
      },
      "execution_count": null,
      "outputs": [
        {
          "output_type": "display_data",
          "data": {
            "text/html": [
              "<html>\n",
              "<head><meta charset=\"utf-8\" /></head>\n",
              "<body>\n",
              "    <div>            <script src=\"https://cdnjs.cloudflare.com/ajax/libs/mathjax/2.7.5/MathJax.js?config=TeX-AMS-MML_SVG\"></script><script type=\"text/javascript\">if (window.MathJax) {MathJax.Hub.Config({SVG: {font: \"STIX-Web\"}});}</script>                <script type=\"text/javascript\">window.PlotlyConfig = {MathJaxConfig: 'local'};</script>\n",
              "        <script src=\"https://cdn.plot.ly/plotly-2.8.3.min.js\"></script>                <div id=\"3cf7e64e-0ded-4fe6-9e72-d7869fe0d3a9\" class=\"plotly-graph-div\" style=\"height:500px; width:1000px;\"></div>            <script type=\"text/javascript\">                                    window.PLOTLYENV=window.PLOTLYENV || {};                                    if (document.getElementById(\"3cf7e64e-0ded-4fe6-9e72-d7869fe0d3a9\")) {                    Plotly.newPlot(                        \"3cf7e64e-0ded-4fe6-9e72-d7869fe0d3a9\",                        [{\"alignmentgroup\":\"True\",\"hovertemplate\":\"Region=%{x}<br>value=%{y}<extra></extra>\",\"legendgroup\":\"\",\"marker\":{\"color\":\"#636efa\",\"pattern\":{\"shape\":\"\"}},\"name\":\"\",\"offsetgroup\":\"\",\"orientation\":\"v\",\"showlegend\":false,\"textposition\":\"auto\",\"x\":[\"Europe & Central Asia\",\"Latin America & Caribbean \",\"Sub-Saharan Africa \",\"Sub-Saharan Africa \",\"Middle East & North Africa\",\"Sub-Saharan Africa \",\"Sub-Saharan Africa \",\"Latin America & Caribbean \",\"East Asia & Pacific\",\"East Asia & Pacific\"],\"xaxis\":\"x\",\"y\":[2811666.0,2973462.0,19647681.0,20855724.0,516869.0,4775110.0,1266060.0,130262220.0,116255.0,3329282.0],\"yaxis\":\"y\",\"type\":\"bar\"}],                        {\"template\":{\"data\":{\"bar\":[{\"error_x\":{\"color\":\"#2a3f5f\"},\"error_y\":{\"color\":\"#2a3f5f\"},\"marker\":{\"line\":{\"color\":\"#E5ECF6\",\"width\":0.5},\"pattern\":{\"fillmode\":\"overlay\",\"size\":10,\"solidity\":0.2}},\"type\":\"bar\"}],\"barpolar\":[{\"marker\":{\"line\":{\"color\":\"#E5ECF6\",\"width\":0.5},\"pattern\":{\"fillmode\":\"overlay\",\"size\":10,\"solidity\":0.2}},\"type\":\"barpolar\"}],\"carpet\":[{\"aaxis\":{\"endlinecolor\":\"#2a3f5f\",\"gridcolor\":\"white\",\"linecolor\":\"white\",\"minorgridcolor\":\"white\",\"startlinecolor\":\"#2a3f5f\"},\"baxis\":{\"endlinecolor\":\"#2a3f5f\",\"gridcolor\":\"white\",\"linecolor\":\"white\",\"minorgridcolor\":\"white\",\"startlinecolor\":\"#2a3f5f\"},\"type\":\"carpet\"}],\"choropleth\":[{\"colorbar\":{\"outlinewidth\":0,\"ticks\":\"\"},\"type\":\"choropleth\"}],\"contour\":[{\"colorbar\":{\"outlinewidth\":0,\"ticks\":\"\"},\"colorscale\":[[0.0,\"#0d0887\"],[0.1111111111111111,\"#46039f\"],[0.2222222222222222,\"#7201a8\"],[0.3333333333333333,\"#9c179e\"],[0.4444444444444444,\"#bd3786\"],[0.5555555555555556,\"#d8576b\"],[0.6666666666666666,\"#ed7953\"],[0.7777777777777778,\"#fb9f3a\"],[0.8888888888888888,\"#fdca26\"],[1.0,\"#f0f921\"]],\"type\":\"contour\"}],\"contourcarpet\":[{\"colorbar\":{\"outlinewidth\":0,\"ticks\":\"\"},\"type\":\"contourcarpet\"}],\"heatmap\":[{\"colorbar\":{\"outlinewidth\":0,\"ticks\":\"\"},\"colorscale\":[[0.0,\"#0d0887\"],[0.1111111111111111,\"#46039f\"],[0.2222222222222222,\"#7201a8\"],[0.3333333333333333,\"#9c179e\"],[0.4444444444444444,\"#bd3786\"],[0.5555555555555556,\"#d8576b\"],[0.6666666666666666,\"#ed7953\"],[0.7777777777777778,\"#fb9f3a\"],[0.8888888888888888,\"#fdca26\"],[1.0,\"#f0f921\"]],\"type\":\"heatmap\"}],\"heatmapgl\":[{\"colorbar\":{\"outlinewidth\":0,\"ticks\":\"\"},\"colorscale\":[[0.0,\"#0d0887\"],[0.1111111111111111,\"#46039f\"],[0.2222222222222222,\"#7201a8\"],[0.3333333333333333,\"#9c179e\"],[0.4444444444444444,\"#bd3786\"],[0.5555555555555556,\"#d8576b\"],[0.6666666666666666,\"#ed7953\"],[0.7777777777777778,\"#fb9f3a\"],[0.8888888888888888,\"#fdca26\"],[1.0,\"#f0f921\"]],\"type\":\"heatmapgl\"}],\"histogram\":[{\"marker\":{\"pattern\":{\"fillmode\":\"overlay\",\"size\":10,\"solidity\":0.2}},\"type\":\"histogram\"}],\"histogram2d\":[{\"colorbar\":{\"outlinewidth\":0,\"ticks\":\"\"},\"colorscale\":[[0.0,\"#0d0887\"],[0.1111111111111111,\"#46039f\"],[0.2222222222222222,\"#7201a8\"],[0.3333333333333333,\"#9c179e\"],[0.4444444444444444,\"#bd3786\"],[0.5555555555555556,\"#d8576b\"],[0.6666666666666666,\"#ed7953\"],[0.7777777777777778,\"#fb9f3a\"],[0.8888888888888888,\"#fdca26\"],[1.0,\"#f0f921\"]],\"type\":\"histogram2d\"}],\"histogram2dcontour\":[{\"colorbar\":{\"outlinewidth\":0,\"ticks\":\"\"},\"colorscale\":[[0.0,\"#0d0887\"],[0.1111111111111111,\"#46039f\"],[0.2222222222222222,\"#7201a8\"],[0.3333333333333333,\"#9c179e\"],[0.4444444444444444,\"#bd3786\"],[0.5555555555555556,\"#d8576b\"],[0.6666666666666666,\"#ed7953\"],[0.7777777777777778,\"#fb9f3a\"],[0.8888888888888888,\"#fdca26\"],[1.0,\"#f0f921\"]],\"type\":\"histogram2dcontour\"}],\"mesh3d\":[{\"colorbar\":{\"outlinewidth\":0,\"ticks\":\"\"},\"type\":\"mesh3d\"}],\"parcoords\":[{\"line\":{\"colorbar\":{\"outlinewidth\":0,\"ticks\":\"\"}},\"type\":\"parcoords\"}],\"pie\":[{\"automargin\":true,\"type\":\"pie\"}],\"scatter\":[{\"marker\":{\"colorbar\":{\"outlinewidth\":0,\"ticks\":\"\"}},\"type\":\"scatter\"}],\"scatter3d\":[{\"line\":{\"colorbar\":{\"outlinewidth\":0,\"ticks\":\"\"}},\"marker\":{\"colorbar\":{\"outlinewidth\":0,\"ticks\":\"\"}},\"type\":\"scatter3d\"}],\"scattercarpet\":[{\"marker\":{\"colorbar\":{\"outlinewidth\":0,\"ticks\":\"\"}},\"type\":\"scattercarpet\"}],\"scattergeo\":[{\"marker\":{\"colorbar\":{\"outlinewidth\":0,\"ticks\":\"\"}},\"type\":\"scattergeo\"}],\"scattergl\":[{\"marker\":{\"colorbar\":{\"outlinewidth\":0,\"ticks\":\"\"}},\"type\":\"scattergl\"}],\"scattermapbox\":[{\"marker\":{\"colorbar\":{\"outlinewidth\":0,\"ticks\":\"\"}},\"type\":\"scattermapbox\"}],\"scatterpolar\":[{\"marker\":{\"colorbar\":{\"outlinewidth\":0,\"ticks\":\"\"}},\"type\":\"scatterpolar\"}],\"scatterpolargl\":[{\"marker\":{\"colorbar\":{\"outlinewidth\":0,\"ticks\":\"\"}},\"type\":\"scatterpolargl\"}],\"scatterternary\":[{\"marker\":{\"colorbar\":{\"outlinewidth\":0,\"ticks\":\"\"}},\"type\":\"scatterternary\"}],\"surface\":[{\"colorbar\":{\"outlinewidth\":0,\"ticks\":\"\"},\"colorscale\":[[0.0,\"#0d0887\"],[0.1111111111111111,\"#46039f\"],[0.2222222222222222,\"#7201a8\"],[0.3333333333333333,\"#9c179e\"],[0.4444444444444444,\"#bd3786\"],[0.5555555555555556,\"#d8576b\"],[0.6666666666666666,\"#ed7953\"],[0.7777777777777778,\"#fb9f3a\"],[0.8888888888888888,\"#fdca26\"],[1.0,\"#f0f921\"]],\"type\":\"surface\"}],\"table\":[{\"cells\":{\"fill\":{\"color\":\"#EBF0F8\"},\"line\":{\"color\":\"white\"}},\"header\":{\"fill\":{\"color\":\"#C8D4E3\"},\"line\":{\"color\":\"white\"}},\"type\":\"table\"}]},\"layout\":{\"annotationdefaults\":{\"arrowcolor\":\"#2a3f5f\",\"arrowhead\":0,\"arrowwidth\":1},\"autotypenumbers\":\"strict\",\"coloraxis\":{\"colorbar\":{\"outlinewidth\":0,\"ticks\":\"\"}},\"colorscale\":{\"diverging\":[[0,\"#8e0152\"],[0.1,\"#c51b7d\"],[0.2,\"#de77ae\"],[0.3,\"#f1b6da\"],[0.4,\"#fde0ef\"],[0.5,\"#f7f7f7\"],[0.6,\"#e6f5d0\"],[0.7,\"#b8e186\"],[0.8,\"#7fbc41\"],[0.9,\"#4d9221\"],[1,\"#276419\"]],\"sequential\":[[0.0,\"#0d0887\"],[0.1111111111111111,\"#46039f\"],[0.2222222222222222,\"#7201a8\"],[0.3333333333333333,\"#9c179e\"],[0.4444444444444444,\"#bd3786\"],[0.5555555555555556,\"#d8576b\"],[0.6666666666666666,\"#ed7953\"],[0.7777777777777778,\"#fb9f3a\"],[0.8888888888888888,\"#fdca26\"],[1.0,\"#f0f921\"]],\"sequentialminus\":[[0.0,\"#0d0887\"],[0.1111111111111111,\"#46039f\"],[0.2222222222222222,\"#7201a8\"],[0.3333333333333333,\"#9c179e\"],[0.4444444444444444,\"#bd3786\"],[0.5555555555555556,\"#d8576b\"],[0.6666666666666666,\"#ed7953\"],[0.7777777777777778,\"#fb9f3a\"],[0.8888888888888888,\"#fdca26\"],[1.0,\"#f0f921\"]]},\"colorway\":[\"#636efa\",\"#EF553B\",\"#00cc96\",\"#ab63fa\",\"#FFA15A\",\"#19d3f3\",\"#FF6692\",\"#B6E880\",\"#FF97FF\",\"#FECB52\"],\"font\":{\"color\":\"#2a3f5f\"},\"geo\":{\"bgcolor\":\"white\",\"lakecolor\":\"white\",\"landcolor\":\"#E5ECF6\",\"showlakes\":true,\"showland\":true,\"subunitcolor\":\"white\"},\"hoverlabel\":{\"align\":\"left\"},\"hovermode\":\"closest\",\"mapbox\":{\"style\":\"light\"},\"paper_bgcolor\":\"white\",\"plot_bgcolor\":\"#E5ECF6\",\"polar\":{\"angularaxis\":{\"gridcolor\":\"white\",\"linecolor\":\"white\",\"ticks\":\"\"},\"bgcolor\":\"#E5ECF6\",\"radialaxis\":{\"gridcolor\":\"white\",\"linecolor\":\"white\",\"ticks\":\"\"}},\"scene\":{\"xaxis\":{\"backgroundcolor\":\"#E5ECF6\",\"gridcolor\":\"white\",\"gridwidth\":2,\"linecolor\":\"white\",\"showbackground\":true,\"ticks\":\"\",\"zerolinecolor\":\"white\"},\"yaxis\":{\"backgroundcolor\":\"#E5ECF6\",\"gridcolor\":\"white\",\"gridwidth\":2,\"linecolor\":\"white\",\"showbackground\":true,\"ticks\":\"\",\"zerolinecolor\":\"white\"},\"zaxis\":{\"backgroundcolor\":\"#E5ECF6\",\"gridcolor\":\"white\",\"gridwidth\":2,\"linecolor\":\"white\",\"showbackground\":true,\"ticks\":\"\",\"zerolinecolor\":\"white\"}},\"shapedefaults\":{\"line\":{\"color\":\"#2a3f5f\"}},\"ternary\":{\"aaxis\":{\"gridcolor\":\"white\",\"linecolor\":\"white\",\"ticks\":\"\"},\"baxis\":{\"gridcolor\":\"white\",\"linecolor\":\"white\",\"ticks\":\"\"},\"bgcolor\":\"#E5ECF6\",\"caxis\":{\"gridcolor\":\"white\",\"linecolor\":\"white\",\"ticks\":\"\"}},\"title\":{\"x\":0.05},\"xaxis\":{\"automargin\":true,\"gridcolor\":\"white\",\"linecolor\":\"white\",\"ticks\":\"\",\"title\":{\"standoff\":15},\"zerolinecolor\":\"white\",\"zerolinewidth\":2},\"yaxis\":{\"automargin\":true,\"gridcolor\":\"white\",\"linecolor\":\"white\",\"ticks\":\"\",\"title\":{\"standoff\":15},\"zerolinecolor\":\"white\",\"zerolinewidth\":2}}},\"xaxis\":{\"anchor\":\"y\",\"domain\":[0.0,1.0],\"title\":{\"text\":\"Region\"}},\"yaxis\":{\"anchor\":\"x\",\"domain\":[0.0,1.0],\"title\":{\"text\":\"value\"}},\"legend\":{\"tracegroupgap\":0},\"title\":{\"text\":\"DISTRIBUTION YEARLY IN BAR GRAPH\"},\"barmode\":\"relative\",\"height\":500,\"width\":1000},                        {\"responsive\": true}                    ).then(function(){\n",
              "                            \n",
              "var gd = document.getElementById('3cf7e64e-0ded-4fe6-9e72-d7869fe0d3a9');\n",
              "var x = new MutationObserver(function (mutations, observer) {{\n",
              "        var display = window.getComputedStyle(gd).display;\n",
              "        if (!display || display === 'none') {{\n",
              "            console.log([gd, 'removed!']);\n",
              "            Plotly.purge(gd);\n",
              "            observer.disconnect();\n",
              "        }}\n",
              "}});\n",
              "\n",
              "// Listen for the removal of the full notebook cells\n",
              "var notebookContainer = gd.closest('#notebook-container');\n",
              "if (notebookContainer) {{\n",
              "    x.observe(notebookContainer, {childList: true});\n",
              "}}\n",
              "\n",
              "// Listen for the clearing of the current output cell\n",
              "var outputEl = gd.closest('.output');\n",
              "if (outputEl) {{\n",
              "    x.observe(outputEl, {childList: true});\n",
              "}}\n",
              "\n",
              "                        })                };                            </script>        </div>\n",
              "</body>\n",
              "</html>"
            ]
          },
          "metadata": {}
        }
      ]
    },
    {
      "cell_type": "code",
      "source": [
        "dt1 = pd.pivot_table(data, values = 'value', index=['Country Code', 'Country Name','Year'], columns = 'indicator').reset_index()"
      ],
      "metadata": {
        "id": "fNpbGPgD11-X"
      },
      "execution_count": 8,
      "outputs": []
    },
    {
      "cell_type": "code",
      "source": [
        "fig = px.scatter(\n",
        "    dt1.query('Year == 2020'),\n",
        "    x=\"NY.GDP.PCAP.PP.CD\",\n",
        "    y=\"SP.DYN.LE00.IN\", \n",
        "    title=\"Wealth vs Health\", \n",
        "    color=\"Country Name\", \n",
        "    template=\"plotly_dark\"\n",
        ")\n",
        "fig.update_layout(showlegend=False)\n",
        "fig.show()"
      ],
      "metadata": {
        "id": "4LQ6OZKi2k-W",
        "outputId": "cd4962e6-bea9-40e0-abfa-59523abd7260",
        "colab": {
          "base_uri": "https://localhost:8080/",
          "height": 542
        }
      },
      "execution_count": 10,
      "outputs": [
        {
          "output_type": "display_data",
          "data": {
            "text/html": [
              "<html>\n",
              "<head><meta charset=\"utf-8\" /></head>\n",
              "<body>\n",
              "    <div>            <script src=\"https://cdnjs.cloudflare.com/ajax/libs/mathjax/2.7.5/MathJax.js?config=TeX-AMS-MML_SVG\"></script><script type=\"text/javascript\">if (window.MathJax) {MathJax.Hub.Config({SVG: {font: \"STIX-Web\"}});}</script>                <script type=\"text/javascript\">window.PlotlyConfig = {MathJaxConfig: 'local'};</script>\n",
              "        <script src=\"https://cdn.plot.ly/plotly-2.8.3.min.js\"></script>                <div id=\"2be411f5-31c8-48c3-b8e1-f262690a1f1c\" class=\"plotly-graph-div\" style=\"height:525px; width:100%;\"></div>            <script type=\"text/javascript\">                                    window.PLOTLYENV=window.PLOTLYENV || {};                                    if (document.getElementById(\"2be411f5-31c8-48c3-b8e1-f262690a1f1c\")) {                    Plotly.newPlot(                        \"2be411f5-31c8-48c3-b8e1-f262690a1f1c\",                        [{\"hovertemplate\":\"Country Name=Aruba<br>NY.GDP.PCAP.PP.CD=%{x}<br>SP.DYN.LE00.IN=%{y}<extra></extra>\",\"legendgroup\":\"Aruba\",\"marker\":{\"color\":\"#636efa\",\"symbol\":\"circle\"},\"mode\":\"markers\",\"name\":\"Aruba\",\"orientation\":\"v\",\"showlegend\":true,\"x\":[31182.8338812015],\"xaxis\":\"x\",\"y\":[76.434],\"yaxis\":\"y\",\"type\":\"scatter\"},{\"hovertemplate\":\"Country Name=Afghanistan<br>NY.GDP.PCAP.PP.CD=%{x}<br>SP.DYN.LE00.IN=%{y}<extra></extra>\",\"legendgroup\":\"Afghanistan\",\"marker\":{\"color\":\"#EF553B\",\"symbol\":\"circle\"},\"mode\":\"markers\",\"name\":\"Afghanistan\",\"orientation\":\"v\",\"showlegend\":true,\"x\":[2078.479081826],\"xaxis\":\"x\",\"y\":[65.173],\"yaxis\":\"y\",\"type\":\"scatter\"},{\"hovertemplate\":\"Country Name=Angola<br>NY.GDP.PCAP.PP.CD=%{x}<br>SP.DYN.LE00.IN=%{y}<extra></extra>\",\"legendgroup\":\"Angola\",\"marker\":{\"color\":\"#00cc96\",\"symbol\":\"circle\"},\"mode\":\"markers\",\"name\":\"Angola\",\"orientation\":\"v\",\"showlegend\":true,\"x\":[6478.3321819683],\"xaxis\":\"x\",\"y\":[61.487],\"yaxis\":\"y\",\"type\":\"scatter\"},{\"hovertemplate\":\"Country Name=Albania<br>NY.GDP.PCAP.PP.CD=%{x}<br>SP.DYN.LE00.IN=%{y}<extra></extra>\",\"legendgroup\":\"Albania\",\"marker\":{\"color\":\"#ab63fa\",\"symbol\":\"circle\"},\"mode\":\"markers\",\"name\":\"Albania\",\"orientation\":\"v\",\"showlegend\":true,\"x\":[13632.1865366302],\"xaxis\":\"x\",\"y\":[78.686],\"yaxis\":\"y\",\"type\":\"scatter\"},{\"hovertemplate\":\"Country Name=Andorra<br>NY.GDP.PCAP.PP.CD=%{x}<br>SP.DYN.LE00.IN=%{y}<extra></extra>\",\"legendgroup\":\"Andorra\",\"marker\":{\"color\":\"#FFA15A\",\"symbol\":\"circle\"},\"mode\":\"markers\",\"name\":\"Andorra\",\"orientation\":\"v\",\"showlegend\":true,\"x\":[null],\"xaxis\":\"x\",\"y\":[null],\"yaxis\":\"y\",\"type\":\"scatter\"},{\"hovertemplate\":\"Country Name=United Arab Emirates<br>NY.GDP.PCAP.PP.CD=%{x}<br>SP.DYN.LE00.IN=%{y}<extra></extra>\",\"legendgroup\":\"United Arab Emirates\",\"marker\":{\"color\":\"#19d3f3\",\"symbol\":\"circle\"},\"mode\":\"markers\",\"name\":\"United Arab Emirates\",\"orientation\":\"v\",\"showlegend\":true,\"x\":[66766.0539321336],\"xaxis\":\"x\",\"y\":[78.12],\"yaxis\":\"y\",\"type\":\"scatter\"},{\"hovertemplate\":\"Country Name=Argentina<br>NY.GDP.PCAP.PP.CD=%{x}<br>SP.DYN.LE00.IN=%{y}<extra></extra>\",\"legendgroup\":\"Argentina\",\"marker\":{\"color\":\"#FF6692\",\"symbol\":\"circle\"},\"mode\":\"markers\",\"name\":\"Argentina\",\"orientation\":\"v\",\"showlegend\":true,\"x\":[20769.0323781598],\"xaxis\":\"x\",\"y\":[76.813],\"yaxis\":\"y\",\"type\":\"scatter\"},{\"hovertemplate\":\"Country Name=Armenia<br>NY.GDP.PCAP.PP.CD=%{x}<br>SP.DYN.LE00.IN=%{y}<extra></extra>\",\"legendgroup\":\"Armenia\",\"marker\":{\"color\":\"#B6E880\",\"symbol\":\"circle\"},\"mode\":\"markers\",\"name\":\"Armenia\",\"orientation\":\"v\",\"showlegend\":true,\"x\":[13311.0281362153],\"xaxis\":\"x\",\"y\":[75.224],\"yaxis\":\"y\",\"type\":\"scatter\"},{\"hovertemplate\":\"Country Name=American Samoa<br>NY.GDP.PCAP.PP.CD=%{x}<br>SP.DYN.LE00.IN=%{y}<extra></extra>\",\"legendgroup\":\"American Samoa\",\"marker\":{\"color\":\"#FF97FF\",\"symbol\":\"circle\"},\"mode\":\"markers\",\"name\":\"American Samoa\",\"orientation\":\"v\",\"showlegend\":true,\"x\":[null],\"xaxis\":\"x\",\"y\":[null],\"yaxis\":\"y\",\"type\":\"scatter\"},{\"hovertemplate\":\"Country Name=Antigua and Barbuda<br>NY.GDP.PCAP.PP.CD=%{x}<br>SP.DYN.LE00.IN=%{y}<extra></extra>\",\"legendgroup\":\"Antigua and Barbuda\",\"marker\":{\"color\":\"#FECB52\",\"symbol\":\"circle\"},\"mode\":\"markers\",\"name\":\"Antigua and Barbuda\",\"orientation\":\"v\",\"showlegend\":true,\"x\":[18240.3804056479],\"xaxis\":\"x\",\"y\":[77.146],\"yaxis\":\"y\",\"type\":\"scatter\"},{\"hovertemplate\":\"Country Name=Australia<br>NY.GDP.PCAP.PP.CD=%{x}<br>SP.DYN.LE00.IN=%{y}<extra></extra>\",\"legendgroup\":\"Australia\",\"marker\":{\"color\":\"#636efa\",\"symbol\":\"circle\"},\"mode\":\"markers\",\"name\":\"Australia\",\"orientation\":\"v\",\"showlegend\":true,\"x\":[53316.8854335814],\"xaxis\":\"x\",\"y\":[83.2],\"yaxis\":\"y\",\"type\":\"scatter\"},{\"hovertemplate\":\"Country Name=Austria<br>NY.GDP.PCAP.PP.CD=%{x}<br>SP.DYN.LE00.IN=%{y}<extra></extra>\",\"legendgroup\":\"Austria\",\"marker\":{\"color\":\"#EF553B\",\"symbol\":\"circle\"},\"mode\":\"markers\",\"name\":\"Austria\",\"orientation\":\"v\",\"showlegend\":true,\"x\":[55685.9702933361],\"xaxis\":\"x\",\"y\":[81.1926829268],\"yaxis\":\"y\",\"type\":\"scatter\"},{\"hovertemplate\":\"Country Name=Azerbaijan<br>NY.GDP.PCAP.PP.CD=%{x}<br>SP.DYN.LE00.IN=%{y}<extra></extra>\",\"legendgroup\":\"Azerbaijan\",\"marker\":{\"color\":\"#00cc96\",\"symbol\":\"circle\"},\"mode\":\"markers\",\"name\":\"Azerbaijan\",\"orientation\":\"v\",\"showlegend\":true,\"x\":[14478.5244519377],\"xaxis\":\"x\",\"y\":[73.123],\"yaxis\":\"y\",\"type\":\"scatter\"},{\"hovertemplate\":\"Country Name=Burundi<br>NY.GDP.PCAP.PP.CD=%{x}<br>SP.DYN.LE00.IN=%{y}<extra></extra>\",\"legendgroup\":\"Burundi\",\"marker\":{\"color\":\"#ab63fa\",\"symbol\":\"circle\"},\"mode\":\"markers\",\"name\":\"Burundi\",\"orientation\":\"v\",\"showlegend\":true,\"x\":[771.1012372287],\"xaxis\":\"x\",\"y\":[61.916],\"yaxis\":\"y\",\"type\":\"scatter\"},{\"hovertemplate\":\"Country Name=Belgium<br>NY.GDP.PCAP.PP.CD=%{x}<br>SP.DYN.LE00.IN=%{y}<extra></extra>\",\"legendgroup\":\"Belgium\",\"marker\":{\"color\":\"#FFA15A\",\"symbol\":\"circle\"},\"mode\":\"markers\",\"name\":\"Belgium\",\"orientation\":\"v\",\"showlegend\":true,\"x\":[53070.2148197652],\"xaxis\":\"x\",\"y\":[80.7951219512],\"yaxis\":\"y\",\"type\":\"scatter\"},{\"hovertemplate\":\"Country Name=Benin<br>NY.GDP.PCAP.PP.CD=%{x}<br>SP.DYN.LE00.IN=%{y}<extra></extra>\",\"legendgroup\":\"Benin\",\"marker\":{\"color\":\"#19d3f3\",\"symbol\":\"circle\"},\"mode\":\"markers\",\"name\":\"Benin\",\"orientation\":\"v\",\"showlegend\":true,\"x\":[3505.1384547304],\"xaxis\":\"x\",\"y\":[62.077],\"yaxis\":\"y\",\"type\":\"scatter\"},{\"hovertemplate\":\"Country Name=Burkina Faso<br>NY.GDP.PCAP.PP.CD=%{x}<br>SP.DYN.LE00.IN=%{y}<extra></extra>\",\"legendgroup\":\"Burkina Faso\",\"marker\":{\"color\":\"#FF6692\",\"symbol\":\"circle\"},\"mode\":\"markers\",\"name\":\"Burkina Faso\",\"orientation\":\"v\",\"showlegend\":true,\"x\":[2273.8313651932],\"xaxis\":\"x\",\"y\":[61.981],\"yaxis\":\"y\",\"type\":\"scatter\"},{\"hovertemplate\":\"Country Name=Bangladesh<br>NY.GDP.PCAP.PP.CD=%{x}<br>SP.DYN.LE00.IN=%{y}<extra></extra>\",\"legendgroup\":\"Bangladesh\",\"marker\":{\"color\":\"#B6E880\",\"symbol\":\"circle\"},\"mode\":\"markers\",\"name\":\"Bangladesh\",\"orientation\":\"v\",\"showlegend\":true,\"x\":[5995.4074285928],\"xaxis\":\"x\",\"y\":[72.868],\"yaxis\":\"y\",\"type\":\"scatter\"},{\"hovertemplate\":\"Country Name=Bulgaria<br>NY.GDP.PCAP.PP.CD=%{x}<br>SP.DYN.LE00.IN=%{y}<extra></extra>\",\"legendgroup\":\"Bulgaria\",\"marker\":{\"color\":\"#FF97FF\",\"symbol\":\"circle\"},\"mode\":\"markers\",\"name\":\"Bulgaria\",\"orientation\":\"v\",\"showlegend\":true,\"x\":[24564.4376812432],\"xaxis\":\"x\",\"y\":[73.6073170732],\"yaxis\":\"y\",\"type\":\"scatter\"},{\"hovertemplate\":\"Country Name=Bahrain<br>NY.GDP.PCAP.PP.CD=%{x}<br>SP.DYN.LE00.IN=%{y}<extra></extra>\",\"legendgroup\":\"Bahrain\",\"marker\":{\"color\":\"#FECB52\",\"symbol\":\"circle\"},\"mode\":\"markers\",\"name\":\"Bahrain\",\"orientation\":\"v\",\"showlegend\":true,\"x\":[43821.1244906362],\"xaxis\":\"x\",\"y\":[77.419],\"yaxis\":\"y\",\"type\":\"scatter\"},{\"hovertemplate\":\"Country Name=Bahamas, The<br>NY.GDP.PCAP.PP.CD=%{x}<br>SP.DYN.LE00.IN=%{y}<extra></extra>\",\"legendgroup\":\"Bahamas, The\",\"marker\":{\"color\":\"#636efa\",\"symbol\":\"circle\"},\"mode\":\"markers\",\"name\":\"Bahamas, The\",\"orientation\":\"v\",\"showlegend\":true,\"x\":[29064.7594970233],\"xaxis\":\"x\",\"y\":[74.053],\"yaxis\":\"y\",\"type\":\"scatter\"},{\"hovertemplate\":\"Country Name=Bosnia and Herzegovina<br>NY.GDP.PCAP.PP.CD=%{x}<br>SP.DYN.LE00.IN=%{y}<extra></extra>\",\"legendgroup\":\"Bosnia and Herzegovina\",\"marker\":{\"color\":\"#EF553B\",\"symbol\":\"circle\"},\"mode\":\"markers\",\"name\":\"Bosnia and Herzegovina\",\"orientation\":\"v\",\"showlegend\":true,\"x\":[15598.4303394866],\"xaxis\":\"x\",\"y\":[77.545],\"yaxis\":\"y\",\"type\":\"scatter\"},{\"hovertemplate\":\"Country Name=Belarus<br>NY.GDP.PCAP.PP.CD=%{x}<br>SP.DYN.LE00.IN=%{y}<extra></extra>\",\"legendgroup\":\"Belarus\",\"marker\":{\"color\":\"#00cc96\",\"symbol\":\"circle\"},\"mode\":\"markers\",\"name\":\"Belarus\",\"orientation\":\"v\",\"showlegend\":true,\"x\":[20237.5511291865],\"xaxis\":\"x\",\"y\":[74.2268292683],\"yaxis\":\"y\",\"type\":\"scatter\"},{\"hovertemplate\":\"Country Name=Belize<br>NY.GDP.PCAP.PP.CD=%{x}<br>SP.DYN.LE00.IN=%{y}<extra></extra>\",\"legendgroup\":\"Belize\",\"marker\":{\"color\":\"#ab63fa\",\"symbol\":\"circle\"},\"mode\":\"markers\",\"name\":\"Belize\",\"orientation\":\"v\",\"showlegend\":true,\"x\":[6165.8496692576],\"xaxis\":\"x\",\"y\":[74.754],\"yaxis\":\"y\",\"type\":\"scatter\"},{\"hovertemplate\":\"Country Name=Bermuda<br>NY.GDP.PCAP.PP.CD=%{x}<br>SP.DYN.LE00.IN=%{y}<extra></extra>\",\"legendgroup\":\"Bermuda\",\"marker\":{\"color\":\"#FFA15A\",\"symbol\":\"circle\"},\"mode\":\"markers\",\"name\":\"Bermuda\",\"orientation\":\"v\",\"showlegend\":true,\"x\":[80273.0817053991],\"xaxis\":\"x\",\"y\":[82.056097561],\"yaxis\":\"y\",\"type\":\"scatter\"},{\"hovertemplate\":\"Country Name=Bolivia<br>NY.GDP.PCAP.PP.CD=%{x}<br>SP.DYN.LE00.IN=%{y}<extra></extra>\",\"legendgroup\":\"Bolivia\",\"marker\":{\"color\":\"#19d3f3\",\"symbol\":\"circle\"},\"mode\":\"markers\",\"name\":\"Bolivia\",\"orientation\":\"v\",\"showlegend\":true,\"x\":[8283.1311952908],\"xaxis\":\"x\",\"y\":[71.771],\"yaxis\":\"y\",\"type\":\"scatter\"},{\"hovertemplate\":\"Country Name=Brazil<br>NY.GDP.PCAP.PP.CD=%{x}<br>SP.DYN.LE00.IN=%{y}<extra></extra>\",\"legendgroup\":\"Brazil\",\"marker\":{\"color\":\"#FF6692\",\"symbol\":\"circle\"},\"mode\":\"markers\",\"name\":\"Brazil\",\"orientation\":\"v\",\"showlegend\":true,\"x\":[14834.1937022808],\"xaxis\":\"x\",\"y\":[76.084],\"yaxis\":\"y\",\"type\":\"scatter\"},{\"hovertemplate\":\"Country Name=Barbados<br>NY.GDP.PCAP.PP.CD=%{x}<br>SP.DYN.LE00.IN=%{y}<extra></extra>\",\"legendgroup\":\"Barbados\",\"marker\":{\"color\":\"#B6E880\",\"symbol\":\"circle\"},\"mode\":\"markers\",\"name\":\"Barbados\",\"orientation\":\"v\",\"showlegend\":true,\"x\":[14045.7728319619],\"xaxis\":\"x\",\"y\":[79.308],\"yaxis\":\"y\",\"type\":\"scatter\"},{\"hovertemplate\":\"Country Name=Brunei Darussalam<br>NY.GDP.PCAP.PP.CD=%{x}<br>SP.DYN.LE00.IN=%{y}<extra></extra>\",\"legendgroup\":\"Brunei Darussalam\",\"marker\":{\"color\":\"#FF97FF\",\"symbol\":\"circle\"},\"mode\":\"markers\",\"name\":\"Brunei Darussalam\",\"orientation\":\"v\",\"showlegend\":true,\"x\":[65607.350749438],\"xaxis\":\"x\",\"y\":[75.998],\"yaxis\":\"y\",\"type\":\"scatter\"},{\"hovertemplate\":\"Country Name=Bhutan<br>NY.GDP.PCAP.PP.CD=%{x}<br>SP.DYN.LE00.IN=%{y}<extra></extra>\",\"legendgroup\":\"Bhutan\",\"marker\":{\"color\":\"#FECB52\",\"symbol\":\"circle\"},\"mode\":\"markers\",\"name\":\"Bhutan\",\"orientation\":\"v\",\"showlegend\":true,\"x\":[11129.3084547092],\"xaxis\":\"x\",\"y\":[72.08],\"yaxis\":\"y\",\"type\":\"scatter\"},{\"hovertemplate\":\"Country Name=Botswana<br>NY.GDP.PCAP.PP.CD=%{x}<br>SP.DYN.LE00.IN=%{y}<extra></extra>\",\"legendgroup\":\"Botswana\",\"marker\":{\"color\":\"#636efa\",\"symbol\":\"circle\"},\"mode\":\"markers\",\"name\":\"Botswana\",\"orientation\":\"v\",\"showlegend\":true,\"x\":[15471.0948083951],\"xaxis\":\"x\",\"y\":[69.793],\"yaxis\":\"y\",\"type\":\"scatter\"},{\"hovertemplate\":\"Country Name=Central African Republic<br>NY.GDP.PCAP.PP.CD=%{x}<br>SP.DYN.LE00.IN=%{y}<extra></extra>\",\"legendgroup\":\"Central African Republic\",\"marker\":{\"color\":\"#EF553B\",\"symbol\":\"circle\"},\"mode\":\"markers\",\"name\":\"Central African Republic\",\"orientation\":\"v\",\"showlegend\":true,\"x\":[989.2187436661],\"xaxis\":\"x\",\"y\":[53.679],\"yaxis\":\"y\",\"type\":\"scatter\"},{\"hovertemplate\":\"Country Name=Canada<br>NY.GDP.PCAP.PP.CD=%{x}<br>SP.DYN.LE00.IN=%{y}<extra></extra>\",\"legendgroup\":\"Canada\",\"marker\":{\"color\":\"#00cc96\",\"symbol\":\"circle\"},\"mode\":\"markers\",\"name\":\"Canada\",\"orientation\":\"v\",\"showlegend\":true,\"x\":[46572.1374328364],\"xaxis\":\"x\",\"y\":[81.7487804878],\"yaxis\":\"y\",\"type\":\"scatter\"},{\"hovertemplate\":\"Country Name=Switzerland<br>NY.GDP.PCAP.PP.CD=%{x}<br>SP.DYN.LE00.IN=%{y}<extra></extra>\",\"legendgroup\":\"Switzerland\",\"marker\":{\"color\":\"#ab63fa\",\"symbol\":\"circle\"},\"mode\":\"markers\",\"name\":\"Switzerland\",\"orientation\":\"v\",\"showlegend\":true,\"x\":[71745.2993952823],\"xaxis\":\"x\",\"y\":[83.1],\"yaxis\":\"y\",\"type\":\"scatter\"},{\"hovertemplate\":\"Country Name=Channel Islands<br>NY.GDP.PCAP.PP.CD=%{x}<br>SP.DYN.LE00.IN=%{y}<extra></extra>\",\"legendgroup\":\"Channel Islands\",\"marker\":{\"color\":\"#FFA15A\",\"symbol\":\"circle\"},\"mode\":\"markers\",\"name\":\"Channel Islands\",\"orientation\":\"v\",\"showlegend\":true,\"x\":[null],\"xaxis\":\"x\",\"y\":[83.24],\"yaxis\":\"y\",\"type\":\"scatter\"},{\"hovertemplate\":\"Country Name=Chile<br>NY.GDP.PCAP.PP.CD=%{x}<br>SP.DYN.LE00.IN=%{y}<extra></extra>\",\"legendgroup\":\"Chile\",\"marker\":{\"color\":\"#19d3f3\",\"symbol\":\"circle\"},\"mode\":\"markers\",\"name\":\"Chile\",\"orientation\":\"v\",\"showlegend\":true,\"x\":[25089.0312965357],\"xaxis\":\"x\",\"y\":[80.329],\"yaxis\":\"y\",\"type\":\"scatter\"},{\"hovertemplate\":\"Country Name=China<br>NY.GDP.PCAP.PP.CD=%{x}<br>SP.DYN.LE00.IN=%{y}<extra></extra>\",\"legendgroup\":\"China\",\"marker\":{\"color\":\"#FF6692\",\"symbol\":\"circle\"},\"mode\":\"markers\",\"name\":\"China\",\"orientation\":\"v\",\"showlegend\":true,\"x\":[17189.281794248],\"xaxis\":\"x\",\"y\":[77.097],\"yaxis\":\"y\",\"type\":\"scatter\"},{\"hovertemplate\":\"Country Name=Cote d'Ivoire<br>NY.GDP.PCAP.PP.CD=%{x}<br>SP.DYN.LE00.IN=%{y}<extra></extra>\",\"legendgroup\":\"Cote d'Ivoire\",\"marker\":{\"color\":\"#B6E880\",\"symbol\":\"circle\"},\"mode\":\"markers\",\"name\":\"Cote d'Ivoire\",\"orientation\":\"v\",\"showlegend\":true,\"x\":[5465.0687814559],\"xaxis\":\"x\",\"y\":[58.104],\"yaxis\":\"y\",\"type\":\"scatter\"},{\"hovertemplate\":\"Country Name=Cameroon<br>NY.GDP.PCAP.PP.CD=%{x}<br>SP.DYN.LE00.IN=%{y}<extra></extra>\",\"legendgroup\":\"Cameroon\",\"marker\":{\"color\":\"#FF97FF\",\"symbol\":\"circle\"},\"mode\":\"markers\",\"name\":\"Cameroon\",\"orientation\":\"v\",\"showlegend\":true,\"x\":[3867.2038082584],\"xaxis\":\"x\",\"y\":[59.626],\"yaxis\":\"y\",\"type\":\"scatter\"},{\"hovertemplate\":\"Country Name=Congo, Dem. Rep.<br>NY.GDP.PCAP.PP.CD=%{x}<br>SP.DYN.LE00.IN=%{y}<extra></extra>\",\"legendgroup\":\"Congo, Dem. Rep.\",\"marker\":{\"color\":\"#FECB52\",\"symbol\":\"circle\"},\"mode\":\"markers\",\"name\":\"Congo, Dem. Rep.\",\"orientation\":\"v\",\"showlegend\":true,\"x\":[1141.7260067947],\"xaxis\":\"x\",\"y\":[60.971],\"yaxis\":\"y\",\"type\":\"scatter\"},{\"hovertemplate\":\"Country Name=Congo, Rep.<br>NY.GDP.PCAP.PP.CD=%{x}<br>SP.DYN.LE00.IN=%{y}<extra></extra>\",\"legendgroup\":\"Congo, Rep.\",\"marker\":{\"color\":\"#636efa\",\"symbol\":\"circle\"},\"mode\":\"markers\",\"name\":\"Congo, Rep.\",\"orientation\":\"v\",\"showlegend\":true,\"x\":[3689.1117289293],\"xaxis\":\"x\",\"y\":[64.804],\"yaxis\":\"y\",\"type\":\"scatter\"},{\"hovertemplate\":\"Country Name=Colombia<br>NY.GDP.PCAP.PP.CD=%{x}<br>SP.DYN.LE00.IN=%{y}<extra></extra>\",\"legendgroup\":\"Colombia\",\"marker\":{\"color\":\"#EF553B\",\"symbol\":\"circle\"},\"mode\":\"markers\",\"name\":\"Colombia\",\"orientation\":\"v\",\"showlegend\":true,\"x\":[14868.4698189141],\"xaxis\":\"x\",\"y\":[77.46],\"yaxis\":\"y\",\"type\":\"scatter\"},{\"hovertemplate\":\"Country Name=Comoros<br>NY.GDP.PCAP.PP.CD=%{x}<br>SP.DYN.LE00.IN=%{y}<extra></extra>\",\"legendgroup\":\"Comoros\",\"marker\":{\"color\":\"#00cc96\",\"symbol\":\"circle\"},\"mode\":\"markers\",\"name\":\"Comoros\",\"orientation\":\"v\",\"showlegend\":true,\"x\":[3147.8565973472],\"xaxis\":\"x\",\"y\":[64.525],\"yaxis\":\"y\",\"type\":\"scatter\"},{\"hovertemplate\":\"Country Name=Cabo Verde<br>NY.GDP.PCAP.PP.CD=%{x}<br>SP.DYN.LE00.IN=%{y}<extra></extra>\",\"legendgroup\":\"Cabo Verde\",\"marker\":{\"color\":\"#ab63fa\",\"symbol\":\"circle\"},\"mode\":\"markers\",\"name\":\"Cabo Verde\",\"orientation\":\"v\",\"showlegend\":true,\"x\":[6376.1222791243],\"xaxis\":\"x\",\"y\":[73.166],\"yaxis\":\"y\",\"type\":\"scatter\"},{\"hovertemplate\":\"Country Name=Costa Rica<br>NY.GDP.PCAP.PP.CD=%{x}<br>SP.DYN.LE00.IN=%{y}<extra></extra>\",\"legendgroup\":\"Costa Rica\",\"marker\":{\"color\":\"#FFA15A\",\"symbol\":\"circle\"},\"mode\":\"markers\",\"name\":\"Costa Rica\",\"orientation\":\"v\",\"showlegend\":true,\"x\":[22243.8019575334],\"xaxis\":\"x\",\"y\":[80.465],\"yaxis\":\"y\",\"type\":\"scatter\"},{\"hovertemplate\":\"Country Name=Cuba<br>NY.GDP.PCAP.PP.CD=%{x}<br>SP.DYN.LE00.IN=%{y}<extra></extra>\",\"legendgroup\":\"Cuba\",\"marker\":{\"color\":\"#19d3f3\",\"symbol\":\"circle\"},\"mode\":\"markers\",\"name\":\"Cuba\",\"orientation\":\"v\",\"showlegend\":true,\"x\":[null],\"xaxis\":\"x\",\"y\":[78.892],\"yaxis\":\"y\",\"type\":\"scatter\"},{\"hovertemplate\":\"Country Name=Curacao<br>NY.GDP.PCAP.PP.CD=%{x}<br>SP.DYN.LE00.IN=%{y}<extra></extra>\",\"legendgroup\":\"Curacao\",\"marker\":{\"color\":\"#FF6692\",\"symbol\":\"circle\"},\"mode\":\"markers\",\"name\":\"Curacao\",\"orientation\":\"v\",\"showlegend\":true,\"x\":[20681.244711152],\"xaxis\":\"x\",\"y\":[null],\"yaxis\":\"y\",\"type\":\"scatter\"},{\"hovertemplate\":\"Country Name=Cayman Islands<br>NY.GDP.PCAP.PP.CD=%{x}<br>SP.DYN.LE00.IN=%{y}<extra></extra>\",\"legendgroup\":\"Cayman Islands\",\"marker\":{\"color\":\"#B6E880\",\"symbol\":\"circle\"},\"mode\":\"markers\",\"name\":\"Cayman Islands\",\"orientation\":\"v\",\"showlegend\":true,\"x\":[72481.0138555976],\"xaxis\":\"x\",\"y\":[null],\"yaxis\":\"y\",\"type\":\"scatter\"},{\"hovertemplate\":\"Country Name=Cyprus<br>NY.GDP.PCAP.PP.CD=%{x}<br>SP.DYN.LE00.IN=%{y}<extra></extra>\",\"legendgroup\":\"Cyprus\",\"marker\":{\"color\":\"#FF97FF\",\"symbol\":\"circle\"},\"mode\":\"markers\",\"name\":\"Cyprus\",\"orientation\":\"v\",\"showlegend\":true,\"x\":[39593.42578125],\"xaxis\":\"x\",\"y\":[81.135],\"yaxis\":\"y\",\"type\":\"scatter\"},{\"hovertemplate\":\"Country Name=Czechia<br>NY.GDP.PCAP.PP.CD=%{x}<br>SP.DYN.LE00.IN=%{y}<extra></extra>\",\"legendgroup\":\"Czechia\",\"marker\":{\"color\":\"#FECB52\",\"symbol\":\"circle\"},\"mode\":\"markers\",\"name\":\"Czechia\",\"orientation\":\"v\",\"showlegend\":true,\"x\":[41608.0253519702],\"xaxis\":\"x\",\"y\":[78.2268292683],\"yaxis\":\"y\",\"type\":\"scatter\"},{\"hovertemplate\":\"Country Name=Germany<br>NY.GDP.PCAP.PP.CD=%{x}<br>SP.DYN.LE00.IN=%{y}<extra></extra>\",\"legendgroup\":\"Germany\",\"marker\":{\"color\":\"#636efa\",\"symbol\":\"circle\"},\"mode\":\"markers\",\"name\":\"Germany\",\"orientation\":\"v\",\"showlegend\":true,\"x\":[54844.5459733622],\"xaxis\":\"x\",\"y\":[80.9414634146],\"yaxis\":\"y\",\"type\":\"scatter\"},{\"hovertemplate\":\"Country Name=Djibouti<br>NY.GDP.PCAP.PP.CD=%{x}<br>SP.DYN.LE00.IN=%{y}<extra></extra>\",\"legendgroup\":\"Djibouti\",\"marker\":{\"color\":\"#EF553B\",\"symbol\":\"circle\"},\"mode\":\"markers\",\"name\":\"Djibouti\",\"orientation\":\"v\",\"showlegend\":true,\"x\":[5532.6821230823],\"xaxis\":\"x\",\"y\":[67.49],\"yaxis\":\"y\",\"type\":\"scatter\"},{\"hovertemplate\":\"Country Name=Dominica<br>NY.GDP.PCAP.PP.CD=%{x}<br>SP.DYN.LE00.IN=%{y}<extra></extra>\",\"legendgroup\":\"Dominica\",\"marker\":{\"color\":\"#00cc96\",\"symbol\":\"circle\"},\"mode\":\"markers\",\"name\":\"Dominica\",\"orientation\":\"v\",\"showlegend\":true,\"x\":[10818.0249446668],\"xaxis\":\"x\",\"y\":[null],\"yaxis\":\"y\",\"type\":\"scatter\"},{\"hovertemplate\":\"Country Name=Denmark<br>NY.GDP.PCAP.PP.CD=%{x}<br>SP.DYN.LE00.IN=%{y}<extra></extra>\",\"legendgroup\":\"Denmark\",\"marker\":{\"color\":\"#ab63fa\",\"symbol\":\"circle\"},\"mode\":\"markers\",\"name\":\"Denmark\",\"orientation\":\"v\",\"showlegend\":true,\"x\":[60229.9147703017],\"xaxis\":\"x\",\"y\":[81.5512195122],\"yaxis\":\"y\",\"type\":\"scatter\"},{\"hovertemplate\":\"Country Name=Dominican Republic<br>NY.GDP.PCAP.PP.CD=%{x}<br>SP.DYN.LE00.IN=%{y}<extra></extra>\",\"legendgroup\":\"Dominican Republic\",\"marker\":{\"color\":\"#FFA15A\",\"symbol\":\"circle\"},\"mode\":\"markers\",\"name\":\"Dominican Republic\",\"orientation\":\"v\",\"showlegend\":true,\"x\":[17934.1932525646],\"xaxis\":\"x\",\"y\":[74.257],\"yaxis\":\"y\",\"type\":\"scatter\"},{\"hovertemplate\":\"Country Name=Algeria<br>NY.GDP.PCAP.PP.CD=%{x}<br>SP.DYN.LE00.IN=%{y}<extra></extra>\",\"legendgroup\":\"Algeria\",\"marker\":{\"color\":\"#19d3f3\",\"symbol\":\"circle\"},\"mode\":\"markers\",\"name\":\"Algeria\",\"orientation\":\"v\",\"showlegend\":true,\"x\":[11323.3122190849],\"xaxis\":\"x\",\"y\":[77.063],\"yaxis\":\"y\",\"type\":\"scatter\"},{\"hovertemplate\":\"Country Name=Ecuador<br>NY.GDP.PCAP.PP.CD=%{x}<br>SP.DYN.LE00.IN=%{y}<extra></extra>\",\"legendgroup\":\"Ecuador\",\"marker\":{\"color\":\"#FF6692\",\"symbol\":\"circle\"},\"mode\":\"markers\",\"name\":\"Ecuador\",\"orientation\":\"v\",\"showlegend\":true,\"x\":[10890.4566364911],\"xaxis\":\"x\",\"y\":[77.216],\"yaxis\":\"y\",\"type\":\"scatter\"},{\"hovertemplate\":\"Country Name=Egypt, Arab Rep.<br>NY.GDP.PCAP.PP.CD=%{x}<br>SP.DYN.LE00.IN=%{y}<extra></extra>\",\"legendgroup\":\"Egypt, Arab Rep.\",\"marker\":{\"color\":\"#B6E880\",\"symbol\":\"circle\"},\"mode\":\"markers\",\"name\":\"Egypt, Arab Rep.\",\"orientation\":\"v\",\"showlegend\":true,\"x\":[12605.9757372681],\"xaxis\":\"x\",\"y\":[72.15],\"yaxis\":\"y\",\"type\":\"scatter\"},{\"hovertemplate\":\"Country Name=Eritrea<br>NY.GDP.PCAP.PP.CD=%{x}<br>SP.DYN.LE00.IN=%{y}<extra></extra>\",\"legendgroup\":\"Eritrea\",\"marker\":{\"color\":\"#FF97FF\",\"symbol\":\"circle\"},\"mode\":\"markers\",\"name\":\"Eritrea\",\"orientation\":\"v\",\"showlegend\":true,\"x\":[null],\"xaxis\":\"x\",\"y\":[66.679],\"yaxis\":\"y\",\"type\":\"scatter\"},{\"hovertemplate\":\"Country Name=Spain<br>NY.GDP.PCAP.PP.CD=%{x}<br>SP.DYN.LE00.IN=%{y}<extra></extra>\",\"legendgroup\":\"Spain\",\"marker\":{\"color\":\"#FECB52\",\"symbol\":\"circle\"},\"mode\":\"markers\",\"name\":\"Spain\",\"orientation\":\"v\",\"showlegend\":true,\"x\":[37756.3509997639],\"xaxis\":\"x\",\"y\":[82.3341463415],\"yaxis\":\"y\",\"type\":\"scatter\"},{\"hovertemplate\":\"Country Name=Estonia<br>NY.GDP.PCAP.PP.CD=%{x}<br>SP.DYN.LE00.IN=%{y}<extra></extra>\",\"legendgroup\":\"Estonia\",\"marker\":{\"color\":\"#636efa\",\"symbol\":\"circle\"},\"mode\":\"markers\",\"name\":\"Estonia\",\"orientation\":\"v\",\"showlegend\":true,\"x\":[37645.2213607112],\"xaxis\":\"x\",\"y\":[78.3463414634],\"yaxis\":\"y\",\"type\":\"scatter\"},{\"hovertemplate\":\"Country Name=Ethiopia<br>NY.GDP.PCAP.PP.CD=%{x}<br>SP.DYN.LE00.IN=%{y}<extra></extra>\",\"legendgroup\":\"Ethiopia\",\"marker\":{\"color\":\"#EF553B\",\"symbol\":\"circle\"},\"mode\":\"markers\",\"name\":\"Ethiopia\",\"orientation\":\"v\",\"showlegend\":true,\"x\":[2422.6810259853],\"xaxis\":\"x\",\"y\":[66.953],\"yaxis\":\"y\",\"type\":\"scatter\"},{\"hovertemplate\":\"Country Name=Finland<br>NY.GDP.PCAP.PP.CD=%{x}<br>SP.DYN.LE00.IN=%{y}<extra></extra>\",\"legendgroup\":\"Finland\",\"marker\":{\"color\":\"#00cc96\",\"symbol\":\"circle\"},\"mode\":\"markers\",\"name\":\"Finland\",\"orientation\":\"v\",\"showlegend\":true,\"x\":[50937.1607539726],\"xaxis\":\"x\",\"y\":[82.1317073171],\"yaxis\":\"y\",\"type\":\"scatter\"},{\"hovertemplate\":\"Country Name=Fiji<br>NY.GDP.PCAP.PP.CD=%{x}<br>SP.DYN.LE00.IN=%{y}<extra></extra>\",\"legendgroup\":\"Fiji\",\"marker\":{\"color\":\"#ab63fa\",\"symbol\":\"circle\"},\"mode\":\"markers\",\"name\":\"Fiji\",\"orientation\":\"v\",\"showlegend\":true,\"x\":[12158.2433075869],\"xaxis\":\"x\",\"y\":[67.561],\"yaxis\":\"y\",\"type\":\"scatter\"},{\"hovertemplate\":\"Country Name=France<br>NY.GDP.PCAP.PP.CD=%{x}<br>SP.DYN.LE00.IN=%{y}<extra></extra>\",\"legendgroup\":\"France\",\"marker\":{\"color\":\"#FFA15A\",\"symbol\":\"circle\"},\"mode\":\"markers\",\"name\":\"France\",\"orientation\":\"v\",\"showlegend\":true,\"x\":[46991.1820282957],\"xaxis\":\"x\",\"y\":[82.1756097561],\"yaxis\":\"y\",\"type\":\"scatter\"},{\"hovertemplate\":\"Country Name=Faroe Islands<br>NY.GDP.PCAP.PP.CD=%{x}<br>SP.DYN.LE00.IN=%{y}<extra></extra>\",\"legendgroup\":\"Faroe Islands\",\"marker\":{\"color\":\"#19d3f3\",\"symbol\":\"circle\"},\"mode\":\"markers\",\"name\":\"Faroe Islands\",\"orientation\":\"v\",\"showlegend\":true,\"x\":[null],\"xaxis\":\"x\",\"y\":[83.0926829268],\"yaxis\":\"y\",\"type\":\"scatter\"},{\"hovertemplate\":\"Country Name=Micronesia, Fed. Sts.<br>NY.GDP.PCAP.PP.CD=%{x}<br>SP.DYN.LE00.IN=%{y}<extra></extra>\",\"legendgroup\":\"Micronesia, Fed. Sts.\",\"marker\":{\"color\":\"#FF6692\",\"symbol\":\"circle\"},\"mode\":\"markers\",\"name\":\"Micronesia, Fed. Sts.\",\"orientation\":\"v\",\"showlegend\":true,\"x\":[3552.5960366764],\"xaxis\":\"x\",\"y\":[68.002],\"yaxis\":\"y\",\"type\":\"scatter\"},{\"hovertemplate\":\"Country Name=Gabon<br>NY.GDP.PCAP.PP.CD=%{x}<br>SP.DYN.LE00.IN=%{y}<extra></extra>\",\"legendgroup\":\"Gabon\",\"marker\":{\"color\":\"#B6E880\",\"symbol\":\"circle\"},\"mode\":\"markers\",\"name\":\"Gabon\",\"orientation\":\"v\",\"showlegend\":true,\"x\":[15105.1343141622],\"xaxis\":\"x\",\"y\":[66.69],\"yaxis\":\"y\",\"type\":\"scatter\"},{\"hovertemplate\":\"Country Name=United Kingdom<br>NY.GDP.PCAP.PP.CD=%{x}<br>SP.DYN.LE00.IN=%{y}<extra></extra>\",\"legendgroup\":\"United Kingdom\",\"marker\":{\"color\":\"#FF97FF\",\"symbol\":\"circle\"},\"mode\":\"markers\",\"name\":\"United Kingdom\",\"orientation\":\"v\",\"showlegend\":true,\"x\":[46526.9118652819],\"xaxis\":\"x\",\"y\":[80.9024390244],\"yaxis\":\"y\",\"type\":\"scatter\"},{\"hovertemplate\":\"Country Name=Georgia<br>NY.GDP.PCAP.PP.CD=%{x}<br>SP.DYN.LE00.IN=%{y}<extra></extra>\",\"legendgroup\":\"Georgia\",\"marker\":{\"color\":\"#FECB52\",\"symbol\":\"circle\"},\"mode\":\"markers\",\"name\":\"Georgia\",\"orientation\":\"v\",\"showlegend\":true,\"x\":[14731.2005947457],\"xaxis\":\"x\",\"y\":[73.919],\"yaxis\":\"y\",\"type\":\"scatter\"},{\"hovertemplate\":\"Country Name=Ghana<br>NY.GDP.PCAP.PP.CD=%{x}<br>SP.DYN.LE00.IN=%{y}<extra></extra>\",\"legendgroup\":\"Ghana\",\"marker\":{\"color\":\"#636efa\",\"symbol\":\"circle\"},\"mode\":\"markers\",\"name\":\"Ghana\",\"orientation\":\"v\",\"showlegend\":true,\"x\":[5749.6553854853],\"xaxis\":\"x\",\"y\":[64.347],\"yaxis\":\"y\",\"type\":\"scatter\"},{\"hovertemplate\":\"Country Name=Gibraltar<br>NY.GDP.PCAP.PP.CD=%{x}<br>SP.DYN.LE00.IN=%{y}<extra></extra>\",\"legendgroup\":\"Gibraltar\",\"marker\":{\"color\":\"#EF553B\",\"symbol\":\"circle\"},\"mode\":\"markers\",\"name\":\"Gibraltar\",\"orientation\":\"v\",\"showlegend\":true,\"x\":[null],\"xaxis\":\"x\",\"y\":[null],\"yaxis\":\"y\",\"type\":\"scatter\"},{\"hovertemplate\":\"Country Name=Guinea<br>NY.GDP.PCAP.PP.CD=%{x}<br>SP.DYN.LE00.IN=%{y}<extra></extra>\",\"legendgroup\":\"Guinea\",\"marker\":{\"color\":\"#00cc96\",\"symbol\":\"circle\"},\"mode\":\"markers\",\"name\":\"Guinea\",\"orientation\":\"v\",\"showlegend\":true,\"x\":[2754.4183836447],\"xaxis\":\"x\",\"y\":[61.962],\"yaxis\":\"y\",\"type\":\"scatter\"},{\"hovertemplate\":\"Country Name=Gambia, The<br>NY.GDP.PCAP.PP.CD=%{x}<br>SP.DYN.LE00.IN=%{y}<extra></extra>\",\"legendgroup\":\"Gambia, The\",\"marker\":{\"color\":\"#ab63fa\",\"symbol\":\"circle\"},\"mode\":\"markers\",\"name\":\"Gambia, The\",\"orientation\":\"v\",\"showlegend\":true,\"x\":[2276.6507082611],\"xaxis\":\"x\",\"y\":[62.383],\"yaxis\":\"y\",\"type\":\"scatter\"},{\"hovertemplate\":\"Country Name=Guinea-Bissau<br>NY.GDP.PCAP.PP.CD=%{x}<br>SP.DYN.LE00.IN=%{y}<extra></extra>\",\"legendgroup\":\"Guinea-Bissau\",\"marker\":{\"color\":\"#FFA15A\",\"symbol\":\"circle\"},\"mode\":\"markers\",\"name\":\"Guinea-Bissau\",\"orientation\":\"v\",\"showlegend\":true,\"x\":[1948.6434006416],\"xaxis\":\"x\",\"y\":[58.634],\"yaxis\":\"y\",\"type\":\"scatter\"},{\"hovertemplate\":\"Country Name=Equatorial Guinea<br>NY.GDP.PCAP.PP.CD=%{x}<br>SP.DYN.LE00.IN=%{y}<extra></extra>\",\"legendgroup\":\"Equatorial Guinea\",\"marker\":{\"color\":\"#19d3f3\",\"symbol\":\"circle\"},\"mode\":\"markers\",\"name\":\"Equatorial Guinea\",\"orientation\":\"v\",\"showlegend\":true,\"x\":[18157.5136718207],\"xaxis\":\"x\",\"y\":[59.057],\"yaxis\":\"y\",\"type\":\"scatter\"},{\"hovertemplate\":\"Country Name=Greece<br>NY.GDP.PCAP.PP.CD=%{x}<br>SP.DYN.LE00.IN=%{y}<extra></extra>\",\"legendgroup\":\"Greece\",\"marker\":{\"color\":\"#FF6692\",\"symbol\":\"circle\"},\"mode\":\"markers\",\"name\":\"Greece\",\"orientation\":\"v\",\"showlegend\":true,\"x\":[27948.6497284227],\"xaxis\":\"x\",\"y\":[81.087804878],\"yaxis\":\"y\",\"type\":\"scatter\"},{\"hovertemplate\":\"Country Name=Grenada<br>NY.GDP.PCAP.PP.CD=%{x}<br>SP.DYN.LE00.IN=%{y}<extra></extra>\",\"legendgroup\":\"Grenada\",\"marker\":{\"color\":\"#B6E880\",\"symbol\":\"circle\"},\"mode\":\"markers\",\"name\":\"Grenada\",\"orientation\":\"v\",\"showlegend\":true,\"x\":[15273.5403558146],\"xaxis\":\"x\",\"y\":[72.426],\"yaxis\":\"y\",\"type\":\"scatter\"},{\"hovertemplate\":\"Country Name=Greenland<br>NY.GDP.PCAP.PP.CD=%{x}<br>SP.DYN.LE00.IN=%{y}<extra></extra>\",\"legendgroup\":\"Greenland\",\"marker\":{\"color\":\"#FF97FF\",\"symbol\":\"circle\"},\"mode\":\"markers\",\"name\":\"Greenland\",\"orientation\":\"v\",\"showlegend\":true,\"x\":[null],\"xaxis\":\"x\",\"y\":[71.4046341463],\"yaxis\":\"y\",\"type\":\"scatter\"},{\"hovertemplate\":\"Country Name=Guatemala<br>NY.GDP.PCAP.PP.CD=%{x}<br>SP.DYN.LE00.IN=%{y}<extra></extra>\",\"legendgroup\":\"Guatemala\",\"marker\":{\"color\":\"#FECB52\",\"symbol\":\"circle\"},\"mode\":\"markers\",\"name\":\"Guatemala\",\"orientation\":\"v\",\"showlegend\":true,\"x\":[8852.9477432629],\"xaxis\":\"x\",\"y\":[74.529],\"yaxis\":\"y\",\"type\":\"scatter\"},{\"hovertemplate\":\"Country Name=Guam<br>NY.GDP.PCAP.PP.CD=%{x}<br>SP.DYN.LE00.IN=%{y}<extra></extra>\",\"legendgroup\":\"Guam\",\"marker\":{\"color\":\"#636efa\",\"symbol\":\"circle\"},\"mode\":\"markers\",\"name\":\"Guam\",\"orientation\":\"v\",\"showlegend\":true,\"x\":[null],\"xaxis\":\"x\",\"y\":[80.277],\"yaxis\":\"y\",\"type\":\"scatter\"},{\"hovertemplate\":\"Country Name=Guyana<br>NY.GDP.PCAP.PP.CD=%{x}<br>SP.DYN.LE00.IN=%{y}<extra></extra>\",\"legendgroup\":\"Guyana\",\"marker\":{\"color\":\"#EF553B\",\"symbol\":\"circle\"},\"mode\":\"markers\",\"name\":\"Guyana\",\"orientation\":\"v\",\"showlegend\":true,\"x\":[19702.974420268],\"xaxis\":\"x\",\"y\":[70.023],\"yaxis\":\"y\",\"type\":\"scatter\"},{\"hovertemplate\":\"Country Name=Hong Kong SAR, China<br>NY.GDP.PCAP.PP.CD=%{x}<br>SP.DYN.LE00.IN=%{y}<extra></extra>\",\"legendgroup\":\"Hong Kong SAR, China\",\"marker\":{\"color\":\"#00cc96\",\"symbol\":\"circle\"},\"mode\":\"markers\",\"name\":\"Hong Kong SAR, China\",\"orientation\":\"v\",\"showlegend\":true,\"x\":[58980.0110511236],\"xaxis\":\"x\",\"y\":[85.387804878],\"yaxis\":\"y\",\"type\":\"scatter\"},{\"hovertemplate\":\"Country Name=Honduras<br>NY.GDP.PCAP.PP.CD=%{x}<br>SP.DYN.LE00.IN=%{y}<extra></extra>\",\"legendgroup\":\"Honduras\",\"marker\":{\"color\":\"#ab63fa\",\"symbol\":\"circle\"},\"mode\":\"markers\",\"name\":\"Honduras\",\"orientation\":\"v\",\"showlegend\":true,\"x\":[5419.7921642584],\"xaxis\":\"x\",\"y\":[75.448],\"yaxis\":\"y\",\"type\":\"scatter\"},{\"hovertemplate\":\"Country Name=Croatia<br>NY.GDP.PCAP.PP.CD=%{x}<br>SP.DYN.LE00.IN=%{y}<extra></extra>\",\"legendgroup\":\"Croatia\",\"marker\":{\"color\":\"#FFA15A\",\"symbol\":\"circle\"},\"mode\":\"markers\",\"name\":\"Croatia\",\"orientation\":\"v\",\"showlegend\":true,\"x\":[28780.316739861],\"xaxis\":\"x\",\"y\":[77.7243902439],\"yaxis\":\"y\",\"type\":\"scatter\"},{\"hovertemplate\":\"Country Name=Haiti<br>NY.GDP.PCAP.PP.CD=%{x}<br>SP.DYN.LE00.IN=%{y}<extra></extra>\",\"legendgroup\":\"Haiti\",\"marker\":{\"color\":\"#19d3f3\",\"symbol\":\"circle\"},\"mode\":\"markers\",\"name\":\"Haiti\",\"orientation\":\"v\",\"showlegend\":true,\"x\":[3094.941621195],\"xaxis\":\"x\",\"y\":[64.315],\"yaxis\":\"y\",\"type\":\"scatter\"},{\"hovertemplate\":\"Country Name=Hungary<br>NY.GDP.PCAP.PP.CD=%{x}<br>SP.DYN.LE00.IN=%{y}<extra></extra>\",\"legendgroup\":\"Hungary\",\"marker\":{\"color\":\"#FF6692\",\"symbol\":\"circle\"},\"mode\":\"markers\",\"name\":\"Hungary\",\"orientation\":\"v\",\"showlegend\":true,\"x\":[33274.3476562091],\"xaxis\":\"x\",\"y\":[75.6170731707],\"yaxis\":\"y\",\"type\":\"scatter\"},{\"hovertemplate\":\"Country Name=Indonesia<br>NY.GDP.PCAP.PP.CD=%{x}<br>SP.DYN.LE00.IN=%{y}<extra></extra>\",\"legendgroup\":\"Indonesia\",\"marker\":{\"color\":\"#B6E880\",\"symbol\":\"circle\"},\"mode\":\"markers\",\"name\":\"Indonesia\",\"orientation\":\"v\",\"showlegend\":true,\"x\":[12072.4399629246],\"xaxis\":\"x\",\"y\":[71.908],\"yaxis\":\"y\",\"type\":\"scatter\"},{\"hovertemplate\":\"Country Name=Isle of Man<br>NY.GDP.PCAP.PP.CD=%{x}<br>SP.DYN.LE00.IN=%{y}<extra></extra>\",\"legendgroup\":\"Isle of Man\",\"marker\":{\"color\":\"#FF97FF\",\"symbol\":\"circle\"},\"mode\":\"markers\",\"name\":\"Isle of Man\",\"orientation\":\"v\",\"showlegend\":true,\"x\":[null],\"xaxis\":\"x\",\"y\":[null],\"yaxis\":\"y\",\"type\":\"scatter\"},{\"hovertemplate\":\"Country Name=India<br>NY.GDP.PCAP.PP.CD=%{x}<br>SP.DYN.LE00.IN=%{y}<extra></extra>\",\"legendgroup\":\"India\",\"marker\":{\"color\":\"#FECB52\",\"symbol\":\"circle\"},\"mode\":\"markers\",\"name\":\"India\",\"orientation\":\"v\",\"showlegend\":true,\"x\":[6525.4280520948],\"xaxis\":\"x\",\"y\":[69.887],\"yaxis\":\"y\",\"type\":\"scatter\"},{\"hovertemplate\":\"Country Name=Ireland<br>NY.GDP.PCAP.PP.CD=%{x}<br>SP.DYN.LE00.IN=%{y}<extra></extra>\",\"legendgroup\":\"Ireland\",\"marker\":{\"color\":\"#636efa\",\"symbol\":\"circle\"},\"mode\":\"markers\",\"name\":\"Ireland\",\"orientation\":\"v\",\"showlegend\":true,\"x\":[93350.0875336544],\"xaxis\":\"x\",\"y\":[82.2048780488],\"yaxis\":\"y\",\"type\":\"scatter\"},{\"hovertemplate\":\"Country Name=Iran, Islamic Rep.<br>NY.GDP.PCAP.PP.CD=%{x}<br>SP.DYN.LE00.IN=%{y}<extra></extra>\",\"legendgroup\":\"Iran, Islamic Rep.\",\"marker\":{\"color\":\"#EF553B\",\"symbol\":\"circle\"},\"mode\":\"markers\",\"name\":\"Iran, Islamic Rep.\",\"orientation\":\"v\",\"showlegend\":true,\"x\":[15791.1595076543],\"xaxis\":\"x\",\"y\":[76.87],\"yaxis\":\"y\",\"type\":\"scatter\"},{\"hovertemplate\":\"Country Name=Iraq<br>NY.GDP.PCAP.PP.CD=%{x}<br>SP.DYN.LE00.IN=%{y}<extra></extra>\",\"legendgroup\":\"Iraq\",\"marker\":{\"color\":\"#00cc96\",\"symbol\":\"circle\"},\"mode\":\"markers\",\"name\":\"Iraq\",\"orientation\":\"v\",\"showlegend\":true,\"x\":[9954.3452632472],\"xaxis\":\"x\",\"y\":[70.748],\"yaxis\":\"y\",\"type\":\"scatter\"},{\"hovertemplate\":\"Country Name=Iceland<br>NY.GDP.PCAP.PP.CD=%{x}<br>SP.DYN.LE00.IN=%{y}<extra></extra>\",\"legendgroup\":\"Iceland\",\"marker\":{\"color\":\"#ab63fa\",\"symbol\":\"circle\"},\"mode\":\"markers\",\"name\":\"Iceland\",\"orientation\":\"v\",\"showlegend\":true,\"x\":[53616.6847084842],\"xaxis\":\"x\",\"y\":[83.0658536585],\"yaxis\":\"y\",\"type\":\"scatter\"},{\"hovertemplate\":\"Country Name=Israel<br>NY.GDP.PCAP.PP.CD=%{x}<br>SP.DYN.LE00.IN=%{y}<extra></extra>\",\"legendgroup\":\"Israel\",\"marker\":{\"color\":\"#FFA15A\",\"symbol\":\"circle\"},\"mode\":\"markers\",\"name\":\"Israel\",\"orientation\":\"v\",\"showlegend\":true,\"x\":[39489.2807769984],\"xaxis\":\"x\",\"y\":[82.7],\"yaxis\":\"y\",\"type\":\"scatter\"},{\"hovertemplate\":\"Country Name=Italy<br>NY.GDP.PCAP.PP.CD=%{x}<br>SP.DYN.LE00.IN=%{y}<extra></extra>\",\"legendgroup\":\"Italy\",\"marker\":{\"color\":\"#19d3f3\",\"symbol\":\"circle\"},\"mode\":\"markers\",\"name\":\"Italy\",\"orientation\":\"v\",\"showlegend\":true,\"x\":[41987.8159630472],\"xaxis\":\"x\",\"y\":[82.343902439],\"yaxis\":\"y\",\"type\":\"scatter\"},{\"hovertemplate\":\"Country Name=Jamaica<br>NY.GDP.PCAP.PP.CD=%{x}<br>SP.DYN.LE00.IN=%{y}<extra></extra>\",\"legendgroup\":\"Jamaica\",\"marker\":{\"color\":\"#FF6692\",\"symbol\":\"circle\"},\"mode\":\"markers\",\"name\":\"Jamaica\",\"orientation\":\"v\",\"showlegend\":true,\"x\":[9240.8218693355],\"xaxis\":\"x\",\"y\":[74.586],\"yaxis\":\"y\",\"type\":\"scatter\"},{\"hovertemplate\":\"Country Name=Jordan<br>NY.GDP.PCAP.PP.CD=%{x}<br>SP.DYN.LE00.IN=%{y}<extra></extra>\",\"legendgroup\":\"Jordan\",\"marker\":{\"color\":\"#B6E880\",\"symbol\":\"circle\"},\"mode\":\"markers\",\"name\":\"Jordan\",\"orientation\":\"v\",\"showlegend\":true,\"x\":[10354.1640265093],\"xaxis\":\"x\",\"y\":[74.655],\"yaxis\":\"y\",\"type\":\"scatter\"},{\"hovertemplate\":\"Country Name=Japan<br>NY.GDP.PCAP.PP.CD=%{x}<br>SP.DYN.LE00.IN=%{y}<extra></extra>\",\"legendgroup\":\"Japan\",\"marker\":{\"color\":\"#FF97FF\",\"symbol\":\"circle\"},\"mode\":\"markers\",\"name\":\"Japan\",\"orientation\":\"v\",\"showlegend\":true,\"x\":[42100.257690921],\"xaxis\":\"x\",\"y\":[84.6156097561],\"yaxis\":\"y\",\"type\":\"scatter\"},{\"hovertemplate\":\"Country Name=Kazakhstan<br>NY.GDP.PCAP.PP.CD=%{x}<br>SP.DYN.LE00.IN=%{y}<extra></extra>\",\"legendgroup\":\"Kazakhstan\",\"marker\":{\"color\":\"#FECB52\",\"symbol\":\"circle\"},\"mode\":\"markers\",\"name\":\"Kazakhstan\",\"orientation\":\"v\",\"showlegend\":true,\"x\":[26750.4462260761],\"xaxis\":\"x\",\"y\":[71.37],\"yaxis\":\"y\",\"type\":\"scatter\"},{\"hovertemplate\":\"Country Name=Kenya<br>NY.GDP.PCAP.PP.CD=%{x}<br>SP.DYN.LE00.IN=%{y}<extra></extra>\",\"legendgroup\":\"Kenya\",\"marker\":{\"color\":\"#636efa\",\"symbol\":\"circle\"},\"mode\":\"markers\",\"name\":\"Kenya\",\"orientation\":\"v\",\"showlegend\":true,\"x\":[4587.1863196792],\"xaxis\":\"x\",\"y\":[66.991],\"yaxis\":\"y\",\"type\":\"scatter\"},{\"hovertemplate\":\"Country Name=Kyrgyz Republic<br>NY.GDP.PCAP.PP.CD=%{x}<br>SP.DYN.LE00.IN=%{y}<extra></extra>\",\"legendgroup\":\"Kyrgyz Republic\",\"marker\":{\"color\":\"#EF553B\",\"symbol\":\"circle\"},\"mode\":\"markers\",\"name\":\"Kyrgyz Republic\",\"orientation\":\"v\",\"showlegend\":true,\"x\":[4985.0295552853],\"xaxis\":\"x\",\"y\":[71.8],\"yaxis\":\"y\",\"type\":\"scatter\"},{\"hovertemplate\":\"Country Name=Cambodia<br>NY.GDP.PCAP.PP.CD=%{x}<br>SP.DYN.LE00.IN=%{y}<extra></extra>\",\"legendgroup\":\"Cambodia\",\"marker\":{\"color\":\"#00cc96\",\"symbol\":\"circle\"},\"mode\":\"markers\",\"name\":\"Cambodia\",\"orientation\":\"v\",\"showlegend\":true,\"x\":[4423.4746311988],\"xaxis\":\"x\",\"y\":[70.054],\"yaxis\":\"y\",\"type\":\"scatter\"},{\"hovertemplate\":\"Country Name=Kiribati<br>NY.GDP.PCAP.PP.CD=%{x}<br>SP.DYN.LE00.IN=%{y}<extra></extra>\",\"legendgroup\":\"Kiribati\",\"marker\":{\"color\":\"#ab63fa\",\"symbol\":\"circle\"},\"mode\":\"markers\",\"name\":\"Kiribati\",\"orientation\":\"v\",\"showlegend\":true,\"x\":[2171.8679430645],\"xaxis\":\"x\",\"y\":[68.611],\"yaxis\":\"y\",\"type\":\"scatter\"},{\"hovertemplate\":\"Country Name=St. Kitts and Nevis<br>NY.GDP.PCAP.PP.CD=%{x}<br>SP.DYN.LE00.IN=%{y}<extra></extra>\",\"legendgroup\":\"St. Kitts and Nevis\",\"marker\":{\"color\":\"#FFA15A\",\"symbol\":\"circle\"},\"mode\":\"markers\",\"name\":\"St. Kitts and Nevis\",\"orientation\":\"v\",\"showlegend\":true,\"x\":[25639.2395986635],\"xaxis\":\"x\",\"y\":[null],\"yaxis\":\"y\",\"type\":\"scatter\"},{\"hovertemplate\":\"Country Name=Korea, Rep.<br>NY.GDP.PCAP.PP.CD=%{x}<br>SP.DYN.LE00.IN=%{y}<extra></extra>\",\"legendgroup\":\"Korea, Rep.\",\"marker\":{\"color\":\"#19d3f3\",\"symbol\":\"circle\"},\"mode\":\"markers\",\"name\":\"Korea, Rep.\",\"orientation\":\"v\",\"showlegend\":true,\"x\":[45225.8445435145],\"xaxis\":\"x\",\"y\":[83.4268292683],\"yaxis\":\"y\",\"type\":\"scatter\"},{\"hovertemplate\":\"Country Name=Kuwait<br>NY.GDP.PCAP.PP.CD=%{x}<br>SP.DYN.LE00.IN=%{y}<extra></extra>\",\"legendgroup\":\"Kuwait\",\"marker\":{\"color\":\"#FF6692\",\"symbol\":\"circle\"},\"mode\":\"markers\",\"name\":\"Kuwait\",\"orientation\":\"v\",\"showlegend\":true,\"x\":[47303.1298528111],\"xaxis\":\"x\",\"y\":[75.586],\"yaxis\":\"y\",\"type\":\"scatter\"},{\"hovertemplate\":\"Country Name=Lao PDR<br>NY.GDP.PCAP.PP.CD=%{x}<br>SP.DYN.LE00.IN=%{y}<extra></extra>\",\"legendgroup\":\"Lao PDR\",\"marker\":{\"color\":\"#B6E880\",\"symbol\":\"circle\"},\"mode\":\"markers\",\"name\":\"Lao PDR\",\"orientation\":\"v\",\"showlegend\":true,\"x\":[8238.4945676447],\"xaxis\":\"x\",\"y\":[68.219],\"yaxis\":\"y\",\"type\":\"scatter\"},{\"hovertemplate\":\"Country Name=Lebanon<br>NY.GDP.PCAP.PP.CD=%{x}<br>SP.DYN.LE00.IN=%{y}<extra></extra>\",\"legendgroup\":\"Lebanon\",\"marker\":{\"color\":\"#FF97FF\",\"symbol\":\"circle\"},\"mode\":\"markers\",\"name\":\"Lebanon\",\"orientation\":\"v\",\"showlegend\":true,\"x\":[11376.7939846074],\"xaxis\":\"x\",\"y\":[79.004],\"yaxis\":\"y\",\"type\":\"scatter\"},{\"hovertemplate\":\"Country Name=Liberia<br>NY.GDP.PCAP.PP.CD=%{x}<br>SP.DYN.LE00.IN=%{y}<extra></extra>\",\"legendgroup\":\"Liberia\",\"marker\":{\"color\":\"#FECB52\",\"symbol\":\"circle\"},\"mode\":\"markers\",\"name\":\"Liberia\",\"orientation\":\"v\",\"showlegend\":true,\"x\":[1468.2452389174],\"xaxis\":\"x\",\"y\":[64.423],\"yaxis\":\"y\",\"type\":\"scatter\"},{\"hovertemplate\":\"Country Name=Libya<br>NY.GDP.PCAP.PP.CD=%{x}<br>SP.DYN.LE00.IN=%{y}<extra></extra>\",\"legendgroup\":\"Libya\",\"marker\":{\"color\":\"#636efa\",\"symbol\":\"circle\"},\"mode\":\"markers\",\"name\":\"Libya\",\"orientation\":\"v\",\"showlegend\":true,\"x\":[17286.3681373478],\"xaxis\":\"x\",\"y\":[73.082],\"yaxis\":\"y\",\"type\":\"scatter\"},{\"hovertemplate\":\"Country Name=St. Lucia<br>NY.GDP.PCAP.PP.CD=%{x}<br>SP.DYN.LE00.IN=%{y}<extra></extra>\",\"legendgroup\":\"St. Lucia\",\"marker\":{\"color\":\"#EF553B\",\"symbol\":\"circle\"},\"mode\":\"markers\",\"name\":\"St. Lucia\",\"orientation\":\"v\",\"showlegend\":true,\"x\":[12708.7945142816],\"xaxis\":\"x\",\"y\":[76.343],\"yaxis\":\"y\",\"type\":\"scatter\"},{\"hovertemplate\":\"Country Name=Liechtenstein<br>NY.GDP.PCAP.PP.CD=%{x}<br>SP.DYN.LE00.IN=%{y}<extra></extra>\",\"legendgroup\":\"Liechtenstein\",\"marker\":{\"color\":\"#00cc96\",\"symbol\":\"circle\"},\"mode\":\"markers\",\"name\":\"Liechtenstein\",\"orientation\":\"v\",\"showlegend\":true,\"x\":[null],\"xaxis\":\"x\",\"y\":[81.8073170732],\"yaxis\":\"y\",\"type\":\"scatter\"},{\"hovertemplate\":\"Country Name=Sri Lanka<br>NY.GDP.PCAP.PP.CD=%{x}<br>SP.DYN.LE00.IN=%{y}<extra></extra>\",\"legendgroup\":\"Sri Lanka\",\"marker\":{\"color\":\"#ab63fa\",\"symbol\":\"circle\"},\"mode\":\"markers\",\"name\":\"Sri Lanka\",\"orientation\":\"v\",\"showlegend\":true,\"x\":[13226.7300579257],\"xaxis\":\"x\",\"y\":[77.144],\"yaxis\":\"y\",\"type\":\"scatter\"},{\"hovertemplate\":\"Country Name=Lesotho<br>NY.GDP.PCAP.PP.CD=%{x}<br>SP.DYN.LE00.IN=%{y}<extra></extra>\",\"legendgroup\":\"Lesotho\",\"marker\":{\"color\":\"#FFA15A\",\"symbol\":\"circle\"},\"mode\":\"markers\",\"name\":\"Lesotho\",\"orientation\":\"v\",\"showlegend\":true,\"x\":[2569.3377411847],\"xaxis\":\"x\",\"y\":[54.836],\"yaxis\":\"y\",\"type\":\"scatter\"},{\"hovertemplate\":\"Country Name=Lithuania<br>NY.GDP.PCAP.PP.CD=%{x}<br>SP.DYN.LE00.IN=%{y}<extra></extra>\",\"legendgroup\":\"Lithuania\",\"marker\":{\"color\":\"#19d3f3\",\"symbol\":\"circle\"},\"mode\":\"markers\",\"name\":\"Lithuania\",\"orientation\":\"v\",\"showlegend\":true,\"x\":[38880.5452693822],\"xaxis\":\"x\",\"y\":[74.9292682927],\"yaxis\":\"y\",\"type\":\"scatter\"},{\"hovertemplate\":\"Country Name=Luxembourg<br>NY.GDP.PCAP.PP.CD=%{x}<br>SP.DYN.LE00.IN=%{y}<extra></extra>\",\"legendgroup\":\"Luxembourg\",\"marker\":{\"color\":\"#FF6692\",\"symbol\":\"circle\"},\"mode\":\"markers\",\"name\":\"Luxembourg\",\"orientation\":\"v\",\"showlegend\":true,\"x\":[117846.13649183],\"xaxis\":\"x\",\"y\":[81.7414634146],\"yaxis\":\"y\",\"type\":\"scatter\"},{\"hovertemplate\":\"Country Name=Latvia<br>NY.GDP.PCAP.PP.CD=%{x}<br>SP.DYN.LE00.IN=%{y}<extra></extra>\",\"legendgroup\":\"Latvia\",\"marker\":{\"color\":\"#B6E880\",\"symbol\":\"circle\"},\"mode\":\"markers\",\"name\":\"Latvia\",\"orientation\":\"v\",\"showlegend\":true,\"x\":[31424.9022103534],\"xaxis\":\"x\",\"y\":[75.387804878],\"yaxis\":\"y\",\"type\":\"scatter\"},{\"hovertemplate\":\"Country Name=Macao SAR, China<br>NY.GDP.PCAP.PP.CD=%{x}<br>SP.DYN.LE00.IN=%{y}<extra></extra>\",\"legendgroup\":\"Macao SAR, China\",\"marker\":{\"color\":\"#FF97FF\",\"symbol\":\"circle\"},\"mode\":\"markers\",\"name\":\"Macao SAR, China\",\"orientation\":\"v\",\"showlegend\":true,\"x\":[60890.5490558431],\"xaxis\":\"x\",\"y\":[84.37],\"yaxis\":\"y\",\"type\":\"scatter\"},{\"hovertemplate\":\"Country Name=St. Martin (French part)<br>NY.GDP.PCAP.PP.CD=%{x}<br>SP.DYN.LE00.IN=%{y}<extra></extra>\",\"legendgroup\":\"St. Martin (French part)\",\"marker\":{\"color\":\"#FECB52\",\"symbol\":\"circle\"},\"mode\":\"markers\",\"name\":\"St. Martin (French part)\",\"orientation\":\"v\",\"showlegend\":true,\"x\":[null],\"xaxis\":\"x\",\"y\":[80.1219512195],\"yaxis\":\"y\",\"type\":\"scatter\"},{\"hovertemplate\":\"Country Name=Morocco<br>NY.GDP.PCAP.PP.CD=%{x}<br>SP.DYN.LE00.IN=%{y}<extra></extra>\",\"legendgroup\":\"Morocco\",\"marker\":{\"color\":\"#636efa\",\"symbol\":\"circle\"},\"mode\":\"markers\",\"name\":\"Morocco\",\"orientation\":\"v\",\"showlegend\":true,\"x\":[7368.8916015625],\"xaxis\":\"x\",\"y\":[76.901],\"yaxis\":\"y\",\"type\":\"scatter\"},{\"hovertemplate\":\"Country Name=Monaco<br>NY.GDP.PCAP.PP.CD=%{x}<br>SP.DYN.LE00.IN=%{y}<extra></extra>\",\"legendgroup\":\"Monaco\",\"marker\":{\"color\":\"#EF553B\",\"symbol\":\"circle\"},\"mode\":\"markers\",\"name\":\"Monaco\",\"orientation\":\"v\",\"showlegend\":true,\"x\":[null],\"xaxis\":\"x\",\"y\":[null],\"yaxis\":\"y\",\"type\":\"scatter\"},{\"hovertemplate\":\"Country Name=Moldova<br>NY.GDP.PCAP.PP.CD=%{x}<br>SP.DYN.LE00.IN=%{y}<extra></extra>\",\"legendgroup\":\"Moldova\",\"marker\":{\"color\":\"#00cc96\",\"symbol\":\"circle\"},\"mode\":\"markers\",\"name\":\"Moldova\",\"orientation\":\"v\",\"showlegend\":true,\"x\":[12941.8927818422],\"xaxis\":\"x\",\"y\":[72.006],\"yaxis\":\"y\",\"type\":\"scatter\"},{\"hovertemplate\":\"Country Name=Madagascar<br>NY.GDP.PCAP.PP.CD=%{x}<br>SP.DYN.LE00.IN=%{y}<extra></extra>\",\"legendgroup\":\"Madagascar\",\"marker\":{\"color\":\"#ab63fa\",\"symbol\":\"circle\"},\"mode\":\"markers\",\"name\":\"Madagascar\",\"orientation\":\"v\",\"showlegend\":true,\"x\":[1543.9529380183],\"xaxis\":\"x\",\"y\":[67.39],\"yaxis\":\"y\",\"type\":\"scatter\"},{\"hovertemplate\":\"Country Name=Maldives<br>NY.GDP.PCAP.PP.CD=%{x}<br>SP.DYN.LE00.IN=%{y}<extra></extra>\",\"legendgroup\":\"Maldives\",\"marker\":{\"color\":\"#FFA15A\",\"symbol\":\"circle\"},\"mode\":\"markers\",\"name\":\"Maldives\",\"orientation\":\"v\",\"showlegend\":true,\"x\":[13442.3861472741],\"xaxis\":\"x\",\"y\":[79.208],\"yaxis\":\"y\",\"type\":\"scatter\"},{\"hovertemplate\":\"Country Name=Mexico<br>NY.GDP.PCAP.PP.CD=%{x}<br>SP.DYN.LE00.IN=%{y}<extra></extra>\",\"legendgroup\":\"Mexico\",\"marker\":{\"color\":\"#19d3f3\",\"symbol\":\"circle\"},\"mode\":\"markers\",\"name\":\"Mexico\",\"orientation\":\"v\",\"showlegend\":true,\"x\":[18670.8104030112],\"xaxis\":\"x\",\"y\":[75.131],\"yaxis\":\"y\",\"type\":\"scatter\"},{\"hovertemplate\":\"Country Name=Marshall Islands<br>NY.GDP.PCAP.PP.CD=%{x}<br>SP.DYN.LE00.IN=%{y}<extra></extra>\",\"legendgroup\":\"Marshall Islands\",\"marker\":{\"color\":\"#FF6692\",\"symbol\":\"circle\"},\"mode\":\"markers\",\"name\":\"Marshall Islands\",\"orientation\":\"v\",\"showlegend\":true,\"x\":[4147.0972451873],\"xaxis\":\"x\",\"y\":[null],\"yaxis\":\"y\",\"type\":\"scatter\"},{\"hovertemplate\":\"Country Name=North Macedonia<br>NY.GDP.PCAP.PP.CD=%{x}<br>SP.DYN.LE00.IN=%{y}<extra></extra>\",\"legendgroup\":\"North Macedonia\",\"marker\":{\"color\":\"#B6E880\",\"symbol\":\"circle\"},\"mode\":\"markers\",\"name\":\"North Macedonia\",\"orientation\":\"v\",\"showlegend\":true,\"x\":[16719.6900959522],\"xaxis\":\"x\",\"y\":[75.6931707317],\"yaxis\":\"y\",\"type\":\"scatter\"},{\"hovertemplate\":\"Country Name=Mali<br>NY.GDP.PCAP.PP.CD=%{x}<br>SP.DYN.LE00.IN=%{y}<extra></extra>\",\"legendgroup\":\"Mali\",\"marker\":{\"color\":\"#FF97FF\",\"symbol\":\"circle\"},\"mode\":\"markers\",\"name\":\"Mali\",\"orientation\":\"v\",\"showlegend\":true,\"x\":[2347.7966744097],\"xaxis\":\"x\",\"y\":[59.692],\"yaxis\":\"y\",\"type\":\"scatter\"},{\"hovertemplate\":\"Country Name=Malta<br>NY.GDP.PCAP.PP.CD=%{x}<br>SP.DYN.LE00.IN=%{y}<extra></extra>\",\"legendgroup\":\"Malta\",\"marker\":{\"color\":\"#FECB52\",\"symbol\":\"circle\"},\"mode\":\"markers\",\"name\":\"Malta\",\"orientation\":\"v\",\"showlegend\":true,\"x\":[43243.1726484364],\"xaxis\":\"x\",\"y\":[82.6536585366],\"yaxis\":\"y\",\"type\":\"scatter\"},{\"hovertemplate\":\"Country Name=Myanmar<br>NY.GDP.PCAP.PP.CD=%{x}<br>SP.DYN.LE00.IN=%{y}<extra></extra>\",\"legendgroup\":\"Myanmar\",\"marker\":{\"color\":\"#636efa\",\"symbol\":\"circle\"},\"mode\":\"markers\",\"name\":\"Myanmar\",\"orientation\":\"v\",\"showlegend\":true,\"x\":[5123.4077086044],\"xaxis\":\"x\",\"y\":[67.363],\"yaxis\":\"y\",\"type\":\"scatter\"},{\"hovertemplate\":\"Country Name=Montenegro<br>NY.GDP.PCAP.PP.CD=%{x}<br>SP.DYN.LE00.IN=%{y}<extra></extra>\",\"legendgroup\":\"Montenegro\",\"marker\":{\"color\":\"#EF553B\",\"symbol\":\"circle\"},\"mode\":\"markers\",\"name\":\"Montenegro\",\"orientation\":\"v\",\"showlegend\":true,\"x\":[19989.6536652962],\"xaxis\":\"x\",\"y\":[75.9317073171],\"yaxis\":\"y\",\"type\":\"scatter\"},{\"hovertemplate\":\"Country Name=Mongolia<br>NY.GDP.PCAP.PP.CD=%{x}<br>SP.DYN.LE00.IN=%{y}<extra></extra>\",\"legendgroup\":\"Mongolia\",\"marker\":{\"color\":\"#00cc96\",\"symbol\":\"circle\"},\"mode\":\"markers\",\"name\":\"Mongolia\",\"orientation\":\"v\",\"showlegend\":true,\"x\":[12365.9384827552],\"xaxis\":\"x\",\"y\":[70.056],\"yaxis\":\"y\",\"type\":\"scatter\"},{\"hovertemplate\":\"Country Name=Northern Mariana Islands<br>NY.GDP.PCAP.PP.CD=%{x}<br>SP.DYN.LE00.IN=%{y}<extra></extra>\",\"legendgroup\":\"Northern Mariana Islands\",\"marker\":{\"color\":\"#ab63fa\",\"symbol\":\"circle\"},\"mode\":\"markers\",\"name\":\"Northern Mariana Islands\",\"orientation\":\"v\",\"showlegend\":true,\"x\":[null],\"xaxis\":\"x\",\"y\":[null],\"yaxis\":\"y\",\"type\":\"scatter\"},{\"hovertemplate\":\"Country Name=Mozambique<br>NY.GDP.PCAP.PP.CD=%{x}<br>SP.DYN.LE00.IN=%{y}<extra></extra>\",\"legendgroup\":\"Mozambique\",\"marker\":{\"color\":\"#FFA15A\",\"symbol\":\"circle\"},\"mode\":\"markers\",\"name\":\"Mozambique\",\"orientation\":\"v\",\"showlegend\":true,\"x\":[1297.2987162224],\"xaxis\":\"x\",\"y\":[61.387],\"yaxis\":\"y\",\"type\":\"scatter\"},{\"hovertemplate\":\"Country Name=Mauritania<br>NY.GDP.PCAP.PP.CD=%{x}<br>SP.DYN.LE00.IN=%{y}<extra></extra>\",\"legendgroup\":\"Mauritania\",\"marker\":{\"color\":\"#19d3f3\",\"symbol\":\"circle\"},\"mode\":\"markers\",\"name\":\"Mauritania\",\"orientation\":\"v\",\"showlegend\":true,\"x\":[5389.6464884458],\"xaxis\":\"x\",\"y\":[65.129],\"yaxis\":\"y\",\"type\":\"scatter\"},{\"hovertemplate\":\"Country Name=Mauritius<br>NY.GDP.PCAP.PP.CD=%{x}<br>SP.DYN.LE00.IN=%{y}<extra></extra>\",\"legendgroup\":\"Mauritius\",\"marker\":{\"color\":\"#FF6692\",\"symbol\":\"circle\"},\"mode\":\"markers\",\"name\":\"Mauritius\",\"orientation\":\"v\",\"showlegend\":true,\"x\":[20528.8336499786],\"xaxis\":\"x\",\"y\":[74.1770731707],\"yaxis\":\"y\",\"type\":\"scatter\"},{\"hovertemplate\":\"Country Name=Malawi<br>NY.GDP.PCAP.PP.CD=%{x}<br>SP.DYN.LE00.IN=%{y}<extra></extra>\",\"legendgroup\":\"Malawi\",\"marker\":{\"color\":\"#B6E880\",\"symbol\":\"circle\"},\"mode\":\"markers\",\"name\":\"Malawi\",\"orientation\":\"v\",\"showlegend\":true,\"x\":[1591.4755910705],\"xaxis\":\"x\",\"y\":[64.694],\"yaxis\":\"y\",\"type\":\"scatter\"},{\"hovertemplate\":\"Country Name=Malaysia<br>NY.GDP.PCAP.PP.CD=%{x}<br>SP.DYN.LE00.IN=%{y}<extra></extra>\",\"legendgroup\":\"Malaysia\",\"marker\":{\"color\":\"#FF97FF\",\"symbol\":\"circle\"},\"mode\":\"markers\",\"name\":\"Malaysia\",\"orientation\":\"v\",\"showlegend\":true,\"x\":[27921.4109533867],\"xaxis\":\"x\",\"y\":[76.306],\"yaxis\":\"y\",\"type\":\"scatter\"},{\"hovertemplate\":\"Country Name=Namibia<br>NY.GDP.PCAP.PP.CD=%{x}<br>SP.DYN.LE00.IN=%{y}<extra></extra>\",\"legendgroup\":\"Namibia\",\"marker\":{\"color\":\"#FECB52\",\"symbol\":\"circle\"},\"mode\":\"markers\",\"name\":\"Namibia\",\"orientation\":\"v\",\"showlegend\":true,\"x\":[9358.5371675686],\"xaxis\":\"x\",\"y\":[64.045],\"yaxis\":\"y\",\"type\":\"scatter\"},{\"hovertemplate\":\"Country Name=New Caledonia<br>NY.GDP.PCAP.PP.CD=%{x}<br>SP.DYN.LE00.IN=%{y}<extra></extra>\",\"legendgroup\":\"New Caledonia\",\"marker\":{\"color\":\"#636efa\",\"symbol\":\"circle\"},\"mode\":\"markers\",\"name\":\"New Caledonia\",\"orientation\":\"v\",\"showlegend\":true,\"x\":[null],\"xaxis\":\"x\",\"y\":[77.7711707317],\"yaxis\":\"y\",\"type\":\"scatter\"},{\"hovertemplate\":\"Country Name=Niger<br>NY.GDP.PCAP.PP.CD=%{x}<br>SP.DYN.LE00.IN=%{y}<extra></extra>\",\"legendgroup\":\"Niger\",\"marker\":{\"color\":\"#EF553B\",\"symbol\":\"circle\"},\"mode\":\"markers\",\"name\":\"Niger\",\"orientation\":\"v\",\"showlegend\":true,\"x\":[1288.1535124372],\"xaxis\":\"x\",\"y\":[62.792],\"yaxis\":\"y\",\"type\":\"scatter\"},{\"hovertemplate\":\"Country Name=Nigeria<br>NY.GDP.PCAP.PP.CD=%{x}<br>SP.DYN.LE00.IN=%{y}<extra></extra>\",\"legendgroup\":\"Nigeria\",\"marker\":{\"color\":\"#00cc96\",\"symbol\":\"circle\"},\"mode\":\"markers\",\"name\":\"Nigeria\",\"orientation\":\"v\",\"showlegend\":true,\"x\":[5185.9885837261],\"xaxis\":\"x\",\"y\":[55.018],\"yaxis\":\"y\",\"type\":\"scatter\"},{\"hovertemplate\":\"Country Name=Nicaragua<br>NY.GDP.PCAP.PP.CD=%{x}<br>SP.DYN.LE00.IN=%{y}<extra></extra>\",\"legendgroup\":\"Nicaragua\",\"marker\":{\"color\":\"#ab63fa\",\"symbol\":\"circle\"},\"mode\":\"markers\",\"name\":\"Nicaragua\",\"orientation\":\"v\",\"showlegend\":true,\"x\":[5573.8687287506],\"xaxis\":\"x\",\"y\":[74.697],\"yaxis\":\"y\",\"type\":\"scatter\"},{\"hovertemplate\":\"Country Name=Netherlands<br>NY.GDP.PCAP.PP.CD=%{x}<br>SP.DYN.LE00.IN=%{y}<extra></extra>\",\"legendgroup\":\"Netherlands\",\"marker\":{\"color\":\"#FFA15A\",\"symbol\":\"circle\"},\"mode\":\"markers\",\"name\":\"Netherlands\",\"orientation\":\"v\",\"showlegend\":true,\"x\":[59266.9085805339],\"xaxis\":\"x\",\"y\":[81.4097560976],\"yaxis\":\"y\",\"type\":\"scatter\"},{\"hovertemplate\":\"Country Name=Norway<br>NY.GDP.PCAP.PP.CD=%{x}<br>SP.DYN.LE00.IN=%{y}<extra></extra>\",\"legendgroup\":\"Norway\",\"marker\":{\"color\":\"#19d3f3\",\"symbol\":\"circle\"},\"mode\":\"markers\",\"name\":\"Norway\",\"orientation\":\"v\",\"showlegend\":true,\"x\":[62644.8457362642],\"xaxis\":\"x\",\"y\":[83.2097560976],\"yaxis\":\"y\",\"type\":\"scatter\"},{\"hovertemplate\":\"Country Name=Nepal<br>NY.GDP.PCAP.PP.CD=%{x}<br>SP.DYN.LE00.IN=%{y}<extra></extra>\",\"legendgroup\":\"Nepal\",\"marker\":{\"color\":\"#FF6692\",\"symbol\":\"circle\"},\"mode\":\"markers\",\"name\":\"Nepal\",\"orientation\":\"v\",\"showlegend\":true,\"x\":[3996.6654700556],\"xaxis\":\"x\",\"y\":[71.067],\"yaxis\":\"y\",\"type\":\"scatter\"},{\"hovertemplate\":\"Country Name=Nauru<br>NY.GDP.PCAP.PP.CD=%{x}<br>SP.DYN.LE00.IN=%{y}<extra></extra>\",\"legendgroup\":\"Nauru\",\"marker\":{\"color\":\"#B6E880\",\"symbol\":\"circle\"},\"mode\":\"markers\",\"name\":\"Nauru\",\"orientation\":\"v\",\"showlegend\":true,\"x\":[14337.2654088139],\"xaxis\":\"x\",\"y\":[null],\"yaxis\":\"y\",\"type\":\"scatter\"},{\"hovertemplate\":\"Country Name=New Zealand<br>NY.GDP.PCAP.PP.CD=%{x}<br>SP.DYN.LE00.IN=%{y}<extra></extra>\",\"legendgroup\":\"New Zealand\",\"marker\":{\"color\":\"#FF97FF\",\"symbol\":\"circle\"},\"mode\":\"markers\",\"name\":\"New Zealand\",\"orientation\":\"v\",\"showlegend\":true,\"x\":[44657.7737248265],\"xaxis\":\"x\",\"y\":[82.056097561],\"yaxis\":\"y\",\"type\":\"scatter\"},{\"hovertemplate\":\"Country Name=Oman<br>NY.GDP.PCAP.PP.CD=%{x}<br>SP.DYN.LE00.IN=%{y}<extra></extra>\",\"legendgroup\":\"Oman\",\"marker\":{\"color\":\"#FECB52\",\"symbol\":\"circle\"},\"mode\":\"markers\",\"name\":\"Oman\",\"orientation\":\"v\",\"showlegend\":true,\"x\":[31117.7577060692],\"xaxis\":\"x\",\"y\":[78.078],\"yaxis\":\"y\",\"type\":\"scatter\"},{\"hovertemplate\":\"Country Name=Pakistan<br>NY.GDP.PCAP.PP.CD=%{x}<br>SP.DYN.LE00.IN=%{y}<extra></extra>\",\"legendgroup\":\"Pakistan\",\"marker\":{\"color\":\"#636efa\",\"symbol\":\"circle\"},\"mode\":\"markers\",\"name\":\"Pakistan\",\"orientation\":\"v\",\"showlegend\":true,\"x\":[5426.0197879011],\"xaxis\":\"x\",\"y\":[67.428],\"yaxis\":\"y\",\"type\":\"scatter\"},{\"hovertemplate\":\"Country Name=Panama<br>NY.GDP.PCAP.PP.CD=%{x}<br>SP.DYN.LE00.IN=%{y}<extra></extra>\",\"legendgroup\":\"Panama\",\"marker\":{\"color\":\"#EF553B\",\"symbol\":\"circle\"},\"mode\":\"markers\",\"name\":\"Panama\",\"orientation\":\"v\",\"showlegend\":true,\"x\":[26780.3006033508],\"xaxis\":\"x\",\"y\":[78.68],\"yaxis\":\"y\",\"type\":\"scatter\"},{\"hovertemplate\":\"Country Name=Peru<br>NY.GDP.PCAP.PP.CD=%{x}<br>SP.DYN.LE00.IN=%{y}<extra></extra>\",\"legendgroup\":\"Peru\",\"marker\":{\"color\":\"#00cc96\",\"symbol\":\"circle\"},\"mode\":\"markers\",\"name\":\"Peru\",\"orientation\":\"v\",\"showlegend\":true,\"x\":[11908.0607001648],\"xaxis\":\"x\",\"y\":[76.947],\"yaxis\":\"y\",\"type\":\"scatter\"},{\"hovertemplate\":\"Country Name=Philippines<br>NY.GDP.PCAP.PP.CD=%{x}<br>SP.DYN.LE00.IN=%{y}<extra></extra>\",\"legendgroup\":\"Philippines\",\"marker\":{\"color\":\"#ab63fa\",\"symbol\":\"circle\"},\"mode\":\"markers\",\"name\":\"Philippines\",\"orientation\":\"v\",\"showlegend\":true,\"x\":[8394.2422578488],\"xaxis\":\"x\",\"y\":[71.36],\"yaxis\":\"y\",\"type\":\"scatter\"},{\"hovertemplate\":\"Country Name=Palau<br>NY.GDP.PCAP.PP.CD=%{x}<br>SP.DYN.LE00.IN=%{y}<extra></extra>\",\"legendgroup\":\"Palau\",\"marker\":{\"color\":\"#FFA15A\",\"symbol\":\"circle\"},\"mode\":\"markers\",\"name\":\"Palau\",\"orientation\":\"v\",\"showlegend\":true,\"x\":[16318.6789479118],\"xaxis\":\"x\",\"y\":[null],\"yaxis\":\"y\",\"type\":\"scatter\"},{\"hovertemplate\":\"Country Name=Papua New Guinea<br>NY.GDP.PCAP.PP.CD=%{x}<br>SP.DYN.LE00.IN=%{y}<extra></extra>\",\"legendgroup\":\"Papua New Guinea\",\"marker\":{\"color\":\"#19d3f3\",\"symbol\":\"circle\"},\"mode\":\"markers\",\"name\":\"Papua New Guinea\",\"orientation\":\"v\",\"showlegend\":true,\"x\":[4285.7654748601],\"xaxis\":\"x\",\"y\":[64.725],\"yaxis\":\"y\",\"type\":\"scatter\"},{\"hovertemplate\":\"Country Name=Poland<br>NY.GDP.PCAP.PP.CD=%{x}<br>SP.DYN.LE00.IN=%{y}<extra></extra>\",\"legendgroup\":\"Poland\",\"marker\":{\"color\":\"#FF6692\",\"symbol\":\"circle\"},\"mode\":\"markers\",\"name\":\"Poland\",\"orientation\":\"v\",\"showlegend\":true,\"x\":[34286.9850845384],\"xaxis\":\"x\",\"y\":[76.6],\"yaxis\":\"y\",\"type\":\"scatter\"},{\"hovertemplate\":\"Country Name=Puerto Rico<br>NY.GDP.PCAP.PP.CD=%{x}<br>SP.DYN.LE00.IN=%{y}<extra></extra>\",\"legendgroup\":\"Puerto Rico\",\"marker\":{\"color\":\"#B6E880\",\"symbol\":\"circle\"},\"mode\":\"markers\",\"name\":\"Puerto Rico\",\"orientation\":\"v\",\"showlegend\":true,\"x\":[34333.7472481387],\"xaxis\":\"x\",\"y\":[80.0874634146],\"yaxis\":\"y\",\"type\":\"scatter\"},{\"hovertemplate\":\"Country Name=Korea, Dem. People's Rep.<br>NY.GDP.PCAP.PP.CD=%{x}<br>SP.DYN.LE00.IN=%{y}<extra></extra>\",\"legendgroup\":\"Korea, Dem. People's Rep.\",\"marker\":{\"color\":\"#FF97FF\",\"symbol\":\"circle\"},\"mode\":\"markers\",\"name\":\"Korea, Dem. People's Rep.\",\"orientation\":\"v\",\"showlegend\":true,\"x\":[null],\"xaxis\":\"x\",\"y\":[72.453],\"yaxis\":\"y\",\"type\":\"scatter\"},{\"hovertemplate\":\"Country Name=Portugal<br>NY.GDP.PCAP.PP.CD=%{x}<br>SP.DYN.LE00.IN=%{y}<extra></extra>\",\"legendgroup\":\"Portugal\",\"marker\":{\"color\":\"#FECB52\",\"symbol\":\"circle\"},\"mode\":\"markers\",\"name\":\"Portugal\",\"orientation\":\"v\",\"showlegend\":true,\"x\":[34177.085710564],\"xaxis\":\"x\",\"y\":[80.9756097561],\"yaxis\":\"y\",\"type\":\"scatter\"},{\"hovertemplate\":\"Country Name=Paraguay<br>NY.GDP.PCAP.PP.CD=%{x}<br>SP.DYN.LE00.IN=%{y}<extra></extra>\",\"legendgroup\":\"Paraguay\",\"marker\":{\"color\":\"#636efa\",\"symbol\":\"circle\"},\"mode\":\"markers\",\"name\":\"Paraguay\",\"orientation\":\"v\",\"showlegend\":true,\"x\":[13034.7165447496],\"xaxis\":\"x\",\"y\":[74.363],\"yaxis\":\"y\",\"type\":\"scatter\"},{\"hovertemplate\":\"Country Name=West Bank and Gaza<br>NY.GDP.PCAP.PP.CD=%{x}<br>SP.DYN.LE00.IN=%{y}<extra></extra>\",\"legendgroup\":\"West Bank and Gaza\",\"marker\":{\"color\":\"#EF553B\",\"symbol\":\"circle\"},\"mode\":\"markers\",\"name\":\"West Bank and Gaza\",\"orientation\":\"v\",\"showlegend\":true,\"x\":[5698.4120572086],\"xaxis\":\"x\",\"y\":[74.213],\"yaxis\":\"y\",\"type\":\"scatter\"},{\"hovertemplate\":\"Country Name=French Polynesia<br>NY.GDP.PCAP.PP.CD=%{x}<br>SP.DYN.LE00.IN=%{y}<extra></extra>\",\"legendgroup\":\"French Polynesia\",\"marker\":{\"color\":\"#00cc96\",\"symbol\":\"circle\"},\"mode\":\"markers\",\"name\":\"French Polynesia\",\"orientation\":\"v\",\"showlegend\":true,\"x\":[null],\"xaxis\":\"x\",\"y\":[77.836],\"yaxis\":\"y\",\"type\":\"scatter\"},{\"hovertemplate\":\"Country Name=Qatar<br>NY.GDP.PCAP.PP.CD=%{x}<br>SP.DYN.LE00.IN=%{y}<extra></extra>\",\"legendgroup\":\"Qatar\",\"marker\":{\"color\":\"#ab63fa\",\"symbol\":\"circle\"},\"mode\":\"markers\",\"name\":\"Qatar\",\"orientation\":\"v\",\"showlegend\":true,\"x\":[89961.4332328736],\"xaxis\":\"x\",\"y\":[80.363],\"yaxis\":\"y\",\"type\":\"scatter\"},{\"hovertemplate\":\"Country Name=Romania<br>NY.GDP.PCAP.PP.CD=%{x}<br>SP.DYN.LE00.IN=%{y}<extra></extra>\",\"legendgroup\":\"Romania\",\"marker\":{\"color\":\"#FFA15A\",\"symbol\":\"circle\"},\"mode\":\"markers\",\"name\":\"Romania\",\"orientation\":\"v\",\"showlegend\":true,\"x\":[32202.2086556273],\"xaxis\":\"x\",\"y\":[74.3536585366],\"yaxis\":\"y\",\"type\":\"scatter\"},{\"hovertemplate\":\"Country Name=Russian Federation<br>NY.GDP.PCAP.PP.CD=%{x}<br>SP.DYN.LE00.IN=%{y}<extra></extra>\",\"legendgroup\":\"Russian Federation\",\"marker\":{\"color\":\"#19d3f3\",\"symbol\":\"circle\"},\"mode\":\"markers\",\"name\":\"Russian Federation\",\"orientation\":\"v\",\"showlegend\":true,\"x\":[29916.013671875],\"xaxis\":\"x\",\"y\":[71.3387804878],\"yaxis\":\"y\",\"type\":\"scatter\"},{\"hovertemplate\":\"Country Name=Rwanda<br>NY.GDP.PCAP.PP.CD=%{x}<br>SP.DYN.LE00.IN=%{y}<extra></extra>\",\"legendgroup\":\"Rwanda\",\"marker\":{\"color\":\"#FF6692\",\"symbol\":\"circle\"},\"mode\":\"markers\",\"name\":\"Rwanda\",\"orientation\":\"v\",\"showlegend\":true,\"x\":[2213.568597609],\"xaxis\":\"x\",\"y\":[69.329],\"yaxis\":\"y\",\"type\":\"scatter\"},{\"hovertemplate\":\"Country Name=Saudi Arabia<br>NY.GDP.PCAP.PP.CD=%{x}<br>SP.DYN.LE00.IN=%{y}<extra></extra>\",\"legendgroup\":\"Saudi Arabia\",\"marker\":{\"color\":\"#B6E880\",\"symbol\":\"circle\"},\"mode\":\"markers\",\"name\":\"Saudi Arabia\",\"orientation\":\"v\",\"showlegend\":true,\"x\":[46778.2983720365],\"xaxis\":\"x\",\"y\":[75.28],\"yaxis\":\"y\",\"type\":\"scatter\"},{\"hovertemplate\":\"Country Name=Sudan<br>NY.GDP.PCAP.PP.CD=%{x}<br>SP.DYN.LE00.IN=%{y}<extra></extra>\",\"legendgroup\":\"Sudan\",\"marker\":{\"color\":\"#FF97FF\",\"symbol\":\"circle\"},\"mode\":\"markers\",\"name\":\"Sudan\",\"orientation\":\"v\",\"showlegend\":true,\"x\":[4142.1108398438],\"xaxis\":\"x\",\"y\":[65.53],\"yaxis\":\"y\",\"type\":\"scatter\"},{\"hovertemplate\":\"Country Name=Senegal<br>NY.GDP.PCAP.PP.CD=%{x}<br>SP.DYN.LE00.IN=%{y}<extra></extra>\",\"legendgroup\":\"Senegal\",\"marker\":{\"color\":\"#FECB52\",\"symbol\":\"circle\"},\"mode\":\"markers\",\"name\":\"Senegal\",\"orientation\":\"v\",\"showlegend\":true,\"x\":[3503.5950167704],\"xaxis\":\"x\",\"y\":[68.213],\"yaxis\":\"y\",\"type\":\"scatter\"},{\"hovertemplate\":\"Country Name=Singapore<br>NY.GDP.PCAP.PP.CD=%{x}<br>SP.DYN.LE00.IN=%{y}<extra></extra>\",\"legendgroup\":\"Singapore\",\"marker\":{\"color\":\"#636efa\",\"symbol\":\"circle\"},\"mode\":\"markers\",\"name\":\"Singapore\",\"orientation\":\"v\",\"showlegend\":true,\"x\":[99681.2941505156],\"xaxis\":\"x\",\"y\":[83.743902439],\"yaxis\":\"y\",\"type\":\"scatter\"},{\"hovertemplate\":\"Country Name=Solomon Islands<br>NY.GDP.PCAP.PP.CD=%{x}<br>SP.DYN.LE00.IN=%{y}<extra></extra>\",\"legendgroup\":\"Solomon Islands\",\"marker\":{\"color\":\"#EF553B\",\"symbol\":\"circle\"},\"mode\":\"markers\",\"name\":\"Solomon Islands\",\"orientation\":\"v\",\"showlegend\":true,\"x\":[2618.3237021296],\"xaxis\":\"x\",\"y\":[73.132],\"yaxis\":\"y\",\"type\":\"scatter\"},{\"hovertemplate\":\"Country Name=Sierra Leone<br>NY.GDP.PCAP.PP.CD=%{x}<br>SP.DYN.LE00.IN=%{y}<extra></extra>\",\"legendgroup\":\"Sierra Leone\",\"marker\":{\"color\":\"#00cc96\",\"symbol\":\"circle\"},\"mode\":\"markers\",\"name\":\"Sierra Leone\",\"orientation\":\"v\",\"showlegend\":true,\"x\":[1726.9641567097],\"xaxis\":\"x\",\"y\":[55.066],\"yaxis\":\"y\",\"type\":\"scatter\"},{\"hovertemplate\":\"Country Name=El Salvador<br>NY.GDP.PCAP.PP.CD=%{x}<br>SP.DYN.LE00.IN=%{y}<extra></extra>\",\"legendgroup\":\"El Salvador\",\"marker\":{\"color\":\"#ab63fa\",\"symbol\":\"circle\"},\"mode\":\"markers\",\"name\":\"El Salvador\",\"orientation\":\"v\",\"showlegend\":true,\"x\":[8419.7994379588],\"xaxis\":\"x\",\"y\":[73.533],\"yaxis\":\"y\",\"type\":\"scatter\"},{\"hovertemplate\":\"Country Name=San Marino<br>NY.GDP.PCAP.PP.CD=%{x}<br>SP.DYN.LE00.IN=%{y}<extra></extra>\",\"legendgroup\":\"San Marino\",\"marker\":{\"color\":\"#FFA15A\",\"symbol\":\"circle\"},\"mode\":\"markers\",\"name\":\"San Marino\",\"orientation\":\"v\",\"showlegend\":true,\"x\":[59571.9068046212],\"xaxis\":\"x\",\"y\":[null],\"yaxis\":\"y\",\"type\":\"scatter\"},{\"hovertemplate\":\"Country Name=Somalia<br>NY.GDP.PCAP.PP.CD=%{x}<br>SP.DYN.LE00.IN=%{y}<extra></extra>\",\"legendgroup\":\"Somalia\",\"marker\":{\"color\":\"#19d3f3\",\"symbol\":\"circle\"},\"mode\":\"markers\",\"name\":\"Somalia\",\"orientation\":\"v\",\"showlegend\":true,\"x\":[1245.642282994],\"xaxis\":\"x\",\"y\":[57.697],\"yaxis\":\"y\",\"type\":\"scatter\"},{\"hovertemplate\":\"Country Name=Serbia<br>NY.GDP.PCAP.PP.CD=%{x}<br>SP.DYN.LE00.IN=%{y}<extra></extra>\",\"legendgroup\":\"Serbia\",\"marker\":{\"color\":\"#FF6692\",\"symbol\":\"circle\"},\"mode\":\"markers\",\"name\":\"Serbia\",\"orientation\":\"v\",\"showlegend\":true,\"x\":[19093.9553065153],\"xaxis\":\"x\",\"y\":[74.2292682927],\"yaxis\":\"y\",\"type\":\"scatter\"},{\"hovertemplate\":\"Country Name=South Sudan<br>NY.GDP.PCAP.PP.CD=%{x}<br>SP.DYN.LE00.IN=%{y}<extra></extra>\",\"legendgroup\":\"South Sudan\",\"marker\":{\"color\":\"#B6E880\",\"symbol\":\"circle\"},\"mode\":\"markers\",\"name\":\"South Sudan\",\"orientation\":\"v\",\"showlegend\":true,\"x\":[null],\"xaxis\":\"x\",\"y\":[58.095],\"yaxis\":\"y\",\"type\":\"scatter\"},{\"hovertemplate\":\"Country Name=Sao Tome and Principe<br>NY.GDP.PCAP.PP.CD=%{x}<br>SP.DYN.LE00.IN=%{y}<extra></extra>\",\"legendgroup\":\"Sao Tome and Principe\",\"marker\":{\"color\":\"#FF97FF\",\"symbol\":\"circle\"},\"mode\":\"markers\",\"name\":\"Sao Tome and Principe\",\"orientation\":\"v\",\"showlegend\":true,\"x\":[4273.4934200345],\"xaxis\":\"x\",\"y\":[70.583],\"yaxis\":\"y\",\"type\":\"scatter\"},{\"hovertemplate\":\"Country Name=Suriname<br>NY.GDP.PCAP.PP.CD=%{x}<br>SP.DYN.LE00.IN=%{y}<extra></extra>\",\"legendgroup\":\"Suriname\",\"marker\":{\"color\":\"#FECB52\",\"symbol\":\"circle\"},\"mode\":\"markers\",\"name\":\"Suriname\",\"orientation\":\"v\",\"showlegend\":true,\"x\":[16733.3826783171],\"xaxis\":\"x\",\"y\":[71.802],\"yaxis\":\"y\",\"type\":\"scatter\"},{\"hovertemplate\":\"Country Name=Slovak Republic<br>NY.GDP.PCAP.PP.CD=%{x}<br>SP.DYN.LE00.IN=%{y}<extra></extra>\",\"legendgroup\":\"Slovak Republic\",\"marker\":{\"color\":\"#636efa\",\"symbol\":\"circle\"},\"mode\":\"markers\",\"name\":\"Slovak Republic\",\"orientation\":\"v\",\"showlegend\":true,\"x\":[31356.458282425],\"xaxis\":\"x\",\"y\":[76.8658536585],\"yaxis\":\"y\",\"type\":\"scatter\"},{\"hovertemplate\":\"Country Name=Slovenia<br>NY.GDP.PCAP.PP.CD=%{x}<br>SP.DYN.LE00.IN=%{y}<extra></extra>\",\"legendgroup\":\"Slovenia\",\"marker\":{\"color\":\"#EF553B\",\"symbol\":\"circle\"},\"mode\":\"markers\",\"name\":\"Slovenia\",\"orientation\":\"v\",\"showlegend\":true,\"x\":[39725.259194249],\"xaxis\":\"x\",\"y\":[80.5317073171],\"yaxis\":\"y\",\"type\":\"scatter\"},{\"hovertemplate\":\"Country Name=Sweden<br>NY.GDP.PCAP.PP.CD=%{x}<br>SP.DYN.LE00.IN=%{y}<extra></extra>\",\"legendgroup\":\"Sweden\",\"marker\":{\"color\":\"#00cc96\",\"symbol\":\"circle\"},\"mode\":\"markers\",\"name\":\"Sweden\",\"orientation\":\"v\",\"showlegend\":true,\"x\":[55064.8850101551],\"xaxis\":\"x\",\"y\":[82.4073170732],\"yaxis\":\"y\",\"type\":\"scatter\"},{\"hovertemplate\":\"Country Name=Eswatini<br>NY.GDP.PCAP.PP.CD=%{x}<br>SP.DYN.LE00.IN=%{y}<extra></extra>\",\"legendgroup\":\"Eswatini\",\"marker\":{\"color\":\"#ab63fa\",\"symbol\":\"circle\"},\"mode\":\"markers\",\"name\":\"Eswatini\",\"orientation\":\"v\",\"showlegend\":true,\"x\":[8865.0171375338],\"xaxis\":\"x\",\"y\":[60.721],\"yaxis\":\"y\",\"type\":\"scatter\"},{\"hovertemplate\":\"Country Name=Sint Maarten (Dutch part)<br>NY.GDP.PCAP.PP.CD=%{x}<br>SP.DYN.LE00.IN=%{y}<extra></extra>\",\"legendgroup\":\"Sint Maarten (Dutch part)\",\"marker\":{\"color\":\"#FFA15A\",\"symbol\":\"circle\"},\"mode\":\"markers\",\"name\":\"Sint Maarten (Dutch part)\",\"orientation\":\"v\",\"showlegend\":true,\"x\":[null],\"xaxis\":\"x\",\"y\":[null],\"yaxis\":\"y\",\"type\":\"scatter\"},{\"hovertemplate\":\"Country Name=Seychelles<br>NY.GDP.PCAP.PP.CD=%{x}<br>SP.DYN.LE00.IN=%{y}<extra></extra>\",\"legendgroup\":\"Seychelles\",\"marker\":{\"color\":\"#19d3f3\",\"symbol\":\"circle\"},\"mode\":\"markers\",\"name\":\"Seychelles\",\"orientation\":\"v\",\"showlegend\":true,\"x\":[28338.9771447603],\"xaxis\":\"x\",\"y\":[77.2365853659],\"yaxis\":\"y\",\"type\":\"scatter\"},{\"hovertemplate\":\"Country Name=Syrian Arab Republic<br>NY.GDP.PCAP.PP.CD=%{x}<br>SP.DYN.LE00.IN=%{y}<extra></extra>\",\"legendgroup\":\"Syrian Arab Republic\",\"marker\":{\"color\":\"#FF6692\",\"symbol\":\"circle\"},\"mode\":\"markers\",\"name\":\"Syrian Arab Republic\",\"orientation\":\"v\",\"showlegend\":true,\"x\":[null],\"xaxis\":\"x\",\"y\":[73.651],\"yaxis\":\"y\",\"type\":\"scatter\"},{\"hovertemplate\":\"Country Name=Turks and Caicos Islands<br>NY.GDP.PCAP.PP.CD=%{x}<br>SP.DYN.LE00.IN=%{y}<extra></extra>\",\"legendgroup\":\"Turks and Caicos Islands\",\"marker\":{\"color\":\"#B6E880\",\"symbol\":\"circle\"},\"mode\":\"markers\",\"name\":\"Turks and Caicos Islands\",\"orientation\":\"v\",\"showlegend\":true,\"x\":[22283.9778508705],\"xaxis\":\"x\",\"y\":[null],\"yaxis\":\"y\",\"type\":\"scatter\"},{\"hovertemplate\":\"Country Name=Chad<br>NY.GDP.PCAP.PP.CD=%{x}<br>SP.DYN.LE00.IN=%{y}<extra></extra>\",\"legendgroup\":\"Chad\",\"marker\":{\"color\":\"#FF97FF\",\"symbol\":\"circle\"},\"mode\":\"markers\",\"name\":\"Chad\",\"orientation\":\"v\",\"showlegend\":true,\"x\":[1591.6699526472],\"xaxis\":\"x\",\"y\":[54.505],\"yaxis\":\"y\",\"type\":\"scatter\"},{\"hovertemplate\":\"Country Name=Togo<br>NY.GDP.PCAP.PP.CD=%{x}<br>SP.DYN.LE00.IN=%{y}<extra></extra>\",\"legendgroup\":\"Togo\",\"marker\":{\"color\":\"#FECB52\",\"symbol\":\"circle\"},\"mode\":\"markers\",\"name\":\"Togo\",\"orientation\":\"v\",\"showlegend\":true,\"x\":[2223.3169563651],\"xaxis\":\"x\",\"y\":[61.34],\"yaxis\":\"y\",\"type\":\"scatter\"},{\"hovertemplate\":\"Country Name=Thailand<br>NY.GDP.PCAP.PP.CD=%{x}<br>SP.DYN.LE00.IN=%{y}<extra></extra>\",\"legendgroup\":\"Thailand\",\"marker\":{\"color\":\"#636efa\",\"symbol\":\"circle\"},\"mode\":\"markers\",\"name\":\"Thailand\",\"orientation\":\"v\",\"showlegend\":true,\"x\":[18197.9424146923],\"xaxis\":\"x\",\"y\":[77.344],\"yaxis\":\"y\",\"type\":\"scatter\"},{\"hovertemplate\":\"Country Name=Tajikistan<br>NY.GDP.PCAP.PP.CD=%{x}<br>SP.DYN.LE00.IN=%{y}<extra></extra>\",\"legendgroup\":\"Tajikistan\",\"marker\":{\"color\":\"#EF553B\",\"symbol\":\"circle\"},\"mode\":\"markers\",\"name\":\"Tajikistan\",\"orientation\":\"v\",\"showlegend\":true,\"x\":[3854.1904350756],\"xaxis\":\"x\",\"y\":[71.301],\"yaxis\":\"y\",\"type\":\"scatter\"},{\"hovertemplate\":\"Country Name=Turkmenistan<br>NY.GDP.PCAP.PP.CD=%{x}<br>SP.DYN.LE00.IN=%{y}<extra></extra>\",\"legendgroup\":\"Turkmenistan\",\"marker\":{\"color\":\"#00cc96\",\"symbol\":\"circle\"},\"mode\":\"markers\",\"name\":\"Turkmenistan\",\"orientation\":\"v\",\"showlegend\":true,\"x\":[null],\"xaxis\":\"x\",\"y\":[68.313],\"yaxis\":\"y\",\"type\":\"scatter\"},{\"hovertemplate\":\"Country Name=Timor-Leste<br>NY.GDP.PCAP.PP.CD=%{x}<br>SP.DYN.LE00.IN=%{y}<extra></extra>\",\"legendgroup\":\"Timor-Leste\",\"marker\":{\"color\":\"#ab63fa\",\"symbol\":\"circle\"},\"mode\":\"markers\",\"name\":\"Timor-Leste\",\"orientation\":\"v\",\"showlegend\":true,\"x\":[4140.9550704167],\"xaxis\":\"x\",\"y\":[69.712],\"yaxis\":\"y\",\"type\":\"scatter\"},{\"hovertemplate\":\"Country Name=Tonga<br>NY.GDP.PCAP.PP.CD=%{x}<br>SP.DYN.LE00.IN=%{y}<extra></extra>\",\"legendgroup\":\"Tonga\",\"marker\":{\"color\":\"#FFA15A\",\"symbol\":\"circle\"},\"mode\":\"markers\",\"name\":\"Tonga\",\"orientation\":\"v\",\"showlegend\":true,\"x\":[6693.7856406075],\"xaxis\":\"x\",\"y\":[71.018],\"yaxis\":\"y\",\"type\":\"scatter\"},{\"hovertemplate\":\"Country Name=Trinidad and Tobago<br>NY.GDP.PCAP.PP.CD=%{x}<br>SP.DYN.LE00.IN=%{y}<extra></extra>\",\"legendgroup\":\"Trinidad and Tobago\",\"marker\":{\"color\":\"#19d3f3\",\"symbol\":\"circle\"},\"mode\":\"markers\",\"name\":\"Trinidad and Tobago\",\"orientation\":\"v\",\"showlegend\":true,\"x\":[26125.1532914982],\"xaxis\":\"x\",\"y\":[73.628],\"yaxis\":\"y\",\"type\":\"scatter\"},{\"hovertemplate\":\"Country Name=Tunisia<br>NY.GDP.PCAP.PP.CD=%{x}<br>SP.DYN.LE00.IN=%{y}<extra></extra>\",\"legendgroup\":\"Tunisia\",\"marker\":{\"color\":\"#FF6692\",\"symbol\":\"circle\"},\"mode\":\"markers\",\"name\":\"Tunisia\",\"orientation\":\"v\",\"showlegend\":true,\"x\":[10878.8231940284],\"xaxis\":\"x\",\"y\":[76.891],\"yaxis\":\"y\",\"type\":\"scatter\"},{\"hovertemplate\":\"Country Name=Turkiye<br>NY.GDP.PCAP.PP.CD=%{x}<br>SP.DYN.LE00.IN=%{y}<extra></extra>\",\"legendgroup\":\"Turkiye\",\"marker\":{\"color\":\"#B6E880\",\"symbol\":\"circle\"},\"mode\":\"markers\",\"name\":\"Turkiye\",\"orientation\":\"v\",\"showlegend\":true,\"x\":[27235.4258308094],\"xaxis\":\"x\",\"y\":[77.928],\"yaxis\":\"y\",\"type\":\"scatter\"},{\"hovertemplate\":\"Country Name=Tuvalu<br>NY.GDP.PCAP.PP.CD=%{x}<br>SP.DYN.LE00.IN=%{y}<extra></extra>\",\"legendgroup\":\"Tuvalu\",\"marker\":{\"color\":\"#FF97FF\",\"symbol\":\"circle\"},\"mode\":\"markers\",\"name\":\"Tuvalu\",\"orientation\":\"v\",\"showlegend\":true,\"x\":[4791.6792651919],\"xaxis\":\"x\",\"y\":[null],\"yaxis\":\"y\",\"type\":\"scatter\"},{\"hovertemplate\":\"Country Name=Tanzania<br>NY.GDP.PCAP.PP.CD=%{x}<br>SP.DYN.LE00.IN=%{y}<extra></extra>\",\"legendgroup\":\"Tanzania\",\"marker\":{\"color\":\"#FECB52\",\"symbol\":\"circle\"},\"mode\":\"markers\",\"name\":\"Tanzania\",\"orientation\":\"v\",\"showlegend\":true,\"x\":[2779.68359375],\"xaxis\":\"x\",\"y\":[65.815],\"yaxis\":\"y\",\"type\":\"scatter\"},{\"hovertemplate\":\"Country Name=Uganda<br>NY.GDP.PCAP.PP.CD=%{x}<br>SP.DYN.LE00.IN=%{y}<extra></extra>\",\"legendgroup\":\"Uganda\",\"marker\":{\"color\":\"#636efa\",\"symbol\":\"circle\"},\"mode\":\"markers\",\"name\":\"Uganda\",\"orientation\":\"v\",\"showlegend\":true,\"x\":[2294.1479835327],\"xaxis\":\"x\",\"y\":[63.713],\"yaxis\":\"y\",\"type\":\"scatter\"},{\"hovertemplate\":\"Country Name=Ukraine<br>NY.GDP.PCAP.PP.CD=%{x}<br>SP.DYN.LE00.IN=%{y}<extra></extra>\",\"legendgroup\":\"Ukraine\",\"marker\":{\"color\":\"#EF553B\",\"symbol\":\"circle\"},\"mode\":\"markers\",\"name\":\"Ukraine\",\"orientation\":\"v\",\"showlegend\":true,\"x\":[13087.3095703125],\"xaxis\":\"x\",\"y\":[71.1851219512],\"yaxis\":\"y\",\"type\":\"scatter\"},{\"hovertemplate\":\"Country Name=Uruguay<br>NY.GDP.PCAP.PP.CD=%{x}<br>SP.DYN.LE00.IN=%{y}<extra></extra>\",\"legendgroup\":\"Uruguay\",\"marker\":{\"color\":\"#00cc96\",\"symbol\":\"circle\"},\"mode\":\"markers\",\"name\":\"Uruguay\",\"orientation\":\"v\",\"showlegend\":true,\"x\":[22728.2153251936],\"xaxis\":\"x\",\"y\":[78.056],\"yaxis\":\"y\",\"type\":\"scatter\"},{\"hovertemplate\":\"Country Name=United States<br>NY.GDP.PCAP.PP.CD=%{x}<br>SP.DYN.LE00.IN=%{y}<extra></extra>\",\"legendgroup\":\"United States\",\"marker\":{\"color\":\"#ab63fa\",\"symbol\":\"circle\"},\"mode\":\"markers\",\"name\":\"United States\",\"orientation\":\"v\",\"showlegend\":true,\"x\":[63027.6795267153],\"xaxis\":\"x\",\"y\":[77.2804878049],\"yaxis\":\"y\",\"type\":\"scatter\"},{\"hovertemplate\":\"Country Name=Uzbekistan<br>NY.GDP.PCAP.PP.CD=%{x}<br>SP.DYN.LE00.IN=%{y}<extra></extra>\",\"legendgroup\":\"Uzbekistan\",\"marker\":{\"color\":\"#FFA15A\",\"symbol\":\"circle\"},\"mode\":\"markers\",\"name\":\"Uzbekistan\",\"orientation\":\"v\",\"showlegend\":true,\"x\":[7746.4309687382],\"xaxis\":\"x\",\"y\":[71.848],\"yaxis\":\"y\",\"type\":\"scatter\"},{\"hovertemplate\":\"Country Name=St. Vincent and the Grenadines<br>NY.GDP.PCAP.PP.CD=%{x}<br>SP.DYN.LE00.IN=%{y}<extra></extra>\",\"legendgroup\":\"St. Vincent and the Grenadines\",\"marker\":{\"color\":\"#19d3f3\",\"symbol\":\"circle\"},\"mode\":\"markers\",\"name\":\"St. Vincent and the Grenadines\",\"orientation\":\"v\",\"showlegend\":true,\"x\":[13402.579535245],\"xaxis\":\"x\",\"y\":[72.658],\"yaxis\":\"y\",\"type\":\"scatter\"},{\"hovertemplate\":\"Country Name=Venezuela, RB<br>NY.GDP.PCAP.PP.CD=%{x}<br>SP.DYN.LE00.IN=%{y}<extra></extra>\",\"legendgroup\":\"Venezuela, RB\",\"marker\":{\"color\":\"#FF6692\",\"symbol\":\"circle\"},\"mode\":\"markers\",\"name\":\"Venezuela, RB\",\"orientation\":\"v\",\"showlegend\":true,\"x\":[null],\"xaxis\":\"x\",\"y\":[72.066],\"yaxis\":\"y\",\"type\":\"scatter\"},{\"hovertemplate\":\"Country Name=British Virgin Islands<br>NY.GDP.PCAP.PP.CD=%{x}<br>SP.DYN.LE00.IN=%{y}<extra></extra>\",\"legendgroup\":\"British Virgin Islands\",\"marker\":{\"color\":\"#B6E880\",\"symbol\":\"circle\"},\"mode\":\"markers\",\"name\":\"British Virgin Islands\",\"orientation\":\"v\",\"showlegend\":true,\"x\":[null],\"xaxis\":\"x\",\"y\":[null],\"yaxis\":\"y\",\"type\":\"scatter\"},{\"hovertemplate\":\"Country Name=Virgin Islands (U.S.)<br>NY.GDP.PCAP.PP.CD=%{x}<br>SP.DYN.LE00.IN=%{y}<extra></extra>\",\"legendgroup\":\"Virgin Islands (U.S.)\",\"marker\":{\"color\":\"#FF97FF\",\"symbol\":\"circle\"},\"mode\":\"markers\",\"name\":\"Virgin Islands (U.S.)\",\"orientation\":\"v\",\"showlegend\":true,\"x\":[null],\"xaxis\":\"x\",\"y\":[79.8195121951],\"yaxis\":\"y\",\"type\":\"scatter\"},{\"hovertemplate\":\"Country Name=Vietnam<br>NY.GDP.PCAP.PP.CD=%{x}<br>SP.DYN.LE00.IN=%{y}<extra></extra>\",\"legendgroup\":\"Vietnam\",\"marker\":{\"color\":\"#FECB52\",\"symbol\":\"circle\"},\"mode\":\"markers\",\"name\":\"Vietnam\",\"orientation\":\"v\",\"showlegend\":true,\"x\":[10904.4521455449],\"xaxis\":\"x\",\"y\":[75.493],\"yaxis\":\"y\",\"type\":\"scatter\"},{\"hovertemplate\":\"Country Name=Vanuatu<br>NY.GDP.PCAP.PP.CD=%{x}<br>SP.DYN.LE00.IN=%{y}<extra></extra>\",\"legendgroup\":\"Vanuatu\",\"marker\":{\"color\":\"#636efa\",\"symbol\":\"circle\"},\"mode\":\"markers\",\"name\":\"Vanuatu\",\"orientation\":\"v\",\"showlegend\":true,\"x\":[3036.116767272],\"xaxis\":\"x\",\"y\":[70.623],\"yaxis\":\"y\",\"type\":\"scatter\"},{\"hovertemplate\":\"Country Name=Samoa<br>NY.GDP.PCAP.PP.CD=%{x}<br>SP.DYN.LE00.IN=%{y}<extra></extra>\",\"legendgroup\":\"Samoa\",\"marker\":{\"color\":\"#EF553B\",\"symbol\":\"circle\"},\"mode\":\"markers\",\"name\":\"Samoa\",\"orientation\":\"v\",\"showlegend\":true,\"x\":[6764.5599909255],\"xaxis\":\"x\",\"y\":[73.45],\"yaxis\":\"y\",\"type\":\"scatter\"},{\"hovertemplate\":\"Country Name=Kosovo<br>NY.GDP.PCAP.PP.CD=%{x}<br>SP.DYN.LE00.IN=%{y}<extra></extra>\",\"legendgroup\":\"Kosovo\",\"marker\":{\"color\":\"#00cc96\",\"symbol\":\"circle\"},\"mode\":\"markers\",\"name\":\"Kosovo\",\"orientation\":\"v\",\"showlegend\":true,\"x\":[11292.8626513626],\"xaxis\":\"x\",\"y\":[71.087804878],\"yaxis\":\"y\",\"type\":\"scatter\"},{\"hovertemplate\":\"Country Name=Yemen, Rep.<br>NY.GDP.PCAP.PP.CD=%{x}<br>SP.DYN.LE00.IN=%{y}<extra></extra>\",\"legendgroup\":\"Yemen, Rep.\",\"marker\":{\"color\":\"#ab63fa\",\"symbol\":\"circle\"},\"mode\":\"markers\",\"name\":\"Yemen, Rep.\",\"orientation\":\"v\",\"showlegend\":true,\"x\":[null],\"xaxis\":\"x\",\"y\":[66.181],\"yaxis\":\"y\",\"type\":\"scatter\"},{\"hovertemplate\":\"Country Name=South Africa<br>NY.GDP.PCAP.PP.CD=%{x}<br>SP.DYN.LE00.IN=%{y}<extra></extra>\",\"legendgroup\":\"South Africa\",\"marker\":{\"color\":\"#FFA15A\",\"symbol\":\"circle\"},\"mode\":\"markers\",\"name\":\"South Africa\",\"orientation\":\"v\",\"showlegend\":true,\"x\":[13359.4843319287],\"xaxis\":\"x\",\"y\":[64.379],\"yaxis\":\"y\",\"type\":\"scatter\"},{\"hovertemplate\":\"Country Name=Zambia<br>NY.GDP.PCAP.PP.CD=%{x}<br>SP.DYN.LE00.IN=%{y}<extra></extra>\",\"legendgroup\":\"Zambia\",\"marker\":{\"color\":\"#19d3f3\",\"symbol\":\"circle\"},\"mode\":\"markers\",\"name\":\"Zambia\",\"orientation\":\"v\",\"showlegend\":true,\"x\":[3457.3281021266],\"xaxis\":\"x\",\"y\":[64.194],\"yaxis\":\"y\",\"type\":\"scatter\"},{\"hovertemplate\":\"Country Name=Zimbabwe<br>NY.GDP.PCAP.PP.CD=%{x}<br>SP.DYN.LE00.IN=%{y}<extra></extra>\",\"legendgroup\":\"Zimbabwe\",\"marker\":{\"color\":\"#FF6692\",\"symbol\":\"circle\"},\"mode\":\"markers\",\"name\":\"Zimbabwe\",\"orientation\":\"v\",\"showlegend\":true,\"x\":[2251.4556739773],\"xaxis\":\"x\",\"y\":[61.738],\"yaxis\":\"y\",\"type\":\"scatter\"}],                        {\"template\":{\"data\":{\"barpolar\":[{\"marker\":{\"line\":{\"color\":\"rgb(17,17,17)\",\"width\":0.5},\"pattern\":{\"fillmode\":\"overlay\",\"size\":10,\"solidity\":0.2}},\"type\":\"barpolar\"}],\"bar\":[{\"error_x\":{\"color\":\"#f2f5fa\"},\"error_y\":{\"color\":\"#f2f5fa\"},\"marker\":{\"line\":{\"color\":\"rgb(17,17,17)\",\"width\":0.5},\"pattern\":{\"fillmode\":\"overlay\",\"size\":10,\"solidity\":0.2}},\"type\":\"bar\"}],\"carpet\":[{\"aaxis\":{\"endlinecolor\":\"#A2B1C6\",\"gridcolor\":\"#506784\",\"linecolor\":\"#506784\",\"minorgridcolor\":\"#506784\",\"startlinecolor\":\"#A2B1C6\"},\"baxis\":{\"endlinecolor\":\"#A2B1C6\",\"gridcolor\":\"#506784\",\"linecolor\":\"#506784\",\"minorgridcolor\":\"#506784\",\"startlinecolor\":\"#A2B1C6\"},\"type\":\"carpet\"}],\"choropleth\":[{\"colorbar\":{\"outlinewidth\":0,\"ticks\":\"\"},\"type\":\"choropleth\"}],\"contourcarpet\":[{\"colorbar\":{\"outlinewidth\":0,\"ticks\":\"\"},\"type\":\"contourcarpet\"}],\"contour\":[{\"colorbar\":{\"outlinewidth\":0,\"ticks\":\"\"},\"colorscale\":[[0.0,\"#0d0887\"],[0.1111111111111111,\"#46039f\"],[0.2222222222222222,\"#7201a8\"],[0.3333333333333333,\"#9c179e\"],[0.4444444444444444,\"#bd3786\"],[0.5555555555555556,\"#d8576b\"],[0.6666666666666666,\"#ed7953\"],[0.7777777777777778,\"#fb9f3a\"],[0.8888888888888888,\"#fdca26\"],[1.0,\"#f0f921\"]],\"type\":\"contour\"}],\"heatmapgl\":[{\"colorbar\":{\"outlinewidth\":0,\"ticks\":\"\"},\"colorscale\":[[0.0,\"#0d0887\"],[0.1111111111111111,\"#46039f\"],[0.2222222222222222,\"#7201a8\"],[0.3333333333333333,\"#9c179e\"],[0.4444444444444444,\"#bd3786\"],[0.5555555555555556,\"#d8576b\"],[0.6666666666666666,\"#ed7953\"],[0.7777777777777778,\"#fb9f3a\"],[0.8888888888888888,\"#fdca26\"],[1.0,\"#f0f921\"]],\"type\":\"heatmapgl\"}],\"heatmap\":[{\"colorbar\":{\"outlinewidth\":0,\"ticks\":\"\"},\"colorscale\":[[0.0,\"#0d0887\"],[0.1111111111111111,\"#46039f\"],[0.2222222222222222,\"#7201a8\"],[0.3333333333333333,\"#9c179e\"],[0.4444444444444444,\"#bd3786\"],[0.5555555555555556,\"#d8576b\"],[0.6666666666666666,\"#ed7953\"],[0.7777777777777778,\"#fb9f3a\"],[0.8888888888888888,\"#fdca26\"],[1.0,\"#f0f921\"]],\"type\":\"heatmap\"}],\"histogram2dcontour\":[{\"colorbar\":{\"outlinewidth\":0,\"ticks\":\"\"},\"colorscale\":[[0.0,\"#0d0887\"],[0.1111111111111111,\"#46039f\"],[0.2222222222222222,\"#7201a8\"],[0.3333333333333333,\"#9c179e\"],[0.4444444444444444,\"#bd3786\"],[0.5555555555555556,\"#d8576b\"],[0.6666666666666666,\"#ed7953\"],[0.7777777777777778,\"#fb9f3a\"],[0.8888888888888888,\"#fdca26\"],[1.0,\"#f0f921\"]],\"type\":\"histogram2dcontour\"}],\"histogram2d\":[{\"colorbar\":{\"outlinewidth\":0,\"ticks\":\"\"},\"colorscale\":[[0.0,\"#0d0887\"],[0.1111111111111111,\"#46039f\"],[0.2222222222222222,\"#7201a8\"],[0.3333333333333333,\"#9c179e\"],[0.4444444444444444,\"#bd3786\"],[0.5555555555555556,\"#d8576b\"],[0.6666666666666666,\"#ed7953\"],[0.7777777777777778,\"#fb9f3a\"],[0.8888888888888888,\"#fdca26\"],[1.0,\"#f0f921\"]],\"type\":\"histogram2d\"}],\"histogram\":[{\"marker\":{\"pattern\":{\"fillmode\":\"overlay\",\"size\":10,\"solidity\":0.2}},\"type\":\"histogram\"}],\"mesh3d\":[{\"colorbar\":{\"outlinewidth\":0,\"ticks\":\"\"},\"type\":\"mesh3d\"}],\"parcoords\":[{\"line\":{\"colorbar\":{\"outlinewidth\":0,\"ticks\":\"\"}},\"type\":\"parcoords\"}],\"pie\":[{\"automargin\":true,\"type\":\"pie\"}],\"scatter3d\":[{\"line\":{\"colorbar\":{\"outlinewidth\":0,\"ticks\":\"\"}},\"marker\":{\"colorbar\":{\"outlinewidth\":0,\"ticks\":\"\"}},\"type\":\"scatter3d\"}],\"scattercarpet\":[{\"marker\":{\"colorbar\":{\"outlinewidth\":0,\"ticks\":\"\"}},\"type\":\"scattercarpet\"}],\"scattergeo\":[{\"marker\":{\"colorbar\":{\"outlinewidth\":0,\"ticks\":\"\"}},\"type\":\"scattergeo\"}],\"scattergl\":[{\"marker\":{\"line\":{\"color\":\"#283442\"}},\"type\":\"scattergl\"}],\"scattermapbox\":[{\"marker\":{\"colorbar\":{\"outlinewidth\":0,\"ticks\":\"\"}},\"type\":\"scattermapbox\"}],\"scatterpolargl\":[{\"marker\":{\"colorbar\":{\"outlinewidth\":0,\"ticks\":\"\"}},\"type\":\"scatterpolargl\"}],\"scatterpolar\":[{\"marker\":{\"colorbar\":{\"outlinewidth\":0,\"ticks\":\"\"}},\"type\":\"scatterpolar\"}],\"scatter\":[{\"marker\":{\"line\":{\"color\":\"#283442\"}},\"type\":\"scatter\"}],\"scatterternary\":[{\"marker\":{\"colorbar\":{\"outlinewidth\":0,\"ticks\":\"\"}},\"type\":\"scatterternary\"}],\"surface\":[{\"colorbar\":{\"outlinewidth\":0,\"ticks\":\"\"},\"colorscale\":[[0.0,\"#0d0887\"],[0.1111111111111111,\"#46039f\"],[0.2222222222222222,\"#7201a8\"],[0.3333333333333333,\"#9c179e\"],[0.4444444444444444,\"#bd3786\"],[0.5555555555555556,\"#d8576b\"],[0.6666666666666666,\"#ed7953\"],[0.7777777777777778,\"#fb9f3a\"],[0.8888888888888888,\"#fdca26\"],[1.0,\"#f0f921\"]],\"type\":\"surface\"}],\"table\":[{\"cells\":{\"fill\":{\"color\":\"#506784\"},\"line\":{\"color\":\"rgb(17,17,17)\"}},\"header\":{\"fill\":{\"color\":\"#2a3f5f\"},\"line\":{\"color\":\"rgb(17,17,17)\"}},\"type\":\"table\"}]},\"layout\":{\"annotationdefaults\":{\"arrowcolor\":\"#f2f5fa\",\"arrowhead\":0,\"arrowwidth\":1},\"autotypenumbers\":\"strict\",\"coloraxis\":{\"colorbar\":{\"outlinewidth\":0,\"ticks\":\"\"}},\"colorscale\":{\"diverging\":[[0,\"#8e0152\"],[0.1,\"#c51b7d\"],[0.2,\"#de77ae\"],[0.3,\"#f1b6da\"],[0.4,\"#fde0ef\"],[0.5,\"#f7f7f7\"],[0.6,\"#e6f5d0\"],[0.7,\"#b8e186\"],[0.8,\"#7fbc41\"],[0.9,\"#4d9221\"],[1,\"#276419\"]],\"sequential\":[[0.0,\"#0d0887\"],[0.1111111111111111,\"#46039f\"],[0.2222222222222222,\"#7201a8\"],[0.3333333333333333,\"#9c179e\"],[0.4444444444444444,\"#bd3786\"],[0.5555555555555556,\"#d8576b\"],[0.6666666666666666,\"#ed7953\"],[0.7777777777777778,\"#fb9f3a\"],[0.8888888888888888,\"#fdca26\"],[1.0,\"#f0f921\"]],\"sequentialminus\":[[0.0,\"#0d0887\"],[0.1111111111111111,\"#46039f\"],[0.2222222222222222,\"#7201a8\"],[0.3333333333333333,\"#9c179e\"],[0.4444444444444444,\"#bd3786\"],[0.5555555555555556,\"#d8576b\"],[0.6666666666666666,\"#ed7953\"],[0.7777777777777778,\"#fb9f3a\"],[0.8888888888888888,\"#fdca26\"],[1.0,\"#f0f921\"]]},\"colorway\":[\"#636efa\",\"#EF553B\",\"#00cc96\",\"#ab63fa\",\"#FFA15A\",\"#19d3f3\",\"#FF6692\",\"#B6E880\",\"#FF97FF\",\"#FECB52\"],\"font\":{\"color\":\"#f2f5fa\"},\"geo\":{\"bgcolor\":\"rgb(17,17,17)\",\"lakecolor\":\"rgb(17,17,17)\",\"landcolor\":\"rgb(17,17,17)\",\"showlakes\":true,\"showland\":true,\"subunitcolor\":\"#506784\"},\"hoverlabel\":{\"align\":\"left\"},\"hovermode\":\"closest\",\"mapbox\":{\"style\":\"dark\"},\"paper_bgcolor\":\"rgb(17,17,17)\",\"plot_bgcolor\":\"rgb(17,17,17)\",\"polar\":{\"angularaxis\":{\"gridcolor\":\"#506784\",\"linecolor\":\"#506784\",\"ticks\":\"\"},\"bgcolor\":\"rgb(17,17,17)\",\"radialaxis\":{\"gridcolor\":\"#506784\",\"linecolor\":\"#506784\",\"ticks\":\"\"}},\"scene\":{\"xaxis\":{\"backgroundcolor\":\"rgb(17,17,17)\",\"gridcolor\":\"#506784\",\"gridwidth\":2,\"linecolor\":\"#506784\",\"showbackground\":true,\"ticks\":\"\",\"zerolinecolor\":\"#C8D4E3\"},\"yaxis\":{\"backgroundcolor\":\"rgb(17,17,17)\",\"gridcolor\":\"#506784\",\"gridwidth\":2,\"linecolor\":\"#506784\",\"showbackground\":true,\"ticks\":\"\",\"zerolinecolor\":\"#C8D4E3\"},\"zaxis\":{\"backgroundcolor\":\"rgb(17,17,17)\",\"gridcolor\":\"#506784\",\"gridwidth\":2,\"linecolor\":\"#506784\",\"showbackground\":true,\"ticks\":\"\",\"zerolinecolor\":\"#C8D4E3\"}},\"shapedefaults\":{\"line\":{\"color\":\"#f2f5fa\"}},\"sliderdefaults\":{\"bgcolor\":\"#C8D4E3\",\"bordercolor\":\"rgb(17,17,17)\",\"borderwidth\":1,\"tickwidth\":0},\"ternary\":{\"aaxis\":{\"gridcolor\":\"#506784\",\"linecolor\":\"#506784\",\"ticks\":\"\"},\"baxis\":{\"gridcolor\":\"#506784\",\"linecolor\":\"#506784\",\"ticks\":\"\"},\"bgcolor\":\"rgb(17,17,17)\",\"caxis\":{\"gridcolor\":\"#506784\",\"linecolor\":\"#506784\",\"ticks\":\"\"}},\"title\":{\"x\":0.05},\"updatemenudefaults\":{\"bgcolor\":\"#506784\",\"borderwidth\":0},\"xaxis\":{\"automargin\":true,\"gridcolor\":\"#283442\",\"linecolor\":\"#506784\",\"ticks\":\"\",\"title\":{\"standoff\":15},\"zerolinecolor\":\"#283442\",\"zerolinewidth\":2},\"yaxis\":{\"automargin\":true,\"gridcolor\":\"#283442\",\"linecolor\":\"#506784\",\"ticks\":\"\",\"title\":{\"standoff\":15},\"zerolinecolor\":\"#283442\",\"zerolinewidth\":2}}},\"xaxis\":{\"anchor\":\"y\",\"domain\":[0.0,1.0],\"title\":{\"text\":\"NY.GDP.PCAP.PP.CD\"}},\"yaxis\":{\"anchor\":\"x\",\"domain\":[0.0,1.0],\"title\":{\"text\":\"SP.DYN.LE00.IN\"}},\"legend\":{\"title\":{\"text\":\"Country Name\"},\"tracegroupgap\":0},\"title\":{\"text\":\"Wealth vs Health\"},\"showlegend\":false},                        {\"responsive\": true}                    ).then(function(){\n",
              "                            \n",
              "var gd = document.getElementById('2be411f5-31c8-48c3-b8e1-f262690a1f1c');\n",
              "var x = new MutationObserver(function (mutations, observer) {{\n",
              "        var display = window.getComputedStyle(gd).display;\n",
              "        if (!display || display === 'none') {{\n",
              "            console.log([gd, 'removed!']);\n",
              "            Plotly.purge(gd);\n",
              "            observer.disconnect();\n",
              "        }}\n",
              "}});\n",
              "\n",
              "// Listen for the removal of the full notebook cells\n",
              "var notebookContainer = gd.closest('#notebook-container');\n",
              "if (notebookContainer) {{\n",
              "    x.observe(notebookContainer, {childList: true});\n",
              "}}\n",
              "\n",
              "// Listen for the clearing of the current output cell\n",
              "var outputEl = gd.closest('.output');\n",
              "if (outputEl) {{\n",
              "    x.observe(outputEl, {childList: true});\n",
              "}}\n",
              "\n",
              "                        })                };                            </script>        </div>\n",
              "</body>\n",
              "</html>"
            ]
          },
          "metadata": {}
        }
      ]
    }
  ]
}