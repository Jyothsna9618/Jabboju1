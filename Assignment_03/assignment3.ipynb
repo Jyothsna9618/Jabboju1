{
  "nbformat": 4,
  "nbformat_minor": 0,
  "metadata": {
    "colab": {
      "provenance": [],
      "authorship_tag": "ABX9TyPl9Ijzq4A4dyQVDzdeLVbI",
      "include_colab_link": true
    },
    "kernelspec": {
      "name": "python3",
      "display_name": "Python 3"
    },
    "language_info": {
      "name": "python"
    }
  },
  "cells": [
    {
      "cell_type": "markdown",
      "metadata": {
        "id": "view-in-github",
        "colab_type": "text"
      },
      "source": [
        "<a href=\"https://colab.research.google.com/github/Jyothsna9618/Jabboju1/blob/main/Assignment_03/assignment3.ipynb\" target=\"_parent\"><img src=\"https://colab.research.google.com/assets/colab-badge.svg\" alt=\"Open In Colab\"/></a>"
      ]
    },
    {
      "cell_type": "markdown",
      "source": [
        "Question 1"
      ],
      "metadata": {
        "id": "dEJyg82u3x21"
      }
    },
    {
      "cell_type": "code",
      "execution_count": 2,
      "metadata": {
        "id": "Cs-hOxNV3V49",
        "outputId": "efc254f0-f4dc-4316-ead1-bc3b2610ad81",
        "colab": {
          "base_uri": "https://localhost:8080/"
        }
      },
      "outputs": [
        {
          "output_type": "stream",
          "name": "stdout",
          "text": [
            "0 8 8 5 8 5 8 6 3 4 \n",
            "7 5 4 0 6 0 9 0 8 9 \n",
            "0 6 3 4 5 5 3 9 0 4 \n",
            "7 0 5 6 3 6 4 3 7 5 \n",
            "8 0 8 0 9 7 5 1 9 7 \n",
            "3 6 2 1 0 0 5 5 9 9 \n",
            "7 0 7 6 5 3 0 3 3 6 \n",
            "2 4 9 7 9 2 4 2 1 2 \n",
            "1 3 1 4 2 7 4 9 3 2 \n",
            "6 6 8 1 9 8 3 5 1 0 \n"
          ]
        }
      ],
      "source": [
        "import random\n",
        "\n",
        "for i in range(10):\n",
        "  for j in range(10):\n",
        "    print(random.randint(0,9), end = ' ')\n",
        "  print()"
      ]
    },
    {
      "cell_type": "markdown",
      "source": [
        "Question 2"
      ],
      "metadata": {
        "id": "Use5RXlf31PU"
      }
    },
    {
      "cell_type": "code",
      "source": [
        "for i in range(10):\n",
        "  for j in range(10):\n",
        "    r = random.randint(0,9)\n",
        "    if r%2 == 0:\n",
        "      print(r, end = ' ')\n",
        "    else:\n",
        "      print('@', end = ' ')\n",
        "  print()"
      ],
      "metadata": {
        "id": "6K8Bg_233wb6",
        "outputId": "06642f39-bb9f-45ee-f938-2653d7e13aea",
        "colab": {
          "base_uri": "https://localhost:8080/"
        }
      },
      "execution_count": 4,
      "outputs": [
        {
          "output_type": "stream",
          "name": "stdout",
          "text": [
            "@ 8 8 @ @ @ @ @ @ 2 \n",
            "@ @ 0 @ @ 0 @ 8 2 4 \n",
            "4 2 @ @ @ @ @ 8 8 0 \n",
            "@ 6 4 @ 0 4 2 8 4 @ \n",
            "6 0 4 0 4 0 @ @ @ 0 \n",
            "0 @ 2 4 @ 4 6 0 @ @ \n",
            "@ 0 0 8 2 2 2 @ 2 @ \n",
            "@ 6 2 8 @ @ @ 0 @ 8 \n",
            "0 @ 8 @ @ 0 0 @ @ @ \n",
            "2 @ @ 2 6 0 2 4 0 @ \n"
          ]
        }
      ]
    },
    {
      "cell_type": "markdown",
      "source": [
        "Question 3"
      ],
      "metadata": {
        "id": "RS04zrwp4Fhk"
      }
    },
    {
      "cell_type": "code",
      "source": [
        "for i in range(10):\n",
        "  s = 0\n",
        "  for j in range(10):\n",
        "    r = random.randint(0,9)\n",
        "    s= s+ r\n",
        "    print(r,end = ' ')\n",
        "  print('*', end = ' ')\n",
        "  print(s, end = ' ')\n",
        "  print()"
      ],
      "metadata": {
        "id": "IE9oN1jl4GzE",
        "outputId": "c158a8c1-9c0e-4711-96e1-db109d1923c8",
        "colab": {
          "base_uri": "https://localhost:8080/"
        }
      },
      "execution_count": 9,
      "outputs": [
        {
          "output_type": "stream",
          "name": "stdout",
          "text": [
            "6 0 4 8 5 9 6 8 4 0 * 50 \n",
            "6 7 7 9 3 6 7 1 7 6 * 59 \n",
            "8 0 8 4 8 1 4 1 4 0 * 38 \n",
            "8 7 1 2 9 3 7 1 0 2 * 40 \n",
            "6 9 2 2 2 7 1 5 0 2 * 36 \n",
            "2 9 8 6 7 3 6 4 9 6 * 60 \n",
            "5 7 4 0 7 0 6 9 2 9 * 49 \n",
            "0 3 1 5 7 4 3 0 2 4 * 29 \n",
            "1 2 7 6 1 7 6 3 4 5 * 42 \n",
            "3 4 4 1 5 3 6 5 0 1 * 32 \n"
          ]
        }
      ]
    },
    {
      "cell_type": "markdown",
      "source": [
        "Question 4"
      ],
      "metadata": {
        "id": "4zjKQrxF4jKS"
      }
    },
    {
      "cell_type": "code",
      "source": [
        "for i in range(0,11):\n",
        "  print('*', end = ' ')\n",
        "  for j in range(0,10):\n",
        "    if i < 10 and i > 0:\n",
        "      print(random.randint(0,9), end = ' ')\n",
        "    else:\n",
        "      print('*', end = ' ')\n",
        "  print('*', end = ' ')\n",
        "  print()"
      ],
      "metadata": {
        "id": "ba76ZA1K4kxZ",
        "outputId": "1b144cfc-1b9c-4405-b32a-55a0e3c07c20",
        "colab": {
          "base_uri": "https://localhost:8080/"
        }
      },
      "execution_count": 13,
      "outputs": [
        {
          "output_type": "stream",
          "name": "stdout",
          "text": [
            "* * * * * * * * * * * * \n",
            "* 9 5 3 5 4 1 8 5 7 3 * \n",
            "* 2 2 3 7 9 3 9 8 0 7 * \n",
            "* 1 0 4 2 1 4 3 1 7 9 * \n",
            "* 6 1 1 8 7 3 6 6 0 7 * \n",
            "* 3 3 6 5 9 4 4 3 4 4 * \n",
            "* 2 9 2 5 8 6 8 5 7 0 * \n",
            "* 0 2 9 7 7 4 1 5 2 3 * \n",
            "* 1 2 1 8 0 4 7 3 7 6 * \n",
            "* 7 2 0 2 2 1 6 0 1 8 * \n",
            "* * * * * * * * * * * * \n"
          ]
        }
      ]
    },
    {
      "cell_type": "markdown",
      "source": [
        "Question 5"
      ],
      "metadata": {
        "id": "CwCVmfHq44iM"
      }
    },
    {
      "cell_type": "code",
      "source": [
        "s_c = [0]*10\n",
        "\n",
        "for i in range(10):\n",
        "    s = 0\n",
        "   \n",
        "    for j in range(10):\n",
        "        r= random.randint(0,9)\n",
        "        s = s + r\n",
        "        s_c[i] = s_c[i] + r\n",
        "        print(r, end =\"  \")    \n",
        "    print(\"*\", s)\n",
        "\n",
        "print(\"*  *  *  *  *  *  *  *  *  * \",end=\" \") \n",
        "print()\n",
        "\n",
        "for k in range(10):\n",
        "    print(s_c[k], end=\" \")"
      ],
      "metadata": {
        "id": "vlYqH94S45-3",
        "outputId": "135a4769-219b-4c1d-f315-8ccf55d6e5aa",
        "colab": {
          "base_uri": "https://localhost:8080/"
        }
      },
      "execution_count": 19,
      "outputs": [
        {
          "output_type": "stream",
          "name": "stdout",
          "text": [
            "3  4  6  6  0  1  3  3  5  4  * 35\n",
            "5  7  7  5  4  1  8  0  6  1  * 44\n",
            "8  1  9  6  0  9  2  1  3  7  * 46\n",
            "0  3  8  7  6  5  9  3  6  3  * 50\n",
            "2  4  0  5  6  0  5  3  0  1  * 26\n",
            "2  0  3  7  3  1  7  2  2  6  * 33\n",
            "1  3  4  9  2  2  4  1  5  1  * 32\n",
            "0  7  9  6  3  5  0  4  5  2  * 41\n",
            "9  5  5  7  6  9  8  3  5  6  * 63\n",
            "3  1  5  8  6  1  0  5  4  1  * 34\n",
            "*  *  *  *  *  *  *  *  *  *  \n",
            "35 44 46 50 26 33 32 41 63 34 "
          ]
        }
      ]
    }
  ]
}