{
  "nbformat": 4,
  "nbformat_minor": 0,
  "metadata": {
    "colab": {
      "provenance": [],
      "authorship_tag": "ABX9TyOBGmcdjbCHRUuM50OJsfvE",
      "include_colab_link": true
    },
    "kernelspec": {
      "name": "python3",
      "display_name": "Python 3"
    },
    "language_info": {
      "name": "python"
    }
  },
  "cells": [
    {
      "cell_type": "markdown",
      "metadata": {
        "id": "view-in-github",
        "colab_type": "text"
      },
      "source": [
        "<a href=\"https://colab.research.google.com/github/Jyothsna9618/Jabboju1/blob/main/Individual_Project/ipynb/project.ipynb\" target=\"_parent\"><img src=\"https://colab.research.google.com/assets/colab-badge.svg\" alt=\"Open In Colab\"/></a>"
      ]
    },
    {
      "cell_type": "markdown",
      "source": [
        "# Individual Project"
      ],
      "metadata": {
        "id": "TIEXxGbdGlti"
      }
    },
    {
      "cell_type": "markdown",
      "source": [
        "## *TOPIC: HEALTH AND GENDER* "
      ],
      "metadata": {
        "id": "Hk7bLBMaGn-n"
      }
    },
    {
      "cell_type": "markdown",
      "source": [
        "## INDICATORS:\n",
        "\n",
        " 1. Literacy rate, youth (ages 15-24) gender parity index (GPI)\n",
        " 2. School enrollment, primary (gross), gender parity index (GPI)\n",
        " 3. Educational attainment, at least completed primary, population 25+ years, total (%) (cumulative)\n",
        " 4. Retirement age with full benefits, female\n",
        " 5. Retirement age with full benefits, male\n",
        " 6. A woman can register a business in the same way as a man (1=yes; 0=no)\n",
        " 7. Proportion of time spent on unpaid domestic and care work, female (% of 24 hour day)\n",
        " 8. Proportion of time spent on unpaid domestic and care work, male (% of 24 hour day)\n",
        " 9. Employment to population ratio, ages 15-24, female (%) (modeled ILO estimate)\n",
        " 10. Employment to population ratio, ages 15-24, male (%) (modeled ILO estimate)\n",
        " 11. Number of infant deaths, female\n",
        " 12. Number of infant deaths, male\n",
        " 13. Number of infant deaths\n",
        " 14. Cause of death, by communicable diseases and maternal, prenatal a nd nutrition conditions (% of total)\n"
      ],
      "metadata": {
        "id": "aGZH62PRGxPq"
      }
    },
    {
      "cell_type": "markdown",
      "source": [
        "## COUNTRIES:\n",
        "\n",
        "  - INDIA\n",
        "  - UAE\n",
        "  - UNITED STATES\n",
        "  - UKRAINE\n",
        "  - TURKIYE\n",
        "  - SWITZERLAND\n",
        "  - CHINA\n",
        "  - UNITED KINGDOM\n",
        "  - AUSTRALIA\n",
        "  - CANADA\n",
        "\n",
        "## TIME SPAN:\n",
        " - 2011 - 2021\n"
      ],
      "metadata": {
        "id": "SO11uQQ7GyiN"
      }
    },
    {
      "cell_type": "markdown",
      "source": [
        "## INTRODUCTION:"
      ],
      "metadata": {
        "id": "s1_7-0uTG8Ei"
      }
    },
    {
      "cell_type": "markdown",
      "source": [
        "#### WHY THIS TOPIC?\n",
        "   - Gender equality is a core development objective in its own right. \n",
        "   - It is also smart development policy and sound business practice. It is integral to economic growth, business growth and good development outcomes. \n",
        "   - Gender equality can boost productivity, enhance prospects for the next generation, build resilience, and make institutions more representative and effective. \n",
        "   - I also wanted to look into the health sector, especially regarding female feticide which is one of the most disheartening things I’ve read in most of the articles when it comes to gender bias.\n",
        "\n",
        "#### WHY THESE INDICATORS?\n",
        "   - As i mentioned before i wanted to compare the number of infant deaths of female with male and its cause \n",
        "   - Next i wanted to compare the quality of education given to a girl child with the male child.\n",
        "   - Later, i wanted to analyze if equal rights are given to both female and male employees during retirement.\n",
        "   - I have also looked into the employment rate between men and women\n",
        "   - Lastly, i have checked the time spent by both the genders on domestic work in the household."
      ],
      "metadata": {
        "id": "O7k9JLkXG8_5"
      }
    },
    {
      "cell_type": "code",
      "execution_count": null,
      "metadata": {
        "id": "4imYUCNZ87xO"
      },
      "outputs": [],
      "source": []
    }
  ]
}