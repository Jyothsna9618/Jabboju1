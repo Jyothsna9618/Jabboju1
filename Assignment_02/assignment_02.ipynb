{
  "nbformat": 4,
  "nbformat_minor": 0,
  "metadata": {
    "colab": {
      "provenance": [],
      "include_colab_link": true
    },
    "kernelspec": {
      "name": "python3",
      "display_name": "Python 3"
    },
    "language_info": {
      "name": "python"
    }
  },
  "cells": [
    {
      "cell_type": "markdown",
      "metadata": {
        "id": "view-in-github",
        "colab_type": "text"
      },
      "source": [
        "<a href=\"https://colab.research.google.com/github/Jyothsna9618/Jabboju1/blob/main/Assignment_02/assignment_02.ipynb\" target=\"_parent\"><img src=\"https://colab.research.google.com/assets/colab-badge.svg\" alt=\"Open In Colab\"/></a>"
      ]
    },
    {
      "cell_type": "code",
      "execution_count": 3,
      "metadata": {
        "id": "KPuTZPQJ8vsu",
        "outputId": "306a5b91-853a-43ec-b2a4-49481b553005",
        "colab": {
          "base_uri": "https://localhost:8080/"
        }
      },
      "outputs": [
        {
          "output_type": "stream",
          "name": "stdout",
          "text": [
            "enter 10 values\n",
            "enter number 0chandu\n",
            "Enter a valid integer input in 0\n",
            "enter number 01\n",
            "enter number 112\n",
            "enter number 223\n",
            "enter number 313\n",
            "enter number 413\n",
            "enter number 5134\n",
            "enter number 61344r\n",
            "Enter a valid integer input in 6\n",
            "enter number 6124\n",
            "enter number 733\n",
            "enter number 82\n",
            "enter number 912\n",
            "[1, 12, 23, 13, 13, 134, 124, 33, 2, 12]\n"
          ]
        }
      ],
      "source": [
        "list = []\n",
        "print(\"enter 10 values\")\n",
        "\n",
        "for i in range(0,10): \n",
        "  while True :\n",
        "    try :\n",
        "      num= int(input(\"enter number \"+str(i))+ \" \")\n",
        "      list.append(num)\n",
        "      break;\n",
        "    except ValueError :\n",
        "      print(\"Enter a valid integer input in \"+str(i))\n",
        "\n",
        "\n",
        "print(list)\n",
        "\n",
        "  "
      ]
    },
    {
      "cell_type": "code",
      "source": [],
      "metadata": {
        "id": "GSffou1GYIE2"
      },
      "execution_count": null,
      "outputs": []
    }
  ]
}