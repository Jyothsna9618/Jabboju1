{
  "nbformat": 4,
  "nbformat_minor": 0,
  "metadata": {
    "colab": {
      "provenance": [],
      "include_colab_link": true
    },
    "kernelspec": {
      "name": "python3",
      "display_name": "Python 3"
    },
    "language_info": {
      "name": "python"
    }
  },
  "cells": [
    {
      "cell_type": "markdown",
      "metadata": {
        "id": "view-in-github",
        "colab_type": "text"
      },
      "source": [
        "<a href=\"https://colab.research.google.com/github/Jyothsna9618/Jabboju1/blob/main/Assignment_02/assignment_02.ipynb\" target=\"_parent\"><img src=\"https://colab.research.google.com/assets/colab-badge.svg\" alt=\"Open In Colab\"/></a>"
      ]
    },
    {
      "cell_type": "code",
      "execution_count": 30,
      "metadata": {
        "id": "KPuTZPQJ8vsu",
        "outputId": "276f92c1-7421-4a22-def9-d662fc7376bc",
        "colab": {
          "base_uri": "https://localhost:8080/"
        }
      },
      "outputs": [
        {
          "output_type": "stream",
          "name": "stdout",
          "text": [
            "enter 10 values\n",
            "Enter Number 0 894\n",
            "Enter Number 1 898\n",
            "Enter Number 2 896\n",
            "Enter Number 3 895\n",
            "Enter Number 4 893\n",
            "Enter Number 5 892\n",
            "Enter Number 6 898\n",
            "Enter Number 7 899\n",
            "Enter Number 8 892\n",
            "Enter Number 9 895\n",
            "[4, 8, 6, 5, 3, 2, 8, 9, 2, 5]\n"
          ]
        }
      ],
      "source": [
        "list = []\n",
        "print(\"enter 10 values\")\n",
        "\n",
        "for i in range(0,10): \n",
        "  while True :\n",
        "    try :\n",
        "      num= int(input(\"Enter Number \"+ str(i) + \" \"))\n",
        "      list.append(num)\n",
        "      break;\n",
        "    except ValueError :\n",
        "      print(\"Enter a valid integer input in \"+str(i))\n",
        "print(list)\n",
        "\n",
        "  "
      ]
    },
    {
      "cell_type": "code",
      "source": [
        "min = 0\n",
        "for i in list :\n",
        "  if min > i :\n",
        "    min = i\n",
        "print('Minimum number in the list is  '+str(min))\n",
        "\n"
      ],
      "metadata": {
        "id": "Cn3eN1kkyvl8",
        "outputId": "478242fc-b806-4733-d059-a10f3e17b945",
        "colab": {
          "base_uri": "https://localhost:8080/"
        }
      },
      "execution_count": 31,
      "outputs": [
        {
          "output_type": "stream",
          "name": "stdout",
          "text": [
            "Minimum number in the list is  0\n"
          ]
        }
      ]
    },
    {
      "cell_type": "code",
      "source": [
        "max = 0\n",
        "for i in list :\n",
        "  if max < i :\n",
        "    max = i\n",
        "print('Maximum number in the list is  '+str(max))"
      ],
      "metadata": {
        "id": "GSffou1GYIE2",
        "colab": {
          "base_uri": "https://localhost:8080/"
        },
        "outputId": "004e98a5-5298-4ffb-d0c1-458e15e95495"
      },
      "execution_count": 32,
      "outputs": [
        {
          "output_type": "stream",
          "name": "stdout",
          "text": [
            "Maximum number in the list is  9\n"
          ]
        }
      ]
    },
    {
      "cell_type": "code",
      "source": [
        "print(\"Range of the data in the List is  \"+str(max - min))"
      ],
      "metadata": {
        "id": "6ZvGbQIQ0uzd",
        "outputId": "f2893197-ed13-47e9-b27e-cdf64158d3da",
        "colab": {
          "base_uri": "https://localhost:8080/"
        }
      },
      "execution_count": 33,
      "outputs": [
        {
          "output_type": "stream",
          "name": "stdout",
          "text": [
            "Range of the data in the List is  9\n"
          ]
        }
      ]
    },
    {
      "cell_type": "code",
      "source": [
        "sum = 0;\n",
        "len = 0\n",
        "for i in list :\n",
        "  len = len +1\n",
        "  sum = sum + i\n",
        "mean = float(sum/len)\n",
        "print(\"Mean of the list is \"+str(mean))\n"
      ],
      "metadata": {
        "id": "qc5Hvgkw1V4T",
        "outputId": "0b0d412e-82e0-4da7-d2b4-b8bbdf2e56ca",
        "colab": {
          "base_uri": "https://localhost:8080/"
        }
      },
      "execution_count": 34,
      "outputs": [
        {
          "output_type": "stream",
          "name": "stdout",
          "text": [
            "Mean of the list is 5.2\n"
          ]
        }
      ]
    },
    {
      "cell_type": "code",
      "source": [
        "deviations = [(i - mean) ** 2 for i in list ]\n",
        "deviationSum = 0\n",
        "for i in deviations :\n",
        "  deviationSum = deviationSum + i\n",
        "variance = deviationSum / len\n",
        "print(\"Variance of the list is \"+str(variance))"
      ],
      "metadata": {
        "id": "Nk0ZqzKl5Pz3",
        "outputId": "32abd4d8-169d-4d23-ab64-65b86813ff29",
        "colab": {
          "base_uri": "https://localhost:8080/"
        }
      },
      "execution_count": 39,
      "outputs": [
        {
          "output_type": "stream",
          "name": "stdout",
          "text": [
            "Variance of the list is 5.76\n"
          ]
        }
      ]
    },
    {
      "cell_type": "code",
      "source": [
        "standardDeviation = variance ** (1/2)\n",
        "print(\"Standard Deviation of the list is \"+str(standardDeviation))\n"
      ],
      "metadata": {
        "id": "mMlTWHyO7ExD",
        "outputId": "fb6df47e-2bce-4efd-a2e6-2c100d0580c6",
        "colab": {
          "base_uri": "https://localhost:8080/"
        }
      },
      "execution_count": 38,
      "outputs": [
        {
          "output_type": "stream",
          "name": "stdout",
          "text": [
            "Standard Deviation of the list is 2.4\n"
          ]
        }
      ]
    }
  ]
}