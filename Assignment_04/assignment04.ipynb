{
  "nbformat": 4,
  "nbformat_minor": 0,
  "metadata": {
    "colab": {
      "provenance": [],
      "collapsed_sections": [],
      "authorship_tag": "ABX9TyMpZhh8JFgAOAgW0iYPnXS5",
      "include_colab_link": true
    },
    "kernelspec": {
      "name": "python3",
      "display_name": "Python 3"
    },
    "language_info": {
      "name": "python"
    }
  },
  "cells": [
    {
      "cell_type": "markdown",
      "metadata": {
        "id": "view-in-github",
        "colab_type": "text"
      },
      "source": [
        "<a href=\"https://colab.research.google.com/github/Jyothsna9618/Jabboju1/blob/main/Assignment_04/assignment04.ipynb\" target=\"_parent\"><img src=\"https://colab.research.google.com/assets/colab-badge.svg\" alt=\"Open In Colab\"/></a>"
      ]
    },
    {
      "cell_type": "code",
      "execution_count": 2,
      "metadata": {
        "colab": {
          "base_uri": "https://localhost:8080/"
        },
        "id": "SJNyv06ShOFs",
        "outputId": "9b53bb99-bebc-4ebe-f5b1-bc196d1bbcff"
      },
      "outputs": [
        {
          "output_type": "stream",
          "name": "stdout",
          "text": [
            "        UNITID    OPEID  OPEID6  \\\n",
            "0       100654   100200    1002   \n",
            "1       100663   105200    1052   \n",
            "2       100690  2503400   25034   \n",
            "3       100706   105500    1055   \n",
            "4       100724   100500    1005   \n",
            "...        ...      ...     ...   \n",
            "7107  48312404   108163    1081   \n",
            "7108  48387801  4223701   42237   \n",
            "7109  48400201  4228101   42281   \n",
            "7110  48778201  4221501   42215   \n",
            "7111  49005401  4182601   41826   \n",
            "\n",
            "                                                 INSTNM             CITY  \\\n",
            "0                              Alabama A & M University           Normal   \n",
            "1                   University of Alabama at Birmingham       Birmingham   \n",
            "2                                    Amridge University       Montgomery   \n",
            "3                   University of Alabama in Huntsville       Huntsville   \n",
            "4                              Alabama State University       Montgomery   \n",
            "...                                                 ...              ...   \n",
            "7107                   Arizona State University at Yuma             Yuma   \n",
            "7108  Bay Area Medical Academy - San Jose Satellite ...         San Jose   \n",
            "7109           High Desert Medical College - Bakerfield      Bakersfield   \n",
            "7110                                       BCI - Malden           Malden   \n",
            "7111               HCI College - Fort Lauderdale Campus  Fort Lauderdale   \n",
            "\n",
            "     STABBR         ZIP  ACCREDAGENCY  INSTURL  NPCURL  ...  \\\n",
            "0        AL       35762           NaN      NaN     NaN  ...   \n",
            "1        AL  35294-0110           NaN      NaN     NaN  ...   \n",
            "2        AL  36117-3553           NaN      NaN     NaN  ...   \n",
            "3        AL       35899           NaN      NaN     NaN  ...   \n",
            "4        AL  36104-0271           NaN      NaN     NaN  ...   \n",
            "...     ...         ...           ...      ...     ...  ...   \n",
            "7107     AZ   853656900           NaN      NaN     NaN  ...   \n",
            "7108     CA       95113           NaN      NaN     NaN  ...   \n",
            "7109     CA       93301           NaN      NaN     NaN  ...   \n",
            "7110     MA   021480000           NaN      NaN     NaN  ...   \n",
            "7111     FL       33309           NaN      NaN     NaN  ...   \n",
            "\n",
            "      OMENRUP_PARTTIME_POOLED_SUPP  FTFTPCTPELL  FTFTPCTFLOAN   UG12MN  \\\n",
            "0                              NaN       0.7106        0.7418   5207.0   \n",
            "1                              NaN       0.4009        0.5488  13308.0   \n",
            "2                              NaN       0.5000        0.5000    431.0   \n",
            "3                              NaN       0.2012        0.4231   7519.0   \n",
            "4                              NaN       0.7594        0.7402   5229.0   \n",
            "...                            ...          ...           ...      ...   \n",
            "7107                           NaN          NaN           NaN      NaN   \n",
            "7108                           NaN          NaN           NaN      NaN   \n",
            "7109                           NaN          NaN           NaN      NaN   \n",
            "7110                           NaN          NaN           NaN      NaN   \n",
            "7111                           NaN          NaN           NaN      NaN   \n",
            "\n",
            "       G12MN  SCUGFFN  POOLYRS_FTFTAIDPCT  FTFTPCTPELL_POOLED_SUPP  \\\n",
            "0     1185.0   1410.0                 NaN                      NaN   \n",
            "1     9888.0   1948.0                 NaN                      NaN   \n",
            "2      437.0      4.0                 NaN                      NaN   \n",
            "3     2378.0   1203.0                 NaN                      NaN   \n",
            "4      687.0   1143.0                 NaN                      NaN   \n",
            "...      ...      ...                 ...                      ...   \n",
            "7107     NaN      NaN                 NaN                      NaN   \n",
            "7108     NaN      NaN                 NaN                      NaN   \n",
            "7109     NaN      NaN                 NaN                      NaN   \n",
            "7110     NaN      NaN                 NaN                      NaN   \n",
            "7111     NaN      NaN                 NaN                      NaN   \n",
            "\n",
            "      FTFTPCTFLOAN_POOLED_SUPP  SCUGFFN_POOLED  \n",
            "0                          NaN             NaN  \n",
            "1                          NaN             NaN  \n",
            "2                          NaN             NaN  \n",
            "3                          NaN             NaN  \n",
            "4                          NaN             NaN  \n",
            "...                        ...             ...  \n",
            "7107                       NaN             NaN  \n",
            "7108                       NaN             NaN  \n",
            "7109                       NaN             NaN  \n",
            "7110                       NaN             NaN  \n",
            "7111                       NaN             NaN  \n",
            "\n",
            "[7112 rows x 1986 columns]\n"
          ]
        },
        {
          "output_type": "stream",
          "name": "stderr",
          "text": [
            "/usr/local/lib/python3.7/dist-packages/IPython/core/interactiveshell.py:3326: DtypeWarning: Columns (1729) have mixed types.Specify dtype option on import or set low_memory=False.\n",
            "  exec(code_obj, self.user_global_ns, self.user_ns)\n"
          ]
        }
      ],
      "source": [
        "import pandas as pd\n",
        "\n",
        "df = pd.read_csv(\"MERGED2017_18_PP.csv\", sep=\",\")\n",
        "print(df)"
      ]
    }
  ]
}